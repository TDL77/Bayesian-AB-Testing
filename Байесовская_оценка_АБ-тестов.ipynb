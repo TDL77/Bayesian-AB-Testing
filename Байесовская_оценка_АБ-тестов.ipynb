{
 "cells": [
  {
   "cell_type": "markdown",
   "id": "b087aaa2",
   "metadata": {},
   "source": [
    "# Байесовская оценка А/Б-тестов"
   ]
  },
  {
   "cell_type": "markdown",
   "id": "7c84793b",
   "metadata": {},
   "source": [
    "&nbsp; &nbsp; *- А/Б тесты*  \n",
    "&nbsp; &nbsp; *- Байесовское моделирование*  \n",
    "&nbsp; &nbsp; *- Сравнение конверсий*   \n",
    "&nbsp; &nbsp; *- Сравнение средних*  \n",
    "&nbsp; &nbsp; *- Выручка на пользователя, заказы на платящего, средние чеки*  \n",
    "&nbsp; &nbsp; *- Заключение*  \n",
    "&nbsp; &nbsp; *- Ссылки*\n",
    "\n",
    "Формулируются критерии оценки А/Б-тестов. Приводится терминология байесовского моделирования. Рассматривается сравнение конверсий. Далее - сравнение средних с помощью центральной предельной теоремы. Далее - выручка и заказы на платящего, средний чек."
   ]
  },
  {
   "cell_type": "markdown",
   "id": "2d5e4c34",
   "metadata": {},
   "source": [
    "# А/Б тесты  \n",
    "  - Пример теста  \n",
    "  - Причинная диаграмма  \n",
    "  - Схема проведения  \n",
    "  - Качественная картина  \n",
    "  - Оценка теста  "
   ]
  },
  {
   "cell_type": "markdown",
   "id": "796a9520",
   "metadata": {},
   "source": [
    "Причинная диаграмма:"
   ]
  },
  {
   "cell_type": "markdown",
   "id": "89384924",
   "metadata": {},
   "source": [
    "<center>\n",
    "<img src=\"./figs/causal.png\" alt=\"causal\" width=\"500\"/>\n",
    "</center>"
   ]
  },
  {
   "cell_type": "markdown",
   "id": "21bec192",
   "metadata": {},
   "source": [
    "Картина А/Б тестов.\n",
    "\n",
    "Значения метрик в группах определяются функциональностью приложения.  \n",
    "Точные значения неизвестны.  \n",
    "На основе собранных в эксперименте данных можно строить оценки точных значений.  \n",
    "Пока данных мало, неопределенность в оценках большая.  \n",
    "По мере набора данных точность увеличивается.  \n",
    "С увеличением точности оценок растет уверенность, какая из групп лучше.  \n",
    "Когда уверенность достигает достаточного значения, эксперимент можно останавливать.  \n",
    "\n",
    "Байесовское моделирование позволяет оценить точное значение метрики по сэмлу и вероятность метрики в одной группе больше другой P(B>A)."
   ]
  },
  {
   "cell_type": "markdown",
   "id": "ef663589",
   "metadata": {},
   "source": [
    "<center>\n",
    "<img src=\"./figs/ab_dynamics.png\" alt=\"causal\" width=\"500\"/>\n",
    "</center>"
   ]
  },
  {
   "cell_type": "markdown",
   "id": "cd317e22",
   "metadata": {},
   "source": [
    "# Байесовское моделирование  \n",
    "\n",
    "* Пример  \n",
    "* Обобщение + терминология  "
   ]
  },
  {
   "cell_type": "markdown",
   "id": "559d2275",
   "metadata": {},
   "source": [
    "> Вам подарили подарок. Подарок в упаковке, и не ясно, что это. \n",
    "До того, как его развернуть, вы пытаетесь угадать, что внутри."
   ]
  },
  {
   "cell_type": "markdown",
   "id": "f65ac1cc",
   "metadata": {},
   "source": [
    "Эти рассуждения можно сделать количественными.  \n",
    "Нужно предположить несколько вариантов подарка и для каждого оценить вероятность $P(подарок | упаковка)$. \n",
    "Это делается с помощью соотношения Байеса.\n",
    "\n",
    "$$\n",
    "P(B | A) = \\frac{P(A | B) P(B)}{P(A)}\n",
    "$$\n",
    "\n",
    "В примере\n",
    "\n",
    "$$\n",
    "P(подарок_i | упаковка) = \\frac{P(упаковка|подарок_i) P(подарок_i)}{P(упаковка)} = \\frac{P(упаковка|подарок_i) P(подарок_i)}{\\sum_i P(упаковка|подарок_i) P(подарок_i)}\n",
    "$$\n"
   ]
  },
  {
   "cell_type": "markdown",
   "id": "907e29a9",
   "metadata": {},
   "source": [
    "На этом примере видны основные этапы байесовского моделирования.  \n",
    "Есть данные. Есть гипотезы, объясняющие данные.  \n",
    "Для выбора одной из гипотез нужно посчитать вероятности получить данные в рамках гипотез - правдоподобия.  \n",
    "Также нужны априорные вероятности каждой гипотезы.  \n",
    "При комбинировании априорной вероятности гипотезы и вероятности получить данные в рамках гипотезы можно получить вероятность гипотезы при условии данных.  "
   ]
  },
  {
   "cell_type": "markdown",
   "id": "68672877",
   "metadata": {},
   "source": [
    "> На страницу зашло 1000 человек, 100 из них нажали кнопку \"Продолжить\". Как выглядит распределение возможных значений конверсии? Значения конверсии для каждого пользователя можно считать одинаковыми, все возможные априорные значения конверсии равновероятными. "
   ]
  },
  {
   "cell_type": "markdown",
   "id": "b44d286c",
   "metadata": {},
   "source": [
    "Вероятность получить данные\n",
    "$$\n",
    "P(100/1000; \\theta) = Binom(100/1000; \\theta) = C^{100}_{1000} \\theta^{100} (1 - \\theta)^{1000-100}\n",
    "$$\n",
    "\n",
    "Плотность вероятности конверсий\n",
    "$$\n",
    "P(\\theta; 100/1000) \n",
    "= \\frac{P(100/1000; \\theta) P(\\theta)}{P(100/1000)}\n",
    "= \\frac{P(100/1000; \\theta) P(\\theta)}{\\int d \\theta P(100/1000; \\theta) P(\\theta)}\n",
    "$$\n",
    "\n",
    "$P(\\theta)$ равномерно $P(\\theta) = \\mbox{Unif}(0, 1) = 1$\n",
    "\n",
    "$$\n",
    "P(\\theta; 100/1000) \n",
    "= \\frac{\\theta^{100} (1 - \\theta)^{900}}{\\int d \\theta (1 - \\theta)^{900} \\theta^{100} }\n",
    "\\sim \\theta^{100} (1 - \\theta)^{900}\n",
    "= Beta(101, 901)\n",
    "$$\n",
    "\n",
    "График "
   ]
  },
  {
   "cell_type": "markdown",
   "id": "2433545e",
   "metadata": {},
   "source": []
  },
  {
   "cell_type": "markdown",
   "id": "db2edc81",
   "metadata": {},
   "source": [
    "> На версию А страницы веб-сайта зашло 1000 человек, 100 нажали кнопку \"Продолжить\". На версию Б зашло 1000 человек, 110 нажали кнопку продолжить. С какой вероятностью конверсия страницы Б выше страницы А?"
   ]
  },
  {
   "cell_type": "code",
   "execution_count": null,
   "id": "009c9229",
   "metadata": {},
   "outputs": [],
   "source": []
  },
  {
   "cell_type": "markdown",
   "id": "8e20d872",
   "metadata": {},
   "source": [
    "# Сравнение конверсий  \n",
    "* Модель  \n",
    "* Сравнение 2 групп  \n",
    "* Количество правильно угаданных вариантов  "
   ]
  },
  {
   "cell_type": "markdown",
   "id": "d29f2a0f",
   "metadata": {},
   "source": [
    "# Сравнение средних\n",
    "  - ЦПТ\n",
    "  - Модель\n",
    "  - Сравнение двух групп\n",
    "  - Количество правильно угаданных вариантов - для разных исходных распределений"
   ]
  },
  {
   "cell_type": "markdown",
   "id": "d09f0483",
   "metadata": {},
   "source": [
    "# Выручка на пользователя, заказы на платящего, средние чеки\n",
    "  - Модель\n",
    "  - Сравнение групп\n",
    "  - Кол-во угаданных вариантов"
   ]
  },
  {
   "cell_type": "markdown",
   "id": "03324297",
   "metadata": {},
   "source": [
    "# Заключение"
   ]
  },
  {
   "cell_type": "markdown",
   "id": "5e2b3dfc",
   "metadata": {},
   "source": [
    "# Ссылки"
   ]
  },
  {
   "cell_type": "code",
   "execution_count": null,
   "id": "543017df",
   "metadata": {},
   "outputs": [],
   "source": []
  },
  {
   "cell_type": "markdown",
   "id": "83c60326",
   "metadata": {},
   "source": []
  },
  {
   "cell_type": "code",
   "execution_count": null,
   "id": "27f85f74",
   "metadata": {},
   "outputs": [],
   "source": []
  },
  {
   "cell_type": "markdown",
   "id": "f59967f8",
   "metadata": {},
   "source": [
    "Пациент приходит ко врачу. Симптомы - температура.   \n",
    "Врач делает предположения на счет болезней - простуда, пневмония и т.д.  \n",
    "Врач прикидывает, при каких болезнях эти симптомы вероятны.  \n",
    "Дальше с учетом своего опыта и распространенности болезней ставит диагноз.  \n",
    "\n",
    "Можно записать рассуждения количественно.\n",
    "Для диагноза интересует $P(болезнь | симптомы)$.  \n",
    "Вначале выбирается список возможных болезней и для каждой вычисляется $P(симптомы | болезнь)$.  \n",
    "Распространенность болезней в регионе и опыт врача учитывает $P(болезнь)$.  \n",
    "\n",
    "$$\n",
    "P(болезнь | симптомы) \\approx P(симптомы | болезнь) P(болезнь)\n",
    "$$\n",
    "\n",
    "На этом примере видны компоненты байесовского моделирования.  "
   ]
  },
  {
   "cell_type": "markdown",
   "id": "ed70ecf7",
   "metadata": {},
   "source": [
    "Let’s walk through an example of using the **Bayesian approach** to guess what’s inside a present based on the **size of the box**.\n",
    "\n",
    "### Setting:\n",
    "You receive a box as a gift, but you don’t know what’s inside. Based on the **size of the box**, you want to update your belief about what the present might be. You have a few reasonable guesses, and you’ll use **Bayes’ Theorem** to compute the posterior probabilities of each possible item given the size of the box.\n",
    "\n",
    "### Hypotheses (Possible Contents of the Box):\n",
    "You consider three possible items that could be inside the box:\n",
    "\n",
    "- \\( H_1 \\): A **book**.\n",
    "- \\( H_2 \\): A **pair of shoes**.\n",
    "- \\( H_3 \\): A **laptop**.\n",
    "\n",
    "### Prior Probabilities:\n",
    "Before looking at the size of the box, you have some prior beliefs about what the gift could be based on your knowledge of the person who gave you the gift. For example:\n",
    "\n",
    "- \\( P(H_1) = 0.3 \\) (They often give books as gifts).\n",
    "- \\( P(H_2) = 0.5 \\) (They’ve given shoes before).\n",
    "- \\( P(H_3) = 0.2 \\) (They once mentioned buying you a laptop).\n",
    "\n",
    "### Likelihoods (Based on the Size of the Box):\n",
    "Now, you observe the **size of the box**, and you know how likely it is for each possible item to fit into a box of this size. Suppose the box is medium-sized. Based on that, you assign the following likelihoods:\n",
    "\n",
    "- \\( P(\\text{Medium box} \\mid H_1) = 0.8 \\) (Books often come in medium-sized boxes).\n",
    "- \\( P(\\text{Medium box} \\mid H_2) = 0.6 \\) (Shoes could fit in a medium-sized box, but not always).\n",
    "- \\( P(\\text{Medium box} \\mid H_3) = 0.3 \\) (Laptops usually come in larger boxes, so this is less likely).\n",
    "\n",
    "### Evidence (Total Probability of Observing the Box Size):\n",
    "The total probability of receiving a **medium-sized box** is calculated by summing over all the possible contents:\n",
    "\\[\n",
    "P(\\text{Medium box}) = P(\\text{Medium box} \\mid H_1)P(H_1) + P(\\text{Medium box} \\mid H_2)P(H_2) + P(\\text{Medium box} \\mid H_3)P(H_3)\n",
    "\\]\n",
    "\\[\n",
    "P(\\text{Medium box}) = (0.8 \\times 0.3) + (0.6 \\times 0.5) + (0.3 \\times 0.2) = 0.24 + 0.3 + 0.06 = 0.6\n",
    "\\]\n",
    "\n",
    "### Applying Bayes’ Theorem:\n",
    "Now, you can compute the **posterior probability** for each possible item using **Bayes’ Theorem**:\n",
    "\n",
    "1. **Posterior for a Book**:\n",
    "   \\[\n",
    "   P(H_1 \\mid \\text{Medium box}) = \\frac{P(\\text{Medium box} \\mid H_1) P(H_1)}{P(\\text{Medium box})} = \\frac{0.8 \\times 0.3}{0.6} = \\frac{0.24}{0.6} = 0.4\n",
    "   \\]\n",
    "\n",
    "2. **Posterior for Shoes**:\n",
    "   \\[\n",
    "   P(H_2 \\mid \\text{Medium box}) = \\frac{P(\\text{Medium box} \\mid H_2) P(H_2)}{P(\\text{Medium box})} = \\frac{0.6 \\times 0.5}{0.6} = \\frac{0.3}{0.6} = 0.5\n",
    "   \\]\n",
    "\n",
    "3. **Posterior for a Laptop**:\n",
    "   \\[\n",
    "   P(H_3 \\mid \\text{Medium box}) = \\frac{P(\\text{Medium box} \\mid H_3) P(H_3)}{P(\\text{Medium box})} = \\frac{0.3 \\times 0.2}{0.6} = \\frac{0.06}{0.6} = 0.1\n",
    "   \\]\n",
    "\n",
    "### Conclusion:\n",
    "Based on the size of the box and your priors, you now have updated probabilities for what might be inside the box:\n",
    "- \\( P(\\text{Book} \\mid \\text{Medium box}) = 0.4 \\),\n",
    "- \\( P(\\text{Shoes} \\mid \\text{Medium box}) = 0.5 \\),\n",
    "- \\( P(\\text{Laptop} \\mid \\text{Medium box}) = 0.1 \\).\n",
    "\n",
    "The most likely item is a **pair of shoes** (50% chance), followed by a **book** (40% chance). A **laptop** is the least likely (10% chance)."
   ]
  },
  {
   "cell_type": "markdown",
   "id": "ad140172",
   "metadata": {},
   "source": [
    "Аномалия в дашборде. Как выглядит процесс расследования причин?  \n",
    "Вначале нужно сформулировать возможные предположения: баг в недавнем релизе, не отработали ETL-скрипты, ... .\n",
    "С учетом прошлого опыта выбрать наиболее вероятное.  \n",
    "Проверить.  \n",
    "\n",
    "Можно записать рассуждения количественно.\n",
    "Интересует $P(изменения | аномалия)$.  \n",
    "Вначале выбирается список возможных причин и для каждой вычисляется $P(аномалия | изменения)$.  \n",
    "Прошлый опыт учитывает $P(изменения)$.  \n",
    "\n",
    "$$\n",
    "P(изменения | аномалия) \\approx P(аномалия | изменения) P(изменения)\n",
    "$$\n",
    "\n",
    "На этом примере видны компоненты байесовского моделирования. "
   ]
  },
  {
   "cell_type": "markdown",
   "id": "50e1627c",
   "metadata": {},
   "source": [
    "* В мешке лежат черные и белые шары, всего 1000 штук. Для оценки количества черных шаров вынимают шар, записывают цвет, возвращают обратно. За 20 повторов вынули 5 черных шаров. Сколько может быть черных шаров в мешке и каковы вероятности этих значений?"
   ]
  },
  {
   "cell_type": "markdown",
   "id": "8366fca7",
   "metadata": {},
   "source": [
    "1)\n",
    "\n",
    "При количестве черных шаров $N_B$ вероятность достать черный шар $p_B = N_B / N$.  \n",
    "Вероятность вынуть 5 черных шаров в 20 экспериментах задается биномиальным распределением.\n",
    "\n",
    "$$\n",
    "P(5, 20 | N_B) = Binom(5, 20) = C^5_{20} p_B^5 p_W^{15}\n",
    "$$\n",
    "\n",
    "Возможные значения $N_B$ от 1 (мог попадаться один и тот же черный шар) до 999 (есть как минимум 1 белый).\n",
    "\n",
    "Интересует\n",
    "\n",
    "$$\n",
    "P(N_B | 5, 20) = \\frac{ P(5,20 | N_B) P(N_B)}{P(5,20)} = \\frac{ P(5,20 | N_B) P(N_B)}{\\sum \\limits_{N_B=1}^{999} P(5,20 | N_B) P(N_B)}\n",
    "$$\n",
    "\n",
    "В знаменателе нормировочный коэффициент.\n",
    "\n",
    "Значения $P(N_B)$ равновероятны $P(N_B) = 1/999$.\n",
    "\n",
    "$$\n",
    "P(N_B | 5, 20) \n",
    "= \\frac{ P(5,20 | N_B)}{\\sum \\limits_{N_B=1}^{999} P(5,20 | N_B)} \n",
    "= \\frac{C^5_{20} p_B^5 p_W^{15}}{\\sum \\limits_{N_B=1}^{999} C^5_{20} p_B^5 p_W^{15}}\n",
    "= \\frac{C^5_{20} N_B^5 (N - N_B)^{15}}{\\sum \\limits_{N_B=1}^{999} C^5_{20} N_B^5 (N-N_B)^{15}}\n",
    "$$"
   ]
  },
  {
   "cell_type": "markdown",
   "id": "7506514b",
   "metadata": {},
   "source": [
    "Лучше так:\n",
    "1000 шаров, достали-вернули 5, все 5 черные. Сколько всего черных?\n",
    "\n",
    "\n",
    "$$\n",
    "P(5 | N_B) = Binom(5, 5) = C^5_{5} p_B^5 p_W^{0} = p_B^5\n",
    "$$\n",
    "\n",
    "$$\n",
    "P(N_B | 5) = \\frac{ P(5 | N_B) P(N_B)}{\\sum \\limits_{N_B=1}^{1000} P(5 | N_B) P(N_B)}\n",
    "$$\n",
    "\n",
    "Значения $P(N_B)$ равновероятны $P(N_B) = 1/1000$.\n",
    "\n",
    "$$\n",
    "P(N_B | 5) \n",
    "= \\frac{ P(5 | N_B)}{\\sum \\limits_{N_B=1}^{1000} P(5 | N_B)} \n",
    "= \\frac{p_B^5}{\\sum \\limits_{N_B=1}^{1000} p_B^5}\n",
    "= \\frac{N_B^5}{\\sum \\limits_{N_B=1}^{1000} N_B^5}\n",
    "$$"
   ]
  }
 ],
 "metadata": {
  "kernelspec": {
   "display_name": "Python 3 (ipykernel)",
   "language": "python",
   "name": "python3"
  },
  "language_info": {
   "codemirror_mode": {
    "name": "ipython",
    "version": 3
   },
   "file_extension": ".py",
   "mimetype": "text/x-python",
   "name": "python",
   "nbconvert_exporter": "python",
   "pygments_lexer": "ipython3",
   "version": "3.11.2"
  }
 },
 "nbformat": 4,
 "nbformat_minor": 5
}
