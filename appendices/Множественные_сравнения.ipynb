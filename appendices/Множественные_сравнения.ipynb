{
 "cells": [
  {
   "cell_type": "markdown",
   "id": "71319ee5",
   "metadata": {},
   "source": [
    "# Множественные сравнения"
   ]
  },
  {
   "cell_type": "markdown",
   "id": "b806c7ad",
   "metadata": {},
   "source": [
    "*Байесовский подход применен к А/Б-тесту конверсий с 3 группами. Лучшая группа выбирается сравнением апостериорных распределений. Способ применим для других метрик и большего количества вариантов.*"
   ]
  },
  {
   "cell_type": "code",
   "execution_count": null,
   "id": "d7e7e2a4",
   "metadata": {},
   "outputs": [],
   "source": [
    "import numpy as np\n",
    "import pandas as pd\n",
    "import scipy.stats as stats\n",
    "import plotly.graph_objects as go\n",
    "\n",
    "np.random.seed(7)"
   ]
  },
  {
   "cell_type": "markdown",
   "id": "e90e5aa8",
   "metadata": {},
   "source": [
    "В А/Б-тестах бывает больше 2 вариантов. \"Проверка статистических гипотез\" в таких случаях требует поправок на множественные сравнения [[MultipleComp](https://en.wikipedia.org/wiki/Multiple_comparisons_problem), [FWER](https://en.wikipedia.org/wiki/Family-wise_error_rate), [Bonf](https://en.wikipedia.org/wiki/Bonferroni_correction)]. В байесовском подходе лучшая группа выбирается сравнением апостериорных распределений, дополнительные поправки не требуются."
   ]
  },
  {
   "cell_type": "markdown",
   "id": "7bc51e0e",
   "metadata": {},
   "source": [
    "На три версии веб-страницы A, B и С зашло по $N=1000$ человек. Кнопку \"Продолжить\" нажали $n_{s_A}=100$, $n_{s_B}=105$, $n_{s_C}=110$ человек соответственно. С какой вероятностью конверсия каждого из вариантов лучшая? Вероятность конверсии каждого пользователя можно считать одинаковой, все возможные априорные значения равновероятными."
   ]
  },
  {
   "cell_type": "markdown",
   "id": "ee616731",
   "metadata": {},
   "source": [
    "Для каждого варианта нужно оценить вероятность наибольшей конверсии из всех групп: $P(\\text{Best } A) \\equiv P(p_A > p_B \\cap p_A > p_C)$ для А, аналогично для B и C. Вероятности можно оценить численно сравнением выборок апостериорных распределений. Для конверсий правдоподобие $P(\\mathcal{D} | \\mathcal{H})$ задается биномиальным распределением, априорное распределение $P(\\mathcal{H})$ - бета-распределением. В таком случае апостериорные распределения $P(\\mathcal{H} | \\mathcal{D})$ также будут бета-распределениями [[BayesABConv](https://nbviewer.org/github/andrewbrdk/Bayesian-AB-Testing/blob/main/Байесовская_оценка_АБ-тестов.ipynb#Конверсии), [BetaDist](https://en.wikipedia.org/wiki/Beta_distribution), [SciPyBeta](https://docs.scipy.org/doc/scipy/reference/generated/scipy.stats.beta.html), [ConjPrior](https://en.wikipedia.org/wiki/Conjugate_prior)]. "
   ]
  },
  {
   "cell_type": "markdown",
   "id": "e01bbd96",
   "metadata": {},
   "source": [
    "$$\n",
    "P(\\mathcal{H} | \\mathcal{D}) \\propto P(\\mathcal{D} | \\mathcal{H}) P(\\mathcal{H})\n",
    "$$\n",
    "\n",
    "$$\n",
    "P(\\mathcal{D} | \\mathcal{H}) = P(n_s, N | p) = \\mbox{Binom}(n_s, N | p) = C_{N}^{n_s} p^{n_s} (1-p)^{N-n_s}\n",
    "$$\n",
    "\n",
    "$$\n",
    "P(\\mathcal{H}) = P(p) = \\mbox{Beta}(p; \\alpha, \\beta) = \n",
    "\\frac{\\Gamma(\\alpha + \\beta)}{\\Gamma(\\alpha) \\Gamma(\\beta)} p^{\\alpha-1}(1-p)^{\\beta-1}\n",
    "$$\n",
    "\n",
    "$$\n",
    "\\begin{split}\n",
    "P(\\mathcal{H} | \\mathcal{D}) & = P(p | n_s, N) = \\mbox{Beta}(p; \\alpha + n_s, \\beta + N - n_s)\n",
    "\\end{split}\n",
    "$$"
   ]
  },
  {
   "cell_type": "markdown",
   "id": "08b0c389",
   "metadata": {},
   "source": [
    "На графике приведены апостериорные распределения каждой группы. Распределения пересекаются. Вероятности лучшей конверсии $P(\\text{Best } A) = 15\\%$, $P(\\text{Best } B) = 30\\%$, $P(\\text{Best } C) = 55\\%$. "
   ]
  },
  {
   "cell_type": "code",
   "execution_count": null,
   "id": "50de77f6",
   "metadata": {},
   "outputs": [],
   "source": [
    "def posterior_dist_binom(ns, ntotal, a_prior=1, b_prior=1):\n",
    "    a = a_prior + ns\n",
    "    b = b_prior + ntotal - ns \n",
    "    return stats.beta(a=a, b=b)\n",
    "\n",
    "N = 1000\n",
    "sa = 100\n",
    "sb = 105\n",
    "sc = 110\n",
    "\n",
    "p_dist_a = posterior_dist_binom(ns=sa, ntotal=N)\n",
    "p_dist_b = posterior_dist_binom(ns=sb, ntotal=N)\n",
    "p_dist_c = posterior_dist_binom(ns=sc, ntotal=N)\n",
    "\n",
    "npost = 50000\n",
    "samp_a = p_dist_a.rvs(size=npost)\n",
    "samp_b = p_dist_b.rvs(size=npost)\n",
    "samp_c = p_dist_c.rvs(size=npost)\n",
    "\n",
    "p_a_best = np.sum((samp_a > samp_b) & (samp_a > samp_c)) / npost\n",
    "p_b_best = np.sum((samp_b > samp_a) & (samp_b > samp_c)) / npost\n",
    "p_c_best = np.sum((samp_c > samp_a) & (samp_c > samp_b)) / npost\n",
    "\n",
    "xaxis_max = 0.2\n",
    "x = np.linspace(0, xaxis_max, 1000)\n",
    "fig = go.Figure()\n",
    "fig.add_trace(go.Scatter(x=x, y=p_dist_a.pdf(x), line_color='black', name='A'))\n",
    "fig.add_trace(go.Scatter(x=x, y=p_dist_b.pdf(x), line_color='black', line_dash='longdash', name='B'))\n",
    "fig.add_trace(go.Scatter(x=x, y=p_dist_c.pdf(x), line_color='black', line_dash='dot', name='C'))\n",
    "fig.update_layout(title='Апостериорные распределения',\n",
    "                  xaxis_title='$p$',\n",
    "                  yaxis_title='Плотность вероятности',\n",
    "                  xaxis_range=[0, xaxis_max],\n",
    "                  hovermode=\"x\",\n",
    "                  height=500)\n",
    "fig.show()\n",
    "#fig.write_image(\"../figs/apx_multcmp.png\", scale=2)\n",
    "#Апостериорные распределения конверсий 3 групп. Вероятности лучшей конверсии P(Best A) = 15%, P(Best B) = 30%, P(Best C) = 55%.\n",
    "\n",
    "print(f\"P Best:\")\n",
    "print(f\"P(Best A) = P(A>B & A>C) = {p_a_best}\")\n",
    "print(f\"P(Best B) = P(B>A & B>C) = {p_b_best}\")\n",
    "print(f\"P(Best C) = P(C>A & C>B) = {p_c_best}\")"
   ]
  },
  {
   "cell_type": "markdown",
   "id": "12015f4e",
   "metadata": {},
   "source": [
    "Количество правильно угаданных вариантов в серии экспериментов следующее. В группе A задается конверсия `p = 0.1`, в группах B и C конверсия выбирается случайно в диапазоне $\\pm 5\\%$ от `p`. В группах генерируются данные с шагом `n_samp_step`. На каждом шаге в каждом варианте считаются апостериорные распределения и вероятность лучшей конверсии среди всех групп $P(\\text{Best } A)$ и др. Эксперимент останавливается, если в одной из групп вероятность наибольшей конверсии достигает `prob_stop=0.95` или сгенерировано максимальное количество точек `n_samp_max`. Проводится `nexps` экспериментов, считается доля правильно угаданных групп. В данном случае в `nexps = 1000` правильно угадано 948. Доля 0.948 близка ожидаемой `prob_stop = 0.95`."
   ]
  },
  {
   "cell_type": "code",
   "execution_count": null,
   "id": "9cfb3954",
   "metadata": {
    "scrolled": true
   },
   "outputs": [],
   "source": [
    "def p_best(*args, n_post_samp=50_000):\n",
    "    samp = [d.rvs(size=n_post_samp) for d in args]\n",
    "    best_group = np.argmax(np.vstack(samp), axis=0)\n",
    "    u = np.unique(best_group, return_counts=True)\n",
    "    p_best = np.zeros(len(args))\n",
    "    for i, c in zip(u[0], u[1]):\n",
    "        p_best[i] = c\n",
    "    p_best = p_best / n_post_samp\n",
    "    return p_best\n",
    "\n",
    "cmp = pd.DataFrame(columns=['A', 'B', 'C', 'best_exact', \n",
    "                            'exp_samp_size', 'A_exp', 'B_exp', 'C_exp', \n",
    "                            'best_exp', 'p_best'])\n",
    "\n",
    "p = 0.1\n",
    "nexps = 1000\n",
    "cmp['A'] = [p] * nexps\n",
    "cmp['B'] = p * (1 + stats.uniform.rvs(loc=-0.05, scale=0.1, size=nexps))\n",
    "cmp['C'] = p * (1 + stats.uniform.rvs(loc=-0.05, scale=0.1, size=nexps))\n",
    "cmp['best_exact'] = cmp.apply(lambda r: 'A' if r['A'] > r['B'] and r['A'] > r['C'] else 'B' if r['B'] > r['A'] and r['B'] > r['C'] else 'C', axis=1)\n",
    "\n",
    "n_samp_max = 30_000_000\n",
    "n_samp_step = 10_000\n",
    "prob_stop = 0.95\n",
    "\n",
    "for i in range(nexps):\n",
    "    pA = cmp.at[i, 'A']\n",
    "    pB = cmp.at[i, 'B']\n",
    "    pC = cmp.at[i, 'C']\n",
    "    exact_dist_A = stats.bernoulli(p=pA)\n",
    "    exact_dist_B = stats.bernoulli(p=pB)\n",
    "    exact_dist_C = stats.bernoulli(p=pC)\n",
    "    n_samp_total = 0\n",
    "    ns_A = 0\n",
    "    ns_B = 0\n",
    "    ns_C = 0\n",
    "    while n_samp_total < n_samp_max:\n",
    "        dA = exact_dist_A.rvs(n_samp_step)\n",
    "        dB = exact_dist_B.rvs(n_samp_step)\n",
    "        dC = exact_dist_C.rvs(n_samp_step)\n",
    "        n_samp_total += n_samp_step\n",
    "        ns_A = ns_A + np.sum(dA)\n",
    "        ns_B = ns_B + np.sum(dB)\n",
    "        ns_C = ns_C + np.sum(dC)\n",
    "        post_dist_A = posterior_dist_binom(ns=ns_A, ntotal=n_samp_total)\n",
    "        post_dist_B = posterior_dist_binom(ns=ns_B, ntotal=n_samp_total)\n",
    "        post_dist_C = posterior_dist_binom(ns=ns_C, ntotal=n_samp_total)\n",
    "        p_best_A, p_best_B, p_best_C = p_best(post_dist_A, post_dist_B, post_dist_C)\n",
    "        best_gr = 'A' if p_best_A >= prob_stop else 'B' if  p_best_B >= prob_stop else 'C' if p_best_C >= prob_stop else None\n",
    "        if best_gr:\n",
    "            cmp.at[i, 'A_exp'] = post_dist_A.mean()\n",
    "            cmp.at[i, 'B_exp'] = post_dist_B.mean()\n",
    "            cmp.at[i, 'C_exp'] = post_dist_C.mean()\n",
    "            cmp.at[i, 'exp_samp_size'] = n_samp_total\n",
    "            cmp.at[i, 'best_exp'] = best_gr\n",
    "            cmp.at[i, 'p_best'] = max(p_best_A, p_best_B, p_best_C)\n",
    "            break\n",
    "    print(f'done {i}: nsamp {n_samp_total}, best_gr {best_gr}, P_best {max(p_best_A, p_best_B, p_best_C)}')\n",
    "\n",
    "cmp['correct'] = cmp['best_exact'] == cmp['best_exp']\n",
    "display(cmp.head(50))\n",
    "cor_guess = np.sum(cmp['correct'])\n",
    "print(f\"Nexp: {nexps}, Correct Guesses: {cor_guess}, Accuracy: {cor_guess / nexps}\")"
   ]
  },
  {
   "cell_type": "markdown",
   "id": "3cb36057",
   "metadata": {},
   "source": [
    "Байесовский подход применен к А/Б-тесту конверсий с 3 группами. Лучшая группа выбирается сравнением апостериорных распределений. Способ применим для других метрик и большего количества вариантов."
   ]
  },
  {
   "cell_type": "markdown",
   "id": "2b228e63",
   "metadata": {},
   "source": [
    "**Ссылки**:\n",
    "\n",
    "[BayesABConv] - [Bayesian A/B Testing](https://nbviewer.org/github/andrewbrdk/Bayesian-AB-Testing/blob/main/Байесовская_оценка_АБ-тестов.ipynb#Конверсии), *GitHub.*     \n",
    "[BetaDist] - [Beta Distribution](https://en.wikipedia.org/wiki/Beta_distribution), *Wikipedia.*     \n",
    "[Bonf] - [Bonferroni Correction](https://en.wikipedia.org/wiki/Bonferroni_correction), *Wikipedia.*  \n",
    "[ConjPrior] - [Conjugate Prior](https://en.wikipedia.org/wiki/Conjugate_prior), *Wikipedia.*   \n",
    "[FWER] - [Family-wise Error Rate](https://en.wikipedia.org/wiki/Family-wise_error_rate), *Wikipedia.*   \n",
    "[MultipleComp] - [Multiple Comparisons Problem](https://en.wikipedia.org/wiki/Multiple_comparisons_problem), *Wikipedia.*  \n",
    "[SciPyBeta] - [scipy.stats.beta](https://docs.scipy.org/doc/scipy/reference/generated/scipy.stats.beta.html), *SciPy Reference.* "
   ]
  }
 ],
 "metadata": {
  "kernelspec": {
   "display_name": "Python 3 (ipykernel)",
   "language": "python",
   "name": "python3"
  },
  "language_info": {
   "codemirror_mode": {
    "name": "ipython",
    "version": 3
   },
   "file_extension": ".py",
   "mimetype": "text/x-python",
   "name": "python",
   "nbconvert_exporter": "python",
   "pygments_lexer": "ipython3",
   "version": "3.11.2"
  }
 },
 "nbformat": 4,
 "nbformat_minor": 5
}
