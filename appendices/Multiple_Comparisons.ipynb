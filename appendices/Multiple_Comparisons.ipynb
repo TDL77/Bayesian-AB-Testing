{
 "cells": [
  {
   "cell_type": "markdown",
   "id": "6a028cb8",
   "metadata": {},
   "source": [
    "# Multiple Comparisons"
   ]
  },
  {
   "cell_type": "markdown",
   "id": "7858c932",
   "metadata": {},
   "source": [
    "*A Bayesian approach is applied to a three variant conversions A/B test. The best group is selected by posterior distributions comparison. The method is applicable to other metrics and a greater number of variants.*"
   ]
  },
  {
   "cell_type": "code",
   "execution_count": null,
   "id": "059760a1",
   "metadata": {},
   "outputs": [],
   "source": [
    "import numpy as np\n",
    "import pandas as pd\n",
    "import scipy.stats as stats\n",
    "import plotly.graph_objects as go\n",
    "\n",
    "np.random.seed(7)"
   ]
  },
  {
   "cell_type": "markdown",
   "id": "89be0371",
   "metadata": {},
   "source": [
    "A/B tests often involve more than two variants. In these cases, statistical hypothesis testing requires adjustments for multiple comparisons [[MultipleComp](https://en.wikipedia.org/wiki/Multiple_comparisons_problem), [FWER](https://en.wikipedia.org/wiki/Family-wise_error_rate), [Bonf](https://en.wikipedia.org/wiki/Bonferroni_correction)]. In contrast, the Bayesian approach selects the best group by comparing posterior distributions, with no need for additional corrections."
   ]
  },
  {
   "cell_type": "markdown",
   "id": "ef7e316c",
   "metadata": {},
   "source": [
    "Three versions of a web page — A, B, and C — each received $N=1000$ visitors. The \"Continue\" button was clicked by $n_{s_A}=100$, $n_{s_B}=105$, and $n_{s_C}=110$ visitors, respectively.\n",
    "What is the probability that each version has the highest conversion rate?\n",
    "Assume that the conversion probability is identical for each user and that all prior values are uniformly distributed."
   ]
  },
  {
   "cell_type": "markdown",
   "id": "307e5e1a",
   "metadata": {},
   "source": [
    "For each variant, we seek to estimate the probability that it achieves the highest conversion rate among all groups:\n",
    "$P(\\text{Best } A) \\equiv P(p_A > p_B \\cap p_A > p_C)$ for A, with analogous expressions for B and C.\n",
    "These probabilities can be estimated numerically by comparing samples drawn from the posterior distributions.\n",
    "In the case of conversions, the likelihood $P(\\mathcal{D} | \\mathcal{H})$ follows a binomial distribution, and the prior $P(\\mathcal{H})$ is a beta distribution.\n",
    "Under these assumptions, the posterior distributions $P(\\mathcal{H} | \\mathcal{D})$ also follow beta distributions [[BayesABConv](https://nbviewer.org/github/andrewbrdk/Bayesian-AB-Testing/blob/main/Bayesian-AB-Testing.ipynb#Conversions), [BetaDist](https://en.wikipedia.org/wiki/Beta_distribution), [SciPyBeta](https://docs.scipy.org/doc/scipy/reference/generated/scipy.stats.beta.html), [ConjPrior](https://en.wikipedia.org/wiki/Conjugate_prior)]."
   ]
  },
  {
   "cell_type": "markdown",
   "id": "c9011eca",
   "metadata": {},
   "source": [
    "$$\n",
    "P(\\mathcal{H} | \\mathcal{D}) \\propto P(\\mathcal{D} | \\mathcal{H}) P(\\mathcal{H})\n",
    "$$\n",
    "\n",
    "$$\n",
    "P(\\mathcal{D} | \\mathcal{H}) = P(n_s, N | p) = \\mbox{Binom}(n_s, N | p) = C_{N}^{n_s} p^{n_s} (1-p)^{N-n_s}\n",
    "$$\n",
    "\n",
    "$$\n",
    "P(\\mathcal{H}) = P(p) = \\mbox{Beta}(p; \\alpha, \\beta) = \n",
    "\\frac{\\Gamma(\\alpha + \\beta)}{\\Gamma(\\alpha) \\Gamma(\\beta)} p^{\\alpha-1}(1-p)^{\\beta-1}\n",
    "$$\n",
    "\n",
    "$$\n",
    "\\begin{split}\n",
    "P(\\mathcal{H} | \\mathcal{D}) & = P(p | n_s, N) = \\mbox{Beta}(p; \\alpha + n_s, \\beta + N - n_s)\n",
    "\\end{split}\n",
    "$$"
   ]
  },
  {
   "cell_type": "markdown",
   "id": "7572f076",
   "metadata": {},
   "source": [
    "The graph shows the posterior distributions for each group. The distributions overlap, indicating uncertainty in the ranking. The probabilities of each group having the highest conversion rate are: $P(\\text{Best } A) = 15\\%$, $P(\\text{Best } B) = 30\\%$, $P(\\text{Best } C) = 55\\%$."
   ]
  },
  {
   "cell_type": "code",
   "execution_count": null,
   "id": "f9819a5f",
   "metadata": {},
   "outputs": [],
   "source": [
    "def posterior_dist_binom(ns, ntotal, a_prior=1, b_prior=1):\n",
    "    a = a_prior + ns\n",
    "    b = b_prior + ntotal - ns \n",
    "    return stats.beta(a=a, b=b)\n",
    "\n",
    "N = 1000\n",
    "sa = 100\n",
    "sb = 105\n",
    "sc = 110\n",
    "\n",
    "p_dist_a = posterior_dist_binom(ns=sa, ntotal=N)\n",
    "p_dist_b = posterior_dist_binom(ns=sb, ntotal=N)\n",
    "p_dist_c = posterior_dist_binom(ns=sc, ntotal=N)\n",
    "\n",
    "npost = 50000\n",
    "samp_a = p_dist_a.rvs(size=npost)\n",
    "samp_b = p_dist_b.rvs(size=npost)\n",
    "samp_c = p_dist_c.rvs(size=npost)\n",
    "\n",
    "p_a_best = np.sum((samp_a > samp_b) & (samp_a > samp_c)) / npost\n",
    "p_b_best = np.sum((samp_b > samp_a) & (samp_b > samp_c)) / npost\n",
    "p_c_best = np.sum((samp_c > samp_a) & (samp_c > samp_b)) / npost\n",
    "\n",
    "xaxis_max = 0.2\n",
    "x = np.linspace(0, xaxis_max, 1000)\n",
    "fig = go.Figure()\n",
    "fig.add_trace(go.Scatter(x=x, y=p_dist_a.pdf(x), line_color='black', name='A'))\n",
    "fig.add_trace(go.Scatter(x=x, y=p_dist_b.pdf(x), line_color='black', line_dash='longdash', name='B'))\n",
    "fig.add_trace(go.Scatter(x=x, y=p_dist_c.pdf(x), line_color='black', line_dash='dot', name='C'))\n",
    "fig.update_layout(title='Posterior Distributions',\n",
    "                  xaxis_title='$p$',\n",
    "                  yaxis_title='Probability density',\n",
    "                  xaxis_range=[0, xaxis_max],\n",
    "                  hovermode=\"x\",\n",
    "                  height=500)\n",
    "fig.show()\n",
    "#fig.write_image(\"../figs/en_apx_multcmp.png\", scale=2)\n",
    "#Posterior distributions of conversion rates for three groups. Probabilities of having the highest conversion rate P(Best A) = 15%, P(Best B) = 30%, P(Best C) = 55%.\n",
    "\n",
    "print(f\"P Best:\")\n",
    "print(f\"P(Best A) = P(A>B & A>C) = {p_a_best}\")\n",
    "print(f\"P(Best B) = P(B>A & B>C) = {p_b_best}\")\n",
    "print(f\"P(Best C) = P(C>A & C>B) = {p_c_best}\")"
   ]
  },
  {
   "cell_type": "markdown",
   "id": "5a18eaa3",
   "metadata": {},
   "source": [
    "The number of correctly identified variants across a series of experiments is as follows.\n",
    "Group A has a fixed conversion rate of `p=0.1`, while groups B and C have conversion rates randomly selected within $\\pm 5\\%$ of `p`. Data are generated incrementally in each group with a step size of `n_samp_step`.\n",
    "At each step, posterior distributions are updated, and the probability of having the highest conversion rate — $P(\\text{Best }A)$, etc. — is calculated for each variant. The experiment stops when either the probability of the highest conversion in any group reaches `prob_stop = 0.95`, or when the maximum number of samples `n_samp_max` is reached. A total of `nexps` experiments are performed, and the proportion of correctly identified groups is measured. In this case, with `nexps = 1000`, the correct group was identified 948 times.\n",
    "The resulting proportion, 0.948, is close to the expected value of `prob_stop = 0.95`."
   ]
  },
  {
   "cell_type": "code",
   "execution_count": null,
   "id": "bc84b87d",
   "metadata": {},
   "outputs": [],
   "source": [
    "def p_best(*args, n_post_samp=50_000):\n",
    "    samp = [d.rvs(size=n_post_samp) for d in args]\n",
    "    best_group = np.argmax(np.vstack(samp), axis=0)\n",
    "    u = np.unique(best_group, return_counts=True)\n",
    "    p_best = np.zeros(len(args))\n",
    "    for i, c in zip(u[0], u[1]):\n",
    "        p_best[i] = c\n",
    "    p_best = p_best / n_post_samp\n",
    "    return p_best\n",
    "\n",
    "cmp = pd.DataFrame(columns=['A', 'B', 'C', 'best_exact', \n",
    "                            'exp_samp_size', 'A_exp', 'B_exp', 'C_exp', \n",
    "                            'best_exp', 'p_best'])\n",
    "\n",
    "p = 0.1\n",
    "nexps = 1000\n",
    "cmp['A'] = [p] * nexps\n",
    "cmp['B'] = p * (1 + stats.uniform.rvs(loc=-0.05, scale=0.1, size=nexps))\n",
    "cmp['C'] = p * (1 + stats.uniform.rvs(loc=-0.05, scale=0.1, size=nexps))\n",
    "cmp['best_exact'] = cmp.apply(lambda r: 'A' if r['A'] > r['B'] and r['A'] > r['C'] else 'B' if r['B'] > r['A'] and r['B'] > r['C'] else 'C', axis=1)\n",
    "\n",
    "n_samp_max = 30_000_000\n",
    "n_samp_step = 10_000\n",
    "prob_stop = 0.95\n",
    "\n",
    "for i in range(nexps):\n",
    "    pA = cmp.at[i, 'A']\n",
    "    pB = cmp.at[i, 'B']\n",
    "    pC = cmp.at[i, 'C']\n",
    "    exact_dist_A = stats.bernoulli(p=pA)\n",
    "    exact_dist_B = stats.bernoulli(p=pB)\n",
    "    exact_dist_C = stats.bernoulli(p=pC)\n",
    "    n_samp_total = 0\n",
    "    ns_A = 0\n",
    "    ns_B = 0\n",
    "    ns_C = 0\n",
    "    while n_samp_total < n_samp_max:\n",
    "        dA = exact_dist_A.rvs(n_samp_step)\n",
    "        dB = exact_dist_B.rvs(n_samp_step)\n",
    "        dC = exact_dist_C.rvs(n_samp_step)\n",
    "        n_samp_total += n_samp_step\n",
    "        ns_A = ns_A + np.sum(dA)\n",
    "        ns_B = ns_B + np.sum(dB)\n",
    "        ns_C = ns_C + np.sum(dC)\n",
    "        post_dist_A = posterior_dist_binom(ns=ns_A, ntotal=n_samp_total)\n",
    "        post_dist_B = posterior_dist_binom(ns=ns_B, ntotal=n_samp_total)\n",
    "        post_dist_C = posterior_dist_binom(ns=ns_C, ntotal=n_samp_total)\n",
    "        p_best_A, p_best_B, p_best_C = p_best(post_dist_A, post_dist_B, post_dist_C)\n",
    "        best_gr = 'A' if p_best_A >= prob_stop else 'B' if  p_best_B >= prob_stop else 'C' if p_best_C >= prob_stop else None\n",
    "        if best_gr:\n",
    "            cmp.at[i, 'A_exp'] = post_dist_A.mean()\n",
    "            cmp.at[i, 'B_exp'] = post_dist_B.mean()\n",
    "            cmp.at[i, 'C_exp'] = post_dist_C.mean()\n",
    "            cmp.at[i, 'exp_samp_size'] = n_samp_total\n",
    "            cmp.at[i, 'best_exp'] = best_gr\n",
    "            cmp.at[i, 'p_best'] = max(p_best_A, p_best_B, p_best_C)\n",
    "            break\n",
    "    print(f'done {i}: nsamp {n_samp_total}, best_gr {best_gr}, P_best {max(p_best_A, p_best_B, p_best_C)}')\n",
    "\n",
    "cmp['correct'] = cmp['best_exact'] == cmp['best_exp']\n",
    "display(cmp.head(50))\n",
    "cor_guess = np.sum(cmp['correct'])\n",
    "print(f\"Nexp: {nexps}, Correct Guesses: {cor_guess}, Accuracy: {cor_guess / nexps}\")"
   ]
  },
  {
   "cell_type": "markdown",
   "id": "fab97d90",
   "metadata": {},
   "source": [
    "A Bayesian approach was applied to an A/B test involving three groups.\n",
    "The best-performing group was identified by comparing their posterior distributions.\n",
    "This method can also be used for other metrics and a larger number of variants."
   ]
  },
  {
   "cell_type": "markdown",
   "id": "9db34786",
   "metadata": {},
   "source": [
    "**References**:\n",
    "\n",
    "[BayesABConv] - [Bayesian A/B Testing](https://nbviewer.org/github/andrewbrdk/Bayesian-AB-Testing/blob/main/Bayesian-AB-Testing.ipynb#Conversions), *GitHub.*     \n",
    "[BetaDist] - [Beta Distribution](https://en.wikipedia.org/wiki/Beta_distribution), *Wikipedia.*     \n",
    "[Bonf] - [Bonferroni Correction](https://en.wikipedia.org/wiki/Bonferroni_correction), *Wikipedia.*  \n",
    "[ConjPrior] - [Conjugate Prior](https://en.wikipedia.org/wiki/Conjugate_prior), *Wikipedia.*   \n",
    "[FWER] - [Family-wise Error Rate](https://en.wikipedia.org/wiki/Family-wise_error_rate), *Wikipedia.*   \n",
    "[MultipleComp] - [Multiple Comparisons Problem](https://en.wikipedia.org/wiki/Multiple_comparisons_problem), *Wikipedia.*  \n",
    "[SciPyBeta] - [scipy.stats.beta](https://docs.scipy.org/doc/scipy/reference/generated/scipy.stats.beta.html), *SciPy Reference.* "
   ]
  }
 ],
 "metadata": {
  "kernelspec": {
   "display_name": "Python 3 (ipykernel)",
   "language": "python",
   "name": "python3"
  },
  "language_info": {
   "codemirror_mode": {
    "name": "ipython",
    "version": 3
   },
   "file_extension": ".py",
   "mimetype": "text/x-python",
   "name": "python",
   "nbconvert_exporter": "python",
   "pygments_lexer": "ipython3",
   "version": "3.11.2"
  }
 },
 "nbformat": 4,
 "nbformat_minor": 5
}
