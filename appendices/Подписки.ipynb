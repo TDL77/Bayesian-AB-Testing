{
 "cells": [
  {
   "cell_type": "markdown",
   "id": "7212b86e",
   "metadata": {},
   "source": [
    "В оплату - мультиномиальное распределение по тарифам.\n",
    "Средняя выручка на пользователя - стоимость * конверсию.\n",
    "\n",
    "Что делать с продлениями?\n",
    "Лучше всего ждать продлений и смотреть по данным. \n",
    "Допустим эти данные есть. \n",
    "Как тогда?\n",
    "\n",
    "Если данных нет, или есть за первый период.\n",
    "Что тогда?"
   ]
  },
  {
   "cell_type": "markdown",
   "id": "ecd0b7cb",
   "metadata": {},
   "source": [
    "Вариант - задавать предельное значение в каждый след. период.\n",
    "Пользователей точно не станет больше, чем было.\n",
    "\n",
    "Можно немного уменьшать.\n",
    "\n",
    "Т.е. что-то типа равномерного распределения от 0 до последнего периода.\n",
    "Лучше не равномерное, а спадающее по краям. Но с плато на большей части интервала."
   ]
  }
 ],
 "metadata": {
  "kernelspec": {
   "display_name": "Python 3 (ipykernel)",
   "language": "python",
   "name": "python3"
  },
  "language_info": {
   "codemirror_mode": {
    "name": "ipython",
    "version": 3
   },
   "file_extension": ".py",
   "mimetype": "text/x-python",
   "name": "python",
   "nbconvert_exporter": "python",
   "pygments_lexer": "ipython3",
   "version": "3.11.2"
  }
 },
 "nbformat": 4,
 "nbformat_minor": 5
}
