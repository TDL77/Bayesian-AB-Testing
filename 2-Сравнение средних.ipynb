{
 "cells": [
  {
   "cell_type": "markdown",
   "metadata": {},
   "source": [
    "# Сравнение средних"
   ]
  },
  {
   "cell_type": "markdown",
   "metadata": {},
   "source": [
    "*При анализе А/Б-тестов в мобильных приложениях и веб-сервисах часто возникает необходимость сравнить средние значения тех или иных метрик. Показано, как это можно сделать в рамках байесовского подхода.*"
   ]
  },
  {
   "cell_type": "markdown",
   "metadata": {},
   "source": [
    "**Содержание:**\n",
    "* [Введение](#Введение)  \n",
    "* [Центральная предельная теорема](#Центральная-предельная-теорема)\n",
    "* [Оценка среднего значения распределения](#Оценка-среднего-значения-распределения)\n",
    "* [Сравнение средних двух распределений](#Сравнение-средних-двух-распределений)\n",
    "* [Оценка длительности эксперимента](#Оценка-длительности-эксперимента)\n",
    "* &nbsp; &nbsp; [Продолжение эксперимента до достижения заданного уровня уверенности](#Продолжение-эксперимента-до-достижения-заданного-уровня-уверенности)\n",
    "* [Приложение: сопряженное априорное распределение к нормальному распределению](#Приложение:-сопряженное-априорное-распределение-к-нормальному-распределению)\n",
    "* [Приложение: оценка параметров нормального распределения по сэмплу](#Приложение:-оценка-параметров-нормального-распределения-по-сэмплу)\n",
    "* [Заключение](#Заключение)  "
   ]
  },
  {
   "cell_type": "markdown",
   "metadata": {},
   "source": [
    "# Введение"
   ]
  },
  {
   "cell_type": "markdown",
   "metadata": {},
   "source": [
    "В веб-сервисы и мобильные приложения с течением времени вносятся изменения. Оценивать эффект от изменений можно сравнением метрик. Сравнение лучше проводить в рамках А/Б-тестов, чтобы минимизировать различие во внешних факторах.  \n",
    "\n",
    "Наибольший интерес представляют метрики, заложенные в план развития продукта. Сравнение конверсий было рассмотрено в предыдущей части. Могут быть интересны денежные метрики и метрики вовлеченности - выручка на пользователя, время в приложении, длительность просмотра видео и т.д.  \n",
    "\n",
    "*картинка*"
   ]
  },
  {
   "cell_type": "markdown",
   "metadata": {},
   "source": [
    "Байесовский подход требует построения моделей распределений сравниваемых величин. Выбор модели - неочевидный вопрос. Есть отдельные модели, получившие распространение - например, Buy Till You Die [[BTYD](https://en.wikipedia.org/wiki/Buy_Till_you_Die)] для моделирования количества покупок клиента за все время использования сервиса. Но универсальных моделей нет. Это создает сложности."
   ]
  },
  {
   "cell_type": "markdown",
   "metadata": {},
   "source": [
    "С другой стороны, для многих величин не всегда нужно знать все распределение. \n",
    "Можно ограничиться сравнением средних:\n",
    "средней выручкой на пользователя, средней длительностью просмотра и т.д.\n",
    "\n",
    "Для средних значений часто применима центральная предельная теорема. Можно приближенно считать, что средние значения в выборках из распределения будут распределены нормально. Причем это не зависит от формы исходного распределения.  \n",
    "\n",
    "Центральная предельная теорема позволяет при сравнении средних использовать нормальное распределение в качестве функции правдоподобия."
   ]
  },
  {
   "cell_type": "markdown",
   "metadata": {},
   "source": [
    "В ч.1 обсуждался байесовский подход к оценке А/Б-тестов.  \n",
    "На примере конверсий было показано, как в рамках этого подхода ответить на вопросы\n",
    "- Какой вариант лучше и насколько?\n",
    "- Каковы оценки целевой метрики в каждом варианте?\n",
    "- Насколько уверены в оценке?\n",
    "- Сколько должен продолжаться эксперимент?\n",
    "\n",
    "В этой части рассмотрено, как ответить на эти же вопросы применительно к сравнению средних."
   ]
  },
  {
   "cell_type": "markdown",
   "metadata": {},
   "source": [
    "Структура следующая:\n",
    "- вначале обсуждается центральная предельная теорема\n",
    "- далее проводится оценка средних для распределений с известными параметрами\n",
    "- проводится сравнение средних для распределений с разными параметрами и делается попытка ответить на вопросы выше"
   ]
  },
  {
   "cell_type": "markdown",
   "metadata": {},
   "source": [
    "# Центральная предельная теорема"
   ]
  },
  {
   "cell_type": "markdown",
   "metadata": {},
   "source": [
    "Есть несколько центральных предельных теорем [[CLT](https://en.wikipedia.org/wiki/Central_limit_theorem)].\n",
    "Одна из возможных формулировок следующая. Пусть есть последовательность независимых одинаково распределенных случайных величин $X_1, X_2, \\dots, X_n, \\dots$ с конечными математическим ожиданием $\\mu$ и дисперсией $\\sigma^2$. Пусть $\\bar{X}_n = \\frac{1}{n} \\sum_{i=1}^{n} X_i$ их выборочное среднее. Тогда при $n$, стремящемся к бесконечности, распределение центрированных и масштабированных выборочных средних сходится к нормальному распределению со средним значением 0 и дисперсией 1\n",
    "\n",
    "$$\n",
    "\\frac{\\bar{X}_n - \\mu}{(\\sigma / \\sqrt{n})} \\to N(0, 1), \\quad n \\to \\infty.\n",
    "$$\n",
    "\n",
    "Сходимость понимается как сходимость по распределению [[RandVarsConvergences](https://en.wikipedia.org/wiki/Convergence_of_random_variables#Convergence_in_distribution)]."
   ]
  },
  {
   "cell_type": "markdown",
   "metadata": {},
   "source": [
    "Неформально этот результат можно применить следующим образом. Если взять произвольное распределение со средним значением $\\mu$ и диспресий $\\sigma^2$, начать выбирать из него сэмплы длины $n$ и считать среднее в каждом сэмпле, то средние значения сэмплов будут распределены приблизительно нормально $N(\\mu, \\sigma^2/n)$."
   ]
  },
  {
   "cell_type": "markdown",
   "metadata": {},
   "source": [
    "<center>\n",
    "<img src=\"central_limit_theorem.png\" alt=\"central_limit_theorem\" width=\"600\"/>\n",
    "</center>"
   ]
  },
  {
   "cell_type": "markdown",
   "metadata": {},
   "source": [
    "Центральная предельная теорема говорит о сходимости к нормальному распределению центрированных и масштабированных выборочных средних $\\bar{X}_n$ при стремлении $n$ к бесконечности. Для фиксированного конечного числа $n$ нормальное распределение не гарантируется. При этом есть теоремы, дающие оценку отличия распределения суммы конечного количества случайных величин от нормального - см. [[BerryEsseenTheorem](https://en.wikipedia.org/wiki/Berry%E2%80%93Esseen_theorem)]. Отличие зависит как от количества слагаемых, так и от параметров распределения. \n",
    "\n",
    "\n",
    "*На практике бывает достаточно нескольких десятков точек в каждом сэмпле.*  "
   ]
  },
  {
   "cell_type": "code",
   "execution_count": null,
   "metadata": {},
   "outputs": [],
   "source": [
    "import pandas as pd\n",
    "import numpy as np\n",
    "np.random.seed(7)\n",
    "\n",
    "from collections import namedtuple\n",
    "\n",
    "import scipy.stats as stats\n",
    "import plotly.express as px\n",
    "import plotly.graph_objects as go\n",
    "from plotly.subplots import make_subplots\n",
    "\n",
    "#todo: update scipy; make venv"
   ]
  },
  {
   "cell_type": "code",
   "execution_count": null,
   "metadata": {},
   "outputs": [],
   "source": [
    "a = 1\n",
    "sample_len = 100\n",
    "n_samples = 1000\n",
    "\n",
    "exact_dist = stats.gamma(a=a)\n",
    "samp = exact_dist.rvs(size=(n_samples, sample_len))\n",
    "means = np.array([x.mean() for x in samp])\n",
    "clt_mu = exact_dist.mean()\n",
    "clt_stdev = exact_dist.std() / np.sqrt(sample_len)\n",
    "\n",
    "x = np.linspace(0, 10, 2000)\n",
    "fig = go.Figure()\n",
    "fig.add_trace(go.Scatter(x=x, y=exact_dist.pdf(x), mode='lines', name='Exact Dist'))\n",
    "fig.add_trace(go.Histogram(x=samp[0], histnorm='probability density', name='Sample', nbinsx=20))\n",
    "fig.update_layout(title=f'Original Distribution and a Sample of Length {sample_len}',\n",
    "                  xaxis_title='x',\n",
    "                  yaxis_title='Prob Density',\n",
    "                  hovermode=\"x\",\n",
    "                  height=550)\n",
    "fig.show()\n",
    "\n",
    "\n",
    "fig = go.Figure()\n",
    "fig.add_trace(go.Scatter(x=x, y=exact_dist.pdf(x), \n",
    "                         mode='lines', line_dash='dash', name='Original Distribution'))\n",
    "fig.add_vline(exact_dist.mean(), name='Original Distribution Mean')\n",
    "fig.add_trace(go.Histogram(x=means, histnorm='probability density', name='Means of Samples', nbinsx=50))\n",
    "fig.add_trace(go.Scatter(x=x, y=stats.norm.pdf(x, loc=clt_mu, scale=clt_stdev), \n",
    "                         mode='lines', name='CLT Means Distrib'))\n",
    "fig.update_layout(title='Sample Means Distribution',\n",
    "                  xaxis_title='x',\n",
    "                  yaxis_title='Prob Density',\n",
    "                  hovermode=\"x\",\n",
    "                  height=550)\n",
    "fig.update_layout(xaxis_range=[0, 5])\n",
    "fig.show()"
   ]
  },
  {
   "cell_type": "markdown",
   "metadata": {},
   "source": [
    "В приведенной формулировке центральная предельная теорема требует существования конечных среднего и дисперсии у исходного распределения. Примерами распределений, для которых эти свойства могут не выполнятся, являются распределение Парето [[ParetoDist](https://en.wikipedia.org/wiki/Pareto_distribution), [SciPyPareto](https://docs.scipy.org/doc/scipy/reference/generated/scipy.stats.pareto.html)] и близкое к нему распределение Ломакса [[LomaxDist](https://en.wikipedia.org/wiki/Lomax_distribution), [SciPyLomax](https://docs.scipy.org/doc/scipy/reference/generated/scipy.stats.lomax.html)]. Плотность вероятности последнего имеет вид\n",
    "\n",
    "$$\n",
    "P(x; c) = \\frac{c}{(1 + x )^{c + 1}}, \\quad x \\ge 0, c > 0.\n",
    "$$\n",
    "\n",
    "При значениях параметра $c$ меньше или равном 2 дисперсия распределения Ломакса не является конечной.  "
   ]
  },
  {
   "cell_type": "markdown",
   "metadata": {},
   "source": [
    "На графиках ниже приведена гистограмма средних в сэмплах и нормальное распределение с параметрами, равными среднему и дисперсии средних сэмплов."
   ]
  },
  {
   "cell_type": "code",
   "execution_count": null,
   "metadata": {},
   "outputs": [],
   "source": [
    "c = 1.7\n",
    "sample_len = 500\n",
    "n_samples = 1000\n",
    "\n",
    "exact_dist = stats.lomax(c=c)\n",
    "samp = exact_dist.rvs(size=(n_samples, sample_len))\n",
    "means = np.array([x.mean() for x in samp])\n",
    "clt_mu = exact_dist.mean()\n",
    "clt_stdev = exact_dist.std() / np.sqrt(sample_len)\n",
    "means_stdev = means.std()\n",
    "\n",
    "x = np.linspace(0, 30, 2000)\n",
    "fig = go.Figure()\n",
    "fig.add_trace(go.Scatter(x=x, y=exact_dist.pdf(x), mode='lines', name='Exact Dist'))\n",
    "fig.add_trace(go.Histogram(x=samp[0], histnorm='probability density', name='Sample'))\n",
    "fig.update_layout(title=f'Original Distribution and a Sample of Length {sample_len}',\n",
    "                  xaxis_title='x',\n",
    "                  yaxis_title='Prob Density',\n",
    "                  hovermode=\"x\",\n",
    "                  height=550)\n",
    "fig.show()\n",
    "\n",
    "\n",
    "fig = go.Figure()\n",
    "fig.add_trace(go.Scatter(x=x, y=exact_dist.pdf(x), \n",
    "                         mode='lines', line_dash='dash', name='Original Distribution'))\n",
    "fig.add_vline(exact_dist.mean(), name='Original Distribution Mean')\n",
    "fig.add_trace(go.Histogram(x=means, histnorm='probability density', name='Means of Samples', nbinsx=120))\n",
    "fig.add_trace(go.Scatter(x=x, y=stats.norm.pdf(x, loc=clt_mu, scale=means_stdev), \n",
    "                         mode='lines', name='CLT-like Normal'))\n",
    "fig.update_layout(title='Sample Means Distribution',\n",
    "                  xaxis_title='x',\n",
    "                  yaxis_title='Prob Density',\n",
    "                  hovermode=\"x\",\n",
    "                  height=550)\n",
    "fig.update_layout(xaxis_range=[0, 5])\n",
    "fig.show()"
   ]
  },
  {
   "cell_type": "markdown",
   "metadata": {},
   "source": [
    "Видно, что распределение средних сильнее отличается от нормального, чем в предыдущем примере - оно скошено в сторону больших значений. Это объясняется тем, что плотность вероятности в распределениях Паретто и Ломакса \"медленно\" убывает с ростом $x$ (\"тяжелый хвост\"). Если в сэмпл попадает значение из хвоста, среднее сэмпла смещается. В итоге распределение средних перестает быть нормальным и становится скошенным в сторону больших значений.  "
   ]
  },
  {
   "cell_type": "markdown",
   "metadata": {},
   "source": [
    "*Есть обобщенная центральная предельная теорема [[GenCLT](https://en.wikipedia.org/wiki/Stable_distribution#A_generalized_central_limit_theorem)], которая говорит \n",
    "про предельное распределение средних в этом случае*.  "
   ]
  },
  {
   "cell_type": "markdown",
   "metadata": {},
   "source": [
    "# Оценка среднего значения распределения"
   ]
  },
  {
   "cell_type": "markdown",
   "metadata": {},
   "source": [
    "Пусть задано распределение и есть сэмпл из него.  \n",
    "Нужно оценить среднее значение распределения.  "
   ]
  },
  {
   "cell_type": "code",
   "execution_count": null,
   "metadata": {},
   "outputs": [],
   "source": [
    "a = 1\n",
    "exact_dist = stats.gamma(a=a)\n",
    "\n",
    "sample_size = 1000\n",
    "samp = exact_dist.rvs(size=sample_size)\n",
    "exact_mean = exact_dist.mean()\n",
    "sample_mean = samp.mean()\n",
    "\n",
    "x = np.linspace(0, 10, 2000)\n",
    "ymax = np.max(exact_dist.pdf(x))\n",
    "fig = go.Figure()\n",
    "fig.add_trace(go.Scatter(x=x, y=exact_dist.pdf(x), mode='lines', name='Exact'))\n",
    "fig.add_trace(go.Histogram(x=samp, histnorm='probability density', name='Sample', nbinsx=50))\n",
    "fig.add_trace(go.Scatter(x=[exact_mean, exact_mean], y=[0, ymax], \n",
    "                         mode='lines', line_color='black', \n",
    "                         name='Exact Mean'))\n",
    "fig.add_trace(go.Scatter(x=[sample_mean, sample_mean], y=[0, ymax], \n",
    "                         mode='lines', line_dash='dash', line_color='black', \n",
    "                         name='Sample Mean'))\n",
    "fig.update_layout(title='Dist',\n",
    "                  xaxis_title='p',\n",
    "                  yaxis_title='Prob Density',\n",
    "                  hovermode=\"x\",\n",
    "                  height=550)\n",
    "fig.show()"
   ]
  },
  {
   "cell_type": "markdown",
   "metadata": {},
   "source": [
    "Точечную оценку среднего распределения дает среднее значение в сэмпле.  \n",
    "Но кроме точечной оценки интересно распределение возможных значений среднего.   \n",
    "Для этого можно использовать центральную предельную теорему."
   ]
  },
  {
   "cell_type": "markdown",
   "metadata": {},
   "source": [
    "По центральной предельной теореме можно ожидать, что средние значения сэмплов будут распределены нормально.  \n",
    "Поэтому можно выбрать нормальное распределение в качестве функции правдоподобия и с помощью соотношения Байеса построить распределение вероятности возможных параметров.  "
   ]
  },
  {
   "cell_type": "markdown",
   "metadata": {},
   "source": [
    "Можно посчитать среднее по всем точкам сэмпла после чего оценивать распределения параметров модели для получения этого значения. Проблема в том, что по одной точке нельзя понять, выполняется ли центральная предельная теорема и можно ли применять нормальную функцию правдоподобия."
   ]
  },
  {
   "cell_type": "markdown",
   "metadata": {},
   "source": [
    "<center>\n",
    "<img src=\"fit_overall_vs_subsample_means.png\" alt=\"fit_overall_vs_subsample_means\" width=550px/>\n",
    "</center>"
   ]
  },
  {
   "cell_type": "markdown",
   "metadata": {},
   "source": [
    "Более устойчивым способом кажется разбить исходные данные на части по несколько точек и в каждой части посчитать среднее. После чего оценить распределение параметров модели при приближении распределения средних нормальным распределением. В таком подходе появляется возможность валидировать модель."
   ]
  },
  {
   "cell_type": "markdown",
   "metadata": {},
   "source": [
    "Полезно построить распределение средних в частях и визуально сравнить его с нормальным. Вид гистограммы средних будет меняться в зависимости от выбранного количества точек $n_{split}$. Ниже выбрано фиксированное значение $n_{split}$ = 25.  \n",
    "\n",
    "*Можно попробовать оценить $n_{split}$ из неравенства Берри-Эссеена [[BerryEsseenTheorem](https://en.wikipedia.org/wiki/Berry%E2%80%93Esseen_theorem)]* .    \n",
    "*Или подбирать $n_{split}$ как гиперпараметр и выбирать значение по итогам кросс-валидации.*  \n",
    "\n",
    "Т.к. исходное распределение неизвестно, для параметров нормального распределения средних можно использовать среднее и дисперсию из выборки. "
   ]
  },
  {
   "cell_type": "code",
   "execution_count": null,
   "metadata": {},
   "outputs": [],
   "source": [
    "def reshape_and_compute_means(sample, n_split):\n",
    "    n_means = len(sample) // n_split\n",
    "    samp_reshaped = np.reshape(sample[0 : n_means * n_split], (n_means, n_split))\n",
    "    means = np.array([x.mean() for x in samp_reshaped])\n",
    "    return means\n",
    "\n",
    "def exact_clt_dist(exact_dist, n_split):\n",
    "    clt_mu = exact_dist.mean()\n",
    "    clt_stdev = exact_dist.std() / np.sqrt(n_split)\n",
    "    return stats.norm(loc=clt_mu, scale=clt_stdev)\n",
    "\n",
    "def sample_clt_dist(means):\n",
    "    clt_mu = means.mean()\n",
    "    clt_std = means.std()\n",
    "    return stats.norm(loc=clt_mu, scale=clt_std)"
   ]
  },
  {
   "cell_type": "code",
   "execution_count": null,
   "metadata": {},
   "outputs": [],
   "source": [
    "n_split = 25\n",
    "means = reshape_and_compute_means(samp, n_split)\n",
    "\n",
    "x = np.linspace(0, 10, 2000)\n",
    "fig = go.Figure()\n",
    "fig.add_trace(go.Scatter(x=x, y=exact_dist.pdf(x), mode='lines', line_dash='dash', name='Original Distribution'))\n",
    "fig.add_trace(go.Histogram(x=means, histnorm='probability density', name='Means of Samples'))\n",
    "fig.add_trace(go.Scatter(x=x, y=sample_clt_dist(means).pdf(x), mode='lines', name='CLT-like Normal'))\n",
    "fig.update_layout(title='Means of Samples and CLT-like Normal',\n",
    "                  xaxis_title='p',\n",
    "                  yaxis_title='Prob Density',\n",
    "                  hovermode=\"x\",\n",
    "                  height=550)\n",
    "fig.update_layout(xaxis_range=[0, 5])\n",
    "fig.show()"
   ]
  },
  {
   "cell_type": "markdown",
   "metadata": {},
   "source": [
    "*Хочется иметь численный критерий, что можно использовать нормальное распределение.*  \n",
    "*По-хорошему, кросс-валидация + нужно решить, что делать с ее результатами.*  \n",
    "*Посмотреть, есть ли что-то в https://en.wikipedia.org/wiki/Normality_test .*     "
   ]
  },
  {
   "cell_type": "markdown",
   "metadata": {},
   "source": [
    "В байесовском подходе для оценки плотности вероятности параметров модели используется соотношение\n",
    "\n",
    "$$\n",
    "P(model | data) = \\frac{ P(data | model) P(model) }{P(data)}.\n",
    "$$"
   ]
  },
  {
   "cell_type": "markdown",
   "metadata": {},
   "source": [
    "Для построения модели распределения средних байесовским методом функцию правдоподобия можно задать в виде нормального распределения:\n",
    "\n",
    "$$\n",
    "P(data | model) = N(x; \\mu, \\frac{\\sigma_{0}^2}{\\lambda} ) ,  \n",
    "\\\\\n",
    "N(x ; \\mu, \\frac{\\sigma_{0}^2}{\\lambda}) = \\frac{\\lambda^{1/2}}{\\sqrt{2 \\pi \\sigma_{0}^2}} e^{- \\frac{\\lambda}{2 \\sigma_{0}^2} (x-\\mu)^2} .\n",
    "$$\n",
    "\n",
    "Можно показать (см. приложение), что для такой функции правдоподобия произведение нормального и гамма-распределений будет сопряженным априорным распределением:\n",
    "$$\n",
    "P(model | data) = N(\\mu; \\mu_i, \\frac{\\sigma_0^2}{k_i \\lambda} ) Gamma(\\lambda; a_i, b_i) ,  \n",
    "\\\\\n",
    "Gamma(\\lambda; a,b) = \\frac{b^a}{\\Gamma(a)} \\lambda^{a-1} e^{-b \\lambda} .\n",
    "$$\n",
    "\n",
    "Параметры интерпретируются следующим образом:   \n",
    "\n",
    "<картинка и описание>  \n",
    "\n",
    "Параметры $\\mu_i \\to \\mu_{CLT}$ и $\\sigma_{0}^2 / \\lambda \\to \\sigma^2_{CLT}$ (?определить $\\sigma_{CLT}$; верно ли $\\sigma_{0}^2 / \\lambda  \\to \\sigma^2 / n$?).  \n",
    "$\\lambda$ - отношение дисперсии модели к дисперсии ЦПТ,\n",
    "$\\sigma_0^2$ задается по историческим данным, $\\lambda$ варьируется.  \n",
    "Параметры $a_i, b_i$ определяют точное распределение этого коэффициента.   \n",
    "\n",
    "\n",
    "Обновление параметров сопряженного распределения с каждой новой точкой $x_i$ выполняется\n",
    "по соотношениям:\n",
    "\n",
    "$$\n",
    "k_{i+1} = k_i + 1 ,  \n",
    "\\\\\n",
    "\\mu_{i+1} = \\frac{x_i + k_i \\mu_i}{k_i + 1} ,  \n",
    "\\\\\n",
    "a_{i+1} = a_i + 1/2 , \n",
    "\\\\\n",
    "b_{i+1} = b_i + \\frac{k_i}{k_i + 1} \\frac{(x_i - \\mu_i)^2}{2 \\sigma_0^2} . \n",
    "$$\n",
    "\n",
    "Исходные значения параметров $\\mu_0$ и $\\sigma_0$ можно задать произвольно. Но если они будут далеки\n",
    "от реальных, то модель может оказаться неточной. Поэтому удобнее задавать их либо\n",
    "по историческим данным, либо на основе части данных из сэмпла. Для $\\mu_0$ можно\n",
    "выбрать среднее $\\bar{x}_1$ в первом наборе из $n$ точек, для $\\sigma_0^2$ - дисперсию в этой\n",
    "части сэмпла $\\sigma_{\\bar{x}_1}^2$, отнесенную к количеству точек $n_{split}$.\n",
    "Для начальных значений $a_0$ и $b_0$ можно выбрать 2 и 1, поскольку при таких значениях\n",
    "параметров мода $p(\\lambda) = Gamma(\\lambda, a=2, b=1)$ будет равна 1. Значение\n",
    "$k_0$ можно выбрать $1/25$, чтобы вначале обеспечить широкую область для $P(\\mu) = N(\\mu_0, (5 \\sigma_0)^2)$.\n",
    "\n",
    "$$\n",
    "\\mu_0 = \\bar{x}_1, \\sigma_0 = \\sigma_{\\bar{x}_1} / \\sqrt{n_{split}} ,\n",
    "\\\\ \n",
    "k_0 = 1/25 ,\n",
    "\\\\\n",
    "a_0 = 2, b_0 = 1 .\n",
    "$$"
   ]
  },
  {
   "cell_type": "code",
   "execution_count": null,
   "metadata": {},
   "outputs": [],
   "source": [
    "ConjugateNormalParams = namedtuple('ConjugateNormalParams', 'mu sigma k a b')\n",
    "\n",
    "def initial_parameters(mu, sigma, k=1/25, a=2, b=1):\n",
    "    return ConjugateNormalParams(mu=mu, sigma=sigma, k=k, a=a, b=b)\n",
    "\n",
    "def update_conj_parameters(x, conj_norm_pars):\n",
    "    mu_p = (x + conj_norm_pars.k * conj_norm_pars.mu) / (conj_norm_pars.k + 1)\n",
    "    sigma_p = conj_norm_pars.sigma\n",
    "    k_p = conj_norm_pars.k + 1\n",
    "    a_p = conj_norm_pars.a + 1/2\n",
    "    b_p = conj_norm_pars.b + conj_norm_pars.k / (conj_norm_pars.k + 1) * (x - conj_norm_pars.mu)**2 / (2 * conj_norm_pars.sigma**2)\n",
    "    return ConjugateNormalParams(mu=mu_p, sigma=sigma_p, k=k_p, a=a_p, b=b_p)\n",
    "\n",
    "def compute_posterior_parameters(sample, n_split):\n",
    "    means = reshape_and_compute_means(sample, n_split)\n",
    "    mean_1 = means[0]\n",
    "    sigma_1 = sample[0:n_split].std() / np.sqrt(n_split)\n",
    "    pars = []\n",
    "    pars.append(initial_parameters(mu=mean_1, sigma=sigma_1)) \n",
    "    for x in means[1:]:\n",
    "        new_pars = update_conj_parameters(x, pars[-1])\n",
    "        pars.append(new_pars)\n",
    "    return pars\n",
    "\n",
    "#pars_initial = initial_parameters(mu=1, sigma=2)\n",
    "#print(pars_initial)\n",
    "#print(update_conj_parameters(1.3, pars_initial))\n",
    "#pars = compute_posterior_parameters(samp, n_splilt)\n",
    "#print(pars[-1])"
   ]
  },
  {
   "cell_type": "markdown",
   "metadata": {},
   "source": [
    "Для анализа параметров и сравнения групп вместо двумерного распределения параметров $P(\\mu, \\lambda | data)$ удобнее сравнивать одномерные маржинальные распределения по соответствующим параметрам $P(\\lambda | data), P(\\mu | data)$.\n",
    "\n",
    "Маржинальное апостериорное распределение $P(\\lambda | data)$ по конструкции задается гамма-распределением:\n",
    "\n",
    "$$\n",
    "P(\\lambda | data) = Gamma(\\lambda; a_i, b_i).\n",
    "$$\n",
    "\n",
    "Для интерпретации удобнее величина $\\sigma = \\sigma_0 / \\lambda^{1/2}$, распределение которой можно получить с помощью [замены переменных](https://en.wikipedia.org/wiki/Probability_density_function#Function_of_random_variables_and_change_of_variables_in_the_probability_density_function) :\n",
    "\n",
    "$$\n",
    "P(\\sigma | data) = Gamma\\left( \\frac{\\sigma_0^2}{\\sigma^2 }; a_i, b_i \\right) \\frac{2 \\sigma_0^2}{\\sigma^3}, \n",
    "\\quad \\sigma > 0 .\n",
    "$$\n",
    "\n",
    "Можно показать (см. приложение), что маржинальное апостериорное распределение $P(\\mu | data)$ задается $t$-распределением:\n",
    "\n",
    "$$\n",
    "P(\\mu | data) = t(\\mu | \\nu = 2a_i, \\mu_t = \\mu_i, \\sigma_t^2 = \\frac{\\sigma_0^2}{k_i} \\frac{b_i}{a_i} ).\n",
    "$$\n",
    "\n",
    "Для апостериорного распределения нужно вначале сгенерировать параметры модели, потом подставить их в функцию правдоподобия. Т.е. нужно произведение соответствующих распределений:\n",
    "\n",
    "$$\n",
    "P(x) = N(x; \\mu, \\frac{\\sigma_0^2}{\\lambda} ) N(\\mu; \\mu_i, \\frac{\\sigma_0^2}{k_i \\lambda} ) Gamma(\\lambda; a_i, b_i) .\n",
    "$$"
   ]
  },
  {
   "cell_type": "code",
   "execution_count": null,
   "metadata": {},
   "outputs": [],
   "source": [
    "def mu_marginal_distrib(conj_norm_pars):\n",
    "    df = 2 * conj_norm_pars.a\n",
    "    loc = conj_norm_pars.mu\n",
    "    scale = np.sqrt(conj_norm_pars.sigma**2 / conj_norm_pars.k * conj_norm_pars.b / conj_norm_pars.a)\n",
    "    return stats.t(df=df, loc=loc, scale=scale)\n",
    "\n",
    "def lambda_marginal_distrib(conj_norm_pars):\n",
    "    return stats.gamma(a=conj_norm_pars.a, scale=1/conj_norm_pars.b)\n",
    "\n",
    "def sigma_marginal_distrib_pdf(x, conj_norm_pars):\n",
    "    dl_ds = 2 * conj_norm_pars.sigma**2 / np.abs(x**3)\n",
    "    return lambda_marginal_distrib(conj_norm_pars).pdf(conj_norm_pars.sigma**2 / x**2) * dl_ds\n",
    "    \n",
    "def post_means_rvs(conj_norm_pars, size):\n",
    "    lmd = lambda_marginal_distrib(conj_norm_pars).rvs(size=size)\n",
    "    post_mu = stats.norm.rvs(loc=conj_norm_pars.mu, scale=conj_norm_pars.sigma / np.sqrt(lmd * conj_norm_pars.k))\n",
    "    post_means = stats.norm.rvs(loc=post_mu, scale=conj_norm_pars.sigma / np.sqrt(lmd))\n",
    "    return post_means"
   ]
  },
  {
   "cell_type": "markdown",
   "metadata": {},
   "source": [
    "Расчет оценок параметров с учетом экспериментальных данных:"
   ]
  },
  {
   "cell_type": "code",
   "execution_count": null,
   "metadata": {},
   "outputs": [],
   "source": [
    "pars = compute_posterior_parameters(samp, n_split)\n",
    "print(pars[-1])"
   ]
  },
  {
   "cell_type": "markdown",
   "metadata": {},
   "source": [
    "Распределения параметров $\\mu$ и $\\sigma$ приведены ниже:"
   ]
  },
  {
   "cell_type": "code",
   "execution_count": null,
   "metadata": {},
   "outputs": [],
   "source": [
    "#mu\n",
    "mu_dist = mu_marginal_distrib(pars[-1])\n",
    "x = np.linspace(0, 10, 2000)\n",
    "yplot = mu_dist.pdf(x)\n",
    "ymax = max(yplot)\n",
    "fig = go.Figure()\n",
    "fig.add_trace(go.Scatter(x=x, y=mu_dist.pdf(x), mode='lines', name=f'Mu Estimate Distrib'))\n",
    "fig.add_trace(go.Scatter(x=[means.mean(), means.mean()], y=[0, ymax],\n",
    "                         mode='lines', line_color='black', line_dash='dash', \n",
    "                         name='Sample Mean'))\n",
    "fig.add_trace(go.Scatter(x=[exact_dist.mean(), exact_dist.mean()], y=[0, ymax], \n",
    "                         mode='lines', line_color='black',\n",
    "                         name='Exact Mean'))\n",
    "fig.update_layout(title='Dist',\n",
    "                  xaxis_title='mu',\n",
    "                  yaxis_title='Prob Density',\n",
    "                  hovermode=\"x\",\n",
    "                  height=550)\n",
    "fig.update_layout(xaxis_range=[0, 5])\n",
    "fig.show()\n",
    "\n",
    "# sigma\n",
    "fig = go.Figure()\n",
    "x = np.linspace(0.001, 10, 2000)\n",
    "x_plot = x\n",
    "y_plot = sigma_marginal_distrib_pdf(x, pars[-1])\n",
    "y_max = max(y_plot)\n",
    "fig.add_trace(go.Scatter(x=x, \n",
    "                         y=y_plot, \n",
    "                         mode='lines', line_dash='dash', name=f'Sigma Estimate Distrib'))\n",
    "# lambdas = lambda_marginal_distrib(pars[-1]).rvs(size=50000)\n",
    "# sigmas = pars[-1].sigma / np.sqrt(lambdas)\n",
    "# fig.add_trace(go.Histogram(x=sigmas, histnorm='probability density', name='Sigma Hist',\n",
    "#                            opacity=0.7))\n",
    "fig.add_trace(go.Scatter(x=[means.std(), means.std()], \n",
    "                         y=[0, y_max],\n",
    "                         mode='lines', line_color='black', line_dash='dash', \n",
    "                         name='Sample Stdev'))\n",
    "fig.add_trace(go.Scatter(x=[exact_clt_dist(exact_dist, n_split).std(), exact_clt_dist(exact_dist, n_split).std()], \n",
    "                         y=[0, y_max], \n",
    "                         mode='lines', line_color='black',\n",
    "                         name='Exact Stdev'))\n",
    "fig.update_layout(title='Dist',\n",
    "                  xaxis_title='p',\n",
    "                  yaxis_title='Prob Density',\n",
    "                  hovermode=\"x\",\n",
    "                  barmode=\"overlay\",\n",
    "                  height=550)\n",
    "fig.update_layout(xaxis_range=[0, 1])\n",
    "fig.show()"
   ]
  },
  {
   "cell_type": "markdown",
   "metadata": {},
   "source": [
    "Видно, что моды распределений близки к значениям среднего и дисперсии в сэмпле. Также точные значения имеют \"большое\" значение плотности вероятности."
   ]
  },
  {
   "cell_type": "markdown",
   "metadata": {},
   "source": [
    "Распределение сгенерированных апостериорных средних:"
   ]
  },
  {
   "cell_type": "code",
   "execution_count": null,
   "metadata": {},
   "outputs": [],
   "source": [
    "#post means\n",
    "post_means = post_means_rvs(pars[-1], size=50000)\n",
    "x = np.linspace(0, 10, 2000)\n",
    "\n",
    "fig = go.Figure()\n",
    "fig.add_trace(go.Scatter(x=x, y=exact_dist.pdf(x), mode='lines', line_dash='dash', name='Original Distribution'))\n",
    "fig.add_vline(exact_dist.mean(), name='Original Distribution Mean')\n",
    "fig.add_vline(means.mean(), line_dash='dash', name='Sample Mean')\n",
    "fig.add_trace(go.Histogram(x=means, histnorm='probability density', name='Means of Samples',\n",
    "                           opacity=0.7, marker_color='green'))\n",
    "#fig.add_trace(go.Scatter(x=x, y=exact_clt_dist(exact_dist, n_split).pdf(x), mode='lines', name='CLT Distribution'))\n",
    "fig.add_trace(go.Scatter(x=x, y=sample_clt_dist(means).pdf(x), mode='lines', name='CLT-like Distribution'))\n",
    "fig.add_trace(go.Scatter(x=x, y=mu_dist.pdf(x), mode='lines', name=f'Mu Estimate Distrib'))    \n",
    "   \n",
    "fig.add_trace(go.Histogram(x=post_means, histnorm='probability density', name='Posterior Means', \n",
    "                           opacity=0.7, nbinsx=100))\n",
    "fig.update_layout(title='Dist',\n",
    "                  xaxis_title='p',\n",
    "                  yaxis_title='Prob Density',\n",
    "                  hovermode=\"x\",\n",
    "                  height=550,\n",
    "                  barmode=\"overlay\")\n",
    "fig.update_layout(xaxis_range=[0, 5])\n",
    "fig.show()"
   ]
  },
  {
   "cell_type": "markdown",
   "metadata": {},
   "source": [
    "Распределение сгенерированных апостериорных средних обычно несколько шире, чем распределение центральной предельной теоремы. Это объясняется дисперсией в параметрах $\\mu$ и $\\lambda$ (в ЦПТ $\\mu$ и $\\sigma$ фиксированные числа). \n",
    "\n",
    "Для наглядности удобно нарисовать распределение параметра $\\mu_i$ и распределение апостериорных средних на одном графике. Распределение средних шире, чем распределение параметра $\\mu$. Это связано с учетом дисперсии $\\sigma_0/\\lambda^{1/2}$. "
   ]
  },
  {
   "cell_type": "markdown",
   "metadata": {},
   "source": [
    "# Сравнение средних двух распределений"
   ]
  },
  {
   "cell_type": "markdown",
   "metadata": {},
   "source": [
    "Пусть есть два распределения одинаковой формы, но с разными средними значениями.\n",
    "Для примера\n",
    "\n",
    "$$\n",
    "x \\sim Gamma(a, b),\n",
    "\\quad\n",
    "\\bar{x} = \\frac{a}{b},\n",
    "\\quad\n",
    "\\sigma^2 = \\frac{a}{b^2}\n",
    ".\n",
    "$$\n",
    "\n",
    "В одном случае параметры $a_A = 1, b_A = 1$ и среднее $\\bar{x}_A = 1$, в другом параметры $a_B = 1, b_B = 1.25$ и среднее $\\bar{x}_B = 0.8$. При выбранных значениях параметров среднее в группе $B$ отличается на $20\\%$ от группы $A$ (относительно $A$)."
   ]
  },
  {
   "cell_type": "code",
   "execution_count": null,
   "metadata": {},
   "outputs": [],
   "source": [
    "exp_info = pd.DataFrame([\n",
    "    {'group':'A', 'a':1, 'b':1, 'sample_size':10000},\n",
    "    {'group':'B', 'a':1, 'b':1.25, 'sample_size':10000}])\n",
    "exp_info.set_index('group', inplace=True)\n",
    "\n",
    "exact_dist_a = stats.gamma(a=exp_info['a']['A'], scale=1/exp_info['b']['A'])\n",
    "exact_dist_b = stats.gamma(a=exp_info['a']['B'], scale=1/exp_info['b']['B'])\n",
    "exp_info['exact_mean'] = pd.Series({'A': exact_dist_a.mean(), 'B':exact_dist_b.mean()})\n",
    "display(exp_info)\n",
    "\n",
    "samp_a = exact_dist_a.rvs(size=exp_info['sample_size']['A'])\n",
    "samp_b = exact_dist_b.rvs(size=exp_info['sample_size']['B'])\n",
    "\n",
    "x = np.linspace(0, 10, 2000)\n",
    "ymax = np.max([exact_dist_a.pdf(x), exact_dist_b.pdf(x)])\n",
    "\n",
    "fig = go.Figure()\n",
    "col = 'red'\n",
    "fig.add_trace(go.Scatter(x=x, y=exact_dist_a.pdf(x), \n",
    "                         mode='lines', line_color=col,\n",
    "                         name=f\"Exact A: a={exp_info['a']['A']}, b={exp_info['b']['A']}\"))\n",
    "fig.add_trace(go.Histogram(x=samp_a, histnorm='probability density',\n",
    "                           name='Sample A',\n",
    "                           opacity=0.3, marker_color=col))\n",
    "fig.add_trace(go.Scatter(x=[exact_dist_a.mean(), exact_dist_a.mean()], y=[0, ymax], \n",
    "                         mode='lines', line_color=col, line_dash='dash',\n",
    "                         name='Exact Mean A'))\n",
    "col = 'blue'\n",
    "fig.add_trace(go.Scatter(x=x, y=exact_dist_b.pdf(x), \n",
    "                         mode='lines', line_color=col,\n",
    "                         name=f\"Exact B: a={exp_info['a']['B']}, b={exp_info['b']['B']}\"))\n",
    "fig.add_trace(go.Histogram(x=samp_b, histnorm='probability density',\n",
    "                           name='Sample B',\n",
    "                           opacity=0.3, marker_color=col))\n",
    "fig.add_trace(go.Scatter(x=[exact_dist_b.mean(), exact_dist_b.mean()], y=[0, ymax], \n",
    "                         mode='lines', line_color=col, line_dash='dash',\n",
    "                         name='Exact Mean B'))\n",
    "fig.update_layout(title='Exact Distributions and Samples',\n",
    "                  xaxis_title='x',\n",
    "                  yaxis_title='Prob Density',\n",
    "                  hovermode=\"x\",\n",
    "                  height=550,\n",
    "                  barmode='overlay')\n",
    "fig.show()"
   ]
  },
  {
   "cell_type": "markdown",
   "metadata": {},
   "source": [
    "Распределение средних на основе точек из сэмплов:"
   ]
  },
  {
   "cell_type": "code",
   "execution_count": null,
   "metadata": {},
   "outputs": [],
   "source": [
    "n_split = 25\n",
    "\n",
    "means_a = reshape_and_compute_means(samp_a, n_split)\n",
    "means_b = reshape_and_compute_means(samp_b, n_split)\n",
    "\n",
    "x = np.linspace(0, 10, 2000)\n",
    "ymax = np.max([exact_dist_a.pdf(x), exact_dist_b.pdf(x), \n",
    "               sample_clt_dist(means_a).pdf(x), sample_clt_dist(means_b).pdf(x)])\n",
    "\n",
    "\n",
    "fig = go.Figure()\n",
    "col = 'red'\n",
    "fig.add_trace(go.Histogram(x=means_a, histnorm='probability density',\n",
    "                           name='A Sample Means',\n",
    "                           opacity=0.3, marker_color=col))\n",
    "fig.add_trace(go.Scatter(x=x, y=sample_clt_dist(means_a).pdf(x), \n",
    "                         mode='lines', line_color=col, opacity=0.5,\n",
    "                         name=f\"A Sample CLT\"))\n",
    "fig.add_trace(go.Scatter(x=x, y=exact_dist_a.pdf(x), \n",
    "                         mode='lines', line_color=col, line_dash='dash', opacity=0.3,\n",
    "                         name=f\"A Exact: a={exp_info['a']['A']}, b={exp_info['b']['A']}\"))\n",
    "col = 'blue'\n",
    "fig.add_trace(go.Histogram(x=means_b, histnorm='probability density',\n",
    "                           name='B Sample Means',\n",
    "                           opacity=0.3, marker_color=col))\n",
    "fig.add_trace(go.Scatter(x=x, y=sample_clt_dist(means_b).pdf(x), \n",
    "                         mode='lines', line_color=col, opacity=0.5,\n",
    "                         name=f\"B Sample CLT\"))\n",
    "fig.add_trace(go.Scatter(x=x, y=exact_dist_b.pdf(x), \n",
    "                         mode='lines', line_color=col, line_dash='dash', opacity=0.3,\n",
    "                         name=f\"B Exact: a={exp_info['a']['B']}, b={exp_info['b']['B']}\"))\n",
    "fig.update_layout(title='Sample Means',\n",
    "                  xaxis_title='x',\n",
    "                  yaxis_title='Prob Density',\n",
    "                  hovermode=\"x\",\n",
    "                  barmode='overlay',\n",
    "                  height=550)\n",
    "fig.update_layout(xaxis_range=[0, 5])\n",
    "fig.show()\n",
    "#\n",
    "exp_info['exact_mean'] = pd.Series({'A': exact_dist_a.mean(), 'B': exact_dist_b.mean()})\n",
    "exp_info['sample_mean'] = pd.Series({'A': samp_a.mean(), 'B': samp_b.mean()})\n",
    "exp_info"
   ]
  },
  {
   "cell_type": "markdown",
   "metadata": {},
   "source": [
    "Расчет параметров с учетом данных:"
   ]
  },
  {
   "cell_type": "code",
   "execution_count": null,
   "metadata": {},
   "outputs": [],
   "source": [
    "pars_a = compute_posterior_parameters(samp_a, n_split)\n",
    "pars_b = compute_posterior_parameters(samp_b, n_split)\n",
    "\n",
    "print(pars_a[-1])\n",
    "print(pars_b[-1])"
   ]
  },
  {
   "cell_type": "markdown",
   "metadata": {},
   "source": [
    "Распределения параметров $\\mu$, $\\sigma$ и апостериорных средних:"
   ]
  },
  {
   "cell_type": "code",
   "execution_count": null,
   "metadata": {},
   "outputs": [],
   "source": [
    "#mu\n",
    "mu_dist_a = mu_marginal_distrib(pars_a[-1])\n",
    "mu_dist_b = mu_marginal_distrib(pars_b[-1])\n",
    "x_mu = np.linspace(0, 10, 2000)\n",
    "ymax_mu = np.max([mu_dist_a.pdf(x_mu), mu_dist_b.pdf(x_mu)]) #todo: optimize\n",
    "\n",
    "#sigma\n",
    "x_sg = np.linspace(0.01, 10, 2000)\n",
    "sigma_dist_a = sigma_marginal_distrib_pdf(x_sg, pars_a[-1])\n",
    "sigma_dist_b = sigma_marginal_distrib_pdf(x_sg, pars_b[-1])\n",
    "ymax_sg = np.max([sigma_dist_a, sigma_dist_b]) #todo: optimize\n",
    "\n",
    "#posterior\n",
    "post_means_a = post_means_rvs(pars_a[-1], size=30000)\n",
    "post_means_b = post_means_rvs(pars_b[-1], size=30000)\n",
    "x_post = np.linspace(0, 10, 2000)\n",
    "\n",
    "\n",
    "#mu\n",
    "fig = go.Figure()\n",
    "col = 'red'\n",
    "fig.add_trace(go.Scatter(x=x_mu, y=mu_dist_a.pdf(x), \n",
    "                         mode='lines', line_color=col, \n",
    "                         name=f'A Mu Dist'))\n",
    "fig.add_trace(go.Scatter(x=[means_a.mean(), means_a.mean()], y=[0, ymax_mu],\n",
    "                         mode='lines', line_color=col, line_dash='dash', \n",
    "                         name='A Sample Mean'))\n",
    "col = 'blue'\n",
    "fig.add_trace(go.Scatter(x=x_mu, y=mu_dist_b.pdf(x), \n",
    "                         mode='lines', line_color=col, \n",
    "                         name=f'B Mu Dist'))\n",
    "fig.add_trace(go.Scatter(x=[means_b.mean(), means_b.mean()], y=[0, ymax_mu],\n",
    "                         mode='lines', line_color=col, line_dash='dash', \n",
    "                         name='B Sample Mean'))\n",
    "fig.update_layout(title='Mu Estimates',\n",
    "                  xaxis_title='mu',\n",
    "                  yaxis_title='Prob Density',\n",
    "                  hovermode=\"x\",\n",
    "                  height=550)\n",
    "fig.update_layout(xaxis_range=[0, 2])\n",
    "fig.show()\n",
    "\n",
    "\n",
    "#sigma\n",
    "fig = go.Figure()\n",
    "col = 'red'\n",
    "fig.add_trace(go.Scatter(x=x_sg, y=sigma_dist_a, \n",
    "                         mode='lines', line_color=col, \n",
    "                         name=f'A Sigma Dist'))\n",
    "fig.add_trace(go.Scatter(x=[means_a.std(), means_a.std()], y=[0, ymax_sg],\n",
    "                         mode='lines', line_color=col, line_dash='dash', \n",
    "                         name='A Sample Std'))\n",
    "col = 'blue'\n",
    "fig.add_trace(go.Scatter(x=x_sg, y=sigma_dist_b,\n",
    "                         mode='lines', line_color=col, \n",
    "                         name=f'B Sigma Dist'))\n",
    "fig.add_trace(go.Scatter(x=[means_b.std(), means_b.std()], y=[0, ymax_sg],\n",
    "                         mode='lines', line_color=col, line_dash='dash', \n",
    "                         name='B Sample Std'))\n",
    "fig.update_layout(title='Sigma Estimates',\n",
    "                  xaxis_title='Sigma',\n",
    "                  yaxis_title='Prob Density',\n",
    "                  hovermode=\"x\",\n",
    "                  height=550)\n",
    "fig.update_layout(xaxis_range=[0, 2])\n",
    "fig.show()\n",
    "\n",
    "\n",
    "#posterior\n",
    "fig = go.Figure()\n",
    "col = 'red'\n",
    "fig.add_trace(go.Scatter(x=x_post, y=exact_dist_a.pdf(x_post), \n",
    "                         mode='lines', line_dash='dash', line_color=col, opacity=0.3,\n",
    "                         name='A Exact'))\n",
    "fig.add_trace(go.Scatter(x=x_post, y=sample_clt_dist(means_a).pdf(x_post), \n",
    "                         mode='lines', line_color=col, opacity=0.5,\n",
    "                         name=f\"A Sample CLT\"))\n",
    "fig.add_trace(go.Histogram(x=post_means_a, histnorm='probability density',\n",
    "                           opacity=0.3, marker_color=col,\n",
    "                           name='A Posterior Means'))\n",
    "col = 'blue'\n",
    "fig.add_trace(go.Scatter(x=x_post, y=exact_dist_b.pdf(x_post), \n",
    "                         mode='lines', line_dash='dash', line_color=col, opacity=0.3,\n",
    "                         name='B Exact'))\n",
    "fig.add_trace(go.Scatter(x=x_post, y=sample_clt_dist(means_b).pdf(x_post), \n",
    "                         mode='lines', line_color=col, opacity=0.5,\n",
    "                         name=f\"B Sample CLT\"))\n",
    "fig.add_trace(go.Histogram(x=post_means_b, histnorm='probability density', \n",
    "                           opacity=0.3, marker_color=col,\n",
    "                           name='B Posterior Means'))\n",
    "fig.update_layout(title='Posterior Sample Means',\n",
    "                  xaxis_title='x',\n",
    "                  yaxis_title='Prob Density',\n",
    "                  hovermode=\"x\",\n",
    "                  height=550,\n",
    "                  barmode=\"overlay\")\n",
    "fig.update_layout(xaxis_range=[0, 5])\n",
    "fig.show()"
   ]
  },
  {
   "cell_type": "markdown",
   "metadata": {},
   "source": [
    "Распределения апостериорных средних существенно пересекаются, чего не происходит с распределениями $\\mu$ и $\\sigma$. "
   ]
  },
  {
   "cell_type": "markdown",
   "metadata": {},
   "source": [
    "Для выбора одной из групп нужно сравнить распределения. Для этого посмотреть отношение и также оценить вероятности того, что значение параметров в одной из групп больше другой."
   ]
  },
  {
   "cell_type": "markdown",
   "metadata": {},
   "source": [
    "При этом возникает вопрос, на какие распределения ориентироваться при выборе варианта - распределения $\\mu$ или апостериорных средних? Что делать с $\\sigma$? Можно ожидать, что по мере набора данных распределение $\\mu_i$ будет сужаться с центром на реальном среднем. Распределение апострериорных средних характеризует средние значения в сэмпле из $n_{split}$ точек. Это не то же самое, что истинное среднее - у этой величины больше дисперсия (поэтому распределения апостериорных средних на графиках выше перекрываются). При сравнении групп нужно выбрать группу именно с большим средним, поэтому нужно ориентироваться на распределение $\\mu$. Т.к. распределение $\\mu$ проинтегрировано по $\\sigma$, то оно не зависит от $\\sigma$. В распределении $\\sigma$ полезно проверить, что дисперсия сэмпла лежит вблизи моды этого распределения - если это не так, то модель, возможно, некорректна. В-остальном, $\\sigma$ не используется для выбора групп. \n",
    "\n",
    "*Еще возникает вопрос с зависимостью оценки от $n_{split}$*.  "
   ]
  },
  {
   "cell_type": "markdown",
   "metadata": {},
   "source": [
    "Для оценки вероятностей того, что значения в одной группе больше другой можно сгенерировать и сравнить сэмплы соответствующих распределений."
   ]
  },
  {
   "cell_type": "code",
   "execution_count": null,
   "metadata": {},
   "outputs": [],
   "source": [
    "def p_mu_b_ge_mu_a(pars_a, pars_b, mu_size=30000):\n",
    "    mu_dist_a = mu_marginal_distrib(pars_a)\n",
    "    mu_dist_b = mu_marginal_distrib(pars_b)\n",
    "    return np.sum(mu_dist_b.rvs(size=mu_size) >= mu_dist_a.rvs(size=mu_size)) / mu_size\n",
    "\n",
    "def p_sigma_b_ge_sigma_a(pars_a, pars_b, sg_size=30000):\n",
    "    lambdas_a = lambda_marginal_distrib(pars_a).rvs(size=sg_size)\n",
    "    lambdas_b = lambda_marginal_distrib(pars_b).rvs(size=sg_size)\n",
    "    sigmas_a = pars_a.sigma / np.sqrt(lambdas_a)\n",
    "    sigmas_b = pars_b.sigma / np.sqrt(lambdas_b)\n",
    "    return np.sum(sigmas_b >= sigmas_a) / sg_size\n",
    "\n",
    "def p_expected_b_ge_expected_a(pars_a, pars_b, post_size=30000):\n",
    "    post_means_a = post_means_rvs(pars_a, size=post_size)\n",
    "    post_means_b = post_means_rvs(pars_b, size=post_size)\n",
    "    return np.sum(post_means_b >= post_means_a) / post_size"
   ]
  },
  {
   "cell_type": "code",
   "execution_count": null,
   "metadata": {},
   "outputs": [],
   "source": [
    "print(f'P(mu_B > mu_A): {p_mu_b_ge_mu_a(pars_a[-1], pars_b[-1])}')\n",
    "print(f'P(sigma_B > sigma_A): {p_sigma_b_ge_sigma_a(pars_a[-1], pars_b[-1])}')\n",
    "print(f'P(E[B] > E[A]): {p_expected_b_ge_expected_a(pars_a[-1], pars_b[-1])}')"
   ]
  },
  {
   "cell_type": "markdown",
   "metadata": {},
   "source": [
    "Также для сравнения может быть удобно построить отношение распределений."
   ]
  },
  {
   "cell_type": "code",
   "execution_count": null,
   "metadata": {},
   "outputs": [],
   "source": [
    "#mu rel\n",
    "mu_dist_a = mu_marginal_distrib(pars_a[-1]).rvs(size=10000)\n",
    "mu_dist_b = mu_marginal_distrib(pars_b[-1]).rvs(size=10000)\n",
    "mu_rel = mu_dist_b / mu_dist_a\n",
    "\n",
    "fig = go.Figure()\n",
    "fig.add_trace(go.Histogram(x=mu_rel, histnorm='probability density',\n",
    "                           name='Mu Relation'))\n",
    "fig.add_vline(x=1, line_dash='dash')\n",
    "fig.update_layout(title='Dist',\n",
    "                  xaxis_title='mu_B / mu_A',\n",
    "                  yaxis_title='Prob Density',\n",
    "                  hovermode=\"x\",\n",
    "                  height=550,\n",
    "                  barmode=\"overlay\")\n",
    "fig.update_layout(xaxis_range=[0, 2])\n",
    "fig.show()\n",
    "\n",
    "#post means rel\n",
    "post_means_a = post_means_rvs(pars_a[-1], size=30000)\n",
    "post_means_b = post_means_rvs(pars_b[-1], size=30000)\n",
    "post_means_rel = post_means_b / post_means_a\n",
    "\n",
    "fig = go.Figure()\n",
    "fig.add_trace(go.Histogram(x=post_means_rel, histnorm='probability density',\n",
    "                           name='Posterior Means Relation', nbinsx=100))\n",
    "fig.add_vline(x=1, line_dash='dash')\n",
    "fig.update_layout(title='Dist',\n",
    "                  xaxis_title='Posterior B/Posterior A',\n",
    "                  yaxis_title='Prob Density',\n",
    "                  hovermode=\"x\",\n",
    "                  height=550,\n",
    "                  barmode=\"overlay\")\n",
    "fig.update_layout(xaxis_range=[0, 5])\n",
    "fig.show()\n",
    "\n",
    "\n",
    "print(f\"E[mu_B/mu_A] = {mu_rel.mean()}\")\n",
    "print(f\"Posterior E[E[B]/E[A]] = {post_means_rel.mean()}\")\n",
    "\n",
    "print(f\"Exact E[B]/E[A] = {exp_info['exact_mean']['B'] / exp_info['exact_mean']['A']}\")\n",
    "print(f\"Sample E[B]/E[A] = {exp_info['sample_mean']['B'] / exp_info['sample_mean']['A']}\")"
   ]
  },
  {
   "cell_type": "code",
   "execution_count": null,
   "metadata": {},
   "outputs": [],
   "source": [
    "exp_formatted = pd.DataFrame(index=exp_info.index)\n",
    "exp_formatted['Sample Size'] = exp_info['sample_size'].apply(lambda x: f'{x}')\n",
    "exp_formatted['E[mu]'] = pd.Series({'A': mu_dist_a.mean(), 'B': mu_dist_b.mean()}).apply(lambda x: f'{x:.2f}')\n",
    "exp_formatted['E[mu] Relative to A'] = pd.Series({'A': 1, 'B': (mu_dist_b/mu_dist_a).mean()}).apply(lambda x: f'{x:.2f}')\n",
    "tmp = p_mu_b_ge_mu_a(pars_a[-1], pars_b[-1])\n",
    "exp_formatted['Prob(Highest E[mu]), %'] = pd.Series({'A': 1 - tmp, 'B': tmp}).apply(lambda x: f'{x*100:.1f}')\n",
    "exp_formatted.T"
   ]
  },
  {
   "cell_type": "markdown",
   "metadata": {},
   "source": [
    "# Оценка длительности эксперимента"
   ]
  },
  {
   "cell_type": "markdown",
   "metadata": {},
   "source": [
    "## Зависимость дисперсии $P(\\mu | data)$ от количества точек"
   ]
  },
  {
   "cell_type": "markdown",
   "metadata": {},
   "source": [
    "Маржинальное распределение $\\mu_i$ задается обобщенным t-распределением"
   ]
  },
  {
   "cell_type": "markdown",
   "metadata": {},
   "source": [
    "$$\n",
    "P(\\mu | data) = t(\\mu | \\nu = 2a_i, \\mu_t = \\mu_i, \\sigma_t^2 = \\frac{\\sigma_0^2}{k_i} \\frac{b_i}{a_i} ).\n",
    "$$\n",
    "\n",
    "Дисперсия имеет вид  \n",
    "https://en.wikipedia.org/wiki/Student's_t-distribution#Generalized_Student's_t-distribution \n",
    "\n",
    "\n",
    "$$\n",
    "Var(\\mu) = \\sigma_t^2 \\frac{\\nu}{\\nu - 2} \n",
    "= \\frac{\\sigma_0^2}{k_i} \\frac{b_i}{a_i} \\frac{2 a_i}{2 a_i - 2}\n",
    "= \\frac{\\sigma_0^2}{k_i} \\frac{b_i}{a_i - 1}\n",
    "$$\n",
    "\n",
    "$$\n",
    "k_{i+1} = k_i + 1 ,  \n",
    "\\\\\n",
    "\\mu_{i+1} = \\frac{x_i + k_i \\mu_i}{k_i + 1} ,  \n",
    "\\\\\n",
    "a_{i+1} = a_i + 1/2 , \n",
    "\\\\\n",
    "b_{i+1} = b_i + \\frac{k_i}{k_i + 1} \\frac{(x_i - \\mu_i)^2}{2 \\sigma_0^2} . \n",
    "$$\n",
    "\n",
    "Для $Gamma(x; a, b)$ https://en.wikipedia.org/wiki/Gamma_distribution:  \n",
    "мода $\\frac{a - 1}{b}$ (как раз в дисперсии t-распределения).  \n",
    "Вроде как мода должна быть постоянна. Поэтому зависимость дисперсии $\\mu$ от $n$ только в $k_i$.   \n",
    "$k_i$ зависит от $i$ линейно. В итоге стандартное отклонение $\\mu$ убывает пропорционально $1/\\sqrt{i}$ по мере набора данных.   "
   ]
  },
  {
   "cell_type": "markdown",
   "metadata": {},
   "source": [
    "<картинка, чтобы проверить>"
   ]
  },
  {
   "cell_type": "markdown",
   "metadata": {},
   "source": [
    "## Продолжение эксперимента до достижения заданного уровня уверенности"
   ]
  },
  {
   "cell_type": "markdown",
   "metadata": {},
   "source": [
    "Предположим, что по имеющимся данным оценки средних в группах близки.  \n",
    "Сколько еще нужно продолжать эксперимент, пока уверенность в различии групп не достигнет заданного уровня?"
   ]
  },
  {
   "cell_type": "code",
   "execution_count": null,
   "metadata": {},
   "outputs": [],
   "source": [
    "exp_info = pd.DataFrame([\n",
    "    {'group':'A', 'a':1, 'b':1, 'sample_size': 300},\n",
    "    {'group':'B', 'a':1, 'b':1.05, 'sample_size': 300}])\n",
    "exp_info.set_index('group', inplace=True)\n",
    "\n",
    "exact_dist_a = stats.gamma(a=exp_info['a']['A'], scale=1/exp_info['b']['A'])\n",
    "exact_dist_b = stats.gamma(a=exp_info['a']['B'], scale=1/exp_info['b']['B'])\n",
    "exp_info['exact_mean'] = pd.Series({'A': exact_dist_a.mean(), 'B':exact_dist_b.mean()})\n",
    "display(exp_info)\n",
    "\n",
    "samp_a = exact_dist_a.rvs(size=exp_info['sample_size']['A'])\n",
    "samp_b = exact_dist_b.rvs(size=exp_info['sample_size']['B'])\n",
    "\n",
    "pars_a = compute_posterior_parameters(samp_a, n_split)\n",
    "pars_b = compute_posterior_parameters(samp_b, n_split)\n",
    "\n",
    "#mu\n",
    "mu_dist_a = mu_marginal_distrib(pars_a[-1])\n",
    "mu_dist_b = mu_marginal_distrib(pars_b[-1])\n",
    "x_mu = np.linspace(0, 10, 2000)\n",
    "ymax_mu = np.max([mu_dist_a.pdf(x_mu), mu_dist_b.pdf(x_mu)]) #todo: optimize\n",
    "\n",
    "fig = go.Figure()\n",
    "col = 'red'\n",
    "fig.add_trace(go.Scatter(x=x_mu, y=mu_dist_a.pdf(x), \n",
    "                         mode='lines', line_color=col, \n",
    "                         name=f'A Mu Dist'))\n",
    "fig.add_trace(go.Scatter(x=[samp_a.mean(), samp_a.mean()], y=[0, ymax_mu],\n",
    "                         mode='lines', line_color=col, line_dash='dash', \n",
    "                         name='A Sample Mean'))\n",
    "col = 'blue'\n",
    "fig.add_trace(go.Scatter(x=x_mu, y=mu_dist_b.pdf(x), \n",
    "                         mode='lines', line_color=col, \n",
    "                         name=f'B Mu Dist'))\n",
    "fig.add_trace(go.Scatter(x=[samp_b.mean(), samp_b.mean()], y=[0, ymax_mu],\n",
    "                         mode='lines', line_color=col, line_dash='dash', \n",
    "                         name='B Sample Mean'))\n",
    "fig.update_layout(title='Mu Estimates',\n",
    "                  xaxis_title='mu',\n",
    "                  yaxis_title='Prob Density',\n",
    "                  hovermode=\"x\",\n",
    "                  height=550)\n",
    "fig.update_layout(xaxis_range=[0, 2])\n",
    "fig.show()"
   ]
  },
  {
   "cell_type": "markdown",
   "metadata": {},
   "source": [
    "Для оценки дополнительного количества точек до достижения определенного уровня уверенности можно применить моделирование. По текущим данным есть оценки параметров $(a_i, b_i, k_i, \\mu_i, \\sigma_0)$ для распределений $P(\\lambda) = Gamma(\\lambda; a_i, b_i)$ и $P(\\mu) = N(\\mu; \\mu_i, \\frac{\\sigma_0^2}{k_i \\lambda} ) Gamma(\\lambda; a_i, b_i)$ для обеих групп. Можно сгенерировать сэмплы $\\mu$ и $\\lambda$ и предположить, что это реальные значения. С этими значениями сгенерировать дополнительные апостериорные средние $P(x) = N(x; \\mu, \\frac{\\sigma_{0}^2}{\\lambda} )$. Далее предположить, что именно такие данные получались бы при реальном продолжении эксперимента и использовать эти апостериорные средние для переоценки параметров распределений $P(\\lambda)$ и $P(\\mu)$. Нужно сделать несколько таких моделирований. Для каждого моделирования для каждой дополнительной точки посчитать $P(\\mu_B \\ge \\mu_A | data)$ и определить минимальное количество дополнительных точек $N_{min}$, которое потребовалось для достижения заданного уровня уверенности $p$, т.е. $N_{min} : P(\\mu_B \\ge \\mu_A | data+sim) \\ge p$ или $P(\\mu_B \\ge \\mu_A | data+sim ) \\le 1 - p$. По гистограмме $N_{min}$ можно оценить дополнительное количество данных. Для получения оценки дополнительного количества реальных наблюдений количество дополнительных апостериорных средних нужно домножить на $n_{split}$ ."
   ]
  },
  {
   "cell_type": "code",
   "execution_count": null,
   "metadata": {},
   "outputs": [],
   "source": [
    "def simulate(pars, sim_posteriors_max_len):\n",
    "    lmd = stats.gamma.rvs(a=pars.a, scale=1/pars.b)\n",
    "    mu = stats.norm.rvs(loc=pars.mu, scale=pars.sigma / np.sqrt(lmd * pars.k))\n",
    "    posteriors = stats.norm.rvs(loc=mu, scale=pars.sigma / np.sqrt(lmd), size=sim_posteriors_max_len)\n",
    "    sim_pars = []\n",
    "    sim_pars.append(pars)\n",
    "    for x in posteriors:\n",
    "        sim_pars.append(update_conj_parameters(x, sim_pars[-1]))\n",
    "    s = {'mu': mu, 'lmd': lmd, 'sim_posteriors_max_len': sim_posteriors_max_len,\n",
    "         'sim_pars': sim_pars, 'post_means': posteriors}\n",
    "    return s\n",
    "\n",
    "def p_mub_gt_mua_sims(s_a, s_b, n_cmp=30000):\n",
    "    p_mub_gt_mua = []\n",
    "    for pars_a, pars_b in zip(s_a['sim_pars'], s_b['sim_pars']):\n",
    "        mu_dist_a = mu_marginal_distrib(pars_a).rvs(size=n_cmp)\n",
    "        mu_dist_b = mu_marginal_distrib(pars_b).rvs(size=n_cmp)\n",
    "        p_mub_gt_mua.append(np.sum(mu_dist_b > mu_dist_a) / n_cmp)\n",
    "    return np.array(p_mub_gt_mua)\n",
    "\n",
    "def min_points_to_reach_certainty_level(probs_pb_ge_pa, n_point, required_pb_ge_pa):\n",
    "    prob_gt_required = (probs_pb_ge_pa > required_pb_ge_pa) | (probs_pb_ge_pa < 1 - required_pb_ge_pa)\n",
    "    reached = n_point[prob_gt_required]\n",
    "    min_reached = np.min(reached) if prob_gt_required[-1] else np.max(n_point)\n",
    "    return min_reached\n",
    "\n",
    "def run_simulations(pars_start_a, pars_start_b, p_lvl=0.95, sim_max_len=50, n_sims=100):\n",
    "    sims = []\n",
    "    for i in range(n_sims):\n",
    "        s_a = simulate(pars_start_a, sim_max_len)\n",
    "        s_b = simulate(pars_start_b, sim_max_len)\n",
    "        p_mub_gt_mua = p_mub_gt_mua_sims(s_a, s_b)\n",
    "        min_reached = min_points_to_reach_certainty_level(p_mub_gt_mua, np.arange(len(p_mub_gt_mua)), p_lvl)\n",
    "        sims.append({'i': i, 'A': s_a, 'B': s_b, 'p_mub_gt_mua': p_mub_gt_mua, 'min_reached': min_reached})\n",
    "    return sims"
   ]
  },
  {
   "cell_type": "markdown",
   "metadata": {},
   "source": [
    "Моделирование различных сценариев:"
   ]
  },
  {
   "cell_type": "code",
   "execution_count": null,
   "metadata": {},
   "outputs": [],
   "source": [
    "p_lvl = 0.95\n",
    "sims = run_simulations(pars_start_a=pars_a[-1], pars_start_b=pars_b[-1], p_lvl=p_lvl)\n",
    "#print(sims[99])"
   ]
  },
  {
   "cell_type": "markdown",
   "metadata": {},
   "source": [
    "Динамика $P(\\mu_B \\ge \\mu_A | data)$ по фактическим данным и смоделированные эксперименты:"
   ]
  },
  {
   "cell_type": "code",
   "execution_count": null,
   "metadata": {},
   "outputs": [],
   "source": [
    "pb_gt_pa = [p_mu_b_ge_mu_a(a, b) for a, b in zip(pars_a, pars_b)]\n",
    "fact_len = len(pars_a)\n",
    "n_points = [i * n_split for i in range(1, fact_len + 1)]\n",
    "\n",
    "fig = go.Figure()\n",
    "fig.add_trace(go.Scatter(x=n_points, y=pb_gt_pa,\n",
    "                         name='Fact',\n",
    "                         line_color='blue'))\n",
    "for s in sims:\n",
    "    fig.add_trace(go.Scatter(x=np.arange(fact_len, fact_len + len(s['p_mub_gt_mua']) + 1) * n_split, \n",
    "                             y=s['p_mub_gt_mua'],\n",
    "                             name=f\"Sim {s['i']}\",\n",
    "                             line_color='red',\n",
    "                             opacity=0.1))\n",
    "fig.add_hline(y=0.05, line_dash='dash')\n",
    "fig.add_hline(y=0.95, line_dash='dash')\n",
    "fig.update_layout(title='Simulations P(mu_b >= mu_a)',\n",
    "                  xaxis_title='N Points',\n",
    "                  yaxis_title='P(mu_b >= mu_a)',\n",
    "                  hovermode=\"x\",\n",
    "                  height=550,\n",
    "                  barmode=\"overlay\",\n",
    "                  showlegend=False)\n",
    "fig.update_layout(xaxis_range=[0, (fact_len + len(sims[0]['p_mub_gt_mua'])) * n_split], yaxis_range=[0,1])\n",
    "fig.show()"
   ]
  },
  {
   "cell_type": "markdown",
   "metadata": {},
   "source": [
    "Гистограмма минимального количества дополнительных точек, нужных для достижения заданного уровня уверенности:"
   ]
  },
  {
   "cell_type": "code",
   "execution_count": null,
   "metadata": {},
   "outputs": [],
   "source": [
    "n_reached_hist = [s['min_reached'] * n_split for s in sims]\n",
    "n_reached_freqs = pd.Series(n_reached_hist).value_counts(normalize=True).rename('freq').to_frame()\n",
    "x_med = np.median(n_reached_hist)\n",
    "\n",
    "fig = go.Figure()\n",
    "fig.add_trace(go.Bar(x=n_reached_freqs.index,\n",
    "                     y=n_reached_freqs['freq'],\n",
    "                     width=[n_split] * len(n_reached_freqs),\n",
    "                     marker_color='red',\n",
    "                     opacity=0.6,\n",
    "                     name='Simulations Reached Certainty'))\n",
    "fig.add_trace(go.Scatter(x=[x_med, x_med], y=[0, np.max(n_reached_freqs['freq'])], \n",
    "                         line_color='black',\n",
    "                         line_dash='dash',\n",
    "                         mode='lines',\n",
    "                         hovertemplate=f\"Median: {x_med}\",\n",
    "                         name='Median'))              \n",
    "fig.update_layout(title=f'Additional Points to Reach {p_lvl*100:.0f}% Certainty')\n",
    "fig.update_layout(xaxis_title='Additional Points',\n",
    "                  yaxis_title='Part from Total Simulations',\n",
    "                  showlegend=False)\n",
    "fig.update_xaxes(range=[0, (len(sims[0]['p_mub_gt_mua']) + 1) * n_split])\n",
    "fig.update_layout(yaxis_rangemode='tozero')\n",
    "fig.show()"
   ]
  },
  {
   "cell_type": "markdown",
   "metadata": {},
   "source": [
    "Видно, что в 77% моделирований уверенность доходит до заданного значения при различном количестве дополнительных точек, но в 23% моделирований текущего максимального количества точек в моделировании не хватает для достижения уверенности.  "
   ]
  },
  {
   "cell_type": "markdown",
   "metadata": {},
   "source": [
    "**todo: Продолжение эксперимента до снижения ценности новых данных**"
   ]
  },
  {
   "cell_type": "markdown",
   "metadata": {},
   "source": [
    "**todo: Количество правильно угаданных вариантов**"
   ]
  },
  {
   "cell_type": "markdown",
   "metadata": {},
   "source": [
    "# Приложение: сопряженное априорное распределение к нормальному распределению"
   ]
  },
  {
   "cell_type": "markdown",
   "metadata": {},
   "source": [
    "В байесовском подходе для оценки плотности вероятности параметров модели используется соотношение\n",
    "\n",
    "$$\n",
    "P(model | data) = \\frac{ P(data | model) P(model) }{P(data)}.\n",
    "$$"
   ]
  },
  {
   "cell_type": "markdown",
   "metadata": {},
   "source": [
    "Пусть функция правдоподобия $P(data|model)$ задается нормальным распределением\n",
    "\n",
    "$$\n",
    "P(data | model) = N(x ; \\mu, \\frac{\\sigma_0^2}{\\lambda}) = \\frac{\\lambda^{1/2}}{\\sqrt{2 \\pi \\sigma_0^2}} \n",
    "e^{- \\frac{\\lambda}{2 \\sigma_0^2}(x - \\mu)^2}.\n",
    "$$"
   ]
  },
  {
   "cell_type": "markdown",
   "metadata": {},
   "source": [
    "Можно показать, что произведение нормального распределения по $\\mu$ и гамма-распределения по $\\lambda$ будет сопряженным априорным распределением к функции правдоподобия выше\n",
    "\n",
    "$$\n",
    "P(model) = N(\\mu ; \\mu_i, \\frac{\\sigma_0^2}{k_i \\lambda}) Gamma(\\lambda; a_i, b_i),\n",
    "$$\n",
    "где\n",
    "$$\n",
    "Gamma(\\lambda; a, b) = \\frac{b^a}{\\Gamma(a)} \\lambda^{a-1} e^{-b \\lambda}, \\quad x>0, \\quad a,b>0 .\n",
    "$$"
   ]
  },
  {
   "cell_type": "markdown",
   "metadata": {},
   "source": [
    "Для сопряженности нужно, чтобы $P(model \\mid data)$ имела ту же зависимость от $\\mu$ и $\\lambda$, что и $P(model)$, но с другими значениями параметров $(a_{i}, b_{i}, \\mu_{i}, k_{i})$. Новые параметры $(a_{i+1}, b_{i+1}, \\mu_{i+1}, k_{i+1})$ должны выражаться через старые значения $(a_i, b_i, \\mu_i, k_i)$ и фактические данные $x$. При подстановке:\n",
    "\n",
    "\\begin{split}\n",
    "P(model \\mid data) \n",
    "& = \n",
    "P(\\mu, \\lambda | x ) \n",
    "\\\\\n",
    "& \\propto  \n",
    "N(x ; \\mu, \\frac{\\sigma_0^2}{\\lambda})\n",
    "N(\\mu ; \\mu_i, \\frac{\\sigma_0^2}{k_i \\lambda}) \n",
    "Gamma(\\lambda; a_i, b_i)\n",
    "\\\\\n",
    "& \\propto\n",
    "\\frac{\\lambda^{1/2}}{\\sqrt{2 \\pi \\sigma_0^2}} e^{- \\frac{\\lambda}{2 \\sigma_0^2}(x - \\mu)^2}\n",
    "\\frac{(k_i \\lambda)^{1/2}}{\\sqrt{2 \\pi \\sigma_0^2}} e^{- \\frac{k_i \\lambda}{2 \\sigma_0^2}(\\mu - \\mu_i)^2}\n",
    "\\frac{b_i^{a_i}}{\\Gamma(a_i)} e^{-b_i \\lambda} {\\lambda}^{a_i-1}\n",
    "\\end{split}\n",
    "\n",
    "Выражение в показателе экспонент можно записать в виде\n",
    "\n",
    "$$\n",
    "\\begin{align}\n",
    "\\frac{\\lambda}{2 \\sigma_0^2}(x - \\mu)^2 + \n",
    "\\frac{k_i \\lambda}{2 \\sigma_0^2}(\\mu - \\mu_i)^2 +\n",
    "\\lambda b_i\n",
    "& =\n",
    "\\frac{\\lambda}{2 \\sigma_0^2}\n",
    "\\left( \\mu^2(k_i+1) - 2\\mu(x + k_i \\mu_i) \\right) + \n",
    "\\frac{\\lambda}{2 \\sigma_0^2}(x^2 + k_i \\mu_i^2 + 2 b_i \\sigma_0^2)\n",
    "\\\\\n",
    "& =\n",
    "\\frac{\\lambda (k_i + 1)}{2 \\sigma_0^2}\n",
    "\\left( \\mu - \\frac{x + k_i \\mu_i}{k_i + 1} \\right)^2\n",
    "+\n",
    "\\frac{\\lambda}{2 \\sigma_0^2} \\left( x^2 + k_i \\mu_i^2 + 2 b_i \\sigma_0^2 - \\frac{(x + k_i \\mu_i)^2}{k_i + 1} \\right)\n",
    "\\\\\n",
    "& =\n",
    "\\frac{\\lambda (k_i + 1)}{2 \\sigma_0^2}\n",
    "\\left( \\mu - \\frac{x + k_i \\mu_i}{k_i + 1} \\right)^2\n",
    "+\n",
    "\\frac{\\lambda}{2 \\sigma_0^2} \\left( \\frac{k_i}{k_i+1} (x - \\mu_i)^2 + 2 b_i \\sigma_0^2 \\right)\n",
    "\\end{align} \n",
    "$$\n",
    "\n",
    "После подстановки, факторы, зависящие только от $\\mu$ и $\\lambda$:\n",
    "\n",
    "$$\n",
    "P(\\mu, \\lambda | x ) \n",
    "\\propto \n",
    "\\lambda^{1/2} e^{- \\frac{\\lambda (k_i + 1)}{2 \\sigma_0^2} \\left( \\mu - \\frac{x + k_i \\mu_i}{k_i+1} \\right)^2}\n",
    "{\\lambda}^{a_i-1/2} \n",
    "e^{- \\frac{\\lambda}{2 \\sigma_0^2} \\left( \\frac{k_i}{k_i + 1} (x - \\mu_i)^2 + 2 b_i \\sigma_0^2 \\right) }\n",
    "$$\n",
    "\n",
    "\n",
    "Апостериорное распределение имеет вид\n",
    "\n",
    "$$\n",
    "P(\\mu, \\lambda | x ) = N(\\mu; \\mu_{i+1}, \\frac{\\sigma_0^2}{k_{i+1} \\lambda} ) Gamma(\\lambda; a_{i+1}, b_{i+1}) \n",
    "$$\n",
    "\n",
    "Новые значения параметров связаны со старыми соотношениями:\n",
    "$$\n",
    "k_{i+1} = k_i + 1 \n",
    "\\\\\n",
    "\\mu_{i+1} = \\frac{x + k_i \\mu_i}{k_i + 1} \n",
    "\\\\\n",
    "a_{i+1} = a_i + 1/2 \n",
    "\\\\\n",
    "b_{i+1} = b_i + \\frac{k_i}{k_i + 1} \\frac{(x - \\mu_i)^2}{2 \\sigma_0^2} \n",
    "$$"
   ]
  },
  {
   "cell_type": "markdown",
   "metadata": {},
   "source": [
    "**Интерпретация:**  \n",
    "\n",
    "Есть сэмпл. Есть препдоложение, что он получен из нормального распределения.  \n",
    "Можно оценить параметры исходного распределения \n",
    "$\\mu, \\sigma$ по значениям сэмпла $\\mu=\\bar{x}, \\sigma=\\sigma_x$.  \n",
    "Но уверенность этой оценки слишком завышена.    \n",
    "Нужно также посмотерть окрестные параметры, например \n",
    "$\\mu \\in [\\bar{x}-3 \\sigma_x, \\bar{x} + 3 \\sigma_x]$, $\\sigma \\in [1/3 \\sigma_x, 3 \\sigma_x]$.  \n",
    "\n",
    "Центр поисков среднего - точка $\\mu_0$.  \n",
    "Средние $\\mu$ распределены вокруг нее нормально.  \n",
    "Дисперсия - выбирается естесственный масштаб $\\sigma_0$.  \n",
    "$k_0$ - масштабирующий $\\sigma_0$ .   \n",
    "$p(\\mu) = N(\\mu; \\mu_0, \\frac{\\sigma_0^2}{k_0})$  \n",
    "Из соображений сопряженности приходится добавить параметр $\\lambda$:  \n",
    "$p(\\mu) = N(\\mu; \\mu_0, \\frac{\\sigma_0^2}{k_0 \\lambda})$ \n",
    "\n",
    "Можно выбрать $k_0 = 1/9$. \n",
    "Т.е. исходно дисперсия $(\\mu - \\mu_0) \\sim 3 \\sigma_0$\n",
    "\n",
    "$\\lambda$ - масштабирующий множитель для $\\sigma_0^2$.  \n",
    "Вместо того, чтобы задавать распределение $\\sigma^2$, можно менять масштабирующий множитель $\\lambda$.  \n",
    "Если $\\sigma_0$ близко к $\\sigma$, то $\\lambda$ должен быть порядка $1$.   \n",
    "Из соображений сопряженности распределение $\\lambda$ будет иметь вид гамма-распределения\n",
    "\n",
    "$p(\\lambda) = \\Gamma(\\lambda; a, b)$\n",
    "\n",
    "Мода гамма-распределения $\\lambda_{max(p)} = \\frac{a-1}{b}$ при $a \\ge 1$.  \n",
    "Исходными параметрами можно выбрать a=2, b=1.  \n",
    "График выглядит примерно так, как нужно.  \n",
    "Тем более, что мода с такими параметрами будет равна 1.  \n",
    "\n",
    "\n",
    "При обновлении данных:  \n",
    "Будет уточнено значение $\\mu_a$.  \n",
    "Причем чем по большему количеству данных было построено $\\mu_a$, тем больший вес оно будет иметь.  \n",
    "$$\n",
    "\\mu_p = \\frac{x + k_0 \\mu_0}{k_0 + 1}\n",
    "$$\n",
    "\n",
    "Дисперсия $\\mu$ вокруг $\\mu_0$ будет сужаться по мере набора данных.  \n",
    "Это происходит за счет увеличения масштабирующего множителя $k$.  \n",
    "\n",
    "$$\n",
    "k_p = k_0 + 1\n",
    "$$\n",
    "\n",
    "Распределение $\\lambda$ будет сужаться (будет обновляться $a$ и $b$).   \n",
    "Мода будет $\\lambda_{max(p)} = \\frac{a-1}{b}$.  \n",
    "Т.е. распределение будет \"сужаться\" вокруг этого отношения.  \n",
    "Если $\\mu_0$ и $\\sigma_0^2$ были близки к реальным, то $a$ и $b$ будут увеличиваться примерно на 1/2 с каждой новой точкой.  \n",
    "Если нет, то будут сходиться к правильному отношению.  \n",
    "\n",
    "$$\n",
    "a_p = a + 1/2,\n",
    "\\qquad\n",
    "b_p = b + \\frac{k_0}{k_0 + 1} \\frac{(x - \\mu_0)^2}{2 \\sigma_0^2}\n",
    "$$"
   ]
  },
  {
   "cell_type": "markdown",
   "metadata": {},
   "source": [
    "**Форма Гамма-распределения**"
   ]
  },
  {
   "cell_type": "markdown",
   "metadata": {},
   "source": [
    "Гамма-распределение [SciPyStatsGamma](https://docs.scipy.org/doc/scipy/reference/generated/scipy.stats.gamma.html)"
   ]
  },
  {
   "cell_type": "code",
   "execution_count": null,
   "metadata": {},
   "outputs": [],
   "source": [
    "x = np.linspace(0, 10, 2000)\n",
    "fig = go.Figure()\n",
    "\n",
    "for a,b in [(1,1), (1,3), (1, 1/3), (2, 1), (2, 2), (0.9, 1)]:\n",
    "    fig.add_trace(go.Scatter(x=x, y=stats.gamma.pdf(x, a=a, scale=1/b), mode='lines', name=f'a={a}, b={b}'))\n",
    "\n",
    "fig.update_layout(title='Gamma Dist',\n",
    "                  xaxis_title='$\\lambda$',\n",
    "                  yaxis_title='Prob Density',\n",
    "                  hovermode=\"x\",\n",
    "                  height=550)\n",
    "\n",
    "fig.show()"
   ]
  },
  {
   "cell_type": "code",
   "execution_count": null,
   "metadata": {},
   "outputs": [],
   "source": [
    "x = np.linspace(0, 10, 2000)\n",
    "fig = go.Figure()\n",
    "\n",
    "for a,b in [(2,1), (2.5,1), (3, 1), (11, 5), (11, 10), (11, 9.7), (11, 11.3)]:\n",
    "    fig.add_trace(go.Scatter(x=x, y=stats.gamma.pdf(x, a=a, scale=1/b), mode='lines', name=f'a={a}, b={b}'))\n",
    "#fig.add_trace(go.Scatter(x=x, y=stats.gamma.pdf(x, a=1, scale=1/b), mode='lines', name=f'a={a}, b={b}'))\n",
    "#fig.add_trace(go.Scatter(x=x, y=stats.gamma.pdf(x, a=5, scale=1/b), mode='lines', name=f'a={a}, b={b}'))\n",
    "#fig.add_trace(go.Scatter(x=x, y=stats.gamma.pdf(x, a=2, scale=1/b), mode='lines', name=f'a={a}, b={b}'))\n",
    "\n",
    "fig.update_layout(title='Gamma Dist',\n",
    "                  xaxis_title='$\\lambda$',\n",
    "                  yaxis_title='Prob Density',\n",
    "                  hovermode=\"x\",\n",
    "                  height=550)\n",
    "\n",
    "fig.show()"
   ]
  },
  {
   "cell_type": "markdown",
   "metadata": {},
   "source": [
    "**Маржинальные распределения**"
   ]
  },
  {
   "cell_type": "markdown",
   "metadata": {},
   "source": [
    "Маржинальное распределение $P(\\lambda | x)$ по конструкции будет гамма-распределением:\n",
    "\n",
    "$$\n",
    "P(\\lambda | x) = Gamma(\\lambda; a_i, b_i)\n",
    "\\\\\n",
    "Gamma(\\lambda; a,b) = \\frac{b^a}{\\Gamma(a)} \\lambda^{a-1} e^{-b \\lambda}, \\quad x>0, \\quad a,b>0 \n",
    "$$\n",
    "\n",
    "Можно показать, что маржинальное распределение $P(\\mu | x)$ будет t-распределением:\n",
    "\n",
    "$$\n",
    "\\begin{align}\n",
    "P(\\mu | x) \n",
    "= \\int_0^\\infty d\\lambda P(\\mu, \\lambda) d\\lambda \n",
    "& = \n",
    "\\int_0^\\infty d\\lambda \n",
    "\\frac{(k_i \\lambda)^{1/2}}{\\sqrt{2 \\pi \\sigma_0^2}} e^{- \\frac{k_i \\lambda}{2 \\sigma_0^2}(\\mu - \\mu_i)^2}\n",
    "\\frac{b_i^{a_i}}{\\Gamma(a_i)} e^{-b_i \\lambda} {\\lambda}^{a_i-1}\n",
    "\\\\\n",
    "& \\propto\n",
    "\\int_0^\\infty d\\lambda \n",
    "\\lambda^{a_i + 1/2 - 1} e^{- \\lambda \\left( \\frac{k_i}{2 \\sigma_0^2}(\\mu - \\mu_i)^2 + b_i \\right) }\n",
    "\\end{align}\n",
    "$$\n",
    "Выражение под интегралом по форме совпадает с гамма-распределением.  \n",
    "Т.к. $\\int_0^\\infty d\\lambda Gamma(\\lambda; \\alpha, \\beta) = 1$, \n",
    "то $\\int_0^\\infty d\\lambda \\lambda^{\\alpha-1} e^{-\\beta \\lambda} = \\Gamma(\\alpha) {\\beta}^{-\\alpha}$\n",
    "\n",
    "После подстановки\n",
    "$$\n",
    "\\begin{align}\n",
    "P(\\mu | x) \n",
    "& \\propto_{\\mu} \n",
    "\\left(b_i + \\frac{k_i}{2 \\sigma_0^2}(\\mu - \\mu_i)^2 \\right)^{-(a_i + 1/2)}\n",
    "\\\\\n",
    "& \\propto_{\\mu} \n",
    "\\left(1 + \\frac{k_i}{2 \\sigma_0^2 b_i}(\\mu - \\mu_i)^2 \\right)^{-(a_i + 1/2)}\n",
    "\\end{align}\n",
    "$$\n",
    "\n",
    "Обобщенное t-распределение [[GenStudentT](https://en.wikipedia.org/wiki/Student's_t-distribution#Generalized_Student's_t-distribution)] имеет вид  \n",
    "$$\n",
    "t(x | \\nu, \\mu_t, \\sigma_t^2) \n",
    "\\propto_x \n",
    "\\left(1+\\frac{1}{\\nu} \\frac{ (x - \\mu_t)^2 }{\\sigma_t^2 } \\right)^{-(\\nu+1)/2}\n",
    "$$\n",
    "\n",
    "Поэтому при \n",
    "$$\n",
    "a_i = \\frac{\\nu}{2}, \\quad \\nu \\sigma_t^2 = \\frac{2 \\sigma_0^2 b_i}{k_i}\n",
    "$$\n",
    "\n",
    "Маржинальное распределение $P(\\mu | x)$:\n",
    "$$\n",
    "P(\\mu | x) = t(\\mu | \\nu = 2a_i, \\mu_t = \\mu_i, \\sigma_t^2 = \\frac{\\sigma_0^2}{k_i} \\frac{b_i}{a_i} )\n",
    "$$\n",
    "\n",
    "$\\sigma_t^2 = \\frac{\\sigma_0^2}{k_i} \\frac{b_i}{a_i}$  \n",
    "$\\frac{\\sigma_0^2}{k_i}$ - дисперсия средих вокруг $\\mu_i$.  \n",
    "$\\frac{b_i}{a_i}$ - характеризует отношение реальной дисперсии к $\\sigma_0$.  \n",
    "$p(\\lambda)$ будет локализовыватсья вокруг $(a_i-1)/b_i$."
   ]
  },
  {
   "cell_type": "markdown",
   "metadata": {},
   "source": [
    "По мере добавления данных:  \n",
    "Увеличивается число степеней свободы $\\nu$, что ведет к сужению распределения.  \n",
    "Увеличивается $k_i$, что ведет к снижению дисперсии.  \n",
    "$\\frac{b_i}{a_i}$ стабилизируется на каком-то значении (порядка 1, если удачно выбраны $\\mu_0, \\sigma_0^2$)"
   ]
  },
  {
   "cell_type": "markdown",
   "metadata": {},
   "source": [
    "Поведение t-распределения [SciPyStatsT](https://docs.scipy.org/doc/scipy/reference/generated/scipy.stats.t.html#scipy.stats.t) при разных параметрах "
   ]
  },
  {
   "cell_type": "code",
   "execution_count": null,
   "metadata": {},
   "outputs": [],
   "source": [
    "x = np.linspace(0, 10, 2000)\n",
    "fig = go.Figure()\n",
    "\n",
    "for df, scale, loc in [(2, 1, 5), (20, 1, 5), (2, 0.7, 5), (20, 0.7, 5)]:\n",
    "    fig.add_trace(go.Scatter(x=x, y=stats.t.pdf(x, df=df, loc=loc, scale=scale), mode='lines', name=f'df={df}, loc={loc}, scale={scale}'))\n",
    "\n",
    "fig.update_layout(title='t-Dist',\n",
    "                  xaxis_title='x',\n",
    "                  yaxis_title='Prob Density',\n",
    "                  hovermode=\"x\",\n",
    "                  height=550)\n",
    "\n",
    "fig.show()"
   ]
  },
  {
   "cell_type": "markdown",
   "metadata": {},
   "source": [
    "# Приложение: оценка параметров нормального распределения по сэмплу"
   ]
  },
  {
   "cell_type": "markdown",
   "metadata": {},
   "source": [
    "Пусть есть нормальное распределение $N(\\mu, \\sigma^2)$ с известными параметрами $\\mu$ и $\\sigma$. Есть сэмпл точек из него. Нужно по сэмплу оценить значения параметров и сравнить с реальными."
   ]
  },
  {
   "cell_type": "code",
   "execution_count": null,
   "metadata": {},
   "outputs": [],
   "source": [
    "mu_exact = 20\n",
    "s_exact = 3\n",
    "sample_size = 100\n",
    "\n",
    "exact_dist = stats.norm(loc=mu_exact, scale=s_exact)\n",
    "samp = exact_dist.rvs(size=sample_size)\n",
    "\n",
    "x = np.linspace(0, 50, 2000)\n",
    "fig = go.Figure()\n",
    "\n",
    "fig.add_trace(go.Scatter(x=x, y=stats.norm.pdf(x, loc=mu_exact, scale=s_exact), mode='lines', name='Exact'))\n",
    "fig.add_trace(go.Histogram(x=samp, histnorm='probability density', name='Sample'))\n",
    "fig.update_layout(title='Dist',\n",
    "                  xaxis_title='x',\n",
    "                  yaxis_title='Prob Density',\n",
    "                  hovermode=\"x\",\n",
    "                  height=550)\n",
    "fig.show()\n",
    "\n",
    "print(f'exact mu_0 = {mu_exact}, std={s_exact}')\n",
    "print(f'sample avg = {np.mean(samp)}, std={np.std(samp)}')"
   ]
  },
  {
   "cell_type": "markdown",
   "metadata": {},
   "source": [
    "В этом случае известно, что распределение данных нормальное. Поэтому для моделирования можно использовать нормальную функцию правдоподобия и сопряженное априорное распределение из раздела выше:\n",
    "\n",
    "$$\n",
    "P(model | data) = \\frac{ P(data | model) P(model) }{P(data)},\n",
    "\\\\\n",
    "P(data | model) = N(x; \\mu, \\frac{\\sigma_{0}^2}{\\lambda} ) ,  \n",
    "\\\\\n",
    "P(model) = N(\\mu; \\mu_i, \\frac{\\sigma_0^2}{k_i \\lambda} ) Gamma(\\lambda; a_i, b_i) . \n",
    "$$"
   ]
  },
  {
   "cell_type": "markdown",
   "metadata": {},
   "source": [
    "Разбивать сэмпл на части и считать в них средние не нужно - распределение исходных данных уже нормальное. Способ задания начальных значений параметров $\\mu_0, \\sigma_0$ отличается. Можно либо использовать часть точек из сэмпла, либо просто выбрать для них близкие по порядку значения. Ниже используется второй вариант - $\\mu_0$ и $\\sigma_0$ задаются равными единице."
   ]
  },
  {
   "cell_type": "code",
   "execution_count": null,
   "metadata": {},
   "outputs": [],
   "source": [
    "mu_0 = 1\n",
    "sigma_0 = 1\n",
    "\n",
    "pars = []\n",
    "pars.append(initial_parameters(mu=mu_0, sigma=sigma_0))\n",
    "\n",
    "for x in samp:\n",
    "    new_pars = update_conj_parameters(x, pars[-1])\n",
    "    pars.append(new_pars)\n",
    "\n",
    "print(f'Initial parameters: {pars[0]}')\n",
    "print(f'Final parameters: {pars[-1]}')"
   ]
  },
  {
   "cell_type": "markdown",
   "metadata": {},
   "source": [
    "Итоговые оценки распределений параметров:"
   ]
  },
  {
   "cell_type": "code",
   "execution_count": null,
   "metadata": {},
   "outputs": [],
   "source": [
    "#mu\n",
    "mu_dist = mu_marginal_distrib(pars[-1])\n",
    "x = np.linspace(0, 50, 2000)\n",
    "yplot = mu_dist.pdf(x)\n",
    "ymax = max(yplot)\n",
    "fig = go.Figure()\n",
    "fig.add_trace(go.Scatter(x=x, y=mu_dist.pdf(x), mode='lines', name=f'Mu Estimate Distrib'))\n",
    "fig.add_trace(go.Scatter(x=[samp.mean(), samp.mean()], y=[0, ymax],\n",
    "                         mode='lines', line_color='black', line_dash='dash', \n",
    "                         name='Sample Mean'))\n",
    "fig.add_trace(go.Scatter(x=[exact_dist.mean(), exact_dist.mean()], y=[0, ymax], \n",
    "                         mode='lines', line_color='black',\n",
    "                         name='Exact Mean'))\n",
    "fig.update_layout(title='Mu Distribution',\n",
    "                  xaxis_title='mu',\n",
    "                  yaxis_title='Prob Density',\n",
    "                  hovermode=\"x\",\n",
    "                  height=550)\n",
    "fig.show()\n",
    "\n",
    "# sigma\n",
    "fig = go.Figure()\n",
    "x = np.linspace(0.001, 10, 2000)\n",
    "x_plot = x\n",
    "y_plot = sigma_marginal_distrib_pdf(x, pars[-1])\n",
    "y_max = max(y_plot)\n",
    "fig.add_trace(go.Scatter(x=x, \n",
    "                         y=y_plot, \n",
    "                         mode='lines', line_dash='dash', name=f'Sigma Estimate Distrib'))\n",
    "fig.add_trace(go.Scatter(x=[samp.std(), samp.std()], \n",
    "                         y=[0, y_max],\n",
    "                         mode='lines', line_color='black', line_dash='dash', \n",
    "                         name='Sample Stdev'))\n",
    "fig.add_trace(go.Scatter(x=[exact_dist.std(), exact_dist.std()], \n",
    "                         y=[0, y_max], \n",
    "                         mode='lines', line_color='black',\n",
    "                         name='Exact Stdev'))\n",
    "fig.update_layout(title='Sigma Distribution',\n",
    "                  xaxis_title='p',\n",
    "                  yaxis_title='Prob Density',\n",
    "                  hovermode=\"x\",\n",
    "                  barmode=\"overlay\",\n",
    "                  height=550)\n",
    "fig.show()\n",
    "\n",
    "\n",
    "#posterior data\n",
    "post_x = post_means_rvs(pars[-1], size=50000)\n",
    "x = np.linspace(0, 50, 2000)\n",
    "\n",
    "fig = go.Figure()\n",
    "fig.add_trace(go.Scatter(x=x, y=exact_dist.pdf(x), mode='lines', line_dash='dash', name='Original Distribution'))\n",
    "fig.add_vline(exact_dist.mean(), name='Original Distribution Mean')\n",
    "fig.add_vline(samp.mean(), line_dash='dash', name='Sample Mean')\n",
    "fig.add_trace(go.Histogram(x=post_x, histnorm='probability density', name='Posterior', \n",
    "                           opacity=0.7, nbinsx=100))\n",
    "fig.update_layout(title='Posterior Distribution',\n",
    "                  xaxis_title='p',\n",
    "                  yaxis_title='Prob Density',\n",
    "                  hovermode=\"x\",\n",
    "                  height=550,\n",
    "                  barmode=\"overlay\")\n",
    "fig.show()"
   ]
  },
  {
   "cell_type": "markdown",
   "metadata": {},
   "source": [
    "Видно, что точные значения $\\mu$ и $\\sigma$ имеют ненулевую вероятность в построенных оценках распределений. Также апостериорное распределение близко к точному заданному."
   ]
  },
  {
   "cell_type": "markdown",
   "metadata": {},
   "source": [
    "Кроме итоговых значений на этом примере также полезно посмотреть динамику параметров. Можно ожидать, что среднее значение $\\mu$ будет стабилизироваться вблизи среднего в сэмле, а дисперсия $\\mu$ будет уменьшаться. Параметр $1/\\lambda$ играет роль масштабирующего множителя между $\\sigma_0^2$ и точным значением $\\sigma^2$. Поэтому для распределения $\\lambda$ также можно ожидать локализации вокруг отношения $\\sigma_0^2/\\sigma^2$. Можно проследить за этим по изменению моды и стандартного отклонения распределения."
   ]
  },
  {
   "cell_type": "markdown",
   "metadata": {},
   "source": [
    "Аналитические выражения для среднего и дисперсии $\\mu$, моды и дисперсии $\\lambda$ приведены ниже:"
   ]
  },
  {
   "cell_type": "markdown",
   "metadata": {},
   "source": [
    "$$\n",
    "P(\\mu | data) = t(\\mu | \\nu = 2a_i, \\mu_t = \\mu_i, \\sigma_t^2 = \\frac{\\sigma_0^2}{k_i} \\frac{b_i}{a_i} ),\n",
    "\\\\\n",
    "Mean(\\mu) = \\mu_i, \n",
    "\\quad\n",
    "Var(\\mu) = \\frac{\\sigma_0^2}{k_i} \\frac{b_i}{a_i - 1} ,\n",
    "$$\n",
    "\n",
    "$$\n",
    "P(\\lambda | data) = Gamma(\\lambda; a_i, b_i),\n",
    "\\\\\n",
    "Mode(\\lambda) = \\frac{a_i-1}{b_i},\n",
    "\\quad\n",
    "Var(\\lambda) = \\frac{a_i}{b_i^2} .\n",
    "$$"
   ]
  },
  {
   "cell_type": "markdown",
   "metadata": {},
   "source": [
    "Динамика параметров в зависимости от количества учтенных точек:  "
   ]
  },
  {
   "cell_type": "code",
   "execution_count": null,
   "metadata": {},
   "outputs": [],
   "source": [
    "pnts = [i for i in range(len(pars))]\n",
    "mu_i = [p.mu for p in pars]\n",
    "std_mu_i = [mu_marginal_distrib(p).std() for p in pars]\n",
    "a_i = [p.a for p in pars]\n",
    "b_i = [p.b for p in pars]\n",
    "lmd_mode_i = [(p.a - 1) / p.b for p in pars]\n",
    "lmd_std_i = [lambda_marginal_distrib(p).std() for p in pars]\n",
    "\n",
    "fig = make_subplots(rows=1, cols=2, subplot_titles=('Mu Mean',  'Mu Std'))\n",
    "fig.add_trace(go.Scatter(x=pnts, y=mu_i), row=1, col=1)\n",
    "fig.add_trace(go.Scatter(x=pnts, y=std_mu_i), row=1, col=2)\n",
    "fig.update_layout(showlegend=False)\n",
    "fig['layout']['xaxis'].update(title_text='Data Points')\n",
    "fig['layout']['xaxis2'].update(title_text='Data Points')\n",
    "fig.show()\n",
    "\n",
    "fig = make_subplots(rows=1, cols=3, subplot_titles=('a_i, b_i', 'Lambda Mode',  'Lambda Std'))\n",
    "fig.add_trace(go.Scatter(x=pnts, y=a_i, name='a'), row=1, col=1)\n",
    "fig.add_trace(go.Scatter(x=pnts, y=b_i, name='b'), row=1, col=1)\n",
    "fig.add_trace(go.Scatter(x=pnts, y=lmd_mode_i), row=1, col=2)\n",
    "fig.add_trace(go.Scatter(x=pnts, y=lmd_std_i), row=1, col=3)\n",
    "fig.update_layout(showlegend=False)\n",
    "fig['layout']['xaxis'].update(title_text='Data Points')\n",
    "fig['layout']['xaxis2'].update(title_text='Data Points')\n",
    "fig['layout']['xaxis3'].update(title_text='Data Points')\n",
    "fig.show()"
   ]
  },
  {
   "cell_type": "markdown",
   "metadata": {},
   "source": [
    "Среднее $\\mu$ стабилизируется, стандартное отклонение $\\mu$ уменьшается. Кажется, что мода $\\lambda$ также стабилизируется и стандартное отклонение $\\lambda$ также уменьшается."
   ]
  },
  {
   "cell_type": "markdown",
   "metadata": {},
   "source": [
    "Вид распределений $\\mu$ и $\\sigma = \\sigma_0 / \\lambda^{1/2}$ для различного количества учтенных точек приведен ниже:"
   ]
  },
  {
   "cell_type": "code",
   "execution_count": null,
   "metadata": {},
   "outputs": [],
   "source": [
    "i_points = [0, len(pars) // 20, len(pars) // 5, len(pars) // 2, len(pars) - 1]\n",
    "\n",
    "x = np.linspace(0, 50, 2000)\n",
    "y_plot_max = 0\n",
    "fig = go.Figure()\n",
    "for i in i_points:\n",
    "    y_plot = mu_marginal_distrib(pars[i]).pdf(x)\n",
    "    y_plot_max = max(max(y_plot), y_plot_max)\n",
    "    fig.add_trace(go.Scatter(x=x, y=y_plot, mode='lines', name=f'i={i}'))\n",
    "fig.add_trace(go.Scatter(x=[mu_exact, mu_exact], \n",
    "                         y=[0, y_plot_max], \n",
    "                         line_width=0.8, mode='lines', line_color='black', name='Exact Mean'))\n",
    "fig.add_trace(go.Scatter(x=[np.mean(samp), np.mean(samp)],\n",
    "                         y=[0, y_plot_max],\n",
    "                         line_width=0.8, mode='lines', line_color='black', line_dash=\"dash\", name='Sample Mean'))\n",
    "fig.update_layout(title='Mu Distribution',\n",
    "                  xaxis_title='$\\mu$',\n",
    "                  yaxis_title='Prob Density',\n",
    "                  hovermode=\"x\",\n",
    "                  height=550)\n",
    "fig.show()\n",
    "\n",
    "\n",
    "x = np.linspace(0.01, 10, 2000)\n",
    "y_plot_max = 0\n",
    "fig = go.Figure()\n",
    "for i in i_points:\n",
    "    y_plot = sigma_marginal_distrib_pdf(x, pars[i])\n",
    "    y_plot_max = max(max(y_plot), y_plot_max)\n",
    "    fig.add_trace(go.Scatter(x=x_plot, y=y_plot, mode='lines', name=f'i={i}'))\n",
    "fig.add_trace(go.Scatter(x=[s_exact, s_exact], \n",
    "                         y=[0, y_plot_max], \n",
    "                         line_width=0.8, mode='lines', line_color='black', name='Exact Stdev'))\n",
    "fig.add_trace(go.Scatter(x=[np.std(samp), np.std(samp)],\n",
    "                         y=[0, y_plot_max],\n",
    "                         line_width=0.8, mode='lines', line_color='black', line_dash=\"dash\", name='Sample Stdev'))\n",
    "fig.update_layout(title='Sigma Distribution',\n",
    "                  xaxis_title='$\\sigma$',\n",
    "                  yaxis_title='Prob Density',\n",
    "                  hovermode=\"x\",\n",
    "                  height=550)\n",
    "fig.update_layout(xaxis_range=[0, 10])\n",
    "fig.show()"
   ]
  },
  {
   "cell_type": "markdown",
   "metadata": {},
   "source": [
    "Видно как по мере учета данных распределения $\\mu$ и $\\sigma$ смещаются к соответствующим значениям в сэмпле и сужаются."
   ]
  },
  {
   "cell_type": "markdown",
   "metadata": {},
   "source": [
    "**todo: Приложение: выбросы**"
   ]
  },
  {
   "cell_type": "markdown",
   "metadata": {},
   "source": [
    "# Заключение"
   ]
  },
  {
   "cell_type": "markdown",
   "metadata": {},
   "source": [
    "# Благодарности"
   ]
  },
  {
   "cell_type": "markdown",
   "metadata": {},
   "source": [
    "# Ссылки"
   ]
  },
  {
   "cell_type": "markdown",
   "metadata": {},
   "source": [
    "[CLT] - [Central Limit Theorem](https://en.wikipedia.org/wiki/Central_limit_theorem), *in Wikipedia.*  \n",
    "[BTYD] - [Buy Till You Die](https://en.wikipedia.org/wiki/Buy_Till_you_Die), *in Wikipedia.*  \n",
    "[RandVarsConvergences] - [Convergence of Random Variables](https://en.wikipedia.org/wiki/Convergence_of_random_variables#Convergence_in_distribution), *in Wikipedia.*  \n",
    "[BerryEsseenTheorem] - [Berry-Esseen Theorem](https://en.wikipedia.org/wiki/Berry%E2%80%93Esseen_theorem), *in Wikipedia.*  \n",
    "[GenStudentT] - [Generalized Student's t-distribution](https://en.wikipedia.org/wiki/Student's_t-distribution#Generalized_Student's_t-distribution), *in Wikipedia.*"
   ]
  },
  {
   "cell_type": "markdown",
   "metadata": {},
   "source": [
    "# Черновики"
   ]
  },
  {
   "cell_type": "markdown",
   "metadata": {},
   "source": [
    "**Berry-Esseen Theorem**\n",
    "\n",
    "[[BerryEsseenTheorem](https://en.wikipedia.org/wiki/Berry%E2%80%93Esseen_theorem)]\n",
    "\n",
    "$$\n",
    "X_1, X_2, ..., X_n \\mbox{ i.i.d. with } E(X_1) = 0, E(X_1^2) = \\sigma^2 > 0, E(|X_1|^3) = \\rho < \\infty\n",
    "\\\\\n",
    "Y_n = \\frac{X_1 + X_2 + ... + X_n}{n}\n",
    "\\\\\n",
    "F_n - \\mbox{cumulative distribution of } \\frac{Y_n \\sqrt{n}}{\\sigma},\n",
    "\\Phi - \\mbox{cumulative distribution of a standard normal distribution}\n",
    "$$\n",
    "\n",
    "For all $x$ and $n$:\n",
    "$$\n",
    "|F_n(x) - \\Phi(x)| \\le \\frac{C \\rho}{\\sigma^3 \\sqrt{n}}\n",
    "$$\n",
    "\n",
    "Where $C$ is a numerical constant $C \\sim 0.5$."
   ]
  },
  {
   "cell_type": "code",
   "execution_count": null,
   "metadata": {},
   "outputs": [],
   "source": [
    "a = 1\n",
    "sample_len = 500\n",
    "n_samples = 1000\n",
    "exact_dist = stats.gamma(a=a)\n",
    "samp = exact_dist.rvs(size=(n_samples, sample_len))\n",
    "\n",
    "sigma = np.std(samp)\n",
    "rho = np.mean(np.abs(samp - samp.mean())**3)\n",
    "print(sigma, rho)\n",
    "\n",
    "C = 0.5 \n",
    "max_div = 0.01\n",
    "\n",
    "n_div = (C * rho / sigma**3 / max_div)**2\n",
    "n_div"
   ]
  },
  {
   "cell_type": "code",
   "execution_count": null,
   "metadata": {},
   "outputs": [],
   "source": [
    "c = 1.7\n",
    "sample_len = 500\n",
    "n_samples = 1000\n",
    "exact_dist = stats.lomax(c=c)\n",
    "samp = exact_dist.rvs(size=(n_samples, sample_len))\n",
    "\n",
    "sigma = np.std(samp)\n",
    "rho = np.mean(np.abs(samp - samp.mean())**3)\n",
    "print(sigma, rho)\n",
    "\n",
    "C = 0.5 \n",
    "max_div = 0.1\n",
    "\n",
    "n_div = (C * rho / sigma**3 / max_div)**2\n",
    "n_div"
   ]
  }
 ],
 "metadata": {
  "kernelspec": {
   "display_name": "Python 3 (ipykernel)",
   "language": "python",
   "name": "python3"
  },
  "language_info": {
   "codemirror_mode": {
    "name": "ipython",
    "version": 3
   },
   "file_extension": ".py",
   "mimetype": "text/x-python",
   "name": "python",
   "nbconvert_exporter": "python",
   "pygments_lexer": "ipython3",
   "version": "3.7.3"
  }
 },
 "nbformat": 4,
 "nbformat_minor": 4
}
