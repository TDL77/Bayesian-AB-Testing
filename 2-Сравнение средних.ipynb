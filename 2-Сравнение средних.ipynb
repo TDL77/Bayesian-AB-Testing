{
 "cells": [
  {
   "cell_type": "markdown",
   "metadata": {},
   "source": [
    "# Сравнение средних"
   ]
  },
  {
   "cell_type": "markdown",
   "metadata": {},
   "source": []
  },
  {
   "cell_type": "markdown",
   "metadata": {},
   "source": [
    "**Содержание:**\n",
    "* [Введение](#Введение)  \n",
    "* [Центральная предельная теорема](#Центральная-предельная-теорема)\n",
    "* [Оценка среднего значения распределения](#Оценка-среднего-значения-распределения)\n",
    "* [Сравнение средних двух распределений](#Сравнение-средних-двух-распределений)\n",
    "* [Приложение: сопряженное априорное распределение к нормальному распределению](#Приложение:-сопряженное-априорное-распределение-к-нормальному-распределению)\n",
    "* [Приложение: оценка параметров нормального распределения по сэмплу](#Приложение:-оценка-параметров-нормального-распределения-по-сэмплу)\n",
    "* [Заключение](#Заключение)  "
   ]
  },
  {
   "cell_type": "markdown",
   "metadata": {},
   "source": [
    "## Введение"
   ]
  },
  {
   "cell_type": "markdown",
   "metadata": {},
   "source": [
    "В веб-сервисы и мобильные приложения с течением времени вносятся изменения. Оценивать эффект от изменений можно сравнением метрик. При этом сравнение лучше проводить в рамках А/Б-тестов, чтобы минимизировать различие во внешних факторах.  \n",
    "\n",
    "Наибольший интерес представляют метрики, заложенные в план развития продукта. Сравнение конверсий было рассмотрено в предыдущей части. Могут быть интересны денежные метрики и метрики вовлеченности - выручка на пользователя, время в приложении, длительность просмотра видео и т.д.  \n",
    "\n",
    "<картинка>  "
   ]
  },
  {
   "cell_type": "markdown",
   "metadata": {},
   "source": [
    "Байесовский подход требует построения моделей распределений сравниваемых величин. Выбор модели - неочевидный вопрос. Есть отдельные модели, получившие распространение - например, [Buy Till You Die](https://en.wikipedia.org/wiki/Buy_Till_you_Die) для моделирования количества покупок клиента за все время использования сервиса. Но универсальных моделей нет. Это создает сложности."
   ]
  },
  {
   "cell_type": "markdown",
   "metadata": {},
   "source": [
    "С другой стороны, для многих величин не всегда нужно знать все распределение. \n",
    "Можно ограничиться сравнением средних:\n",
    "средней выручкой на пользователя, средней длительностью просмотра и т.д.\n",
    "\n",
    "Для средних значений часто применима центральная предельная теорема. Можно приближенно считать, что средние значения в выборках из распределения будут распределены нормально. Причем это не зависит от формы исходного распределения.  \n",
    "\n",
    "Центральная предельная теорема позволяет при сравнении средних использовать нормальное распределение в качестве функции правдоподобия."
   ]
  },
  {
   "cell_type": "markdown",
   "metadata": {},
   "source": [
    "В ч.1 обсуждался байесовским подход к оценке А/Б-тестов.  \n",
    "На примере конверсий было показано, как в рамках этого подхода ответить на вопросы\n",
    "- Какой вариант лучше и насколько?\n",
    "- Каковы оценки целевой метрики в каждом варианте?\n",
    "- Насколько уверены в оценке?\n",
    "- Сколько должен продолжаться эксперимент?\n",
    "\n",
    "В этой части будет рассмотрен вопрос о том, как ответить на эти же вопросы применительно к сравнению средних."
   ]
  },
  {
   "cell_type": "markdown",
   "metadata": {},
   "source": [
    "Структура следующая:\n",
    "- вначале обсуждается центральная предельная теорема\n",
    "- далее проводится оценка средних для распределений с известными параметрами\n",
    "- проводится сравнение средних для распределений с разными параметрами и делается попытка ответить на вопросы выше"
   ]
  },
  {
   "cell_type": "markdown",
   "metadata": {},
   "source": [
    "## Центральная предельная теорема"
   ]
  },
  {
   "cell_type": "markdown",
   "metadata": {},
   "source": [
    "Есть несколько центральных предельных теорем [[CLT](https://en.wikipedia.org/wiki/Central_limit_theorem)].\n",
    "Одна из возможных формулировок следующая. Пусть есть последовательность независимых одинаково распределенных случайных величин $X_1, X_2, \\dots, X_n, \\dots$ с конечным математическим ожиданием $\\mu$ и дисперсией $\\sigma^2$. Пусть $\\bar{X}_n = \\frac{1}{n} \\sum_{i=1}^{n} X_i$ их выборочное среднее. Тогда при $n$, стремящемся к бесконечности, распределение центрированных и масштабированных выборочных средних сходится к нормальному распределению со средним значением 0 и дисперсией 1\n",
    "\n",
    "$$\n",
    "\\frac{\\bar{X}_n - \\mu}{(\\sigma / \\sqrt{n})} \\to N(0, 1), \\quad n \\to \\infty.\n",
    "$$\n",
    "\n",
    "Сходимость понимается как сходимость по распределению [[RandVarsConvergences](https://en.wikipedia.org/wiki/Convergence_of_random_variables#Convergence_in_distribution)]."
   ]
  },
  {
   "cell_type": "markdown",
   "metadata": {},
   "source": [
    "Неформально этот результат можно применить следующим образом. Если взять произвольное распределение со средним значением $\\mu$ и диспресий $\\sigma^2$, начать выбирать из него сэмплы длины $n$ и считать среднее в каждом сэмпле, то средние значения сэмплов будут распределены приблизительно нормально $N(\\mu, \\sigma^2/n)$."
   ]
  },
  {
   "cell_type": "markdown",
   "metadata": {},
   "source": [
    "<center>\n",
    "<img src=\"central_limit_theorem.png\" alt=\"central_limit_theorem\" width=\"600\"/>\n",
    "</center>"
   ]
  },
  {
   "cell_type": "markdown",
   "metadata": {},
   "source": [
    "Приведенная формулировка центральной предельной теоремы говорит о сходимости к нормальному распределению центрированных и масштабированных выборочных средних $\\bar{X}_n$ при стремлении $n$ к бесконечности. Для фиксированного конечного числа $n$ нормальное распределение не гарантируется. При этом есть теоремы, дающие оценку отличия распределения суммы конечного количества случайных величин от нормального - см. [[BerryEssenTheorem](https://en.wikipedia.org/wiki/Berry%E2%80%93Esseen_theorem)]. Отличие зависит как от количества слагаемых, так и от параметров распределения. \n",
    "\n",
    "<На практике бывает достаточно нескольких десятков точек в каждом сэмпле.>  "
   ]
  },
  {
   "cell_type": "code",
   "execution_count": null,
   "metadata": {},
   "outputs": [],
   "source": [
    "import pandas as pd\n",
    "import numpy as np\n",
    "np.random.seed(7)\n",
    "\n",
    "from collections import namedtuple\n",
    "\n",
    "import scipy.stats as stats\n",
    "import plotly.express as px\n",
    "import plotly.graph_objects as go\n",
    "from plotly.subplots import make_subplots\n",
    "\n",
    "#todo: update scipy; make venv"
   ]
  },
  {
   "cell_type": "code",
   "execution_count": null,
   "metadata": {},
   "outputs": [],
   "source": [
    "a = 1\n",
    "sample_len = 100\n",
    "n_samples = 1000\n",
    "\n",
    "exact_dist = stats.gamma(a=a)\n",
    "samp = exact_dist.rvs(size=(n_samples, sample_len))\n",
    "means = np.array([x.mean() for x in samp])\n",
    "clt_mu = exact_dist.mean()\n",
    "clt_stdev = exact_dist.std() / np.sqrt(sample_len)\n",
    "\n",
    "x = np.linspace(0, 10, 10000)\n",
    "fig = go.Figure()\n",
    "fig.add_trace(go.Scatter(x=x, y=exact_dist.pdf(x), mode='lines', name='Exact Dist'))\n",
    "fig.add_trace(go.Histogram(x=samp[0], histnorm='probability density', name='Sample'))\n",
    "fig.update_layout(title=f'Original Distribution and a Sample of Length {sample_len}',\n",
    "                  xaxis_title='x',\n",
    "                  yaxis_title='Prob Density',\n",
    "                  hovermode=\"x\",\n",
    "                  height=550)\n",
    "fig.show()\n",
    "\n",
    "\n",
    "fig = go.Figure()\n",
    "fig.add_trace(go.Scatter(x=x, y=exact_dist.pdf(x), \n",
    "                         mode='lines', line_dash='dash', name='Original Distribution'))\n",
    "fig.add_vline(exact_dist.mean(), name='Original Distribution Mean')\n",
    "fig.add_trace(go.Histogram(x=means, histnorm='probability density', name='Means of Samples'))\n",
    "fig.add_trace(go.Scatter(x=x, y=stats.norm.pdf(x, loc=clt_mu, scale=clt_stdev), \n",
    "                         mode='lines', name='CLT Means Distrib'))\n",
    "fig.update_layout(title='Sample Means Distribution',\n",
    "                  xaxis_title='x',\n",
    "                  yaxis_title='Prob Density',\n",
    "                  hovermode=\"x\",\n",
    "                  height=550)\n",
    "fig.update_layout(xaxis_range=[0, 5])\n",
    "fig.show()"
   ]
  },
  {
   "cell_type": "markdown",
   "metadata": {},
   "source": [
    "В приведенной формулировке центральная предельная теорема требует существования конечных среднего и дисперсии у исходного распределения. Примерами распределений, для которых эти свойства могут не выполнятся, являются распределение Парето [[ParetoDist](https://en.wikipedia.org/wiki/Pareto_distribution), [SciPyPareto](https://docs.scipy.org/doc/scipy/reference/generated/scipy.stats.pareto.html)] и близкое к нему распределение Ломакса [[LomaxDist](https://en.wikipedia.org/wiki/Lomax_distribution), [SciPyLomax](https://docs.scipy.org/doc/scipy/reference/generated/scipy.stats.lomax.html)]. Плотность вероятности последнего имеет вид\n",
    "\n",
    "$$\n",
    "P(x; c) = \\frac{c}{(1 + x )^{c + 1}}, \\quad x \\ge 0, c > 0.\n",
    "$$\n",
    "\n",
    "При значениях параметра $c$ меньше или равном 2 дисперсия распределения Ломакса не является конечной.  "
   ]
  },
  {
   "cell_type": "markdown",
   "metadata": {},
   "source": [
    "На графиках ниже приведена гистограмма средних в сэмплах и нормальное распределение с параметрами, равными среднему и дисперсии средних сэмплов."
   ]
  },
  {
   "cell_type": "code",
   "execution_count": null,
   "metadata": {},
   "outputs": [],
   "source": [
    "c = 1.7\n",
    "sample_len = 500\n",
    "n_samples = 1000\n",
    "\n",
    "exact_dist = stats.lomax(c=c)\n",
    "samp = exact_dist.rvs(size=(n_samples, sample_len))\n",
    "means = np.array([x.mean() for x in samp])\n",
    "clt_mu = exact_dist.mean()\n",
    "clt_stdev = exact_dist.std() / np.sqrt(sample_len)\n",
    "means_stdev = means.std()\n",
    "\n",
    "x = np.linspace(0, 30, 10000)\n",
    "fig = go.Figure()\n",
    "fig.add_trace(go.Scatter(x=x, y=exact_dist.pdf(x), mode='lines', name='Exact Dist'))\n",
    "fig.add_trace(go.Histogram(x=samp[0], histnorm='probability density', name='Sample'))\n",
    "fig.update_layout(title=f'Original Distribution and a Sample of Length {sample_len}',\n",
    "                  xaxis_title='x',\n",
    "                  yaxis_title='Prob Density',\n",
    "                  hovermode=\"x\",\n",
    "                  height=550)\n",
    "fig.show()\n",
    "\n",
    "\n",
    "fig = go.Figure()\n",
    "fig.add_trace(go.Scatter(x=x, y=exact_dist.pdf(x), \n",
    "                         mode='lines', line_dash='dash', name='Original Distribution'))\n",
    "fig.add_vline(exact_dist.mean(), name='Original Distribution Mean')\n",
    "fig.add_trace(go.Histogram(x=means, histnorm='probability density', name='Means of Samples'))\n",
    "fig.add_trace(go.Scatter(x=x, y=stats.norm.pdf(x, loc=clt_mu, scale=means_stdev), \n",
    "                         mode='lines', name='CLT-like Normal'))\n",
    "fig.update_layout(title='Sample Means Distribution',\n",
    "                  xaxis_title='x',\n",
    "                  yaxis_title='Prob Density',\n",
    "                  hovermode=\"x\",\n",
    "                  height=550)\n",
    "fig.update_layout(xaxis_range=[0, 5])\n",
    "fig.show()"
   ]
  },
  {
   "cell_type": "markdown",
   "metadata": {},
   "source": [
    "Видно, что распределение средних сильнее отличается от нормального, чем в предыдущем примере - оно скошено в сторону больших значений. Это объясняется тем, что плотность вероятности в распределениях Паретто и Ломакса \"медленно\" убывает с ростом $x$ (\"тяжелый хвост\"). Если в сэмпл попадает значение из хвоста, среднее сэмпла смещается. В итоге распределение средних перестает быть нормальным и становится скошенным в сторону больших значений.  "
   ]
  },
  {
   "cell_type": "markdown",
   "metadata": {},
   "source": [
    "<Есть обобщенная центральная предельная теорема https://en.wikipedia.org/wiki/Stable_distribution#A_generalized_central_limit_theorem, которая говорит \n",
    "про предельное распределение средних в этом случае>.  "
   ]
  },
  {
   "cell_type": "markdown",
   "metadata": {},
   "source": [
    "# Оценка среднего значения распределения"
   ]
  },
  {
   "cell_type": "markdown",
   "metadata": {},
   "source": [
    "Пусть задано распределение и есть сэмпл из него.  \n",
    "Нужно оценить среднее значение распределения.  "
   ]
  },
  {
   "cell_type": "code",
   "execution_count": null,
   "metadata": {},
   "outputs": [],
   "source": [
    "a = 1\n",
    "exact_dist = stats.gamma(a=a)\n",
    "\n",
    "sample_size = 1000\n",
    "samp = exact_dist.rvs(size=sample_size)\n",
    "exact_mean = exact_dist.mean()\n",
    "sample_mean = samp.mean()\n",
    "\n",
    "x = np.linspace(0, 10, 10000)\n",
    "ymax = np.max(exact_dist.pdf(x))\n",
    "fig = go.Figure()\n",
    "fig.add_trace(go.Scatter(x=x, y=exact_dist.pdf(x), mode='lines', name='Exact'))\n",
    "fig.add_trace(go.Histogram(x=samp, histnorm='probability density', name='Sample'))\n",
    "fig.add_trace(go.Scatter(x=[exact_mean, exact_mean], y=[0, ymax], \n",
    "                         mode='lines', line_color='black', \n",
    "                         name='Exact Mean'))\n",
    "fig.add_trace(go.Scatter(x=[sample_mean, sample_mean], y=[0, ymax], \n",
    "                         mode='lines', line_dash='dash', line_color='black', \n",
    "                         name='Sample Mean'))\n",
    "fig.update_layout(title='Dist',\n",
    "                  xaxis_title='p',\n",
    "                  yaxis_title='Prob Density',\n",
    "                  hovermode=\"x\",\n",
    "                  height=550)\n",
    "fig.show()"
   ]
  },
  {
   "cell_type": "markdown",
   "metadata": {},
   "source": [
    "Точечную оценку среднего распределения дает среднее значение в сэмпле.  \n",
    "Но кроме точечных оценок нужны распределения возможных значений средних.   \n",
    "Для этого можно использовать центральную предельную теорему."
   ]
  },
  {
   "cell_type": "markdown",
   "metadata": {},
   "source": [
    "По центральной предельной теореме можно ожидать, что средние значения сэмплов будут распределены нормально.  \n",
    "Поэтому можно выбрать нормальное распределение в качестве функции правдоподобия и с помощью соотношения Байеса построить распределение вероятности возможных параметров.  "
   ]
  },
  {
   "cell_type": "markdown",
   "metadata": {},
   "source": [
    "Можно посчитать среднее по всем точкам сэмпла после чего оценивать распределения параметров модели для получения этого значения. Проблема в том, что по одной точке нельзя понять, выполняется ли центральная предельная теорема и можно ли применять нормальную функцию правдоподобия."
   ]
  },
  {
   "cell_type": "markdown",
   "metadata": {},
   "source": [
    "Более устойчивым способом кажется разбить сэмпл на части по $n$ точек (например, $n = 25$). В каждой части посчитать среднее. После чего оценить распределение параметров при приближении распределения средних нормальным распределением. В таком подходе появляется возможность валидировать модель."
   ]
  },
  {
   "cell_type": "markdown",
   "metadata": {},
   "source": [
    "<картинка>"
   ]
  },
  {
   "cell_type": "markdown",
   "metadata": {},
   "source": [
    "Полезно построить график средних в сэмплах и визуально сравнить его с нормальным. Вид гистограммы средних будет меняться в зависимости от выбранного n_split. Можно попробовать подбирать n_split как гиперпараметр и выбирать значение по итогам кросс-валидации. Пока выбрано фиксированное значение n_split = 25. *Можно попробовать оценить n_split из неравенства Берри-Эссена [[BerryEssenTheorem](https://en.wikipedia.org/wiki/Berry%E2%80%93Esseen_theorem)]*. \n",
    "\n",
    "Т.к. исходное распределение неизвестно, для параметров нормального распределения средних можно использовать среднее и дисперсию из выборки. "
   ]
  },
  {
   "cell_type": "code",
   "execution_count": null,
   "metadata": {},
   "outputs": [],
   "source": [
    "def reshape_and_compute_means(sample, n_split):\n",
    "    n_means = len(sample) // n_split\n",
    "    samp_reshaped = np.reshape(sample[0 : n_means * n_split], (n_means, n_split))\n",
    "    means = np.array([x.mean() for x in samp_reshaped])\n",
    "    return means\n",
    "\n",
    "def exact_clt_dist(exact_dist, n_split):\n",
    "    clt_mu = exact_dist.mean()\n",
    "    clt_stdev = exact_dist.std() / np.sqrt(n_split)\n",
    "    return stats.norm(loc=clt_mu, scale=clt_stdev)\n",
    "\n",
    "def sample_clt_dist(means):\n",
    "    clt_mu = means.mean()\n",
    "    clt_std = means.std()\n",
    "    return stats.norm(loc=clt_mu, scale=clt_std)"
   ]
  },
  {
   "cell_type": "code",
   "execution_count": null,
   "metadata": {},
   "outputs": [],
   "source": [
    "n_split = 25\n",
    "means = reshape_and_compute_means(samp, n_split)\n",
    "\n",
    "x = np.linspace(0, 10, 10000)\n",
    "fig = go.Figure()\n",
    "fig.add_trace(go.Scatter(x=x, y=exact_dist.pdf(x), mode='lines', line_dash='dash', name='Original Distribution'))\n",
    "fig.add_trace(go.Histogram(x=means, histnorm='probability density', name='Means of Samples'))\n",
    "fig.add_trace(go.Scatter(x=x, y=sample_clt_dist(means).pdf(x), mode='lines', name='CLT-like Normal'))\n",
    "fig.update_layout(title='Means of Samples and CLT-like Normal',\n",
    "                  xaxis_title='p',\n",
    "                  yaxis_title='Prob Density',\n",
    "                  hovermode=\"x\",\n",
    "                  height=550)\n",
    "fig.update_layout(xaxis_range=[0, 5])\n",
    "fig.show()"
   ]
  },
  {
   "cell_type": "markdown",
   "metadata": {},
   "source": [
    "*Хочется иметь численный критерий, что можно использовать нормальное распределение.*  \n",
    "*По-хорошему, кросс-валидация + нужно решить, что делать с ее результатами.*  \n",
    "*Посмотреть, есть ли что-то в https://en.wikipedia.org/wiki/Normality_test*.     "
   ]
  },
  {
   "cell_type": "markdown",
   "metadata": {},
   "source": [
    "В байесовском подходе для оценки плотности вероятности параметров модели используется соотношение\n",
    "\n",
    "$$\n",
    "P(model | data) = \\frac{ P(data | model) P(model) }{P(data)}.\n",
    "$$"
   ]
  },
  {
   "cell_type": "markdown",
   "metadata": {},
   "source": [
    "Для построения модели распределения средних байесовским методом функцию правдоподобия можно задать в виде нормального распределения:\n",
    "\n",
    "$$\n",
    "P(data | model) = N(x; \\mu, \\frac{\\sigma_{0}^2}{\\lambda} ) ,  \n",
    "\\\\\n",
    "N(x ; \\mu, \\frac{\\sigma_{0}^2}{\\lambda}) = \\frac{\\lambda^{1/2}}{\\sqrt{2 \\pi \\sigma_{0}^2}} e^{- \\frac{\\lambda}{2 \\sigma_{0}^2} (x-\\mu)^2} .\n",
    "$$\n",
    "\n",
    "Можно показать (см. приложение), что для такой функции правдоподобия произведение нормального и гамма-распределений будет сопряженным априорным распределением:\n",
    "$$\n",
    "P(model | data) = N(\\mu; \\mu_i, \\frac{\\sigma_0^2}{k_i \\lambda} ) Gamma(\\lambda; a_i, b_i) ,  \n",
    "\\\\\n",
    "Gamma(\\lambda; a,b) = \\frac{b^a}{\\Gamma(a)} \\lambda^{a-1} e^{-b \\lambda} .\n",
    "$$\n",
    "\n",
    "Параметры интерпретируются следующим образом:   \n",
    "\n",
    "<картинка и описание>  \n",
    "\n",
    "Параметры $\\mu_i \\to \\mu_{CLT}$ и $\\sigma_{0}^2 / \\lambda \\to \\sigma^2_{CLT}$ (?определить $\\sigma_{CLT}$; верно ли $\\sigma_{0}^2 / \\lambda  \\to \\sigma^2 / n$?).  \n",
    "$\\lambda$ - отношение дисперсии модели к дисперсии ЦПТ,\n",
    "$\\sigma_0^2$ задается по историческим данным, $\\lambda$ варьируется.  \n",
    "Параметры $a_i, b_i$ определяют точное распределение этого коэффициента.   \n",
    "\n",
    "\n",
    "Обновление параметров сопряженного распределения с каждой новой точкой $x_i$ выполняется\n",
    "по соотношениям:\n",
    "\n",
    "$$\n",
    "k_{i+1} = k_i + 1 ,  \n",
    "\\\\\n",
    "\\mu_{i+1} = \\frac{x_i + k_i \\mu_i}{k_i + 1} ,  \n",
    "\\\\\n",
    "a_{i+1} = a_i + 1/2 , \n",
    "\\\\\n",
    "b_{i+1} = b_i + \\frac{k_i}{k_i + 1} \\frac{(x_i - \\mu_i)^2}{2 \\sigma_0^2} . \n",
    "$$\n",
    "\n",
    "Исходные значения параметров $\\mu_0$ и $\\sigma_0$ можно задать произвольно. Но если они будут далеки\n",
    "от реальных, то модель может оказаться неточной. Поэтому удобнее задавать их либо\n",
    "по историческим данным, либо на основе части данных из сэмпла. Для $\\mu_0$ можно\n",
    "выбрать среднее $\\bar{x}_1$ в первом наборе из $n$ точек, для $\\sigma_0^2$ - дисперсию в этой\n",
    "части сэмпла $\\sigma_{\\bar{x}_1}^2$, отнесенную к количеству точек $n_{split}$.\n",
    "Для начальных значений $a_0$ и $b_0$ можно выбрать 2 и 1, поскольку при таких значениях\n",
    "параметров мода $p(\\lambda) = Gamma(\\lambda, a=2, b=1)$ будет равна 1. Значение\n",
    "$k_0$ можно выбрать $1/25$, чтобы вначале обеспечить широкую область для $P(\\mu) = N(\\mu_0, (5 \\sigma_0)^2)$.\n",
    "\n",
    "$$\n",
    "\\mu_0 = \\bar{x}_1, \\sigma_0 = \\sigma_{\\bar{x}_1} / \\sqrt{n_{split}} ,\n",
    "\\\\ \n",
    "k_0 = 1/25 ,\n",
    "\\\\\n",
    "a_0 = 2, b_0 = 1 .\n",
    "$$"
   ]
  },
  {
   "cell_type": "code",
   "execution_count": null,
   "metadata": {},
   "outputs": [],
   "source": [
    "ConjugateNormalParams = namedtuple('ConjugateNormalParams', 'mu sigma k a b')\n",
    "\n",
    "def initial_parameters(mu, sigma, k=1/25, a=2, b=1):\n",
    "    return ConjugateNormalParams(mu=mu, sigma=sigma, k=k, a=a, b=b)\n",
    "\n",
    "def update_conj_parameters(x, conj_norm_pars):\n",
    "    mu_p = (x + conj_norm_pars.k * conj_norm_pars.mu) / (conj_norm_pars.k + 1)\n",
    "    sigma_p = conj_norm_pars.sigma\n",
    "    k_p = conj_norm_pars.k + 1\n",
    "    a_p = conj_norm_pars.a + 1/2\n",
    "    b_p = conj_norm_pars.b + conj_norm_pars.k / (conj_norm_pars.k + 1) * (x - conj_norm_pars.mu)**2 / (2 * conj_norm_pars.sigma**2)\n",
    "    return ConjugateNormalParams(mu=mu_p, sigma=sigma_p, k=k_p, a=a_p, b=b_p)\n",
    "\n",
    "def compute_posterior_parameters(sample, n_split):\n",
    "    means = reshape_and_compute_means(sample, n_split)\n",
    "    mean_1 = means[0]\n",
    "    sigma_1 = sample[0:n_split].std() / np.sqrt(n_split)\n",
    "    pars = []\n",
    "    pars.append(initial_parameters(mu=mean_1, sigma=sigma_1)) \n",
    "    for x in means[1:]:\n",
    "        new_pars = update_conj_parameters(x, pars[-1])\n",
    "        pars.append(new_pars)\n",
    "    return pars\n",
    "\n",
    "#pars_initial = initial_parameters(mu=1, sigma=2)\n",
    "#print(pars_initial)\n",
    "#print(update_conj_parameters(1.3, pars_initial))\n",
    "#pars = compute_posterior_parameters(samp, n_splilt)\n",
    "#print(pars[-1])"
   ]
  },
  {
   "cell_type": "markdown",
   "metadata": {},
   "source": [
    "Для анализа параметров и сравнения групп вместо двумерного распределения параметров $P(\\mu, \\lambda | data)$ удобнее сравнивать одномерные маржинальные распределения по соответствующим параметрам $P(\\lambda | data), P(\\mu | data)$.\n",
    "\n",
    "Маржинальное апостериорное распределение $P(\\lambda | data)$ по конструкции задается гамма-распределением:\n",
    "\n",
    "$$\n",
    "P(\\lambda | data) = Gamma(\\lambda; a_i, b_i).\n",
    "$$\n",
    "\n",
    "Для интерпретации удобнее величина $\\sigma = \\sigma_0 / \\lambda^{1/2}$, распределение которой можно получить с помощью [замены переменных](https://en.wikipedia.org/wiki/Probability_density_function#Function_of_random_variables_and_change_of_variables_in_the_probability_density_function) :\n",
    "\n",
    "$$\n",
    "P(\\sigma | data) = Gamma\\left( \\frac{\\sigma_0^2}{\\sigma^2 }; a_i, b_i \\right) \\frac{2 \\sigma_0^2}{\\sigma^3}, \n",
    "\\quad \\sigma > 0 .\n",
    "$$\n",
    "\n",
    "Можно показать (см. приложение), что маржинальное апостериорное распределение $P(\\mu | data)$ задается $t$-распределением:\n",
    "\n",
    "$$\n",
    "P(\\mu | data) = t(\\mu | \\nu = 2a_i, \\mu_t = \\mu_i, \\sigma_t^2 = \\frac{\\sigma_0^2}{k_i} \\frac{b_i}{a_i} ).\n",
    "$$\n",
    "\n",
    "Для апостериорного распределения нужно вначале сгенерировать параметры модели, потом подставить их в функцию правдоподобия. Т.е. нужно произведение соответствующих распределений:\n",
    "\n",
    "$$\n",
    "P(x) = N(x; \\mu, \\frac{\\sigma_0^2}{\\lambda} ) N(\\mu; \\mu_i, \\frac{\\sigma_0^2}{k_i \\lambda} ) Gamma(\\lambda; a_i, b_i) .\n",
    "$$"
   ]
  },
  {
   "cell_type": "code",
   "execution_count": null,
   "metadata": {},
   "outputs": [],
   "source": [
    "def mu_marginal_distrib(conj_norm_pars):\n",
    "    #ok; function results coincide with manual comp\n",
    "    df = 2 * conj_norm_pars.a\n",
    "    loc = conj_norm_pars.mu\n",
    "    scale = np.sqrt(conj_norm_pars.sigma**2 / conj_norm_pars.k * conj_norm_pars.b / conj_norm_pars.a)\n",
    "    return stats.t(df=df, loc=loc, scale=scale)\n",
    "\n",
    "def lambda_marginal_distrib(conj_norm_pars):\n",
    "    return stats.gamma(a=conj_norm_pars.a, scale=1/conj_norm_pars.b)\n",
    "\n",
    "def sigma_marginal_distrib_pdf(x, conj_norm_pars):\n",
    "    #ok; function results coincide with hist of sigma_0/sqrt(lambda)\n",
    "    dl_ds = 2 * conj_norm_pars.sigma**2 / np.abs(x**3)\n",
    "    return lambda_marginal_distrib(conj_norm_pars).pdf(conj_norm_pars.sigma**2 / x**2) * dl_ds\n",
    "\n",
    "PosteriorParams = namedtuple('PosteriorParams', 'mu lmd sigma')\n",
    "\n",
    "def post_params_rvs(conj_norm_pars, size):\n",
    "    lmds = stats.gamma.rvs(a=conj_norm_pars.a, scale=1/conj_norm_pars.b, size=size)\n",
    "    mus = stats.norm.rvs(loc=conj_norm_pars.mu, scale=conj_norm_pars.sigma / np.sqrt(lmds * conj_norm_pars.k))\n",
    "    #return [{'mu': mu, 'lambda': l, 'sigma':conj_norm_pars.sigma} for mu, l in zip(mus, lmds)]\n",
    "    return [PosteriorParams(mu, l, conj_norm_pars.sigma) for mu, l in zip(mus, lmds)]\n",
    "    \n",
    "def post_means_rvs(conj_norm_pars, size):\n",
    "    #ok; function results coincide with manual comp\n",
    "    lmd = lambda_marginal_distrib(conj_norm_pars).rvs(size=size)\n",
    "    post_mu = stats.norm.rvs(loc=conj_norm_pars.mu, scale=conj_norm_pars.sigma / np.sqrt(lmd * conj_norm_pars.k))\n",
    "    post_means = stats.norm.rvs(loc=post_mu, scale=conj_norm_pars.sigma / np.sqrt(lmd))\n",
    "    return post_means"
   ]
  },
  {
   "cell_type": "markdown",
   "metadata": {},
   "source": [
    "Распределения параметров $\\mu$ и $\\sigma$ приведены ниже:"
   ]
  },
  {
   "cell_type": "code",
   "execution_count": null,
   "metadata": {},
   "outputs": [],
   "source": [
    "pars = compute_posterior_parameters(samp, n_split)\n",
    "\n",
    "#mu\n",
    "mu_dist = mu_marginal_distrib(pars[-1])\n",
    "x = np.linspace(0, 10, 10000)\n",
    "yplot = mu_dist.pdf(x)\n",
    "ymax = max(yplot)\n",
    "fig = go.Figure()\n",
    "fig.add_trace(go.Scatter(x=x, y=mu_dist.pdf(x), mode='lines', name=f'Mu Estimate Distrib'))\n",
    "fig.add_trace(go.Scatter(x=[means.mean(), means.mean()], y=[0, ymax],\n",
    "                         mode='lines', line_color='black', line_dash='dash', \n",
    "                         name='Sample Mean'))\n",
    "fig.add_trace(go.Scatter(x=[exact_dist.mean(), exact_dist.mean()], y=[0, ymax], \n",
    "                         mode='lines', line_color='black',\n",
    "                         name='Exact Mean'))\n",
    "fig.update_layout(title='Dist',\n",
    "                  xaxis_title='mu',\n",
    "                  yaxis_title='Prob Density',\n",
    "                  hovermode=\"x\",\n",
    "                  height=550)\n",
    "fig.update_layout(xaxis_range=[0, 5])\n",
    "fig.show()\n",
    "\n",
    "# sigma\n",
    "fig = go.Figure()\n",
    "x = np.linspace(0.001, 10, 10000)\n",
    "x_plot = x\n",
    "y_plot = sigma_marginal_distrib_pdf(x, pars[-1])\n",
    "y_max = max(y_plot)\n",
    "fig.add_trace(go.Scatter(x=x, \n",
    "                         y=y_plot, \n",
    "                         mode='lines', line_dash='dash', name=f'Sigma Estimate Distrib'))\n",
    "# lambdas = lambda_marginal_distrib(pars[-1]).rvs(size=50000)\n",
    "# sigmas = pars[-1].sigma / np.sqrt(lambdas)\n",
    "# fig.add_trace(go.Histogram(x=sigmas, histnorm='probability density', name='Sigma Hist',\n",
    "#                            opacity=0.7))\n",
    "fig.add_trace(go.Scatter(x=[means.std(), means.std()], \n",
    "                         y=[0, y_max],\n",
    "                         mode='lines', line_color='black', line_dash='dash', \n",
    "                         name='Sample Stdev'))\n",
    "fig.add_trace(go.Scatter(x=[exact_clt_dist(exact_dist, n_split).std(), exact_clt_dist(exact_dist, n_split).std()], \n",
    "                         y=[0, y_max], \n",
    "                         mode='lines', line_color='black',\n",
    "                         name='Exact Stdev'))\n",
    "fig.update_layout(title='Dist',\n",
    "                  xaxis_title='p',\n",
    "                  yaxis_title='Prob Density',\n",
    "                  hovermode=\"x\",\n",
    "                  barmode=\"overlay\",\n",
    "                  height=550)\n",
    "fig.update_layout(xaxis_range=[0, 1])\n",
    "fig.show()"
   ]
  },
  {
   "cell_type": "markdown",
   "metadata": {},
   "source": [
    "Видно, что моды распределений близки к значениям среднего и дисперсии в сэмпле. Также точные значения имеют \"большое\" значение плотности вероятности."
   ]
  },
  {
   "cell_type": "markdown",
   "metadata": {},
   "source": [
    "Распределение сгенерированных апостериорных средних:"
   ]
  },
  {
   "cell_type": "code",
   "execution_count": null,
   "metadata": {},
   "outputs": [],
   "source": [
    "#post means\n",
    "post_means = post_means_rvs(pars[-1], size=50000)\n",
    "\n",
    "fig = go.Figure()\n",
    "fig.add_trace(go.Scatter(x=x, y=exact_dist.pdf(x), mode='lines', line_dash='dash', name='Original Distribution'))\n",
    "fig.add_vline(exact_dist.mean(), name='Original Distribution Mean')\n",
    "fig.add_vline(means.mean(), line_dash='dash', name='Sample Mean')\n",
    "fig.add_trace(go.Histogram(x=means, histnorm='probability density', name='Means of Samples',\n",
    "                           opacity=0.7, marker_color='green'))\n",
    "#fig.add_trace(go.Scatter(x=x, y=exact_clt_dist(exact_dist, n_split).pdf(x), mode='lines', name='CLT Distribution'))\n",
    "fig.add_trace(go.Scatter(x=x, y=sample_clt_dist(means).pdf(x), mode='lines', name='CLT-like Distribution'))\n",
    "fig.add_trace(go.Scatter(x=x, y=mu_dist.pdf(x), mode='lines', name=f'Mu Estimate Distrib'))    \n",
    "   \n",
    "fig.add_trace(go.Histogram(x=post_means, histnorm='probability density', name='Posterior Means', opacity=0.7))\n",
    "fig.update_layout(title='Dist',\n",
    "                  xaxis_title='p',\n",
    "                  yaxis_title='Prob Density',\n",
    "                  hovermode=\"x\",\n",
    "                  height=550,\n",
    "                  barmode=\"overlay\")\n",
    "fig.update_layout(xaxis_range=[0, 5])\n",
    "fig.show()"
   ]
  },
  {
   "cell_type": "markdown",
   "metadata": {},
   "source": [
    "Распределение сгенерированных апостериорных средних обычно несколько шире, чем распределение центральной предельной теоремы. Это объясняется дисперсией в параметрах $\\mu$ и $\\lambda$ (в ЦПТ $\\mu$ и $\\sigma$ фиксированные числа). \n",
    "\n",
    "Для наглядности удобно нарисовать распределение параметра $\\mu_i$ и распределение средних на одном графике.\n",
    "Распределение средних шире, чем распределение параметра $\\mu$. Это связано с учетом дисперсии $\\sigma_0/\\lambda^{1/2}$. "
   ]
  },
  {
   "cell_type": "markdown",
   "metadata": {},
   "source": [
    "# Сравнение средних двух распределений"
   ]
  },
  {
   "cell_type": "markdown",
   "metadata": {},
   "source": [
    "Пусть есть два распределения одинаковой формы, но с разными средними значениями.\n",
    "Для примера\n",
    "\n",
    "$$\n",
    "x \\sim Gamma(a, b),\n",
    "\\quad\n",
    "\\bar{x} = \\frac{a}{b},\n",
    "\\quad\n",
    "\\sigma^2 = \\frac{a}{b^2}\n",
    ".\n",
    "$$\n",
    "\n",
    "В одном случае параметры $a_A = 1, b_A = 1$ и среднее $\\bar{x}_A = 1$, в другом параметры $a_B = 1, b_B = 1.25$ и среднее $\\bar{x}_B = 0.8$. При выбранных значениях параметров среднее в группе $B$ отличается на $20\\%$ от группы $A$ (относительно $A$)."
   ]
  },
  {
   "cell_type": "code",
   "execution_count": null,
   "metadata": {},
   "outputs": [],
   "source": [
    "exp_info = pd.DataFrame([\n",
    "    {'group':'A', 'a':1, 'b':1, 'sample_size':10000},\n",
    "    {'group':'B', 'a':1, 'b':1.25, 'sample_size':10000}])\n",
    "exp_info.set_index('group', inplace=True)\n",
    "\n",
    "exact_dist_a = stats.gamma(a=exp_info['a']['A'], scale=1/exp_info['b']['A'])\n",
    "exact_dist_b = stats.gamma(a=exp_info['a']['B'], scale=1/exp_info['b']['B'])\n",
    "exp_info['exact_mean'] = pd.Series({'A': exact_dist_a.mean(), 'B':exact_dist_b.mean()})\n",
    "display(exp_info)\n",
    "\n",
    "samp_a = exact_dist_a.rvs(size=exp_info['sample_size']['A'])\n",
    "samp_b = exact_dist_b.rvs(size=exp_info['sample_size']['B'])\n",
    "\n",
    "x = np.linspace(0, 10, 10000)\n",
    "ymax = np.max([exact_dist_a.pdf(x), exact_dist_b.pdf(x)])\n",
    "\n",
    "fig = go.Figure()\n",
    "col = 'red'\n",
    "fig.add_trace(go.Scatter(x=x, y=exact_dist_a.pdf(x), \n",
    "                         mode='lines', line_color=col,\n",
    "                         name=f\"Exact A: a={exp_info['a']['A']}, b={exp_info['b']['A']}\"))\n",
    "fig.add_trace(go.Histogram(x=samp_a, histnorm='probability density',\n",
    "                           name='Sample A',\n",
    "                           opacity=0.3, marker_color=col))\n",
    "fig.add_trace(go.Scatter(x=[exact_dist_a.mean(), exact_dist_a.mean()], y=[0, ymax], \n",
    "                         mode='lines', line_color=col, line_dash='dash',\n",
    "                         name='Exact Mean A'))\n",
    "col = 'blue'\n",
    "fig.add_trace(go.Scatter(x=x, y=exact_dist_b.pdf(x), \n",
    "                         mode='lines', line_color=col,\n",
    "                         name=f\"Exact B: a={exp_info['a']['B']}, b={exp_info['b']['B']}\"))\n",
    "fig.add_trace(go.Histogram(x=samp_b, histnorm='probability density',\n",
    "                           name='Sample B',\n",
    "                           opacity=0.3, marker_color=col))\n",
    "fig.add_trace(go.Scatter(x=[exact_dist_b.mean(), exact_dist_b.mean()], y=[0, ymax], \n",
    "                         mode='lines', line_color=col, line_dash='dash',\n",
    "                         name='Exact Mean B'))\n",
    "fig.update_layout(title='Exact Distributions and Samples',\n",
    "                  xaxis_title='x',\n",
    "                  yaxis_title='Prob Density',\n",
    "                  hovermode=\"x\",\n",
    "                  height=550,\n",
    "                  barmode='overlay')\n",
    "fig.show()"
   ]
  },
  {
   "cell_type": "markdown",
   "metadata": {},
   "source": [
    "Распределение средних на основе точек из сэмплов:"
   ]
  },
  {
   "cell_type": "code",
   "execution_count": null,
   "metadata": {},
   "outputs": [],
   "source": [
    "n_split = 25\n",
    "\n",
    "means_a = reshape_and_compute_means(samp_a, n_split)\n",
    "means_b = reshape_and_compute_means(samp_b, n_split)\n",
    "\n",
    "x = np.linspace(0, 10, 10000)\n",
    "ymax = np.max([exact_dist_a.pdf(x), exact_dist_b.pdf(x), \n",
    "               sample_clt_dist(means_a).pdf(x), sample_clt_dist(means_b).pdf(x)])\n",
    "\n",
    "\n",
    "fig = go.Figure()\n",
    "col = 'red'\n",
    "fig.add_trace(go.Histogram(x=means_a, histnorm='probability density',\n",
    "                           name='A Sample Means',\n",
    "                           opacity=0.3, marker_color=col))\n",
    "fig.add_trace(go.Scatter(x=x, y=sample_clt_dist(means_a).pdf(x), \n",
    "                         mode='lines', line_color=col, opacity=0.5,\n",
    "                         name=f\"A Sample CLT\"))\n",
    "fig.add_trace(go.Scatter(x=x, y=exact_dist_a.pdf(x), \n",
    "                         mode='lines', line_color=col, line_dash='dash', opacity=0.3,\n",
    "                         name=f\"A Exact: a={exp_info['a']['A']}, b={exp_info['b']['A']}\"))\n",
    "# fig.add_trace(go.Scatter(x=[means_a.mean(), means_a.mean()], y=[0, ymax],\n",
    "#                          mode='lines', line_color=col, line_dash='dash', \n",
    "#                          name='A Sample Mean'))\n",
    "col = 'blue'\n",
    "fig.add_trace(go.Histogram(x=means_b, histnorm='probability density',\n",
    "                           name='B Sample Means',\n",
    "                           opacity=0.3, marker_color=col))\n",
    "fig.add_trace(go.Scatter(x=x, y=sample_clt_dist(means_b).pdf(x), \n",
    "                         mode='lines', line_color=col, opacity=0.5,\n",
    "                         name=f\"B Sample CLT\"))\n",
    "fig.add_trace(go.Scatter(x=x, y=exact_dist_b.pdf(x), \n",
    "                         mode='lines', line_color=col, line_dash='dash', opacity=0.3,\n",
    "                         name=f\"B Exact: a={exp_info['a']['B']}, b={exp_info['b']['B']}\"))\n",
    "# fig.add_trace(go.Scatter(x=[means_b.mean(), means_b.mean()], y=[0, ymax],\n",
    "#                          mode='lines', line_color=col, line_dash='dash', \n",
    "#                          name='B Sample Mean'))\n",
    "fig.update_layout(title='Sample Means',\n",
    "                  xaxis_title='x',\n",
    "                  yaxis_title='Prob Density',\n",
    "                  hovermode=\"x\",\n",
    "                  barmode='overlay',\n",
    "                  height=550)\n",
    "fig.update_layout(xaxis_range=[0, 5])\n",
    "fig.show()\n",
    "#\n",
    "exp_info['exact_mean'] = pd.Series({'A': exact_dist_a.mean(), 'B': exact_dist_b.mean()})\n",
    "exp_info['sample_mean'] = pd.Series({'A': samp_a.mean(), 'B': samp_b.mean()})\n",
    "exp_info"
   ]
  },
  {
   "cell_type": "markdown",
   "metadata": {},
   "source": [
    "Расчет параметров с учетом данных:"
   ]
  },
  {
   "cell_type": "code",
   "execution_count": null,
   "metadata": {},
   "outputs": [],
   "source": [
    "pars_a = compute_posterior_parameters(samp_a, n_split)\n",
    "pars_b = compute_posterior_parameters(samp_b, n_split)\n",
    "\n",
    "print(pars_a[-1])\n",
    "print(pars_b[-1])"
   ]
  },
  {
   "cell_type": "markdown",
   "metadata": {},
   "source": [
    "Распределения параметров $\\mu$, $\\sigma$ и апостериорных средних:"
   ]
  },
  {
   "cell_type": "code",
   "execution_count": null,
   "metadata": {},
   "outputs": [],
   "source": [
    "#mu\n",
    "mu_dist_a = mu_marginal_distrib(pars_a[-1])\n",
    "mu_dist_b = mu_marginal_distrib(pars_b[-1])\n",
    "x_mu = np.linspace(0, 10, 10000)\n",
    "ymax_mu = np.max([mu_dist_a.pdf(x_mu), mu_dist_b.pdf(x_mu)]) #todo: optimize\n",
    "\n",
    "#sigam\n",
    "x_sg = np.linspace(0.01, 10, 10000)\n",
    "sigma_dist_a = sigma_marginal_distrib_pdf(x_sg, pars_a[-1])\n",
    "sigma_dist_b = sigma_marginal_distrib_pdf(x_sg, pars_b[-1])\n",
    "ymax_sg = np.max([sigma_dist_a, sigma_dist_b]) #todo: optimize\n",
    "\n",
    "#posterior\n",
    "post_means_a = post_means_rvs(pars_a[-1], size=30000)\n",
    "post_means_b = post_means_rvs(pars_b[-1], size=30000)\n",
    "x_post = np.linspace(0, 10, 10000)\n",
    "\n",
    "\n",
    "fig = go.Figure()\n",
    "col = 'red'\n",
    "fig.add_trace(go.Scatter(x=x_mu, y=mu_dist_a.pdf(x), \n",
    "                         mode='lines', line_color=col, \n",
    "                         name=f'A Mu Dist'))\n",
    "fig.add_trace(go.Scatter(x=[means_a.mean(), means_a.mean()], y=[0, ymax_mu],\n",
    "                         mode='lines', line_color=col, line_dash='dash', \n",
    "                         name='A Sample Mean'))\n",
    "col = 'blue'\n",
    "fig.add_trace(go.Scatter(x=x_mu, y=mu_dist_b.pdf(x), \n",
    "                         mode='lines', line_color=col, \n",
    "                         name=f'B Mu Dist'))\n",
    "fig.add_trace(go.Scatter(x=[means_b.mean(), means_b.mean()], y=[0, ymax_mu],\n",
    "                         mode='lines', line_color=col, line_dash='dash', \n",
    "                         name='B Sample Mean'))\n",
    "fig.update_layout(title='Mu Estimates',\n",
    "                  xaxis_title='mu',\n",
    "                  yaxis_title='Prob Density',\n",
    "                  hovermode=\"x\",\n",
    "                  height=550)\n",
    "fig.update_layout(xaxis_range=[0, 2])\n",
    "fig.show()\n",
    "\n",
    "\n",
    "\n",
    "fig = go.Figure()\n",
    "col = 'red'\n",
    "fig.add_trace(go.Scatter(x=x_sg, y=sigma_dist_a, \n",
    "                         mode='lines', line_color=col, \n",
    "                         name=f'A Sigma Dist'))\n",
    "fig.add_trace(go.Scatter(x=[means_a.std(), means_a.std()], y=[0, ymax_sg],\n",
    "                         mode='lines', line_color=col, line_dash='dash', \n",
    "                         name='A Sample Std'))\n",
    "col = 'blue'\n",
    "fig.add_trace(go.Scatter(x=x_sg, y=sigma_dist_b,\n",
    "                         mode='lines', line_color=col, \n",
    "                         name=f'B Sigma Dist'))\n",
    "fig.add_trace(go.Scatter(x=[means_b.std(), means_b.std()], y=[0, ymax_sg],\n",
    "                         mode='lines', line_color=col, line_dash='dash', \n",
    "                         name='B Sample Std'))\n",
    "fig.update_layout(title='Sigma Estimates',\n",
    "                  xaxis_title='Sigma',\n",
    "                  yaxis_title='Prob Density',\n",
    "                  hovermode=\"x\",\n",
    "                  height=550)\n",
    "fig.update_layout(xaxis_range=[0, 2])\n",
    "fig.show()\n",
    "\n",
    "\n",
    "\n",
    "fig = go.Figure()\n",
    "col = 'red'\n",
    "fig.add_trace(go.Scatter(x=x_post, y=exact_dist_a.pdf(x_post), \n",
    "                         mode='lines', line_dash='dash', line_color=col, opacity=0.3,\n",
    "                         name='A Exact'))\n",
    "fig.add_trace(go.Scatter(x=x_post, y=sample_clt_dist(means_a).pdf(x_post), \n",
    "                         mode='lines', line_color=col, opacity=0.5,\n",
    "                         name=f\"A Sample CLT\"))\n",
    "fig.add_trace(go.Histogram(x=post_means_a, histnorm='probability density',\n",
    "                           opacity=0.3, marker_color=col,\n",
    "                           name='A Posterior Means'))\n",
    "col = 'blue'\n",
    "fig.add_trace(go.Scatter(x=x_post, y=exact_dist_b.pdf(x_post), \n",
    "                         mode='lines', line_dash='dash', line_color=col, opacity=0.3,\n",
    "                         name='B Exact'))\n",
    "fig.add_trace(go.Scatter(x=x_post, y=sample_clt_dist(means_b).pdf(x_post), \n",
    "                         mode='lines', line_color=col, opacity=0.5,\n",
    "                         name=f\"B Sample CLT\"))\n",
    "fig.add_trace(go.Histogram(x=post_means_b, histnorm='probability density', \n",
    "                           opacity=0.3, marker_color=col,\n",
    "                           name='B Posterior Means'))\n",
    "fig.update_layout(title='Posterior Sample Means',\n",
    "                  xaxis_title='x',\n",
    "                  yaxis_title='Prob Density',\n",
    "                  hovermode=\"x\",\n",
    "                  height=550,\n",
    "                  barmode=\"overlay\")\n",
    "fig.update_layout(xaxis_range=[0, 5])\n",
    "fig.show()"
   ]
  },
  {
   "cell_type": "markdown",
   "metadata": {},
   "source": [
    "Распределения апостериорных средних существенно пересекаются, чего не происходит с распределениями $\\mu$ и $\\sigma$. "
   ]
  },
  {
   "cell_type": "markdown",
   "metadata": {},
   "source": [
    "Для выбора одной из групп нужно сравнить распределения. Для этого посмотреть отношение и также оценить вероятности того, что значение параметров в одной из групп больше другой."
   ]
  },
  {
   "cell_type": "markdown",
   "metadata": {},
   "source": [
    "При этом возникает вопрос, на какие распределения ориентироваться при выборе варианта - распределения $\\mu$ или апостериорных средних? Также, то делать с $\\sigma$? Можно ожидать, что по мере набора данных распределение $\\mu_i$ будет сужаться с центром на реальном среднем. Распределение апострериорных средних характеризует средние значения в сэмпле из n_split точек. Это не то же самое, что истинное среднее - у этой величины больше дисперсия (поэтому распределения апостериорных средних на графиках выше перекрываются). При сравнении групп нужно выбрать группу именно с большим средним, поэтому нужно ориентироваться на распределение $\\mu$. Т.к. распределение $\\mu$ проинтегрировано по $\\sigma$, то оно не зависит от $\\sigma$.  \n",
    "\n",
    "<Еще возникает вопрос с зависимостью оценки от n_split>."
   ]
  },
  {
   "cell_type": "markdown",
   "metadata": {},
   "source": [
    "Для оценки вероятностей того, что значения в одной группе больше другой можно сгенерировать и сравнить сэмплы соответствующих распределений."
   ]
  },
  {
   "cell_type": "code",
   "execution_count": null,
   "metadata": {},
   "outputs": [],
   "source": [
    "def p_mu_b_ge_mu_a(pars_a, pars_b, mu_size=30000):\n",
    "    mu_dist_a = mu_marginal_distrib(pars_a)\n",
    "    mu_dist_b = mu_marginal_distrib(pars_b)\n",
    "    return np.sum(mu_dist_b.rvs(size=mu_size) >= mu_dist_a.rvs(size=mu_size)) / mu_size\n",
    "\n",
    "def p_sigma_b_ge_sigma_a(pars_a, pars_b, sg_size=30000):\n",
    "    lambdas_a = lambda_marginal_distrib(pars_a).rvs(size=sg_size)\n",
    "    lambdas_b = lambda_marginal_distrib(pars_b).rvs(size=sg_size)\n",
    "    sigmas_a = pars_a.sigma / np.sqrt(lambdas_a)\n",
    "    sigmas_b = pars_b.sigma / np.sqrt(lambdas_b)\n",
    "    return np.sum(sigmas_b >= sigmas_a) / sg_size\n",
    "\n",
    "def p_expected_b_ge_expected_a(pars_a, pars_b, post_size=30000):\n",
    "    post_means_a = post_means_rvs(pars_a, size=post_size)\n",
    "    post_means_b = post_means_rvs(pars_b, size=post_size)\n",
    "    return np.sum(post_means_b >= post_means_a) / post_size"
   ]
  },
  {
   "cell_type": "code",
   "execution_count": null,
   "metadata": {},
   "outputs": [],
   "source": [
    "print(f'P(mu_B > mu_A): {p_mu_b_ge_mu_a(pars_a[-1], pars_b[-1])}')\n",
    "print(f'P(sigma_B > sigma_A): {p_sigma_b_ge_sigma_a(pars_a[-1], pars_b[-1])}')\n",
    "print(f'P(E[B] > E[A]): {p_expected_b_ge_expected_a(pars_a[-1], pars_b[-1])}')"
   ]
  },
  {
   "cell_type": "markdown",
   "metadata": {},
   "source": [
    "Также для сравнения может быть удобно построить отношение распределений."
   ]
  },
  {
   "cell_type": "code",
   "execution_count": null,
   "metadata": {},
   "outputs": [],
   "source": [
    "#mu rel\n",
    "mu_dist_a = mu_marginal_distrib(pars_a[-1]).rvs(size=10000)\n",
    "mu_dist_b = mu_marginal_distrib(pars_b[-1]).rvs(size=10000)\n",
    "mu_rel = mu_dist_b / mu_dist_a\n",
    "\n",
    "fig = go.Figure()\n",
    "fig.add_trace(go.Histogram(x=mu_rel, histnorm='probability density',\n",
    "                           name='Mu Relation'))\n",
    "fig.add_vline(x=1, line_dash='dash')\n",
    "fig.update_layout(title='Dist',\n",
    "                  xaxis_title='mu_B / mu_A',\n",
    "                  yaxis_title='Prob Density',\n",
    "                  hovermode=\"x\",\n",
    "                  height=550,\n",
    "                  barmode=\"overlay\")\n",
    "fig.update_layout(xaxis_range=[0, 2])\n",
    "fig.show()\n",
    "\n",
    "#post means rel\n",
    "post_means_a = post_means_rvs(pars_a[-1], size=30000)\n",
    "post_means_b = post_means_rvs(pars_b[-1], size=30000)\n",
    "post_means_rel = post_means_b / post_means_a\n",
    "\n",
    "fig = go.Figure()\n",
    "fig.add_trace(go.Histogram(x=post_means_rel, histnorm='probability density',\n",
    "                           name='Posterior Means Relation'))\n",
    "fig.add_vline(x=1, line_dash='dash')\n",
    "fig.update_layout(title='Dist',\n",
    "                  xaxis_title='Posterior B/Posterior A',\n",
    "                  yaxis_title='Prob Density',\n",
    "                  hovermode=\"x\",\n",
    "                  height=550,\n",
    "                  barmode=\"overlay\")\n",
    "fig.update_layout(xaxis_range=[0, 5])\n",
    "fig.show()\n",
    "\n",
    "\n",
    "print(f\"E[mu_B/mu_A] = {mu_rel.mean()}\")\n",
    "print(f\"Posterior E[E[B]/E[A]] = {post_means_rel.mean()}\")\n",
    "\n",
    "print(f\"Exact E[B]/E[A] = {exp_info['exact_mean']['B'] / exp_info['exact_mean']['A']}\")\n",
    "print(f\"Sample E[B]/E[A] = {exp_info['sample_mean']['B'] / exp_info['sample_mean']['A']}\")"
   ]
  },
  {
   "cell_type": "markdown",
   "metadata": {},
   "source": [
    "### Зависимость 95HPDI $\\mu$"
   ]
  },
  {
   "cell_type": "markdown",
   "metadata": {},
   "source": [
    "Для оценки зависимости 95HPDI $\\mu$ от количества точек нужно смотреть зависимость распределения от $i$:"
   ]
  },
  {
   "cell_type": "markdown",
   "metadata": {},
   "source": [
    "$$\n",
    "P(\\mu) = N(\\mu; \\mu_i, \\frac{\\sigma_0^2}{k_i \\lambda} ) Gamma(\\lambda; a_i, b_i) .\n",
    "$$\n",
    "\n",
    "Интересует дисперсия $\\frac{\\sigma_0^2}{k_i \\lambda}$.\n",
    "В ней с ростом числа наблюдений $i$:\n",
    "$$\n",
    "k_{i+1} = k_i + 1 .\n",
    "$$\n",
    "\n",
    "Также гамма-распределение приближается нормальным распределением:\n",
    "$$\n",
    "Gamma(\\lambda; a_i, b_i) \\to Normal().\n",
    "$$\n",
    "\n",
    "Аналитически считать сложно.  \n",
    "Можно посмотреть численную зависимость $P(\\mu_B > \\mu_A)$ от числа экспериментальных точек."
   ]
  },
  {
   "cell_type": "markdown",
   "metadata": {},
   "source": [
    "Построить график $\\frac{\\sigma_0^2}{k_i \\lambda}$ с ростом $i$.  \n",
    "Сделать замену переменных (проверить):\n",
    "\n",
    "$$\n",
    "P(\\sigma | data) = Gamma\\left( \\frac{\\sigma_0^2}{k_i \\sigma^2 }; a_i, b_i \\right) \\frac{2 \\sigma_0^2}{k_i \\sigma^3}, \n",
    "\\quad \\sigma > 0 .\n",
    "$$\n",
    "\n",
    "Зафиксировать отношение $\\frac{a_i}{b_i}$. Увеличивать $i$. Строить среднее $\\sigma_{\\mu}$ от $i$:"
   ]
  },
  {
   "cell_type": "markdown",
   "metadata": {},
   "source": [
    "## Зависимость вероятности $P(\\mu_B > \\mu_A)$ от количества точек и продолжение эксперимента до достижения определенного уровня уверенности"
   ]
  },
  {
   "cell_type": "markdown",
   "metadata": {},
   "source": [
    "Изменение вероятности $P(\\mu_B > \\mu_A)$ по мере набора данных приведено ниже. При расчете количества точек учитывается, что каждое обновление параметров требует $n_{split}$ точек. "
   ]
  },
  {
   "cell_type": "code",
   "execution_count": null,
   "metadata": {},
   "outputs": [],
   "source": [
    "pb_gt_pa = [p_mu_b_ge_mu_a(a, b) for a, b in zip(pars_a, pars_b)]\n",
    "n_points = [i * n_split for i in range(0, len(pars_a))]\n",
    "\n",
    "fig = go.Figure()\n",
    "fig.add_trace(go.Scatter(x=n_points, y=pb_gt_pa,\n",
    "                         name='P(mu_b >= mu_a)'))\n",
    "fig.update_layout(title='Dist',\n",
    "                  xaxis_title='N Points',\n",
    "                  yaxis_title='P(mu_b >= mu_a)',\n",
    "                  hovermode=\"x\",\n",
    "                  height=550,\n",
    "                  barmode=\"overlay\")\n",
    "fig.update_layout(xaxis_range=[0, 1000], yaxis_range=[0,1])\n",
    "fig.add_hline(y=0.05, line_dash='dash')\n",
    "fig.add_hline(y=0.95, line_dash='dash')\n",
    "fig.show()"
   ]
  },
  {
   "cell_type": "markdown",
   "metadata": {},
   "source": [
    "Фиксируются $\\mu$ и $\\sigma$.  \n",
    "Считается, сколько нужно ждать, пока уверенность не дойдет до определенного уровня.  \n",
    "При этом можно увеличивать n_split и снижать дисперсию средних.  \n",
    "Но это пока игнорируется."
   ]
  },
  {
   "cell_type": "code",
   "execution_count": null,
   "metadata": {},
   "outputs": [],
   "source": [
    "n_simulations = 10\n",
    "\n",
    "post_pars_a = post_params_rvs(pars_a[-1], n_simulations)\n",
    "post_pars_b = post_params_rvs(pars_b[-1], n_simulations)\n",
    "\n",
    "#print(post_pars_a)\n",
    "#print(post_pars_b)\n",
    "\n",
    "step = 5000\n",
    "nmax = 100000\n",
    "\n",
    "for mu, l, s in post_pars_a:\n",
    "    post_means_a = stats.norm.rvs(loc=mu, scale=sigma / np.sqrt(l), size = nmax)\n",
    "\n",
    "#сэмплить параметры mu,l, s\n",
    "#сгенерировать распределение средних\n",
    "#с шагом step \n",
    "#  добавить сгенерированные точки к имеющимся данным; \n",
    "#  оценить параметры mu, l\n",
    "#  посчитать вероятность mu_a > mu_b ? или P(E[B] > E[A]) - для этого придется еще раз сэмплить апостериорное распределение и "
   ]
  },
  {
   "cell_type": "markdown",
   "metadata": {},
   "source": [
    "Не забыть домножить количество наблюдений средних на n_split, чтобы перейти к числу наблюдений."
   ]
  },
  {
   "cell_type": "markdown",
   "metadata": {},
   "source": [
    "# Приложение: сопряженное априорное распределение к нормальному распределению"
   ]
  },
  {
   "cell_type": "markdown",
   "metadata": {},
   "source": []
  },
  {
   "cell_type": "markdown",
   "metadata": {},
   "source": [
    "$$\n",
    "N(x ; \\lambda, \\mu, \\sigma_0^2) = \\frac{\\lambda^{1/2}}{\\sqrt{2 \\pi \\sigma_0^2}} e^{- \\frac{\\lambda}{2 \\sigma_0^2} (x-\\mu)^2}\n",
    "$$\n",
    "\n",
    "$$\n",
    "P(model \\mid data) \\propto P(data | model) P(model)\n",
    "$$\n",
    "\n",
    "$$\n",
    "P(data | model) = N(x ; \\lambda, \\mu, \\sigma_0^2) = \\frac{\\lambda^{1/2}}{\\sqrt{2 \\pi \\sigma_0^2}} e^{- \\frac{\\lambda}{2 \\sigma_0^2}(x - \\mu)^2}\n",
    "$$\n",
    "\n",
    "Можно показать, что сопряженным априорным распределением будет\n",
    "\n",
    "$$\n",
    "P(model) = N(\\mu ; \\lambda, \\mu_0, \\frac{\\sigma_0^2}{k_0}) Gamma(\\lambda; a, b)\n",
    "\\\\\n",
    "Gamma(\\lambda; a,b) = \\frac{b^a}{\\Gamma(a)} \\lambda^{a-1} e^{-b \\lambda}, \\quad x>0, \\quad a,b>0 \n",
    "$$\n",
    "\n",
    "$$\n",
    "P(model \\mid data) = P(\\mu, \\lambda | x ) \\propto \n",
    "\\frac{\\lambda^{1/2}}{\\sqrt{2 \\pi \\sigma_0^2}} e^{- \\frac{\\lambda}{2 \\sigma_0^2}(x - \\mu)^2}\n",
    "\\frac{(k_0 \\lambda)^{1/2}}{\\sqrt{2 \\pi \\sigma_0^2}} e^{- \\frac{k_0 \\lambda}{2 \\sigma_0^2}(\\mu - \\mu_0)^2}\n",
    "\\frac{b^a}{\\Gamma(a)} e^{-b \\lambda} {\\lambda}^{a-1}\n",
    "$$\n",
    "\n",
    "Выражение в показателе экспонент можно записать в виде\n",
    "\n",
    "$$\n",
    "\\begin{align}\n",
    "\\frac{\\lambda}{2 \\sigma_0^2}(x - \\mu)^2 + \n",
    "\\frac{k_0 \\lambda}{2 \\sigma_0^2}(\\mu - \\mu_0)^2 +\n",
    "\\lambda b\n",
    "& =\n",
    "\\frac{\\lambda}{2 \\sigma_0^2}\n",
    "\\left( \\mu^2(k_0+1) - 2\\mu(x + k_0 \\mu_0) \\right) + \n",
    "\\frac{\\lambda}{2 \\sigma_0^2}(x^2 + k_0 \\mu_0^2 + 2 b \\sigma_0^2)\n",
    "\\\\\n",
    "& =\n",
    "\\frac{\\lambda (k_0 + 1)}{2 \\sigma_0^2}\n",
    "\\left( \\mu - \\frac{x + k_0 \\mu_0}{k_0 + 1} \\right)^2\n",
    "+\n",
    "\\frac{\\lambda}{2 \\sigma_0^2} \\left( x^2 + k_0 \\mu_0^2 + 2 b \\sigma_0^2 - \\frac{(x + k_0 \\mu_0)^2}{k_0 + 1} \\right)\n",
    "\\\\\n",
    "& =\n",
    "\\frac{\\lambda (k_0 + 1)}{2 \\sigma_0^2}\n",
    "\\left( \\mu - \\frac{x + k_0 \\mu_0}{k_0 + 1} \\right)^2\n",
    "+\n",
    "\\frac{\\lambda}{2 \\sigma_0^2} \\left( \\frac{k_0}{k_0+1} (x - \\mu_0)^2 + 2 b \\sigma_0^2 \\right)\n",
    "\\end{align}\n",
    "$$\n",
    "\n",
    "После подстановки, факторы, зависящие только от $\\mu$ и $\\lambda$:\n",
    "\n",
    "$$\n",
    "P(\\mu, \\lambda | x ) \n",
    "\\propto \n",
    "\\lambda^{1/2} e^{- \\frac{\\lambda (k_0 + 1)}{2 \\sigma_0^2} \\left( \\mu - \\frac{x + k_0 \\mu_0}{k+1} \\right)^2}\n",
    "{\\lambda}^{a-1/2} \n",
    "e^{- \\frac{\\lambda}{2 \\sigma_0^2} \\left( \\frac{k_0}{k_0 + 1} (x - \\mu_0)^2 + 2 b \\sigma_0^2 \\right) }\n",
    "$$\n",
    "\n",
    "\n",
    "Апостериорное распределение имеет вид\n",
    "\n",
    "$$\n",
    "P(\\mu, \\lambda | x ) = N(\\mu; \\lambda, \\mu_p, \\frac{\\sigma_0^2}{k_p} ) Gamma(\\lambda; a_p, b_p)\n",
    "\\\\\n",
    "k_p = k_0 + 1\n",
    "\\\\\n",
    "\\mu_p = \\frac{x + k_0 \\mu_0}{k_0 + 1}\n",
    "\\\\\n",
    "a_p = a + 1/2\n",
    "\\\\\n",
    "b_p = b + \\frac{k_0}{k_0 + 1} \\frac{(x - \\mu_0)^2}{2 \\sigma_0^2}\n",
    "$$"
   ]
  },
  {
   "cell_type": "code",
   "execution_count": null,
   "metadata": {},
   "outputs": [],
   "source": [
    "#https://docs.scipy.org/doc/scipy/reference/generated/scipy.stats.gamma.html\n",
    "#scale=1/beta\n",
    "#центр gamma должен быть на историческом значении дисперсии\n",
    "#mean = a/b\n",
    "\n",
    "x = np.linspace(0, 10, 10000)\n",
    "fig = go.Figure()\n",
    "\n",
    "for a,b in [(1,1), (1,3), (1, 1/3), (2, 1), (2, 2), (0.9, 1)]:\n",
    "    fig.add_trace(go.Scatter(x=x, y=stats.gamma.pdf(x, a=a, scale=1/b), mode='lines', name=f'a={a}, b={b}'))\n",
    "\n",
    "fig.update_layout(title='Gamma Dist',\n",
    "                  xaxis_title='$\\lambda$',\n",
    "                  yaxis_title='Prob Density',\n",
    "                  hovermode=\"x\",\n",
    "                  height=550)\n",
    "\n",
    "fig.show()"
   ]
  },
  {
   "cell_type": "markdown",
   "metadata": {},
   "source": [
    "**Интерпретация:**  \n",
    "\n",
    "Есть сэмпл. Есть препдоложение, что он получен из нормального распределения.  \n",
    "Можно оценить параметры исходного распределения \n",
    "$\\mu, \\sigma$ по значениям сэмпла $\\mu=\\bar{x}, \\sigma=\\sigma_x$.  \n",
    "Но уверенность этой оценки слишком завышена.    \n",
    "Нужно также посмотерть окрестные параметры, например \n",
    "$\\mu \\in [\\bar{x}-3 \\sigma_x, \\bar{x} + 3 \\sigma_x]$, $\\sigma \\in [1/3 \\sigma_x, 3 \\sigma_x]$.  \n",
    "\n",
    "Центр поисков среднего - точка $\\mu_0$.  \n",
    "Средние $\\mu$ распределены вокруг нее нормально.  \n",
    "Дисперсия - выбирается естесственный масштаб $\\sigma_0$.  \n",
    "$k_0$ - масштабирующий $\\sigma_0$ .   \n",
    "$p(\\mu) = N(\\mu; \\mu_0, \\frac{\\sigma_0^2}{k_0})$  \n",
    "Из соображений сопряженности приходится добавить параметр $\\lambda$:  \n",
    "$p(\\mu) = N(\\mu; \\mu_0, \\frac{\\sigma_0^2}{k_0 \\lambda})$ \n",
    "\n",
    "Можно выбрать $k_0 = 1/9$. \n",
    "Т.е. исходно дисперсия $(\\mu - \\mu_0) \\sim 3 \\sigma_0$\n",
    "\n",
    "$\\lambda$ - масштабирующий множитель для $\\sigma_0^2$.  \n",
    "Вместо того, чтобы задавать распределение $\\sigma^2$, можно менять масштабирующий множитель $\\lambda$.  \n",
    "Если $\\sigma_0$ близко к $\\sigma$, то $\\lambda$ должен быть порядка $1$.   \n",
    "Из соображений сопряженности распределение $\\lambda$ будет иметь вид гамма-распределения\n",
    "\n",
    "$p(\\lambda) = \\Gamma(\\lambda; a, b)$\n",
    "\n",
    "Мода гамма-распределения $\\lambda_{max(p)} = \\frac{a-1}{b}$ при $a \\ge 1$.  \n",
    "Исходными параметрами можно выбрать a=2, b=1.  \n",
    "График выглядит примерно так, как нужно.  \n",
    "Тем более, что мода с такими параметрами будет равна 1.  \n",
    "\n",
    "\n",
    "При обновлении данных:  \n",
    "Будет уточнено значение $\\mu_a$.  \n",
    "Причем чем по большему количеству данных было построено $\\mu_a$, тем больший вес оно будет иметь.  \n",
    "$$\n",
    "\\mu_p = \\frac{x + k_0 \\mu_0}{k_0 + 1}\n",
    "$$\n",
    "\n",
    "Дисперсия $\\mu$ вокруг $\\mu_0$ будет сужаться по мере набора данных.  \n",
    "Это происходит за счет увеличения масштабирующего множителя $k$.  \n",
    "\n",
    "$$\n",
    "k_p = k_0 + 1\n",
    "$$\n",
    "\n",
    "Распределение $\\lambda$ будет сужаться (будет обновляться $a$ и $b$).   \n",
    "Мода будет $\\lambda_{max(p)} = \\frac{a-1}{b}$.  \n",
    "Т.е. распределение будет \"сужаться\" вокруг этого отношения.  \n",
    "Если $\\mu_0$ и $\\sigma_0^2$ были близки к реальным, то $a$ и $b$ будут увеличиваться примерно на 1/2 с каждой новой точкой.  \n",
    "Если нет, то будут сходиться к правильному отношению.  \n",
    "\n",
    "$$\n",
    "a_p = a + 1/2,\n",
    "\\qquad\n",
    "b_p = b + \\frac{k_0}{k_0 + 1} \\frac{(x - \\mu_0)^2}{2 \\sigma_0^2}\n",
    "$$"
   ]
  },
  {
   "cell_type": "code",
   "execution_count": null,
   "metadata": {},
   "outputs": [],
   "source": [
    "#https://docs.scipy.org/doc/scipy/reference/generated/scipy.stats.gamma.html\n",
    "#scale=1/beta\n",
    "#центр gamma должен быть на историческом значении дисперсии\n",
    "#mean = a/b\n",
    "\n",
    "x = np.linspace(0, 10, 10000)\n",
    "fig = go.Figure()\n",
    "\n",
    "for a,b in [(2,1), (2.5,1), (3, 1), (11, 5), (11, 10), (11, 9.7), (11, 11.3)]:\n",
    "    fig.add_trace(go.Scatter(x=x, y=stats.gamma.pdf(x, a=a, scale=1/b), mode='lines', name=f'a={a}, b={b}'))\n",
    "#fig.add_trace(go.Scatter(x=x, y=stats.gamma.pdf(x, a=1, scale=1/b), mode='lines', name=f'a={a}, b={b}'))\n",
    "#fig.add_trace(go.Scatter(x=x, y=stats.gamma.pdf(x, a=5, scale=1/b), mode='lines', name=f'a={a}, b={b}'))\n",
    "#fig.add_trace(go.Scatter(x=x, y=stats.gamma.pdf(x, a=2, scale=1/b), mode='lines', name=f'a={a}, b={b}'))\n",
    "\n",
    "fig.update_layout(title='Gamma Dist',\n",
    "                  xaxis_title='$\\lambda$',\n",
    "                  yaxis_title='Prob Density',\n",
    "                  hovermode=\"x\",\n",
    "                  height=550)\n",
    "\n",
    "fig.show()"
   ]
  },
  {
   "cell_type": "code",
   "execution_count": null,
   "metadata": {},
   "outputs": [],
   "source": []
  },
  {
   "cell_type": "code",
   "execution_count": null,
   "metadata": {},
   "outputs": [],
   "source": []
  },
  {
   "cell_type": "markdown",
   "metadata": {},
   "source": [
    "Маржинальное распределение $P(\\lambda | x)$ по конструкции будет гамма-распределением:\n",
    "\n",
    "$$\n",
    "P(\\lambda | x) = Gamma(\\lambda; a, b)\n",
    "\\\\\n",
    "Gamma(\\lambda; a,b) = \\frac{b^a}{\\Gamma(a)} \\lambda^{a-1} e^{-b \\lambda}, \\quad x>0, \\quad a,b>0 \n",
    "$$\n",
    "\n",
    "Можно показать, что маржинальное распределение $P(\\mu | x)$ будет t-распределением:\n",
    "\n",
    "$$\n",
    "\\begin{align}\n",
    "P(\\mu | x) \n",
    "= \\int_0^\\infty d\\lambda P(\\mu, \\lambda) d\\lambda \n",
    "& = \n",
    "\\int_0^\\infty d\\lambda \n",
    "\\frac{(k \\lambda)^{1/2}}{\\sqrt{2 \\pi \\sigma_0^2}} e^{- \\frac{k_0 \\lambda}{2 \\sigma_0^2}(\\mu - \\mu_0)^2}\n",
    "\\frac{b^a}{\\Gamma(a)} e^{-b \\lambda} {\\lambda}^{a-1}\n",
    "\\\\\n",
    "& \\propto\n",
    "\\int_0^\\infty d\\lambda \n",
    "\\lambda^{a + 1/2 - 1} e^{- \\lambda \\left( \\frac{k_0}{2 \\sigma_0^2}(\\mu - \\mu_0)^2 + b \\right) }\n",
    "\\end{align}\n",
    "$$\n",
    "Выражение под интегралом по форме совпадает с гамма-распределением.  \n",
    "Т.к. $\\int_0^\\infty d\\lambda Gamma(\\lambda; \\alpha, \\beta) = 1$, \n",
    "то $\\int_0^\\infty d\\lambda \\lambda^{\\alpha-1} e^{-\\beta \\lambda} = \\Gamma(\\alpha) {\\beta}^{-\\alpha}$\n",
    "\n",
    "После подстановки\n",
    "$$\n",
    "\\begin{align}\n",
    "P(\\mu | x) \n",
    "& \\propto_{\\mu} \n",
    "\\left(b + \\frac{k_0}{2 \\sigma_0^2}(\\mu - \\mu_0)^2 \\right)^{-(a+1/2)}\n",
    "\\\\\n",
    "& \\propto_{\\mu} \n",
    "\\left(1 + \\frac{k_0}{2 \\sigma_0^2 b}(\\mu - \\mu_0)^2 \\right)^{-(a+1/2)}\n",
    "\\end{align}\n",
    "$$\n",
    "\n",
    "Обобщенное t-распределение имеет вид  \n",
    "https://en.wikipedia.org/wiki/Student's_t-distribution#Generalized_Student's_t-distribution  \n",
    "$$\n",
    "t(x | \\nu, \\mu_t, \\sigma_t^2) \n",
    "\\propto_x \n",
    "\\left(1+\\frac{1}{\\nu} \\frac{ (x - \\mu_t)^2 }{\\sigma_t^2 } \\right)^{-(\\nu+1)/2}\n",
    "$$\n",
    "\n",
    "Поэтому при \n",
    "$$\n",
    "a = \\frac{\\nu}{2}, \\quad \\nu \\sigma_t^2 = \\frac{2 \\sigma_0^2 b}{k_0}\n",
    "$$\n",
    "\n",
    "Маржинальное распределение $P(\\mu | x)$:\n",
    "$$\n",
    "P(\\mu | x) = t(\\mu | \\nu = 2a, \\mu_t = \\mu_0, \\sigma_t^2 = \\frac{\\sigma_0^2}{k_0} \\frac{b}{a} )\n",
    "$$\n",
    "\n",
    "$\\sigma_t^2 = \\frac{\\sigma_0^2}{k_0} \\frac{b}{a}$  \n",
    "$\\frac{\\sigma_0^2}{k_0}$ - дисперсия средих вокруг $\\mu_0$.  \n",
    "$\\frac{b}{a}$ - характеризует отношение реальной дисперсии к $\\sigma_0$.  \n",
    "$p(\\lambda)$ будет локализовыватсья вокруг $(a-1)/b$."
   ]
  },
  {
   "cell_type": "markdown",
   "metadata": {},
   "source": [
    "По мере добавления данных:  \n",
    "Увеличивается число степеней свободы $\\nu$, что ведет к сужению распределения.  \n",
    "Увеличивается $k_0$, что ведет к снижению дисперсии.  \n",
    "$\\frac{b}{a}$ стабилизируется на каком-то значении (порядка 1, если удачно выбраны $\\mu_0, \\sigma_0^2$)"
   ]
  },
  {
   "cell_type": "code",
   "execution_count": null,
   "metadata": {},
   "outputs": [],
   "source": [
    "#https://docs.scipy.org/doc/scipy/reference/generated/scipy.stats.t.html#scipy.stats.t\n",
    "\n",
    "x = np.linspace(0, 10, 10000)\n",
    "fig = go.Figure()\n",
    "\n",
    "for df, scale, loc in [(2, 1, 5), (20, 1, 5), (2, 0.7, 5), (20, 0.7, 5)]:\n",
    "    fig.add_trace(go.Scatter(x=x, y=stats.t.pdf(x, df=df, loc=loc, scale=scale), mode='lines', name=f'df={df}, loc={loc}, scale={scale}'))\n",
    "\n",
    "fig.update_layout(title='t-Dist',\n",
    "                  xaxis_title='x',\n",
    "                  yaxis_title='Prob Density',\n",
    "                  hovermode=\"x\",\n",
    "                  height=550)\n",
    "\n",
    "fig.show()"
   ]
  },
  {
   "cell_type": "markdown",
   "metadata": {},
   "source": [
    "# Приложение: оценка параметров нормального распределения по сэмплу"
   ]
  },
  {
   "cell_type": "markdown",
   "metadata": {},
   "source": [
    "Пусть есть нормальное распределение.  \n",
    "Параметры $\\mu, \\sigma$.\n",
    "Есть сэмпл $n$ точек.\n",
    "Нужно по сэмплу угадать параметры."
   ]
  },
  {
   "cell_type": "markdown",
   "metadata": {},
   "source": [
    "Есть ожидание, что распределение для $\\mu$ должно будет совпасть с распределением средних.  \n",
    "Т.е. нормальное с параметрами ($\\mu_s$, $\\sigma_s^2 / N$).  \n",
    "Единственное, поиск начинается с параметров $\\mu_0$, $\\sigma_0$, поэтому не совсем совпадет."
   ]
  },
  {
   "cell_type": "code",
   "execution_count": null,
   "metadata": {},
   "outputs": [],
   "source": [
    "mu_exact = 20\n",
    "s_exact = 3\n",
    "sample_size = 100\n",
    "\n",
    "print(stats.norm.std(loc=mu_exact, scale=s_exact))\n",
    "samp = stats.norm.rvs(loc=mu_exact, scale=s_exact, size=sample_size)\n",
    "\n",
    "x = np.linspace(0, 50, 10000)\n",
    "fig = go.Figure()\n",
    "\n",
    "fig.add_trace(go.Scatter(x=x, y=stats.norm.pdf(x, loc=mu_exact, scale=s_exact), mode='lines', name='Exact'))\n",
    "fig.add_trace(go.Histogram(x=samp, histnorm='probability density', name='Sample'))\n",
    "fig.update_layout(title='Dist',\n",
    "                  xaxis_title='x',\n",
    "                  yaxis_title='Prob Density',\n",
    "                  hovermode=\"x\",\n",
    "                  height=550)\n",
    "#todo: add distrib mean and sample mean\n",
    "fig.show()\n",
    "\n",
    "print(f'exact mu_0 = {mu_exact}, std={s_exact}')\n",
    "print(f'sample avg = {np.mean(samp)}, std={np.std(samp)}')"
   ]
  },
  {
   "cell_type": "code",
   "execution_count": null,
   "metadata": {},
   "outputs": [],
   "source": [
    "def update_parameters(x, mu, sigma, k, a, b):\n",
    "    #if your function has 10 parameters ...\n",
    "    mu_p = (x + k * mu) / (k + 1)\n",
    "    sigma_p = sigma    \n",
    "    k_p = k + 1\n",
    "    a_p = a + 1/2\n",
    "    b_p = b + k / (k + 1) * (x - mu)**2 / (2 * sigma**2)\n",
    "    return mu_p, sigma_p, k_p, a_p, b_p"
   ]
  },
  {
   "cell_type": "code",
   "execution_count": null,
   "metadata": {},
   "outputs": [],
   "source": [
    "#mu_0 = np.mean(samp)\n",
    "#sigma_0 = np.std(samp)\n",
    "mu_0 = 1\n",
    "sigma_0 = 1\n",
    "k_0 = 1 / 25\n",
    "a_0 = 2\n",
    "b_0 = 1\n",
    "\n",
    "print((mu_0, sigma_0, k_0, a_0, b_0))"
   ]
  },
  {
   "cell_type": "code",
   "execution_count": null,
   "metadata": {},
   "outputs": [],
   "source": [
    "pars = []\n",
    "pars.append((mu_0, sigma_0, k_0, a_0, b_0))\n",
    "\n",
    "for x in samp:\n",
    "    new_pars = update_parameters(x, *pars[-1])\n",
    "    pars.append(new_pars)\n",
    "    \n",
    "print(len(pars))\n",
    "display(pars[0], pars[1], pars[len(pars) // 3], pars[len(pars) // 2], pars[-1])"
   ]
  },
  {
   "cell_type": "code",
   "execution_count": null,
   "metadata": {},
   "outputs": [],
   "source": [
    "x = np.linspace(0, 50, 30000)\n",
    "\n",
    "fig = go.Figure()\n",
    "\n",
    "y_plot_max = 0\n",
    "for mu, sigma, k, a, b in [pars[0], pars[len(pars) // 3], pars[len(pars) // 2], pars[-1]]:\n",
    "    df = 2 * a\n",
    "    loc = mu\n",
    "    scale = np.sqrt(sigma**2 / k * b / a)\n",
    "    y_plot = stats.t.pdf(x, df=df, loc=loc, scale=scale)\n",
    "    y_plot_max = max(max(y_plot), y_plot_max)\n",
    "    fig.add_trace(go.Scatter(x=x, y=y_plot, mode='lines', name=f'df={df}, loc={loc}, scale={scale}'))\n",
    "\n",
    "fig.add_trace(go.Scatter(x=[mu_exact, mu_exact], \n",
    "                         y=[0, y_plot_max], \n",
    "                         line_width=0.8, mode='lines', line_color='black', name='Exact Mean'))\n",
    "fig.add_trace(go.Scatter(x=[np.mean(samp), np.mean(samp)],\n",
    "                         y=[0, y_plot_max],\n",
    "                         line_width=0.8, mode='lines', line_color='black', line_dash=\"dash\", name='Sample Mean'))\n",
    "\n",
    "fig.add_trace(go.Scatter(x=x, \n",
    "                         y=stats.norm.pdf(x=x, loc=np.mean(samp), scale=np.std(samp) / np.sqrt(len(samp))), \n",
    "                         mode='lines', name=f'Normal, mean=sample_mean, std=stderrmean'))\n",
    "\n",
    "fig.update_layout(title='Mean Distribution',\n",
    "                  xaxis_title='$\\mu$',\n",
    "                  yaxis_title='Prob Density',\n",
    "                  hovermode=\"x\",\n",
    "                  height=550)\n",
    "fig.show()\n",
    "\n",
    "\n",
    "fig = go.Figure()\n",
    "\n",
    "for mu, sigma, k, a, b in [pars[0], pars[len(pars) // 3], pars[len(pars) // 2], pars[-1]]:\n",
    "    fig.add_trace(go.Scatter(x=x, y=stats.gamma.pdf(x, a=a, scale=1/b), mode='lines', name=f'a={a}, b={b}'))\n",
    "\n",
    "#http://www.math.wm.edu/~leemis/chart/UDR/PDFs/GammaNormal1.pdf\n",
    "stderr_mean = a / b\n",
    "stderr_sigma = np.sqrt(a) / b\n",
    "fig.add_trace(go.Scatter(x=x, \n",
    "                         y=stats.norm.pdf(x=x, loc=stderr_mean, scale=stderr_sigma), \n",
    "                         mode='lines', name=f'Normal, mean=stderr_mean, std=stderr_sigma'))\n",
    "    \n",
    "fig.update_layout(title='Dispersion Scaling Distribution',\n",
    "                  xaxis_title='$\\lambda$',\n",
    "                  yaxis_title='Prob Density',\n",
    "                  hovermode=\"x\",\n",
    "                  height=550)\n",
    "fig.update_layout(xaxis_range=[0, 10])\n",
    "fig.show()"
   ]
  },
  {
   "cell_type": "code",
   "execution_count": null,
   "metadata": {},
   "outputs": [],
   "source": [
    "x = np.linspace(0.01, 50, 30000)\n",
    "\n",
    "fig = go.Figure()\n",
    "y_plot_max = 0\n",
    "for mu, sigma, k, a, b in [pars[0], pars[len(pars) // 3], pars[len(pars) // 2], pars[-1]]:\n",
    "    x_plot = np.sqrt(sigma * sigma / x)\n",
    "    y_plot = stats.gamma.pdf(x, a=a, scale=1/b)\n",
    "    y_plot_max = max(y_plot_max, max(y_plot))\n",
    "    fig.add_trace(go.Scatter(x=x_plot, y=y_plot, mode='lines', name=f'a={a}, b={b}'))\n",
    "\n",
    "fig.add_trace(go.Scatter(x=[s_exact, s_exact], \n",
    "                         y=[0, y_plot_max], \n",
    "                         line_width=0.8, mode='lines', line_color='black', name='Exact Stdev'))\n",
    "fig.add_trace(go.Scatter(x=[np.std(samp), np.std(samp)],\n",
    "                         y=[0, y_plot_max],\n",
    "                         line_width=0.8, mode='lines', line_color='black', line_dash=\"dash\", name='Sample Stdev'))\n",
    "\n",
    "# Гамма-распределение для lambda стремится к нормальному\n",
    "# Потом в нормальном распределении можно перейти к другим переменным и получить аналитическое для sigma\n",
    "stderr_mean = a / b\n",
    "stderr_sigma = np.sqrt(a) / b\n",
    "x_plot = np.sqrt(sigma * sigma / x)\n",
    "y_plot = stats.norm.pdf(x=x, loc=stderr_mean, scale=stderr_sigma)\n",
    "fig.add_trace(go.Scatter(x=x_plot,\n",
    "                         y=y_plot, \n",
    "                         mode='lines', name=f'Normal, mean=stderr_mean, std=stderr_sigma'))\n",
    "\n",
    "\n",
    "fig.update_layout(title='Std Distribution',\n",
    "                  xaxis_title='$\\sigma$',\n",
    "                  yaxis_title='Prob Density',\n",
    "                  hovermode=\"x\",\n",
    "                  height=550)\n",
    "fig.update_layout(xaxis_range=[0, 10])\n",
    "fig.show()"
   ]
  },
  {
   "cell_type": "markdown",
   "metadata": {},
   "source": [
    "standard error of the sample standard deviation  \n",
    "https://stats.stackexchange.com/questions/631/standard-deviation-of-standard-deviation  \n",
    "https://stats.stackexchange.com/questions/156518/what-is-the-standard-error-of-the-sample-standard-deviation  \n",
    "http://www.math.wm.edu/~leemis/chart/UDR/PDFs/GammaNormal1.pdf \n",
    "http://www.stat.columbia.edu/~gelman/research/published/taumain.pdf\n",
    "https://en.wikipedia.org/wiki/Scaled_inverse_chi-squared_distribution\n",
    "\n",
    "https://en.wikipedia.org/wiki/Cochran's_theorem#Estimation_of_variance"
   ]
  },
  {
   "cell_type": "code",
   "execution_count": null,
   "metadata": {},
   "outputs": [],
   "source": []
  },
  {
   "cell_type": "markdown",
   "metadata": {},
   "source": [
    "## Заключение"
   ]
  },
  {
   "cell_type": "markdown",
   "metadata": {},
   "source": [
    "## Благодарности"
   ]
  },
  {
   "cell_type": "markdown",
   "metadata": {},
   "source": [
    "## Ссылки"
   ]
  },
  {
   "cell_type": "markdown",
   "metadata": {},
   "source": []
  },
  {
   "cell_type": "code",
   "execution_count": null,
   "metadata": {},
   "outputs": [],
   "source": []
  },
  {
   "cell_type": "code",
   "execution_count": null,
   "metadata": {},
   "outputs": [],
   "source": []
  },
  {
   "cell_type": "code",
   "execution_count": null,
   "metadata": {},
   "outputs": [],
   "source": []
  },
  {
   "cell_type": "markdown",
   "metadata": {},
   "source": [
    "## Черновики"
   ]
  },
  {
   "cell_type": "markdown",
   "metadata": {},
   "source": [
    "**Is there an analog of central limit theorem for distribution of dispersion?**\n",
    "\n",
    "A Central Limit Theorem states that for a distribution with a well-defined mean $\\mu$ and dispersion $\\sigma^2$\n",
    "distribution of averages approaches normal distribution \n",
    "\n",
    "$$\n",
    "\\frac{x_1 + x_2 + \\dots + x_N}{N} \\to \\mathcal{N}(\\mu, \\frac{\\sigma^2}{N}) \n",
    "$$\n",
    "\n",
    "Is there an analogous relation for dispersion\n",
    "\n",
    "$$\n",
    "\\frac{(x_1 - \\mu)^2 + (x_2 - \\mu)^2 + \\dots + (x_N - \\mu)^2}{N} \\to p(\\mu, \\sigma, N) ?\n",
    "$$"
   ]
  },
  {
   "cell_type": "markdown",
   "metadata": {},
   "source": [
    "https://en.wikipedia.org/wiki/Chi-squared_distribution#Asymptotic_properties  \n",
    "https://en.wikipedia.org/wiki/Cochran's_theorem#Estimation_of_variance  \n",
    "https://stats.stackexchange.com/questions/429782/why-is-the-limit-of-a-chi-squared-distribution-a-normal-distribution"
   ]
  },
  {
   "cell_type": "code",
   "execution_count": null,
   "metadata": {},
   "outputs": [],
   "source": [
    "a = 1\n",
    "sample_len = 10\n",
    "n_samples = 10000\n",
    "samp = stats.gamma.rvs(a=a, size=(n_samples, sample_len))\n",
    "stdevs = np.array([x.std() for x in samp])\n",
    "\n",
    "clt_mu = stats.gamma.mean(a=a)\n",
    "clt_stdev = stats.gamma.std(a=a) / np.sqrt(n_samples)\n",
    "\n",
    "x = np.linspace(0, 200, 10000)\n",
    "fig = go.Figure()\n",
    "\n",
    "fig.add_trace(go.Scatter(x=x, y=stats.gamma.pdf(x, a=a), mode='lines', line_dash='dash', name='Original Distribution'))\n",
    "fig.add_vline(stats.gamma.std(a=a), name='Original Distribution Std')\n",
    "fig.add_trace(go.Histogram(x=stdevs, histnorm='probability density', name='Means of Samples'))\n",
    "\n",
    "#fig.add_trace(go.Scatter(x=x, y=stats.norm.pdf(x, loc=clt_mu, scale=clt_stdev), mode='lines', name='CLT Means Distrib'))\n",
    "fig.add_trace(go.Scatter(x=x / sample_len, y=stats.chi2.pdf(x, df=sample_len-1) * sample_len, mode='lines', name='CLT Dispersion Distrib'))\n",
    "\n",
    "fig.update_layout(title='Dist',\n",
    "                  xaxis_title='p',\n",
    "                  yaxis_title='Prob Density',\n",
    "                  hovermode=\"x\",\n",
    "                  height=550)\n",
    "fig.update_layout(xaxis_range=[0, 5])\n",
    "fig.show()"
   ]
  },
  {
   "cell_type": "markdown",
   "metadata": {},
   "source": [
    "**Разные ссылки**\n",
    "\n",
    "https://en.wikipedia.org/wiki/Conjugate_prior  \n",
    "https://www.cs.ubc.ca/~murphyk/Papers/bayesGauss.pdf  \n",
    "https://deebuls.github.io/devblog/probability/python/plotting/matplotlib/2020/05/19/probability-normalinversegamma.html     \n",
    "https://people.eecs.berkeley.edu/~jordan/courses/260-spring10/lectures/lecture5.pdf  \n",
    "https://en.wikipedia.org/wiki/Normal_distribution#With_unknown_mean_and_unknown_variance  \n",
    "https://statproofbook.github.io/P/ugkv-prior    \n",
    "http://users.isr.ist.utl.pt/~wurmd/Livros/school/Bishop%20-%20Pattern%20Recognition%20And%20Machine%20Learning%20-%20Springer%20%202006.pdf (sec 2.3.6, 2.3.7)"
   ]
  },
  {
   "cell_type": "markdown",
   "metadata": {},
   "source": [
    "**Формулировки ЦПТ**"
   ]
  },
  {
   "cell_type": "markdown",
   "metadata": {},
   "source": [
    "$$\n",
    "\\sqrt{n} \\frac{\\bar{X}_n - \\mu}{\\sigma} \\to N(0, 1)\n",
    "$$\n",
    "\n",
    "$$\n",
    "\\sqrt{n}(\\bar{X}_n - \\mu) \\to N(0, \\sigma^2)\n",
    "$$\n",
    "\n",
    "$$\n",
    "\\frac{S_n - \\mu n}{\\sigma \\sqrt{n}} \\to N(0, 1), \\quad n \\to \\infty.\n",
    "$$\n",
    "\n",
    "$$\n",
    "\\frac{\\sum_{i=1}^n X_i - \\mu n}{\\sigma \\sqrt{n}} \\to N(0, 1), \\quad n \\to \\infty.\n",
    "$$\n",
    "\n",
    "$$\n",
    "\\frac{X_1 + X_2 + \\dots + X_n}{n} \\to N(\\mu, \\sigma^2/n), \\quad n \\to \\infty.\n",
    "$$\n",
    "\n",
    "$$\n",
    "\\frac{(X_1 + X_2 + \\dots + X_n) - \\mu n}{\\sigma \\sqrt{n}} \\to N(0, 1), \\quad n \\to \\infty.\n",
    "$$"
   ]
  },
  {
   "cell_type": "markdown",
   "metadata": {},
   "source": [
    "**Независимые наблюдения в ЦПТ**"
   ]
  },
  {
   "cell_type": "markdown",
   "metadata": {},
   "source": [
    "*Еще одна возможная проблема - считать элементы сэмпла независимыми, хотя на самом деле они не независимы (нарушается i.i.d.).   \n",
    "Пример - считать независимыми последовательные сессии одного и того же пользователя.*  \n",
    "\n",
    "Посмотреть пример:  \n",
    "500 бросков монетки.  \n",
    "В одном случае независимые. Т.е. Binom(n=500, p=0.5).   \n",
    "В другом при выпадении 1 сразу добавляется еще 1.   \n",
    "Распределения будут разные.  \n",
    "Сходу не ясно, как будет работать ЦПТ?  "
   ]
  },
  {
   "cell_type": "markdown",
   "metadata": {},
   "source": [
    "**Гамма или обратное гамма-распределение вместо нормального для выбросов**"
   ]
  },
  {
   "cell_type": "code",
   "execution_count": null,
   "metadata": {},
   "outputs": [],
   "source": [
    "c = 1.7\n",
    "sample_len = 500\n",
    "n_samples = 30000\n",
    "\n",
    "exact_dist = stats.lomax(c=c)\n",
    "samp = exact_dist.rvs(size=(n_samples, sample_len))\n",
    "means = np.array([x.mean() for x in samp])\n",
    "clt_mu = exact_dist.mean()\n",
    "clt_stdev = exact_dist.std() / np.sqrt(sample_len)\n",
    "means_stdev = means.std() \n",
    "means_stdev = means_stdev / 2\n",
    "\n",
    "gamma_alpha = means.mean()**2 / means.std()**2 \n",
    "gamma_alpha = gamma_alpha\n",
    "gamma_beta = means.mean() / means.std()**2 \n",
    "gamma_beta = gamma_beta * 2.3\n",
    "gamma_scale = 1 / gamma_beta\n",
    "gamma_loc = 0.8\n",
    "\n",
    "invgamma_alpha = (means.mean()**2 / means.std()**2 + 2)\n",
    "invgamma_beta = means.mean() * (means.mean()**2 / means.std()**2 + 1)\n",
    "invgamma_beta = invgamma_beta / 2\n",
    "#invgamma_scale = 1 / invgamma_beta\n",
    "\n",
    "\n",
    "x = np.linspace(0.001, 30, 10000)\n",
    "fig = go.Figure()\n",
    "fig.add_trace(go.Scatter(x=x, y=exact_dist.pdf(x), mode='lines', name='Exact Dist'))\n",
    "fig.add_trace(go.Histogram(x=samp[0], histnorm='probability density', name='Sample'))\n",
    "fig.update_layout(title=f'Original Distribution and a Sample of Length {sample_len}',\n",
    "                  xaxis_title='x',\n",
    "                  yaxis_title='Prob Density',\n",
    "                  hovermode=\"x\",\n",
    "                  height=550)\n",
    "fig.show()\n",
    "\n",
    "\n",
    "fig = go.Figure()\n",
    "fig.add_trace(go.Scatter(x=x, y=exact_dist.pdf(x), \n",
    "                         mode='lines', line_dash='dash', name='Original Distribution'))\n",
    "fig.add_vline(exact_dist.mean(), name='Original Distribution Mean')\n",
    "fig.add_trace(go.Histogram(x=means, histnorm='probability density', name='Means of Samples'))\n",
    "fig.add_trace(go.Scatter(x=x, y=stats.norm.pdf(x, loc=clt_mu, scale=means_stdev), \n",
    "                         mode='lines', name='CLT-like Normal'))\n",
    "fig.add_trace(go.Scatter(x=x, y=stats.gamma.pdf(x, a=gamma_alpha, scale=gamma_scale, loc=gamma_loc), \n",
    "                         mode='lines', name='Gamma'))\n",
    "fig.add_trace(go.Scatter(x=x, y=stats.invgamma.pdf(x, a=invgamma_alpha, loc=0.7, scale=invgamma_beta), \n",
    "                         mode='lines', name='InvGamma'))\n",
    "fig.update_layout(title='Sample Means Distribution',\n",
    "                  xaxis_title='x',\n",
    "                  yaxis_title='Prob Density',\n",
    "                  hovermode=\"x\",\n",
    "                  height=550)\n",
    "fig.update_layout(xaxis_range=[0, 5])\n",
    "fig.show()"
   ]
  },
  {
   "cell_type": "markdown",
   "metadata": {},
   "source": [
    "Обратное гамма-распределение вроде более-менее попадает.\n",
    "\n",
    "Не ясно, есть ли теоретическое обоснование.  \n",
    "Есть обобщенная центральная предельная теорема  \n",
    "https://en.wikipedia.org/wiki/Stable_distribution#A_generalized_central_limit_theorem  \n",
    "Частный случай \"стабильных\" распределений - распределение Леви  \n",
    "https://en.wikipedia.org/wiki/L%C3%A9vy_distribution  \n",
    "Частный случай распределения Леви - обратное гамма-распределение  \n",
    "https://en.wikipedia.org/wiki/Inverse-gamma_distribution"
   ]
  },
  {
   "cell_type": "markdown",
   "metadata": {},
   "source": [
    "Совпадение моды распределения $\\sigma$ со значением дисперсии в выборке\n",
    "сильно зависит от количества наблюдений и от начального значения $\\sigma_0$.    \n",
    "При $\\sigma_0=1$ не совпадает, при $\\sigma_0=0.1$ совпадает.  \n",
    "Возможно, нужно использовать часть данных для задания начальных значений параметров.  "
   ]
  },
  {
   "cell_type": "code",
   "execution_count": null,
   "metadata": {},
   "outputs": [],
   "source": []
  },
  {
   "cell_type": "markdown",
   "metadata": {},
   "source": [
    "**зависимость оценки от n_split**"
   ]
  },
  {
   "cell_type": "code",
   "execution_count": null,
   "metadata": {},
   "outputs": [],
   "source": [
    "# def n_split_initial_parameters(mu, sigma):\n",
    "#     #todo: use remaining sample points\n",
    "#     return ConjugateNormalParams(mu=mu, sigma=sigma, k=1/25, a=2, b=1)\n",
    "\n",
    "# def n_split_compute_posterior_parameters(means):\n",
    "#     pars = []\n",
    "#     pars.append(n_split_initial_parameters()) \n",
    "#     for x in means:\n",
    "#         new_pars = update_conj_parameters(x, pars[-1])\n",
    "#         pars.append(new_pars)\n",
    "#     return pars\n",
    "\n",
    "# def compute_posterior_parameters(sample, n_split):\n",
    "#     means = reshape_and_compute_means(sample, n_split)\n",
    "#     mean_1 = means[0]\n",
    "#     sigma_1 = sample[0:n_split].std() / np.sqrt(n_split)\n",
    "#     pars = []\n",
    "#     pars.append(initial_parameters(mu=mean_1, sigma=sigma_1)) \n",
    "#     for x in means[1:]:\n",
    "#         new_pars = update_conj_parameters(x, pars[-1])\n",
    "#         pars.append(new_pars)\n",
    "#     return pars\n",
    "\n",
    "\n",
    "fig = go.Figure()\n",
    "x = np.linspace(0, 10, 10000)\n",
    "\n",
    "for n_split in [9, 16, 25, 49, 100, 225, 400]:\n",
    "    print('n_split: ', n_split)\n",
    "    n_split_means_a = reshape_and_compute_means(samp_a, n_split)\n",
    "    n_split_means_b = reshape_and_compute_means(samp_b, n_split)\n",
    "    #n_split_pars_a = n_split_compute_posterior_parameters(n_split_means_a)\n",
    "    #n_split_pars_b = n_split_compute_posterior_parameters(n_split_means_b)\n",
    "    n_split_pars_a = compute_posterior_parameters(samp_a, n_split)\n",
    "    n_split_pars_b = compute_posterior_parameters(samp_b, n_split)\n",
    "    n_split_mu_dist_a = mu_marginal_distrib(n_split_pars_a[-1])\n",
    "    n_split_mu_dist_b = mu_marginal_distrib(n_split_pars_b[-1])\n",
    "    n_split_post_means_a = post_means_rvs(n_split_pars_a[-1], size=30000)\n",
    "    n_split_post_means_b = post_means_rvs(n_split_pars_b[-1], size=30000)\n",
    "    \n",
    "    col = 'red'\n",
    "    fig.add_trace(go.Scatter(x=x, y=sample_clt_dist(n_split_means_a).pdf(x), \n",
    "                         mode='lines', line_color=col, opacity=0.5,\n",
    "                         name=f\"A Sample CLT, {n_split}\"))\n",
    "    col = 'blue'\n",
    "    fig.add_trace(go.Scatter(x=x, y=sample_clt_dist(n_split_means_b).pdf(x), \n",
    "                         mode='lines', line_color=col, opacity=0.5,\n",
    "                         name=f\"B Sample CLT, {n_split}\"))\n",
    "    \n",
    "    \n",
    "    n_split_p_mean_b_gt_mean_a = np.sum(n_split_post_means_b > n_split_post_means_a) / len(n_split_post_means_b)\n",
    "    print(f'P(E[B] > E[A]): {n_split_p_mean_b_gt_mean_a}')\n",
    "\n",
    "    n_split_mu_size = 10000\n",
    "    n_split_p_mu_b_gt_mu_a = np.sum(n_split_mu_dist_b.rvs(size=n_split_mu_size) > n_split_mu_dist_a.rvs(size=n_split_mu_size)) / n_split_mu_size\n",
    "    print(f'P(mu_B > mu_A): {n_split_p_mu_b_gt_mu_a}')\n",
    "\n",
    "\n",
    "col = 'red'\n",
    "fig.add_trace(go.Histogram(x=n_split_post_means_a, histnorm='probability density',\n",
    "                           opacity=0.3, marker_color=col,\n",
    "                           name='A Posterior Means'))\n",
    "fig.add_trace(go.Histogram(x=n_split_means_a, histnorm='probability density',\n",
    "                           opacity=0.5, marker_color=col,\n",
    "                           name='B Sample Means'))\n",
    "col = 'blue'\n",
    "fig.add_trace(go.Histogram(x=n_split_post_means_b, histnorm='probability density', \n",
    "                           opacity=0.3, marker_color=col,\n",
    "                           name='B Posterior Means'))\n",
    "fig.add_trace(go.Histogram(x=n_split_means_b, histnorm='probability density',\n",
    "                           opacity=0.5, marker_color=col,\n",
    "                           name='B Sample Means'))\n",
    "fig.update_layout(title='Dist',\n",
    "                  xaxis_title='p',\n",
    "                  yaxis_title='Prob Density',\n",
    "                  hovermode=\"x\",\n",
    "                  height=550,\n",
    "                  barmode=\"overlay\")\n",
    "fig.update_layout(xaxis_range=[0, 5])\n",
    "fig.show()"
   ]
  },
  {
   "cell_type": "code",
   "execution_count": null,
   "metadata": {},
   "outputs": [],
   "source": [
    "fig = go.Figure()\n",
    "x_sg = np.linspace(0.01, 10, 10000)\n",
    "\n",
    "for n_split in [9, 16, 25, 49, 100, 225, 400]:\n",
    "    print('n_split: ', n_split)\n",
    "    n_split_means_a = reshape_and_compute_means(samp_a, n_split)\n",
    "    n_split_means_b = reshape_and_compute_means(samp_b, n_split)\n",
    "    #n_split_pars_a = n_split_compute_posterior_parameters(n_split_means_a)\n",
    "    #n_split_pars_b = n_split_compute_posterior_parameters(n_split_means_b)\n",
    "    n_split_pars_a = compute_posterior_parameters(samp_a, n_split)\n",
    "    n_split_pars_b = compute_posterior_parameters(samp_b, n_split)\n",
    "    n_split_sigma_dist_a = sigma_marginal_distrib_pdf(x_sg, n_split_pars_a[-1])\n",
    "    n_split_sigma_dist_b = sigma_marginal_distrib_pdf(x_sg, n_split_pars_b[-1])\n",
    "    n_split_ymax_sg = np.max([n_split_sigma_dist_a, n_split_sigma_dist_b]) #todo: optimize\n",
    "    col = 'red'\n",
    "    fig.add_trace(go.Scatter(x=x_sg, y=n_split_sigma_dist_a, \n",
    "                             mode='lines', line_color=col, \n",
    "                             name=f'A Sigma Dist, {n_split}'))\n",
    "    fig.add_trace(go.Scatter(x=[n_split_means_a.std(), n_split_means_a.std()], y=[0, n_split_ymax_sg],\n",
    "                             mode='lines', line_color=col, line_dash='dash', \n",
    "                             name=f'A Sample Std, {n_split}'))\n",
    "    col = 'blue'\n",
    "    fig.add_trace(go.Scatter(x=x_sg, y=n_split_sigma_dist_b,\n",
    "                             mode='lines', line_color=col, \n",
    "                             name=f'B Sigma Dist, {n_split}'))\n",
    "    fig.add_trace(go.Scatter(x=[n_split_means_b.std(), n_split_means_b.std()], y=[0, n_split_ymax_sg],\n",
    "                             mode='lines', line_color=col, line_dash='dash', \n",
    "                             name=f'B Sample Std, {n_split}'))\n",
    "\n",
    "fig.update_layout(title='Sigma Estimates',\n",
    "                  xaxis_title='Sigma',\n",
    "                  yaxis_title='Prob Density',\n",
    "                  hovermode=\"x\",\n",
    "                  height=550)\n",
    "fig.update_layout(xaxis_range=[0, 5])\n",
    "fig.show()"
   ]
  },
  {
   "cell_type": "markdown",
   "metadata": {},
   "source": [
    "Если выбрать n_split так, что в сэмпле средних окажется \"мало\" точек, то \n",
    "не получается точно подобрать параметры апостериорного распределения.\n",
    "\n",
    "Также, если мало точек, нельзя убедительно считать, что распределение средних нормальное.  \n",
    "\n",
    "При этом CLT-распределение сужается.  \n",
    "А байесовское - нет.  \n",
    "Но ведь если при малом количестве точек распределение нормальное, то при большем количестве точек оно скорее\n",
    "всего останется нормальным.  \n",
    "\n",
    "Кажется, что тут есть зависимость от начальных параметров.  \n",
    "Точнее - проблемы из-за $\\sigma$.  \n",
    "Если завысить - распределение будет шире, чем могло бы быть.  \n",
    "Если занизить - будет уже.  \n",
    "\n",
    "Баланс - сгенерированное апостериорное распределение более-менее воспроизводит распределение сэмплов.  \n",
    "И, возможно, распределение ЦПТ.  "
   ]
  },
  {
   "cell_type": "code",
   "execution_count": null,
   "metadata": {},
   "outputs": [],
   "source": []
  },
  {
   "cell_type": "markdown",
   "metadata": {},
   "source": [
    "## Приложение: сравнение среднего чека одной покупки"
   ]
  },
  {
   "cell_type": "code",
   "execution_count": null,
   "metadata": {},
   "outputs": [],
   "source": [
    "a_prices = np.array([0, 3, 10, 30])\n",
    "a_probs = np.array([80, 12, 5, 3])\n",
    "\n",
    "b_prices = np.array([0, 5, 15, 50])\n",
    "b_probs = np.array([85, 10, 3, 2])\n",
    "\n",
    "xmax = np.max([a_prices, b_prices])\n",
    "a_mean = np.sum(a_prices * a_probs / 100)\n",
    "b_mean = np.sum(b_prices * b_probs / 100)\n",
    "\n",
    "fig = go.Figure()\n",
    "fig.add_trace(go.Bar(x=a_prices, y=a_probs, marker_color='red', name='A'))\n",
    "fig.add_vline(a_mean, line_dash='dash')\n",
    "fig.update_layout(title='A Prices')\n",
    "fig.update_layout(yaxis_range=[0,100], \n",
    "                  xaxis_range=[0, xmax])\n",
    "fig.show()\n",
    "\n",
    "fig = go.Figure()\n",
    "fig.add_trace(go.Bar(x=b_prices, y=b_probs, marker_color='blue', name='B'))\n",
    "fig.add_vline(b_mean, line_dash='dash')\n",
    "fig.update_layout(title='B Prices')\n",
    "fig.update_layout(yaxis_range=[0,100], \n",
    "                  xaxis_range=[0, xmax])\n",
    "fig.show()\n",
    "\n",
    "print(f'A probs sum: {np.sum(a_probs)}, B probs sum: {np.sum(b_probs)}')\n",
    "print(f'A prob buy: {100 - a_probs[0]}, B prob buy: {100 - b_probs[0]}')\n",
    "print(f'B_prob_buy / A_prob_buy: {(100 - b_probs[0]) / (100 - a_probs[0]) :.2f}')\n",
    "print(f'A mean: {a_mean} B mean: {b_mean}')\n",
    "print(f'B mean / A mean: {b_mean / a_mean :.2f}')"
   ]
  },
  {
   "cell_type": "code",
   "execution_count": null,
   "metadata": {},
   "outputs": [],
   "source": [
    "n_users = 1000\n",
    "\n",
    "a_purs = np.random.choice(a_prices, size=n_users, p=a_probs/100)\n",
    "b_purs = np.random.choice(b_prices, size=n_users, p=b_probs/100)\n",
    "\n",
    "print(f'A sample mean: {np.mean(a_purs)}')\n",
    "print(f'B sample mean: {np.mean(b_purs)}')"
   ]
  }
 ],
 "metadata": {
  "kernelspec": {
   "display_name": "Python 3 (ipykernel)",
   "language": "python",
   "name": "python3"
  },
  "language_info": {
   "codemirror_mode": {
    "name": "ipython",
    "version": 3
   },
   "file_extension": ".py",
   "mimetype": "text/x-python",
   "name": "python",
   "nbconvert_exporter": "python",
   "pygments_lexer": "ipython3",
   "version": "3.7.3"
  }
 },
 "nbformat": 4,
 "nbformat_minor": 4
}
