{
 "cells": [
  {
   "cell_type": "markdown",
   "metadata": {},
   "source": [
    "# Сравнение выручки на пользователя"
   ]
  },
  {
   "cell_type": "markdown",
   "metadata": {},
   "source": [
    "# Введение"
   ]
  },
  {
   "cell_type": "markdown",
   "metadata": {},
   "source": [
    "Для моделирования выручки на пользователя применимы распределение Парето и лог-нормальное распределение.  \n",
    "\n",
    "https://en.wikipedia.org/wiki/Pareto_distribution  \n",
    "https://en.wikipedia.org/wiki/Log-normal_distribution  \n",
    "https://arxiv.org/abs/cond-mat/0412004  \n",
    "https://academic.oup.com/bioscience/article/51/5/341/243981?login=false  \n",
    "\n",
    "\n",
    "https://en.wikipedia.org/wiki/Gibrat%27s_law\n",
    "\n",
    "Критерием выбора может быть ограничение минимальной суммы заказа: Парето если сумма ограничена, логнормальное если может быть 0 [Mitz].\n"
   ]
  },
  {
   "cell_type": "code",
   "execution_count": null,
   "metadata": {},
   "outputs": [],
   "source": [
    "import pandas as pd\n",
    "import numpy as np\n",
    "np.random.seed(7)\n",
    "\n",
    "from collections import namedtuple\n",
    "\n",
    "import scipy.stats as stats\n",
    "import plotly.express as px\n",
    "import plotly.graph_objects as go\n",
    "from plotly.subplots import make_subplots\n",
    "\n",
    "#todo: update scipy; make venv"
   ]
  },
  {
   "cell_type": "markdown",
   "metadata": {},
   "source": [
    "# Лог-нормальное"
   ]
  },
  {
   "cell_type": "markdown",
   "metadata": {},
   "source": [
    "Лог-нормальное распределение  \n",
    "https://en.wikipedia.org/wiki/Log-normal_distribution  \n",
    "https://docs.scipy.org/doc/scipy/reference/generated/scipy.stats.lognorm.html  "
   ]
  },
  {
   "cell_type": "markdown",
   "metadata": {},
   "source": [
    "$$\n",
    "X \\sim Lognormal(\\mu, \\sigma^2)\n",
    "\\\\\n",
    "\\ln(X) \\sim Norm(\\mu, \\sigma^2)\n",
    "\\\\\n",
    "f(x) = \\frac{1}{x \\sigma \\sqrt{2 \\pi}} e^{-\\dfrac{(\\ln(x) - \\mu)^2}{2 \\sigma^2}}\n",
    "\\\\\n",
    "E[x] = e^{\\left(\\mu + \\sigma^2/2\\right)}\n",
    "$$"
   ]
  },
  {
   "cell_type": "code",
   "execution_count": null,
   "metadata": {},
   "outputs": [],
   "source": [
    "x = np.linspace(0, 10, 2000)\n",
    "fig = go.Figure()\n",
    "for sigma, loc, scale in [(1, 0, 1), (2, 0, 1), (1, 0, 2)]:\n",
    "    fig.add_trace(go.Scatter(x=x, y=stats.lognorm.pdf(x, s=sigma, loc=loc, scale=scale), \n",
    "                             mode='lines', \n",
    "                             name=f's={sigma}, loc={loc}, scale={scale}'))\n",
    "fig.update_layout(title='Lognormal',\n",
    "                  xaxis_title='x',\n",
    "                  yaxis_title='Prob Density',\n",
    "                  hovermode=\"x\",\n",
    "                  height=550)\n",
    "fig.show()"
   ]
  },
  {
   "cell_type": "markdown",
   "metadata": {},
   "source": [
    "В байесовском подходе для оценки плотности вероятности параметров модели используется соотношение\n",
    "\n",
    "$$\n",
    "P(model | data) = \\frac{ P(data | model) P(model) }{P(data)}\n",
    "$$"
   ]
  },
  {
   "cell_type": "markdown",
   "metadata": {},
   "source": [
    "Сопряженное априорное распределение - произведение нормального и гамма-распределений аналогично сопряженному распределению для нормального распределения [ConjPrior](https://en.wikipedia.org/wiki/Conjugate_prior), [compendum of priors], [GammaDist](https://en.wikipedia.org/wiki/Gamma_distribution), [SciPyStatsGamma](https://docs.scipy.org/doc/scipy/reference/generated/scipy.stats.gamma.html)"
   ]
  },
  {
   "cell_type": "markdown",
   "metadata": {},
   "source": [
    "$$\n",
    "P(model | data) = \\frac{ P(data | model) P(model) }{P(data)} \\propto P(data | model) P(model)\n",
    "$$\n",
    "\n",
    "$$\n",
    "P(data | model) = P(x | \\mu, \\sigma) = \n",
    "\\frac{1}{x \\sigma \\sqrt{2 \\pi}} e^{-\\dfrac{(\\ln(x) - \\mu)^2}{2 \\sigma^2}}\n",
    "$$\n",
    "\n",
    "$$\n",
    "P(model) = \n",
    "Norm(\\mu | \\tau; \\mu_0, k_0) Gamma(\\tau; a, b) = \n",
    "(\\tau k_0/ \\pi)^{1/2} e^{- \\tau k_0 (\\mu-\\mu_0)^2}\n",
    "\\frac{b^a}{\\Gamma(a)} \\tau^{a-1} e^{-b \\tau}, \\quad \\tau>0, \\quad a,b>0 .\n",
    "$$"
   ]
  },
  {
   "cell_type": "markdown",
   "metadata": {},
   "source": [
    "Для $N$ точек:\n",
    "\n",
    "$$\n",
    "\\begin{split}\n",
    "P(model | data) \n",
    "& \\propto\n",
    "P(data | model) P(model) \n",
    "\\\\\n",
    "& \\propto\n",
    "\\prod_i^N \\left( \\frac{\\tau}{x_i \\pi} \\right)^{1/2} e^{- \\tau (\\ln(x_i)-\\mu)^2}\n",
    "\\left( \\frac{\\tau k_0}{\\pi} \\right)^{1/2} e^{- \\tau k_0 (\\mu-\\mu_0)^2}\n",
    "\\frac{b^a}{\\Gamma(a)} \\tau^{a-1} e^{-b \\tau}\n",
    "\\\\\n",
    "& \\propto\n",
    "\\tau^{1/2} e^{- \\tau k_N (\\mu-\\mu_N)^2}\n",
    "\\tau^{a_N-1} e^{-b_N \\tau}\n",
    "\\\\\n",
    "& = Norm(\\mu | \\tau; \\mu_N, k_N) Gamma(\\tau; a_N, b_N)\n",
    "\\end{split}\n",
    "$$\n",
    "\n",
    "$$\n",
    "\\begin{split}\n",
    "a_N & = a + N/2\n",
    "\\\\\n",
    "k_N & = k_0 + N\n",
    "\\\\\n",
    "\\mu_N & = \\frac{k_0 \\mu_0 + \\sum_i^N \\ln x_i}{k_0 + N}\n",
    "\\\\\n",
    "b_N & = b + k_0 \\mu_0^2 - k_N \\mu_N^2 + \\sum_i^N (\\ln x_i )^2\n",
    "\\end{split}\n",
    "$$"
   ]
  },
  {
   "cell_type": "markdown",
   "metadata": {},
   "source": [
    "Исходные значения параметров $\\mu_0$ и $\\sigma_0$ можно задать произвольно. Но если они будут далеки\n",
    "от реальных, то модель может оказаться неточной. Поэтому удобнее задавать их либо\n",
    "по историческим данным, либо на основе части данных из сэмпла. Для $\\mu_0$ можно\n",
    "выбрать среднее $\\bar{x}_1$ в первом наборе из $n_{split}$ точек, для $\\sigma_0^2$ - дисперсию в этой\n",
    "части сэмпла $\\sigma_{\\bar{x}_1}^2$, отнесенную к количеству точек $n_{split}$.\n",
    "Для начальных значений $a_0$ и $b_0$ можно выбрать 2 и 1, поскольку при таких значениях\n",
    "параметров мода $p(\\lambda) = Gamma(\\lambda, a=2, b=1)$ будет равна 1. Значение\n",
    "$k_0$ можно выбрать $1/25$, чтобы вначале обеспечить широкую область для $P(\\mu) = N(\\mu_0, (5 \\sigma_0)^2)$:\n",
    "\n",
    "$$\n",
    "\\mu_0 = \\bar{x}_1, \\sigma_0 = \\sigma_{\\bar{x}_1} / \\sqrt{n_{split}} ,\n",
    "\\\\ \n",
    "k_0 = 1/25 ,\n",
    "\\\\\n",
    "a_0 = 2, b_0 = 1 .\n",
    "$$"
   ]
  },
  {
   "cell_type": "code",
   "execution_count": null,
   "metadata": {},
   "outputs": [],
   "source": [
    "ConjugateLogNormalParams = namedtuple('ConjugateLogNormalParams', 'mu k a b')\n",
    "\n",
    "def initial_parameters(mu, k=1/25, a=2, b=1):\n",
    "    return ConjugateLogNormalParams(mu=mu, k=k, a=a, b=b)\n",
    "\n",
    "def compute_posterior_parameters(x, initial_pars):\n",
    "    lnx = [np.log(xi) for xi in x]\n",
    "    a_n = initial_pars.a + len(x) * 1.0 / 2\n",
    "    k_n = initial_pars.k + len(x)\n",
    "    mu_n = (initial_pars.k * initial_pars.mu + np.sum(lnx)) / (initial_pars.k + 1)    \n",
    "    b_n = initial_pars.b + initial_pars.k * initial_pars.mu**2 - k_n * mu_n**2 + np.sum(lnx**2)\n",
    "    return ConjugateLogNormalParams(mu=mu_n, k=k_n, a=a_n, b=b_n)"
   ]
  },
  {
   "cell_type": "code",
   "execution_count": null,
   "metadata": {},
   "outputs": [],
   "source": []
  },
  {
   "cell_type": "markdown",
   "metadata": {},
   "source": [
    "# Парето"
   ]
  },
  {
   "cell_type": "markdown",
   "metadata": {},
   "source": [
    "Распределение Парето [[ParetoDist](https://en.wikipedia.org/wiki/Pareto_distribution), [SciPyPareto](https://docs.scipy.org/doc/scipy/reference/generated/scipy.stats.pareto.html)] \n",
    "\n",
    "$$\n",
    "P(x; x_m, c) = \n",
    "\\begin{cases}\n",
    "\\dfrac{c x_m^c}{x^{c + 1}} & x \\ge x_m\n",
    "\\\\\n",
    "0 & x < x_m.\n",
    "\\end{cases}\n",
    "$$"
   ]
  },
  {
   "cell_type": "code",
   "execution_count": null,
   "metadata": {},
   "outputs": [],
   "source": [
    "x = np.linspace(0, 10, 2000)\n",
    "fig = go.Figure()\n",
    "for b, loc, scale in [(1, 0, 1), (2, 0, 1), (3, 0, 4), (4, 1, 1)]:\n",
    "    fig.add_trace(go.Scatter(x=x, y=stats.pareto.pdf(x, b=b, loc=loc, scale=scale), \n",
    "                             mode='lines', \n",
    "                             name=f'b={b}, loc={loc}, x_m={scale}'))\n",
    "fig.update_layout(title='Pareto',\n",
    "                  xaxis_title='x',\n",
    "                  yaxis_title='Prob Density',\n",
    "                  hovermode=\"x\",\n",
    "                  height=550)\n",
    "fig.show()"
   ]
  },
  {
   "cell_type": "markdown",
   "metadata": {},
   "source": [
    "В байесовском подходе для оценки плотности вероятности параметров модели используется соотношение\n",
    "\n",
    "$$\n",
    "P(model | data) = \\frac{ P(data | model) P(model) }{P(data)}.\n",
    "$$"
   ]
  },
  {
   "cell_type": "markdown",
   "metadata": {},
   "source": [
    "Сопряженное априорное распределение - Гамма-распределение\n",
    "https://en.wikipedia.org/wiki/Conjugate_prior ,\n",
    "[ссылка на a compendum of priors]   \n",
    "\n",
    "\n",
    "$$\n",
    "P(model) = Gamma(x; a, b) = \\frac{b^a}{\\Gamma(a)} x^{a-1} e^{-b x}, \\quad x>0, \\quad a,b>0 .\n",
    "$$"
   ]
  },
  {
   "cell_type": "markdown",
   "metadata": {},
   "source": [
    "$$\n",
    "P(model | data) = \\frac{ P(data | model) P(model) }{P(data)} \\propto P(data | model) P(model)\n",
    "$$\n",
    "\n",
    "$$\n",
    "P(data | model) = P(x | \\alpha) = \n",
    "\\begin{cases}\n",
    "\\dfrac{\\alpha}{x_m} \\left(\\dfrac{x}{x_m}\\right)^{-(\\alpha+1)} & x \\ge x_m\n",
    "\\\\\n",
    "0 & x < x_m.\n",
    "\\end{cases}\n",
    "$$\n",
    "\n",
    "$$\n",
    "P(model) = Gamma(\\alpha; a, b) = \\frac{b^a}{\\Gamma(a)} \\alpha^{a-1} e^{-b \\alpha}, \\quad \\alpha>0, \\quad a,b>0 .\n",
    "$$\n",
    "\n",
    "$$\n",
    "\\begin{split}\n",
    "P(model | data) \n",
    "& \\propto\n",
    "\\frac{\\alpha}{x_m}\\left(\\frac{x}{x_m}\\right)^{-(\\alpha + 1)} \\frac{b^a}{\\Gamma(a)} \\alpha^{a-1} e^{-b \\alpha}\n",
    "\\\\\n",
    "& \\propto \n",
    "\\alpha e^{-(\\alpha+1) \\ln(x/x_m)} \\alpha^{a-1} e^{-b \\alpha}\n",
    "\\\\\n",
    "& \\propto\n",
    "\\alpha^{a} e^{-\\alpha (b + \\ln(x/x_m))}\n",
    "\\\\\n",
    "& \\sim\n",
    "Gamma(\\alpha; a+1, b + \\ln(x/x_m))\n",
    "\\end{split}\n",
    "$$\n",
    "\n",
    "Для N точек\n",
    "$$\n",
    "P(model | data) = Gamma(\\alpha; a+N, b + \\sum_i^N\\ln(x_i/x_m))\n",
    "$$"
   ]
  },
  {
   "cell_type": "code",
   "execution_count": null,
   "metadata": {},
   "outputs": [],
   "source": [
    "x = np.linspace(0, 10, 2000)\n",
    "fig = go.Figure()\n",
    "for a,b in [(1,1), (2,1), (3,1), (9, 3), (45, 15), (90, 30)]:\n",
    "    fig.add_trace(go.Scatter(x=x, y=stats.gamma.pdf(x, a=a, scale=1/b), mode='lines', name=f'a={a}, b={b}'))\n",
    "fig.update_layout(title='Gamma Distribution',\n",
    "                  xaxis_title='$\\lambda$',\n",
    "                  yaxis_title='Prob Density',\n",
    "                  hovermode=\"x\",\n",
    "                  height=550)\n",
    "fig.show()"
   ]
  },
  {
   "cell_type": "markdown",
   "metadata": {},
   "source": [
    "# Оценка формы распределения Парето"
   ]
  },
  {
   "cell_type": "code",
   "execution_count": null,
   "metadata": {
    "scrolled": false
   },
   "outputs": [],
   "source": [
    "def posterior_params(alpha, beta, x_m, data):\n",
    "    alpha_post = alpha + len(data)\n",
    "    beta_post = beta + np.sum([np.log(x/x_m) for x in data])\n",
    "    return alpha_post, beta_post\n",
    "\n",
    "def posterior_dist(alpha, beta, x_m, data):\n",
    "    alpha_post = alpha + len(data)\n",
    "    beta_post = beta + np.sum([np.log(x/x_m) for x in data])\n",
    "    dist = stats.gamma(a=alpha_post, scale=1/beta_post)\n",
    "    return dist\n",
    "\n",
    "b = 2.8\n",
    "scale = 1\n",
    "nsample = 1000\n",
    "\n",
    "exact_dist = stats.pareto(b=b)\n",
    "\n",
    "data = exact_dist.rvs(nsample)\n",
    "\n",
    "alpha_prior = 2\n",
    "beta_prior = 1\n",
    "\n",
    "postdist = posterior_dist(alpha=alpha_prior, beta=beta_prior, x_m=scale, data=data)\n",
    "#postdist\n",
    "\n",
    "x = np.linspace(0, 10, 2000)\n",
    "fig = go.Figure()\n",
    "fig.add_trace(go.Scatter(x=x, y=postdist.pdf(x), mode='lines', name=f'Posterior'))\n",
    "fig.update_layout(title='Gamma Distribution',\n",
    "                  xaxis_title='$\\lambda$',\n",
    "                  yaxis_title='Prob Density',\n",
    "                  hovermode=\"x\",\n",
    "                  height=550)\n",
    "fig.show()"
   ]
  },
  {
   "cell_type": "markdown",
   "metadata": {},
   "source": [
    "Апостериорное распределение"
   ]
  },
  {
   "cell_type": "markdown",
   "metadata": {},
   "source": [
    "Среднее\n",
    "\n",
    "$$\n",
    "E[x] = \n",
    "\\begin{cases}\n",
    "\\dfrac{\\alpha x_m}{\\alpha - 1} & \\alpha > 1\n",
    "\\\\\n",
    "\\infty & \\alpha \\le 1\n",
    "\\end{cases}\n",
    "$$\n",
    "\n",
    "Медиана\n",
    "\n",
    "$$\n",
    "m = x_m 2^{1/\\alpha}\n",
    "$$"
   ]
  },
  {
   "cell_type": "code",
   "execution_count": null,
   "metadata": {},
   "outputs": [],
   "source": [
    "alpha_nsamp = 50000\n",
    "samp = postdist.rvs(alpha_nsamp)\n",
    "samp_mean = samp * scale / (samp-1)\n",
    "samp_median = scale * 2**(1/samp)\n",
    "\n",
    "fig = go.Figure()\n",
    "fig.add_trace(go.Histogram(x=samp_mean, histnorm='probability density', name='Mean Hist', nbinsx=100))\n",
    "fig.add_vline(exact_dist.mean(), name='Original Distribution Mean')\n",
    "fig.show()\n",
    "\n",
    "fig = go.Figure()\n",
    "fig.add_trace(go.Histogram(x=samp_median, histnorm='probability density', name='Median Hist', nbinsx=100))\n",
    "fig.add_vline(exact_dist.median(), name='Original Distribution Median')\n",
    "fig.show()"
   ]
  },
  {
   "cell_type": "markdown",
   "metadata": {},
   "source": [
    "# Сравнение распределений"
   ]
  },
  {
   "cell_type": "code",
   "execution_count": null,
   "metadata": {},
   "outputs": [],
   "source": [
    "# params = {\n",
    "#     'A': {'b': 2.8}\n",
    "#     'B': {'b': 2.9}\n",
    "# }\n",
    "\n",
    "b = 1.3\n",
    "scale = 1\n",
    "\n",
    "exact_dist_a = stats.pareto(b=b)\n",
    "exact_dist_b = stats.pareto(b=b*1.05)\n",
    "\n",
    "nsample = 1000\n",
    "\n",
    "samp_a = exact_dist_a.rvs(nsample)\n",
    "samp_b = exact_dist_b.rvs(nsample)\n",
    "\n",
    "alpha_prior = 2\n",
    "beta_prior = 1\n",
    "\n",
    "postdist_a = posterior_dist(alpha=alpha_prior, beta=beta_prior, x_m=scale, data=samp_a)\n",
    "postdist_b = posterior_dist(alpha=alpha_prior, beta=beta_prior, x_m=scale, data=samp_b)\n",
    "#postdist\n",
    "\n",
    "x = np.linspace(0, 5, 2000)\n",
    "fig = go.Figure()\n",
    "fig.add_trace(go.Scatter(x=x, y=postdist_a.pdf(x), mode='lines', name=f'A'))\n",
    "fig.add_trace(go.Scatter(x=x, y=postdist_b.pdf(x), mode='lines', name=f'B'))\n",
    "fig.update_layout(title='Posterior Distribution',\n",
    "                  xaxis_title='$alpha$',\n",
    "                  yaxis_title='Prob Density',\n",
    "                  hovermode=\"x\",\n",
    "                  height=550)\n",
    "fig.show()\n",
    "\n",
    "\n",
    "post_nsamp = 50000\n",
    "post_samp_a = postdist_a.rvs(alpha_nsamp)\n",
    "post_samp_b = postdist_b.rvs(alpha_nsamp)\n",
    "p_alpha_b_gt_alpha_a = np.sum(post_samp_b > post_samp_a) / post_nsamp\n",
    "print(f'P(alpha_B > alpha_A) = {p_alpha_b_gt_alpha_a :.2f}')"
   ]
  },
  {
   "cell_type": "code",
   "execution_count": null,
   "metadata": {},
   "outputs": [],
   "source": []
  },
  {
   "cell_type": "code",
   "execution_count": null,
   "metadata": {},
   "outputs": [],
   "source": []
  },
  {
   "cell_type": "markdown",
   "metadata": {},
   "source": [
    "# Ссылки\n",
    "\n",
    "Fink, Daniel (1997). \"A Compendium of Conjugate Priors\"\n",
    "https://courses.physics.ucsd.edu/2018/Fall/physics210b/REFERENCES/conjugate_priors.pdf  \n",
    "\n",
    "Internet Mathematics Vol. 1, No. 2: 226-251  \n",
    "A Brief History of Generative Models for Power Law and Lognormal Distributions  \n",
    "Michael Mitzenmacher  \n",
    "http://www.eecs.harvard.edu/~michaelm/postscripts/im2004a.pdf"
   ]
  },
  {
   "cell_type": "code",
   "execution_count": null,
   "metadata": {},
   "outputs": [],
   "source": []
  },
  {
   "cell_type": "markdown",
   "metadata": {},
   "source": [
    "# Приложение"
   ]
  },
  {
   "cell_type": "markdown",
   "metadata": {},
   "source": [
    "## Сопряженное распределение к нормальному"
   ]
  },
  {
   "cell_type": "markdown",
   "metadata": {},
   "source": [
    "Сопряженное априорное распределение для нормальной функции правдоподобия:\n",
    "\n",
    "$$\n",
    "P(model | data) = \\frac{ P(data | model) P(model) }{P(data)} \\propto P(data | model) P(model)\n",
    "$$\n",
    "\n",
    "$$\n",
    "P(data | model) = P(x | \\mu, \\sigma_x) = \n",
    "\\frac{1}{\\sqrt{2 \\pi \\sigma_x^2}} e^{-\\dfrac{(x - \\mu)^2}{2 \\sigma_x^2}}\n",
    "$$"
   ]
  },
  {
   "cell_type": "markdown",
   "metadata": {},
   "source": [
    "Один параметр: $\\mu$ меняется, $\\sigma$ фиксировано.  \n",
    "Сопряженное априорное распределение - нормальное распределение.\n",
    "\n",
    "$$\n",
    "P(model) = Norm(\\mu | \\mu_0, \\sigma_0) = \n",
    "\\frac{1}{\\sqrt{2 \\pi \\sigma_{0}^2}} e^{- \\dfrac{(\\mu-\\mu_0)^2}{2 \\sigma_{0}^2}} \n",
    "$$\n",
    "\n",
    "$$\n",
    "\\begin{split}\n",
    "P(model | data) \n",
    "& \\propto\n",
    "\\frac{1}{\\sqrt{2 \\pi \\sigma_x^2}} e^{-\\dfrac{(x - \\mu)^2}{2 \\sigma_x^2}}\n",
    "\\frac{1}{\\sqrt{2 \\pi \\sigma_{0}^2}} e^{- \\dfrac{(\\mu-\\mu_0)^2}{2 \\sigma_{0}^2}} \n",
    "& \\propto\n",
    "e^{-\\dfrac{(\\mu - \\mu_1)^2}{2 \\sigma_1^2}}\n",
    "= Norm(\\mu | \\mu_1, \\sigma_1)\n",
    "\\end{split}\n",
    "$$\n",
    "\n",
    "$$\n",
    "\\dfrac{x^2 - 2 \\mu x + \\mu^2}{2 \\sigma_x^2} + \\dfrac{\\mu^2 - 2\\mu \\mu_0 + \\mu_0^2}{2 \\sigma_{0}^2}\n",
    "=\n",
    "\\mu^2 \\left[ \\frac{1}{2 \\sigma_x^2} + \\frac{1}{2 \\sigma_0^2} \\right] -\n",
    "2 \\mu \\left[ \\frac{x}{2 \\sigma_x^2} + \\frac{\\mu_0}{2 \\sigma_{0}^2} \\right]  + C\n",
    "=\n",
    "\\dfrac{\\mu^2 - 2 \\mu \\mu_1 + \\mu_1^2}{2 \\sigma_1^2} - \\frac{\\mu_1^2}{2 \\sigma_1^2} + C\n",
    "$$\n",
    "\n",
    "$$\n",
    "\\frac{1}{2 \\sigma_1^2} = \\left[ \\frac{1}{2 \\sigma_x^2} + \\frac{1}{2 \\sigma_0^2} \\right],\n",
    "\\quad\n",
    "\\frac{\\mu_1}{2 \\sigma_1^2} = \\left[ \\frac{x}{2 \\sigma_x^2} + \\frac{\\mu_0}{2 \\sigma_{0}^2} \\right]\n",
    "\\\\\n",
    "\\sigma_1^2 = \\frac{\\sigma_0^2 \\sigma_x^2}{\\sigma_0^2 + \\sigma_x^2},\n",
    "\\quad\n",
    "\\mu_1 = \\frac{x \\sigma_0^2 + \\mu_0 \\sigma_x^2}{\\sigma_0^2 + \\sigma_x^2}\n",
    "$$\n",
    "\n",
    "Для $N$ точек:\n",
    "\n",
    "$$\n",
    "\\begin{split}\n",
    "P(model | data) \n",
    "& \\propto\n",
    "\\prod_i^N\n",
    "\\frac{1}{\\sqrt{2 \\pi \\sigma_x^2}} e^{-\\dfrac{(x_i - \\mu)^2}{2 \\sigma_x^2}}\n",
    "\\frac{1}{\\sqrt{2 \\pi \\sigma_{0}^2}} e^{- \\dfrac{(\\mu-\\mu_0)^2}{2 \\sigma_{0}^2}} \n",
    "& \\propto\n",
    "e^{-\\dfrac{(\\mu - \\mu_N)^2}{2 \\sigma_N^2}}\n",
    "= Norm(\\mu | \\mu_N, \\sigma_N)\n",
    "\\end{split}\n",
    "$$\n",
    "\n",
    "$$\n",
    "\\dfrac{\\mu^2 - 2\\mu \\mu_0 + \\mu_0^2}{2 \\sigma_{0}^2} + \\sum_i^N \\dfrac{x_i^2 - 2 \\mu x_i + \\mu^2}{2 \\sigma_x^2}\n",
    "=\n",
    "\\mu^2 \\left[ \\frac{1}{2 \\sigma_0^2} + \\frac{N}{2 \\sigma_x^2} \\right] -\n",
    "2 \\mu \\left[ \\frac{\\mu_0}{2 \\sigma_{0}^2} + \\sum_i^N \\frac{x_i}{2 \\sigma_x^2} \\right]  + C\n",
    "=\n",
    "\\dfrac{\\mu^2 - 2 \\mu \\mu_N + \\mu_N^2}{2 \\sigma_N^2} - \\frac{\\mu_N^2}{2 \\sigma_N^2} + C\n",
    "$$\n",
    "\n",
    "$$\n",
    "\\frac{1}{2 \\sigma_N^2} = \\left[ \\frac{1}{2 \\sigma_0^2} + \\frac{N}{2 \\sigma_x^2} \\right],\n",
    "\\quad\n",
    "\\frac{\\mu_N}{2 \\sigma_N^2} = \\left[ \\frac{\\mu_0}{2 \\sigma_{0}^2} + \\sum_i^N \\frac{x_i}{2 \\sigma_x^2} \\right]\n",
    "\\\\\n",
    "\\sigma_N^2 = \\frac{\\sigma_0^2 \\sigma_x^2}{\\sigma_x^2 + N \\sigma_0^2},\n",
    "\\quad\n",
    "\\mu_N = \\frac{\\mu_0 \\sigma_x^2 + \\sigma_0^2 \\sum_i^N x_i}{\\sigma_x^2 + N \\sigma_0^2 }\n",
    "$$"
   ]
  },
  {
   "cell_type": "markdown",
   "metadata": {},
   "source": [
    "Один параметр: $\\sigma$ меняется, $\\mu$ фиксировано.  \n",
    "Сопряженное априорное распределение - гамма-распределение.\n",
    "\n",
    "$$\n",
    "P(model) = Gamma(\\tau; a, b) = \\frac{b^a}{\\Gamma(a)} \\tau^{a-1} e^{-b \\tau}, \\quad \\tau>0, \\quad a,b>0 .\n",
    "$$\n",
    "\n",
    "$$\n",
    "\\begin{split}\n",
    "P(model | data) \n",
    "& \\propto\n",
    "\\frac{\\tau^{1/2}}{\\sqrt{\\pi}} e^{-\\tau (x - \\mu_x)^2}\n",
    "\\frac{b^a}{\\Gamma(a)} \\tau^{a-1} e^{-b \\tau}\n",
    "& \\propto\n",
    "\\tau^{a-1+1/2} e^{-b \\tau - \\tau (x - \\mu_x)^2 }\n",
    "= Gamma(\\tau; a+1/2, b + (x - \\mu_x)^2)\n",
    "\\end{split}\n",
    "$$\n",
    "\n",
    "Для $N$ точек:\n",
    "\n",
    "$$\n",
    "\\begin{split}\n",
    "P(model | data) \n",
    "& \\propto\n",
    "\\prod_i^N\n",
    "\\frac{\\tau^{1/2}}{\\sqrt{\\pi}} e^{-\\tau (x_i - \\mu_x)^2}\n",
    "\\frac{b^a}{\\Gamma(a)} \\tau^{a-1} e^{-b \\tau}\n",
    "& \\propto\n",
    "\\tau^{a-1+N/2} e^{-b \\tau - \\tau \\sum_i^N (x_i - \\mu_x)^2 }\n",
    "= Gamma(\\tau; a+N/2, b + \\sum_i^N (x_i - \\mu_x)^2)\n",
    "\\end{split}\n",
    "$$"
   ]
  },
  {
   "cell_type": "markdown",
   "metadata": {},
   "source": [
    "Два параметра: $\\mu, \\sigma$.  \n",
    "\n",
    "$$\n",
    "P(data | model) = P(x | \\mu, \\sigma_x) = \n",
    "\\frac{1}{\\sqrt{2 \\pi \\sigma_x^2}} e^{-\\dfrac{(x - \\mu)^2}{2 \\sigma_x^2}}\n",
    "$$\n",
    "\n",
    "Сопряженное априорное распределение - произведение нормального и гамма-распределений.\n",
    "\n",
    "$$\n",
    "P(model) = \n",
    "Norm(\\mu | \\tau; \\mu_0, k_0) Gamma(\\tau; a, b) = \n",
    "(\\tau k_0/ \\pi)^{1/2} e^{- \\tau k_0 (\\mu-\\mu_0)^2}\n",
    "\\frac{b^a}{\\Gamma(a)} \\tau^{a-1} e^{-b \\tau}, \\quad \\tau>0, \\quad a,b>0 .\n",
    "$$\n",
    "\n",
    "\n",
    "$$\n",
    "\\begin{split}\n",
    "P(model | data) \n",
    "& \\propto\n",
    "P(data | model) P(model) \n",
    "\\\\\n",
    "& \\propto\n",
    "(\\tau/ \\pi)^{1/2} e^{- \\tau (x-\\mu)^2}\n",
    "(\\tau k_0 / \\pi)^{1/2} e^{- \\tau k_0 (\\mu-\\mu_0)^2}\n",
    "\\frac{b^a}{\\Gamma(a)} \\tau^{a-1} e^{-b \\tau}\n",
    "\\\\\n",
    "& \\propto\n",
    "\\tau^{1/2} e^{- \\tau k_1 (\\mu-\\mu_1)^2}\n",
    "\\tau^{a_1-1} e^{-b_1 \\tau}\n",
    "\\\\\n",
    "& = Norm(\\mu | \\tau; \\mu_1, k_1) Gamma(\\tau; a_1, b_1)\n",
    "\\end{split}\n",
    "$$\n",
    "\n",
    "$$\n",
    "a_1 = a + 1/2\n",
    "$$\n",
    "\n",
    "$$\n",
    "(x-\\mu)^2 + k_0 (\\mu-\\mu_0)^2 + b =\n",
    "\\\\\n",
    "\\mu^2 (k_0 + 1) - 2 \\mu (x + k_0 \\mu_0) + x^2 + k_0 \\mu_0^2 + b = \n",
    "\\\\\n",
    "(k_0 + 1) \\left[ \\mu^2 - 2 \\mu \\frac{x + k_0 \\mu_0}{k_0 + 1} + \\left(\\frac{x + k_0 \\mu_0}{k_0 + 1}\\right)^2 \\right]\n",
    "- \\frac{(x + k_0 \\mu_0)^2}{k_0 + 1} + x^2 + k_0 \\mu_0^2 + b\n",
    "\\\\\n",
    "= k_1 (\\mu-\\mu_1)^2 + b_1\n",
    "$$\n",
    "\n",
    "$$\n",
    "k_1 = k_0 + 1\n",
    "\\\\\n",
    "\\mu_1 = \\frac{x + k_0 \\mu_0}{k_0 + 1}\n",
    "\\\\\n",
    "b_1 = b + x^2 + k_0 \\mu_0^2 - \\frac{(x + k_0 \\mu_0)^2}{k_0 + 1}\n",
    "\\\\\n",
    "= b + k_0 \\mu_0^2 - k_1 \\mu_1^2 + x^2\n",
    "$$\n",
    "\n",
    "$$\n",
    "b_1 = b + \\frac{x^2 k_0 + x^2 + k_0^2 \\mu_0^2 + k_0 \\mu_0^2 - x^2 - 2xk_0\\mu_0 - k_0^2 \\mu_0^2}{k_0+1}\n",
    "= b + \\frac{x^2 k_0 + k_0 \\mu_0^2 - 2xk_0\\mu_0}{k_0+1}\n",
    "\\\\\n",
    "= b + \\frac{k_0}{k_0+1}(x - \\mu_0)^2\n",
    "$$"
   ]
  },
  {
   "cell_type": "markdown",
   "metadata": {},
   "source": [
    "Для $N$ точек:\n",
    "\n",
    "$$\n",
    "\\begin{split}\n",
    "P(model | data) \n",
    "& \\propto\n",
    "P(data | model) P(model) \n",
    "\\\\\n",
    "& \\propto\n",
    "\\prod_i^N (\\tau/ \\pi)^{1/2} e^{- \\tau (x_i-\\mu)^2}\n",
    "(\\tau k_0 / \\pi)^{1/2} e^{- \\tau k_0 (\\mu-\\mu_0)^2}\n",
    "\\frac{b^a}{\\Gamma(a)} \\tau^{a-1} e^{-b \\tau}\n",
    "\\\\\n",
    "& \\propto\n",
    "\\tau^{1/2} e^{- \\tau k_N (\\mu-\\mu_N)^2}\n",
    "\\tau^{a_N-1} e^{-b_N \\tau}\n",
    "\\\\\n",
    "& = Norm(\\mu | \\tau; \\mu_N, k_N) Gamma(\\tau; a_N, b_N)\n",
    "\\end{split}\n",
    "$$\n",
    "\n",
    "$$\n",
    "a_N = a + N/2\n",
    "$$\n",
    "\n",
    "$$\n",
    "\\sum_i^N (x_i - \\mu)^2 + k_0 (\\mu-\\mu_0)^2 + b =\n",
    "\\\\\n",
    "\\mu^2 (k_0 + N) - 2 \\mu (k_0 \\mu_0 + \\sum_i^N x_i) + \\sum_i^N x_i^2 + k_0 \\mu_0^2 + b = \n",
    "\\\\\n",
    "(k_0 + N) \\left[ \\mu^2 - 2 \\mu \\frac{k_0 \\mu_0 + \\sum_i^N x_i}{k_0 + N} + \n",
    "\\left(\\frac{k_0 \\mu_0 + \\sum_i^N x_i}{k_0 + N}\\right)^2 \\right]\n",
    "- \\frac{(k_0 \\mu_0 + \\sum_i^N x_i)^2}{k_0 + N} + \\sum_i^N x_i^2 + k_0 \\mu_0^2 + b\n",
    "\\\\\n",
    "= k_N (\\mu-\\mu_N)^2 + b_N\n",
    "$$\n",
    "\n",
    "$$\n",
    "k_N = k_0 + N\n",
    "\\\\\n",
    "\\mu_N = \\frac{k_0 \\mu_0 + \\sum_i^N x_i}{k_0 + N}\n",
    "\\\\\n",
    "b_N = b + \\sum_i^N x_i^2 + k_0 \\mu_0^2 - \\frac{(k_0 \\mu_0 + \\sum_i^N x_i)^2}{k_0 + N}\n",
    "\\\\\n",
    "b_N = b + k_0 \\mu_0^2 - k_N \\mu_N^2 + \\sum_i^N x_i^2\n",
    "$$"
   ]
  },
  {
   "cell_type": "markdown",
   "metadata": {},
   "source": [
    "## Лог-нормальное"
   ]
  },
  {
   "cell_type": "markdown",
   "metadata": {},
   "source": [
    "$$\n",
    "P(data | model) = P(x | \\mu, \\sigma) = \n",
    "\\frac{1}{x \\sigma \\sqrt{2 \\pi}} e^{-\\dfrac{(\\ln(x) - \\mu)^2}{2 \\sigma^2}}\n",
    "$$"
   ]
  },
  {
   "cell_type": "markdown",
   "metadata": {},
   "source": [
    "$$\n",
    "\\begin{split}\n",
    "P(model | data) \n",
    "& \\propto\n",
    "P(data | model) P(model) \n",
    "\\\\\n",
    "& \\propto\n",
    "(\\tau/ x \\pi)^{1/2} e^{- \\tau (\\ln(x)-\\mu)^2}\n",
    "(\\tau k_0 / \\pi)^{1/2} e^{- \\tau k_0 (\\mu-\\mu_0)^2}\n",
    "\\frac{b^a}{\\Gamma(a)} \\tau^{a-1} e^{-b \\tau}\n",
    "\\\\\n",
    "& \\propto\n",
    "\\tau^{1/2} e^{- \\tau k_1 (\\mu-\\mu_1)^2}\n",
    "\\tau^{a_1-1} e^{-b_1 \\tau}\n",
    "\\\\\n",
    "& = Norm(\\mu | \\tau; \\mu_1, k_1) Gamma(\\tau; a_1, b_1)\n",
    "\\end{split}\n",
    "$$\n",
    "\n",
    "$$\n",
    "a_1 = a + 1/2\n",
    "\\\\\n",
    "k_1 = k_0 + 1\n",
    "\\\\\n",
    "\\mu_1 = \\frac{k_0 \\mu_0 + \\ln(x)}{k_0 + 1}\n",
    "\\\\\n",
    "b_1 = b + k_0 \\mu_0^2 - k_1 \\mu_1^2 + (\\ln x)^2\n",
    "$$"
   ]
  },
  {
   "cell_type": "markdown",
   "metadata": {},
   "source": [
    "## Ломакс"
   ]
  },
  {
   "cell_type": "markdown",
   "metadata": {},
   "source": [
    "Плотность распределения"
   ]
  },
  {
   "cell_type": "markdown",
   "metadata": {},
   "source": [
    "$$\n",
    "p(x) = {\\alpha \\over \\lambda} \\left[{1 + {x \\over \\lambda}}\\right]^{-(\\alpha+1)}, \\qquad x \\geq 0\n",
    "$$\n",
    "\n",
    "$$\n",
    "p(x) = {{\\alpha\\lambda^\\alpha} \\over {(x + \\lambda)^{\\alpha+1}}}\n",
    "$$"
   ]
  },
  {
   "cell_type": "markdown",
   "metadata": {},
   "source": [
    "Для распределения на пользователей: обезразмерить на $x_m$.  \n",
    "Потом Ломакс с $\\lambda=1$.  \n",
    "Проще сразу безразмерный вариант распределения."
   ]
  },
  {
   "cell_type": "markdown",
   "metadata": {},
   "source": [
    "$$\n",
    "P(model | data) = \\frac{ P(data | model) P(model) }{P(data)} \\propto P(data | model) P(model)\n",
    "$$\n",
    "\n",
    "$$\n",
    "P(data | model) = P(x | \\alpha) = {\\alpha \\over \\lambda} \\left[{1 + {x \\over \\lambda}}\\right]^{-(\\alpha+1)}\n",
    "= \\frac{\\alpha}{\\lambda}\\frac{1}{\\left[{1 + (x/\\lambda)}\\right]^{(\\alpha+1)}}\n",
    "$$\n",
    "\n",
    "$$\n",
    "P(model) = Gamma(\\alpha; a, b) = \\frac{b^a}{\\Gamma(a)} \\alpha^{a-1} e^{-b \\alpha}, \\quad \\alpha>0, \\quad a,b>0 .\n",
    "$$\n",
    "\n",
    "$$\n",
    "\\begin{split}\n",
    "P(model | data) \n",
    "& \\propto\n",
    "{\\alpha \\over \\lambda} \\left[{1 + {x \\over \\lambda}}\\right]^{-(\\alpha+1)} \\frac{b^a}{\\Gamma(a)} \\alpha^{a-1} e^{-b \\alpha}\n",
    "\\\\\n",
    "& \\propto \n",
    "\\alpha e^{-(\\alpha+1) \\ln(1 + x/\\lambda)} \\alpha^{a-1} e^{-b \\alpha}\n",
    "\\\\\n",
    "& \\propto\n",
    "\\alpha^{a} e^{-\\alpha (b + \\ln(1 + x/\\lambda))}\n",
    "\\\\\n",
    "& \\sim\n",
    "Gamma(\\alpha; a+1, b + \\ln(1 + x/\\lambda))\n",
    "\\end{split}\n",
    "$$\n",
    "\n",
    "Для N точек\n",
    "$$\n",
    "P(model | data) = Gamma(\\alpha; a+N, b + \\sum_i^N\\ln(1 + x_i/\\lambda))\n",
    "$$"
   ]
  },
  {
   "cell_type": "markdown",
   "metadata": {},
   "source": []
  }
 ],
 "metadata": {
  "kernelspec": {
   "display_name": "Python 3 (ipykernel)",
   "language": "python",
   "name": "python3"
  },
  "language_info": {
   "codemirror_mode": {
    "name": "ipython",
    "version": 3
   },
   "file_extension": ".py",
   "mimetype": "text/x-python",
   "name": "python",
   "nbconvert_exporter": "python",
   "pygments_lexer": "ipython3",
   "version": "3.11.2"
  }
 },
 "nbformat": 4,
 "nbformat_minor": 4
}
