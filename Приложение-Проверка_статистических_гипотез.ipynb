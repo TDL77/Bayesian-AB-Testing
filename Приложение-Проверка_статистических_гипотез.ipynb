{
 "cells": [
  {
   "cell_type": "markdown",
   "id": "8c54c547",
   "metadata": {},
   "source": [
    "# Проверка статистических гипотез"
   ]
  },
  {
   "cell_type": "markdown",
   "id": "9bc7bf2c",
   "metadata": {},
   "source": [
    "* *Введение*  \n",
    "* *Минимальный пример проверки гипотезы*  \n",
    "* *Сравнение средних в группах*\n",
    "* *Проблемы интерпретации*\n",
    "* *Заключение*\n",
    "* *Ссылки*"
   ]
  },
  {
   "cell_type": "markdown",
   "id": "7d86a2bf",
   "metadata": {},
   "source": [
    "### Введение"
   ]
  },
  {
   "cell_type": "markdown",
   "id": "61f7cf2b",
   "metadata": {},
   "source": [
    "Для анализа А/Б-тестов можно использовать метод проверки статистических гипотез [[StTest](https://en.wikipedia.org/wiki/Statistical_hypothesis_testing)].   \n",
    "Общая идея - предположить, что между группами нет разницы, после чего посчитать, насколько такое предположение объясняет экспериментальные данные. Если вероятность получить данные мала, то считается, что предположение можно отвергнуть, т.е. между группами есть значимая разница.  "
   ]
  },
  {
   "cell_type": "markdown",
   "id": "5dc7eb53",
   "metadata": {},
   "source": [
    "Структура следующая: вначале обсуждается минимальный пример проверки статистической гипотезы.\n",
    "Далее рассматривается сравнение двух распределений. Затем обсуждается интерпретация и сложности этого метода."
   ]
  },
  {
   "cell_type": "markdown",
   "id": "d2ee6f7d",
   "metadata": {},
   "source": [
    "### Минимальный пример проверки статистической гипотезы"
   ]
  },
  {
   "cell_type": "markdown",
   "id": "edf34b4b",
   "metadata": {},
   "source": [
    "Есть экспериментальные данные $data$.  \n",
    "Есть гипотеза $H$ об этих данных или их свойствах.  \n",
    "Есть случайная величина $Test$, распределение которой $P_{Test|H}(x)$ в предположении $H$ известно.  \n",
    "По фактическим данным считается \"тестовая статистика\"  $x_{fact}$ .   \n",
    "Считается вероятность получить \"фактическое или более экстремальное\" значение \"тестовой статистики\" $p = P_{Test|H}(x \\ge x_{fact} )$ или $p = P_{Test|H}(x \\le x_{fact} )$. Т.е. $p = CDF_{Test|H}(x_{fact})$ или $p = 1 - CDF_{Test|H}(x_{fact})$ . Эту вероятность называют \"p-значением\" [[PVal](https://en.wikipedia.org/wiki/P-value)].  \n",
    "Если вероятность \"достаточно мала\", гипотезу $H$ \"отвергают\", если \"не достаточно мала\" - \"принимают\".  \n",
    "\n",
    "Обсуждения такого способа выбора есть в разделе \"Проблемы интерпретации\".\n",
    "\n",
    "*(todo: также бывает $p = P_{Test|H}(|x - x_{fact}| \\ge 0 )$ )*"
   ]
  },
  {
   "cell_type": "markdown",
   "id": "b86415dd",
   "metadata": {},
   "source": [
    "Пример:\n",
    "- данные: в 1000 бросках монетки в 700 случаях выпал орел.  \n",
    "- гипотеза: вероятность выпадения орла 0.5   \n",
    "- случайная величина с известным распределением: вероятность k успехов в N попытках при вероятности $p$ успеха в одной попытке задается биномиальным распределением $Binom(p; N, k)$  \n",
    "- тестовая статистика: число успехов k=700 в общих попытках N=1000\n",
    "- p-значение: вероятность получить 700 или больше успехов в 1000 попытках $\\sum_{i \\ge 700}Binom(0.5; 1000, i)$"
   ]
  },
  {
   "cell_type": "code",
   "execution_count": null,
   "id": "a69d4eff",
   "metadata": {},
   "outputs": [],
   "source": []
  },
  {
   "cell_type": "markdown",
   "id": "ddc8e65b",
   "metadata": {},
   "source": [
    "Вероятность \"отвергнуть гипотезу\" даже если на самом деле она верна называют вероятностью ошибки первого рода [[StErrors](https://en.wikipedia.org/wiki/Type_I_and_type_II_errors)] и обозначают $\\alpha$. Величину $1-\\alpha$ называют статистической значимостью [[StSign](https://en.wikipedia.org/wiki/Statistical_significance)].  \n",
    "\n",
    "Вероятность \"принять гипотезу\" даже если на самом деле она не верна называют вероятностью ошибки второго рода [[StErrors](https://en.wikipedia.org/wiki/Type_I_and_type_II_errors)] и обозначают $\\beta$. Величину $1-\\beta$ называют мощностью [[StPower](https://en.wikipedia.org/wiki/Power_of_a_test)]. "
   ]
  },
  {
   "cell_type": "markdown",
   "id": "245b8ea7",
   "metadata": {},
   "source": [
    "|                    | $H_0$ выбрана               | $H_0$ отклонена              |\n",
    "|--------------------|-----------------------------|------------------------------|\n",
    "| **$H_0$ верна**    | Стат значимость $1-\\alpha$  | Ошибка первого рода $\\alpha$ |\n",
    "| **$H_0$ не верна** | Ошибка второго рода $\\beta$ | Мощность $1-\\beta$           |"
   ]
  },
  {
   "cell_type": "markdown",
   "id": "02f179dd",
   "metadata": {},
   "source": [
    "$$\n",
    "\\mbox{Стат значимость:} \\quad P(p_{test} > p_{1 - \\alpha} | H_0) = 1 - \\alpha\n",
    "\\\\\n",
    "\\mbox{Мощность:} \\quad P(p_{test} < p_{1 - \\beta} | H_1) = 1 - \\beta\n",
    "$$"
   ]
  },
  {
   "cell_type": "markdown",
   "id": "8dbbd83d",
   "metadata": {},
   "source": [
    "### Сравнение средних в группах"
   ]
  },
  {
   "cell_type": "markdown",
   "id": "8212e588",
   "metadata": {},
   "source": [
    "Применение проверки статистических гипотез для сравнения групп.  "
   ]
  },
  {
   "cell_type": "markdown",
   "id": "57f10bd6",
   "metadata": {},
   "source": [
    "Допустим, есть две монетки с разными вероятностями выпадения орла (две серии Бернулли).   \n",
    "Нужно выбрать монетку с большей вероятностью.  "
   ]
  },
  {
   "cell_type": "markdown",
   "id": "689dfc46",
   "metadata": {},
   "source": [
    "В качестве проверяемой гипотезы выбирают равенство вероятностей в группах.  \n",
    "Называют нулевой гипотезой $H_0$ [[HNull](https://en.wikipedia.org/wiki/Null_hypothesis)].    "
   ]
  },
  {
   "cell_type": "markdown",
   "id": "9d3863ff",
   "metadata": {},
   "source": [
    "Для сравнения групп смотрят на выборочные средние.  \n",
    "В силу центральной предельной теоремы их распределение приближенно можно считать нормальным.  \n",
    "Среднее совпадает со средним исходного распределения, стандартное отклонение определяется стандартной ошибкой среднего.\n",
    "\n",
    "$$\n",
    "p_{\\bar{A}_n} = \\frac{1}{n} \\sum_i A_i\n",
    "\\\\\n",
    "E[p_{\\bar{A}_n}] = E[A]\n",
    "\\\\\n",
    "s_{p_{\\bar{A}_n}} = \\frac{\\sigma_A}{n_A} \\approx \\frac{s_A}{n_A}\n",
    "\\\\\n",
    "p_{\\bar{A}_n} \\sim Norm(p_A, \\frac{\\sigma_A}{n_A})\n",
    "$$\n",
    "\n",
    "Разность нормальных распределений также нормальное распределение. Поэтому разность также можно приближенно считать распределенной нормально.  \n",
    "\n",
    "$$\n",
    "p_{\\Delta} = p_A - p_B\n",
    "\\\\\n",
    "p_{\\Delta} \\sim Norm(E[p_{\\Delta}], \\sigma_{\\Delta})\n",
    "\\\\\n",
    "s_{\\Delta} = \\sqrt{s_A^2 + s_B^2}\n",
    "$$\n",
    "\n",
    "Если верна нулевая гипотеза, т.е. между группами нет разницы, то $E[p_{\\Delta}] = 0$.  \n",
    "$\\sigma_{\\Delta}$ можно оценить из сэмплов."
   ]
  },
  {
   "cell_type": "markdown",
   "id": "15a21316",
   "metadata": {},
   "source": [
    "В качестве \"случайной величины, распределение которой в предположении нулевой гипотезы известно\", выбирают "
   ]
  },
  {
   "cell_type": "markdown",
   "id": "dbea7779",
   "metadata": {},
   "source": [
    "$$\n",
    "z = \\frac{E[p_A] - E[p_B]}{\\sigma_{\\Delta}}\n",
    "$$\n",
    "\n",
    "$\\sigma_{\\Delta}$ неизвестно, но можно оценить из сэмплов. Приближенно ее можно считать распределенной нормально. "
   ]
  },
  {
   "cell_type": "markdown",
   "id": "10150b5a",
   "metadata": {},
   "source": [
    "Более точно можно использовать величину \n",
    "$$\n",
    "t = \\frac{E[p_A] - E[p_B]}{s_{\\Delta}}\n",
    "$$\n",
    "\n",
    "Ее распределение описывается $t$-распределением.\n",
    "[[TDist](https://en.wikipedia.org/wiki/Student%27s_t-distribution)]  \n",
    "[[TTest](https://en.wikipedia.org/wiki/Student's_t-test)]  \n",
    "\n",
    "В случае выборок разного размера приближенно используют вариант с разными дисперсиями:\n",
    "[[WelchTTest](https://en.wikipedia.org/wiki/Welch%27s_t-test)] "
   ]
  },
  {
   "cell_type": "markdown",
   "id": "d6640428",
   "metadata": {},
   "source": [
    "\n",
    "Пусть есть данные $n_A, n_B, s_A, s_B$. "
   ]
  },
  {
   "cell_type": "markdown",
   "id": "66596e18",
   "metadata": {},
   "source": []
  },
  {
   "cell_type": "code",
   "execution_count": null,
   "id": "7ca75bd0",
   "metadata": {},
   "outputs": [],
   "source": [
    "p_a_exact = 0.7\n",
    "p_b_exact = 0.67\n",
    "\n",
    "n = 1000\n",
    "sa = stats.binom.rvs(n, p_a_exact)\n",
    "sb = stats.binom.rvs(n, p_b_exact)\n",
    "\n",
    "p_a = sa/n\n",
    "a_var = n * p_a * (1 - p_a)\n",
    "a_stderr = np.sqrt(a_var) / n\n",
    "\n",
    "p_b = sb/n\n",
    "b_var = n * p_b * (1 - p_b)\n",
    "b_stderr = np.sqrt(b_var) / n\n",
    "\n",
    "x=np.linspace(0, 1, 1000)\n",
    "fig = go.Figure()\n",
    "fig.add_trace(go.Scatter(x=x, y=stats.norm.pdf(x, p_a, a_stderr),\n",
    "                         name='A'))\n",
    "fig.add_trace(go.Scatter(x=x, y=stats.norm.pdf(x, p_b, b_stderr),\n",
    "                         name='B'))\n",
    "fig.update_layout(\n",
    "    title='Means Normal Dists for t-test'\n",
    ")\n",
    "fig.show()"
   ]
  },
  {
   "cell_type": "code",
   "execution_count": null,
   "id": "0af1c4de",
   "metadata": {},
   "outputs": [],
   "source": [
    "def ttest_means_rawdata(a, b):\n",
    "    t, p = stats.ttest_indep(a, b)\n",
    "    return p\n",
    "    \n",
    "\n",
    "def compare_groups_ttest_binomial(sa, na, sb, nb):\n",
    "    a_mean = sa/n\n",
    "    a_var = n * a_mean * (1 - a_mean)\n",
    "    a_stderr = np.sqrt(a_var) / n\n",
    "    b_mean = sb/n\n",
    "    b_var = n * b_mean * (1 - b_mean)\n",
    "    b_stderr = np.sqrt(b_var) / n\n",
    "    diff = a_mean - b_mean\n",
    "    diff_stderr = np.sqrt(a_stderr**2 + b_stderr**2)\n",
    "    pval = stats.norm.cdf(0, diff, diff_stderr)\n",
    "    p_level = 0.95\n",
    "    significant = (pval >= p_level) or (1 - pval) >= p_level\n",
    "    if not significant:\n",
    "        res = None\n",
    "    elif significant and a_mean > b_mean:\n",
    "        res = 'A'\n",
    "    elif significant and b_mean > a_mean:\n",
    "        res = 'B'\n",
    "    return res"
   ]
  },
  {
   "cell_type": "code",
   "execution_count": null,
   "id": "2cdab7c8",
   "metadata": {},
   "outputs": [],
   "source": [
    "p_a_exact = 0.7\n",
    "p_b_exact = 0.67\n",
    "\n",
    "n = 1000\n",
    "sa = stats.binom.rvs(n, p_a_exact)\n",
    "sb = stats.binom.rvs(n, p_b_exact)\n",
    "\n",
    "print(f'pa_exact={p_a_exact}, pb_exact={p_b_exact}')\n",
    "print(f'n={n}, sa={sa}, sb={sb}')\n",
    "print(f'Exact best group: {\"A\" if p_a_exact > p_b_exact else \"B\" if p_b_exact > p_a_exact else None}')\n",
    "print(f'Group selected by bootstrap comparison: {compare_groups_ttest_binomial(sa, n, sb, n)}')"
   ]
  },
  {
   "cell_type": "code",
   "execution_count": null,
   "id": "f5e8be2f",
   "metadata": {},
   "outputs": [],
   "source": []
  },
  {
   "cell_type": "code",
   "execution_count": null,
   "id": "d0cf88c2",
   "metadata": {},
   "outputs": [],
   "source": [
    "#https://docs.scipy.org/doc/scipy/reference/generated/scipy.stats.ttest_ind.html\n",
    "#https://en.wikipedia.org/wiki/Welch%27s_t-test\n",
    "\n",
    "a = np.zeros(n)\n",
    "a[:sa] = 1\n",
    "#print(sa)\n",
    "#np.unique(a, return_counts=True)\n",
    "\n",
    "b = np.zeros(n)\n",
    "b[:sb] = 1\n",
    "\n",
    "t, p = stats.ttest_ind(a, b, equal_var=False)#, alternative='less')\n",
    "print(t,p)\n",
    "\n",
    "p_a = sa/n\n",
    "a_var = n * p_a * (1 - p_a)\n",
    "a_stderr = np.sqrt(a_var) / n\n",
    "p_b = sb/n\n",
    "b_var = n * p_b * (1 - p_b)\n",
    "b_stderr = np.sqrt(b_var) / n\n",
    "diff = p_a - p_b\n",
    "diff_stderr = np.sqrt(a_stderr**2 + b_stderr**2)\n",
    "pval = stats.norm.cdf(0, diff, diff_stderr)\n",
    "pval"
   ]
  },
  {
   "cell_type": "code",
   "execution_count": null,
   "id": "c49bdb28",
   "metadata": {},
   "outputs": [],
   "source": []
  },
  {
   "cell_type": "markdown",
   "id": "4f3ca296",
   "metadata": {},
   "source": [
    " "
   ]
  },
  {
   "cell_type": "markdown",
   "id": "93065dff",
   "metadata": {},
   "source": [
    "Подход можно обобщить на случай случайных величин с произвольным распределением."
   ]
  },
  {
   "cell_type": "markdown",
   "id": "d00f726c",
   "metadata": {},
   "source": [
    "Есть две случайных величины с неизвестными распределениями.  \n",
    "Нужно выбрать "
   ]
  },
  {
   "cell_type": "markdown",
   "id": "ce43c253",
   "metadata": {},
   "source": [
    "При проведении тестов для контроля за уровнями статистической значимости и мощности размер выборки расчитывают заранее.\n",
    "Задают стат. значимость, мощность, минимальную величину эффекта, по этим значениям рассчитывают размер выборки n.  "
   ]
  },
  {
   "cell_type": "markdown",
   "id": "870add36",
   "metadata": {},
   "source": [
    "Для $t$-тестов\n",
    "\n",
    "$$\n",
    "CDF(x_0) = 1 - \\alpha\n",
    "\\\\\n",
    "CDF(\\Delta - x_0) = \\beta\n",
    "$$"
   ]
  },
  {
   "cell_type": "markdown",
   "id": "0346f721",
   "metadata": {},
   "source": [
    "### Проблемы интерпретации"
   ]
  },
  {
   "cell_type": "markdown",
   "id": "aff31231",
   "metadata": {},
   "source": [
    "Вопросы, на которые нужно ответить при А/Б-тесте:\n",
    "\n",
    "- Какой вариант лучше и насколько?\n",
    "- Каковы оценки целевой метрики в каждом варианте?\n",
    "- Насколько уверены в оценке?\n",
    "- Сколько должен продолжаться эксперимент?"
   ]
  },
  {
   "cell_type": "markdown",
   "id": "4a8879ec",
   "metadata": {},
   "source": [
    "Проблема в том, что описанный метод \"проверки статистических гипотез\" не дает ответ на нужные вопросы."
   ]
  },
  {
   "cell_type": "markdown",
   "id": "87fd8142",
   "metadata": {},
   "source": [
    "Для ответа на вопросы **\"Какой вариант лучше и насколько?\"** и **\"Насколько уверены в оценке?\"** нужны, например, распределение и вероятность\n",
    "$$\n",
    "P(p_A - p_B)\n",
    "\\\\\n",
    "P(p_A - p_B > 0 | data)\n",
    "$$\n",
    "\n",
    "Реально считается \n",
    "$$\n",
    "p = P(data | H_0) = P(data | p_A = p_B)\n",
    "$$\n",
    "\n",
    "$p$-значение нельзя интерпретировать как вероятность, что гипотеза верна или не верна [[StatTestMisinterpret](https://www.ncbi.nlm.nih.gov/pmc/articles/PMC4877414/)].  \n",
    "Оно показывает, насколько вероятно получить данные в рамках выбранной гипотезы.  \n",
    "Остается необходимость выбора между гипотезами.  \n",
    "\n",
    "\n",
    "\n",
    "Для пересчета\n",
    "$$\n",
    "P(H_0 | data) = \\frac{P(data | H_0) P(H_0)}{P(data)}\n",
    "= \\frac{P(data | H_0) P(H_0)}{P(data|H_0) P(H_0) + P(data| not H_0) P(not H_0) }\n",
    "$$\n",
    "\n",
    "*todo: Почему это важно? - Пример про теорему Байеса из другой области*\n",
    "\n",
    "пациент обращается за мед помощью.   \n",
    "есть симптомы - кашель, температура  \n",
    "нужно поставить диагноз (далее - назначить лечение).  \n",
    "\n",
    "интересует вероятность болезни при условии симптомов P(болезнь | симптомы).  \n",
    "\n",
    "проверка гипотез - перебираются болезни.  \n",
    "считается вероятность получить симптомы при болезни P(симптомы | болезнь).   \n",
    "если вероятность достаточно большая, то болезнь \"не отвергается\" \n",
    "\n",
    "\n",
    "*todo: можно ли посчитать через $\\alpha$, $\\beta$*  \n",
    "\n",
    "$$\n",
    "P(H_0) = \n",
    "P(H_0 | выбор H_0) P(выбор H_0) + P(H_0| выбор H_1) P(выбор H_1)\n",
    "\\\\\n",
    "= (1-\\alpha) P(выбор H_0) + \\alpha P(выбор H_1)\n",
    "$$\n",
    "\n",
    "*todo: Можно предположить P(not H_0) = 0.7. Но как считать P(data| not H_0)*?\n",
    "\n",
    "*todo: Можно посчитать отношение*\n",
    "\n",
    "$$\n",
    "\\frac{P(H_0 | data)}{P(H_1 | data)} = \\frac{P(data | H_0) P(H_0)}{P(data | H_1) P(H_1)}\n",
    "$$\n",
    "\n",
    "Допустим $P(H_0):P(H_1) = 3:7$. Все равно остается вопрос, как считать $P(data| H_1)$.  \n",
    "\n",
    "Попытки посчитать $P(data| H_1)$ будут сдвигать весь подход в сторону байесовского моделирования.  \n",
    "Проще тогда уже делать все в рамках этого моделирования. "
   ]
  },
  {
   "cell_type": "markdown",
   "id": "233b56ff",
   "metadata": {},
   "source": [
    "Вопрос **\"Каковы оценки целевой метрики в каждом варианте?\"** проверка гипотез формально не дает.  \n",
    "При сравнении средних с помощью t-тестов для ответа обычно используются доверительные интервалы.  \n",
    "В доверительных интервалах случайные величины - границы интервала, а не сам оцениваемый параметр.  \n",
    "Вместо распределений\n",
    "$$\n",
    "P(p_A | data), P(p_B | data)\n",
    "$$\n",
    "строится\n",
    "$$\n",
    "l_n, u_n: P(l_n < \\mu < u_n | data) = 1 - \\alpha\n",
    "$$\n",
    "\n",
    "Завязаны на выборочные средние, поэтому зависят от $n$.  \n",
    "Включают в себя сбор данных + процедуру построения.   \n",
    "\n",
    "Частотная интерпретация - повторный запуск эксперимента.  \n",
    "\n",
    "Могут быть технические сложности при их комбинировании - обычно делается разного рода поправками [[MultipleComp](https://en.wikipedia.org/wiki/Multiple_comparisons_problem), [FWER](https://en.wikipedia.org/wiki/Family-wise_error_rate), [Bonf](https://en.wikipedia.org/wiki/Bonferroni_correction)]. "
   ]
  },
  {
   "cell_type": "markdown",
   "id": "a7227a86",
   "metadata": {},
   "source": [
    "**\"Сколько должен продолжаться эксперимент?\"**"
   ]
  },
  {
   "cell_type": "markdown",
   "id": "894d7724",
   "metadata": {},
   "source": [
    "При использовании $t$-теста размер выборки рассчитывают до эксперимента так, чтобы обеспечить $\\alpha$ и $\\beta$.  \n",
    "\n",
    "Возникают технические проблемы с оценкой вероятности на основе уже собранных данных.   \n",
    "См. \"проблема подглядывания\" [[MillerHowNotTo](https://www.evanmiller.org/how-not-to-run-an-ab-test.html)]"
   ]
  },
  {
   "cell_type": "markdown",
   "id": "3a841ee3",
   "metadata": {},
   "source": []
  },
  {
   "cell_type": "markdown",
   "id": "a86e3040",
   "metadata": {},
   "source": [
    "### Ссылки"
   ]
  },
  {
   "cell_type": "markdown",
   "id": "e419caec",
   "metadata": {},
   "source": [
    "[[StTest](https://en.wikipedia.org/wiki/Statistical_hypothesis_testing)] - Statistical_hypothesis_testing  \n",
    "[[PVal](https://en.wikipedia.org/wiki/P-value)] - P-value  \n",
    "[[StErrors](https://en.wikipedia.org/wiki/Type_I_and_type_II_errors)] - Type_I_and_type_II_errors  \n",
    "[[StSign](https://en.wikipedia.org/wiki/Statistical_significance)] - Statistical_significance  \n",
    "[[StPower](https://en.wikipedia.org/wiki/Power_of_a_test)] - Power_of_a_test  \n",
    "[[HNull](https://en.wikipedia.org/wiki/Null_hypothesis)] - Null_hypothesis  \n",
    "[[ZScore](https://en.wikipedia.org/wiki/Standard_score)] - Standard_score  \n",
    "[[ZTest](https://en.wikipedia.org/wiki/Z-test)] - Z-test  \n",
    "[[TDist](https://en.wikipedia.org/wiki/Student%27s_t-distribution)] -    \n",
    "[[TTest](https://en.wikipedia.org/wiki/Student's_t-test)] -    \n",
    "[[WelchTTest](https://en.wikipedia.org/wiki/Welch%27s_t-test)] -  \n",
    "[[StatTestMisinterpret](https://www.ncbi.nlm.nih.gov/pmc/articles/PMC4877414/)] Statistical tests, P values, confidence intervals, and power: a guide to misinterpretations   \n",
    "[[MultipleComp](https://en.wikipedia.org/wiki/Multiple_comparisons_problem)] -   \n",
    "[[FWER](https://en.wikipedia.org/wiki/Family-wise_error_rate)] -  \n",
    "[[Bonf](https://en.wikipedia.org/wiki/Bonferroni_correction)] -   \n",
    "[[MillerHowNotTo](https://www.evanmiller.org/how-not-to-run-an-ab-test.html)] -  \n",
    "\n",
    "Про t-распределение  \n",
    "https://math.stackexchange.com/questions/2978617/derivation-degree-of-freedom-of-a-t-distribution  \n",
    "\n",
    "Напоминалка про вывод  \n",
    "https://towardsdatascience.com/the-math-behind-a-b-testing-with-example-code-part-1-of-2-7be752e1d06f  \n",
    "\n",
    "Один из калькуляторов длительности  https://www.evanmiller.org/ab-testing/sample-size.html  \n",
    "\n",
    "Картинки про типы тестов:  \n",
    "https://blog.statsols.com/types-of-statistical-tests   \n",
    "https://duckduckgo.com/?q=how+to+choose+statistical+test&t=ffab&iar=images&iax=images&ia=images   \n",
    "https://www.google.com/search?q=how+to+choose+statistical+test&source=lnms&tbm=isch&sa=X&ved=2ahUKEwip1s-rjuP3AhWIr4sKHY2HCHQQ_AUoAXoECAEQAw&biw=1280&bih=603&dpr=1.5  \n",
    "\n",
    "Про стат-тесты vs байесовкие методы:  \n",
    "https://michael-franke.github.io/BDACM_2018/scripts/01_estimation_pValues.pdf  \n",
    "\n",
    "Тест Колмогорова-Смирнова https://en.wikipedia.org/wiki/Kolmogorov%E2%80%93Smirnov_test  \n",
    "U-тест https://en.wikipedia.org/wiki/Mann%E2%80%93Whitney_U_test  \n",
    "Перестановочный тест https://en.wikipedia.org/wiki/Permutation_test   \n"
   ]
  },
  {
   "cell_type": "code",
   "execution_count": null,
   "id": "60f2f34a",
   "metadata": {},
   "outputs": [],
   "source": []
  },
  {
   "cell_type": "code",
   "execution_count": null,
   "id": "9f1455f5",
   "metadata": {},
   "outputs": [],
   "source": [
    "import numpy as np\n",
    "import scipy.stats as stats\n",
    "import plotly.graph_objects as go\n",
    "\n",
    "prior_conv = 0.4\n",
    "\n",
    "a_total = 1000\n",
    "a_conv = a_total * prior_conv\n",
    "\n",
    "b_total = a_total\n",
    "b_conv = b_total * prior_conv * 1.05\n",
    "\n",
    "x = np.linspace(0, 1, 1001)\n",
    "fig = go.Figure()\n",
    "\n",
    "# Norm\n",
    "## mu = 1 * a_conv + 0 * (a_total - a_conv)\n",
    "## mu_c = 1 * (a_conv / a_total) + 0 * (a_total - a_conv) / a_total = a_conv / a_total\n",
    "## std_c = sqrt( ( (1 - mu_c)^2 * a_conv + (0 - mu_c)^2 * (a_total - a_conv) ) / a_total )\n",
    "##       = sqrt( (1 - mu_c)^2 mu_c + mu_c^2 (1 - mu_c) )\n",
    "##       = sqrt( mu_c (1 - mu_c) )\n",
    "\n",
    "mu_ca = a_conv / a_total\n",
    "sigma_ca = np.sqrt(mu_ca * (1 - mu_ca))\n",
    "stderrmean_ca = sigma_ca / np.sqrt(a_total)\n",
    "print(mu_ca, stderrmean_ca)\n",
    "\n",
    "fig.add_trace(go.Scatter(x=x, y=stats.norm.pdf(x, loc=mu_ca, scale=stderrmean_ca), mode='lines',\n",
    "                         name=f\"<br>total = {a_total}, conv = {a_conv}<br>mu={mu_ca}, stderrmean={stderrmean_ca}\"))\n",
    "\n",
    "mu_cb = b_conv / b_total\n",
    "sigma_cb = np.sqrt(mu_cb * (1 - mu_cb))\n",
    "stderrmean_cb = sigma_cb / np.sqrt(b_total)\n",
    "print(mu_cb, stderrmean_cb)\n",
    "\n",
    "fig.add_trace(go.Scatter(x=x, y=stats.norm.pdf(x, loc=mu_cb, scale=stderrmean_cb), mode='lines',\n",
    "                         name=f\"<br>total = {b_total}, conv = {b_conv}<br>mu={mu_cb}, stderrmean={stderrmean_cb}\"))\n",
    "\n",
    "fig.add_vline(x=mu_cb)\n",
    "\n",
    "fig.update_layout(title='Posterior and Prior Distributions',\n",
    "                  xaxis_title='p',\n",
    "                  yaxis_title='Prob Density',\n",
    "                  hovermode=\"x\",\n",
    "                  height=550)\n",
    "\n",
    "fig.show()\n",
    "\n",
    "pval = 1 - stats.norm.cdf(x=mu_cb, loc=mu_ca, scale=stderrmean_ca)\n",
    "print(pval)\n",
    "\n",
    "\n",
    "def pval(prior_conv, exp_effect, N):\n",
    "    a_total = N\n",
    "    a_conv = a_total * prior_conv\n",
    "    b_total = a_total\n",
    "    b_conv = b_total * prior_conv * exp_effect\n",
    "    mu_ca = a_conv / a_total\n",
    "    sigma_ca = np.sqrt(mu_ca * (1 - mu_ca))\n",
    "    stderrmean_ca = sigma_ca / np.sqrt(a_total)\n",
    "    mu_cb = b_conv / b_total\n",
    "    pval = 1 - stats.norm.cdf(x=mu_cb, loc=mu_ca, scale=stderrmean_ca)\n",
    "    return pval\n",
    "\n",
    "\n",
    "N = np.linspace(100, 10000)\n",
    "y = np.array([pval(prior_conv, 1.05, Ni) for Ni in N])\n",
    "\n",
    "fig = go.Figure()\n",
    "fig.add_trace(go.Scatter(x=N, y=y, mode='lines'))\n",
    "fig.add_hline(y=0.05)\n",
    "fig.update_layout(title='p-val',\n",
    "                  xaxis_title='N',\n",
    "                  yaxis_title='p-val',\n",
    "                  hovermode=\"x\",\n",
    "                  height=550)"
   ]
  },
  {
   "cell_type": "code",
   "execution_count": null,
   "id": "425c29bf",
   "metadata": {},
   "outputs": [],
   "source": []
  }
 ],
 "metadata": {
  "kernelspec": {
   "display_name": "Python 3 (ipykernel)",
   "language": "python",
   "name": "python3"
  },
  "language_info": {
   "codemirror_mode": {
    "name": "ipython",
    "version": 3
   },
   "file_extension": ".py",
   "mimetype": "text/x-python",
   "name": "python",
   "nbconvert_exporter": "python",
   "pygments_lexer": "ipython3",
   "version": "3.7.3"
  }
 },
 "nbformat": 4,
 "nbformat_minor": 5
}
