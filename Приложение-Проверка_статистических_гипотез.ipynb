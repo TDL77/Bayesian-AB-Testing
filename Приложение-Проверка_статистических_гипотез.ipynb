{
 "cells": [
  {
   "cell_type": "markdown",
   "id": "9b25b00b",
   "metadata": {},
   "source": [
    "# Проверка статистических гипотез"
   ]
  },
  {
   "cell_type": "markdown",
   "id": "a1fcaf1f",
   "metadata": {},
   "source": [
    "* *Введение*  \n",
    "* *Минимальный пример проверки гипотезы*  \n",
    "* *Сравнение групп: t-тест*\n",
    "* *Проблемы интерпретации*\n",
    "* *Заключение*\n",
    "* *Ссылки*"
   ]
  },
  {
   "cell_type": "markdown",
   "id": "eaff8351",
   "metadata": {},
   "source": [
    "### Введение"
   ]
  },
  {
   "cell_type": "markdown",
   "id": "4e9483a9",
   "metadata": {},
   "source": [
    "Для анализа А/Б-тестов можно использовать метод проверки статистических гипотез [[StTest](https://en.wikipedia.org/wiki/Statistical_hypothesis_testing)].   \n",
    "Общая идея - предположить, что между группами нет разницы, после чего посчитать, насколько такое предположение объясняет экспериментальные данные. Если вероятность получить данные мала, то считается, что предположение можно отвергнуть, т.е. между группами есть значимая разница.  "
   ]
  },
  {
   "cell_type": "markdown",
   "id": "0c2acdbd",
   "metadata": {},
   "source": [
    "Структура следующая: вначале обсуждается минимальный пример проверки статистической гипотезы.\n",
    "Далее рассматривается сравнение двух распределений. Затем обсуждается интерпретация и сложности этого метода."
   ]
  },
  {
   "cell_type": "markdown",
   "id": "4d8ac194",
   "metadata": {},
   "source": [
    "### Минимальный пример проверки статистической гипотезы"
   ]
  },
  {
   "cell_type": "markdown",
   "id": "767c4996",
   "metadata": {},
   "source": [
    "Есть экспериментальные данные $data$.  \n",
    "Есть гипотеза $H$ об этих данных или их свойствах.  \n",
    "Есть случайная величина $Test$, распределение которой $P_{Test|H}(x)$ в предположении $H$ известно.  \n",
    "По фактическим данным считается \"тестовая статистика\"  $x_{fact}$ .   \n",
    "Считается вероятность получить \"фактическое или более экстремальное\" значение \"тестовой статистики\" $p = P_{Test|H}(x \\ge x_{fact} )$ или $p = P_{Test|H}(x \\le x_{fact} )$. Т.е. $p = CDF_{Test|H}(x_{fact})$ или $p = 1 - CDF_{Test|H}(x_{fact})$ . Эту вероятность называют \"p-значением\" [[PVal](https://en.wikipedia.org/wiki/P-value)].  \n",
    "Если вероятность \"достаточно мала\", гипотезу $H$ \"отвергают\", если \"не достаточно мала\" - \"принимают\".  \n",
    "\n",
    "Обсуждения такого способа выбора есть в разделе \"Проблемы интерпретации\".\n",
    "\n",
    "*(todo: также бывает $p = P_{Test|H}(|x - x_{fact}| \\ge 0 )$ )*"
   ]
  },
  {
   "cell_type": "markdown",
   "id": "259718c2",
   "metadata": {},
   "source": [
    "Пример:\n",
    "- данные: в 1000 бросках монетки в 700 случаях выпал орел.  \n",
    "- гипотеза: вероятность выпадения орла 0.5   \n",
    "- случайная величина с известным распределением: вероятность k успехов в N попытках при вероятности $p$ успеха в одной попытке задается биномиальным распределением $Binom(p; N, k)$  \n",
    "- тестовая статистика: число успехов k=700 в общих попытках N=1000\n",
    "- p-значение: вероятность получить 700 или больше успехов в 1000 попытках $\\sum_{i \\ge 700}Binom(0.5; 1000, i)$"
   ]
  },
  {
   "cell_type": "code",
   "execution_count": null,
   "id": "e3036e13",
   "metadata": {},
   "outputs": [],
   "source": []
  },
  {
   "cell_type": "markdown",
   "id": "d68a789d",
   "metadata": {},
   "source": [
    "Вероятность \"отвергнуть гипотезу\" даже если на самом деле она верна называют вероятностью ошибки первого рода [[StErrors](https://en.wikipedia.org/wiki/Type_I_and_type_II_errors)] и обозначают $\\alpha$. Величину $1-\\alpha$ называют статистической значимостью [[StSign](https://en.wikipedia.org/wiki/Statistical_significance)].  \n",
    "\n",
    "Вероятность \"принять гипотезу\" даже если на самом деле она не верна называют вероятностью ошибки второго рода [[StErrors](https://en.wikipedia.org/wiki/Type_I_and_type_II_errors)] и обозначают $\\beta$. Величину $1-\\beta$ называют мощностью [[StPower](https://en.wikipedia.org/wiki/Power_of_a_test)]. "
   ]
  },
  {
   "cell_type": "markdown",
   "id": "4ce6c00c",
   "metadata": {},
   "source": [
    "|                    | $H_0$ выбрана               | $H_0$ отклонена              |\n",
    "|--------------------|-----------------------------|------------------------------|\n",
    "| **$H_0$ верна**    | Стат значимость $1-\\alpha$  | Ошибка первого рода $\\alpha$ |\n",
    "| **$H_0$ не верна** | Ошибка второго рода $\\beta$ | Мощность $1-\\beta$           |"
   ]
  },
  {
   "cell_type": "markdown",
   "id": "723a91a6",
   "metadata": {},
   "source": [
    "$$\n",
    "\\mbox{Стат значимость:} \\quad P(p_{test} > p_{1 - \\alpha} | H_0) = 1 - \\alpha\n",
    "\\\\\n",
    "\\mbox{Мощность:} \\quad P(p_{test} < p_{1 - \\beta} | H_1) = 1 - \\beta\n",
    "$$"
   ]
  },
  {
   "cell_type": "markdown",
   "id": "a3c910a3",
   "metadata": {},
   "source": [
    "### Сравнение групп: t-тест"
   ]
  },
  {
   "cell_type": "markdown",
   "id": "f5fda2b7",
   "metadata": {},
   "source": [
    "Применение проверки статистических гипотез для сравнения групп.  "
   ]
  },
  {
   "cell_type": "markdown",
   "id": "3ed3096c",
   "metadata": {},
   "source": [
    "Допустим, есть две монетки с разными вероятностями выпадения орла (две серии Бернулли).   \n",
    "Нужно выбрать монетку с большей вероятностью.  "
   ]
  },
  {
   "cell_type": "markdown",
   "id": "de26dc26",
   "metadata": {},
   "source": [
    "В качестве проверяемой гипотезы выбирают равенство вероятностей в группах.  \n",
    "Называют нулевой гипотезой $H_0$ [[HNull](https://en.wikipedia.org/wiki/Null_hypothesis)].    "
   ]
  },
  {
   "cell_type": "markdown",
   "id": "d7b5290d",
   "metadata": {},
   "source": [
    "Для сравнения групп смотрят на выборочные средние.  \n",
    "В силу центральной предельной теоремы их распределение приближенно можно считать нормальным.  \n",
    "Среднее совпадает со средним исходного распределения, стандартное отклонение определяется стандартной ошибкой среднего.\n",
    "\n",
    "$$\n",
    "p_{\\bar{A}_n} = \\frac{1}{n} \\sum_i A_i\n",
    "\\\\\n",
    "E[p_{\\bar{A}_n}] = E[A]\n",
    "\\\\\n",
    "s_{p_{\\bar{A}_n}} = \\frac{\\sigma_A}{n_A} \\approx \\frac{s_A}{n_A}\n",
    "\\\\\n",
    "p_{\\bar{A}_n} \\sim Norm(p_A, \\frac{\\sigma_A}{n_A})\n",
    "$$\n",
    "\n",
    "Разность нормальных распределений также нормальное распределение. Поэтому разность также можно приближенно считать распределенной нормально.  \n",
    "\n",
    "$$\n",
    "p_{\\Delta} = p_A - p_B\n",
    "\\\\\n",
    "p_{\\Delta} \\sim Norm(E[p_{\\Delta}], \\sigma_{\\Delta})\n",
    "\\\\\n",
    "s_{\\Delta} = \\sqrt{s_A^2 + s_B^2}\n",
    "$$\n",
    "\n",
    "Если верна нулевая гипотеза, т.е. между группами нет разницы, то $E[p_{\\Delta}] = 0$.  \n",
    "$\\sigma_{\\Delta}$ можно оценить из сэмплов."
   ]
  },
  {
   "cell_type": "markdown",
   "id": "eae64e9c",
   "metadata": {},
   "source": [
    "В качестве \"случайной величины, распределение которой в предположении нулевой гипотезы известно\", выбирают "
   ]
  },
  {
   "cell_type": "markdown",
   "id": "984cd350",
   "metadata": {},
   "source": [
    "$$\n",
    "z = \\frac{E[p_A] - E[p_B]}{\\sigma_{\\Delta}}\n",
    "$$\n",
    "\n",
    "$\\sigma_{\\Delta}$ неизвестно, но можно оценить из сэмплов. Приближенно ее можно считать распределенной нормально. "
   ]
  },
  {
   "cell_type": "markdown",
   "id": "5f628e7e",
   "metadata": {},
   "source": [
    "Более точно можно использовать величину \n",
    "$$\n",
    "t = \\frac{E[p_A] - E[p_B]}{s_{\\Delta}}\n",
    "$$\n",
    "\n",
    "Ее распределение описывается $t$-распределением.\n",
    "[[TDist](https://en.wikipedia.org/wiki/Student%27s_t-distribution)]  \n",
    "[[TTest](https://en.wikipedia.org/wiki/Student's_t-test)]  \n",
    "\n",
    "В случае выборок разного размера приближенно используют вариант с разными дисперсиями:\n",
    "[[WelchTTest](https://en.wikipedia.org/wiki/Welch%27s_t-test)] "
   ]
  },
  {
   "cell_type": "markdown",
   "id": "69bd7df6",
   "metadata": {},
   "source": [
    "\n",
    "Пусть есть данные $n_A, n_B, s_A, s_B$. "
   ]
  },
  {
   "cell_type": "markdown",
   "id": "e2bd0612",
   "metadata": {},
   "source": []
  },
  {
   "cell_type": "code",
   "execution_count": null,
   "id": "f7caf0e9",
   "metadata": {},
   "outputs": [],
   "source": [
    "p_a_exact = 0.7\n",
    "p_b_exact = 0.67\n",
    "\n",
    "n = 1000\n",
    "sa = stats.binom.rvs(n, p_a_exact)\n",
    "sb = stats.binom.rvs(n, p_b_exact)\n",
    "\n",
    "p_a = sa/n\n",
    "a_var = n * p_a * (1 - p_a)\n",
    "a_stderr = np.sqrt(a_var) / n\n",
    "\n",
    "p_b = sb/n\n",
    "b_var = n * p_b * (1 - p_b)\n",
    "b_stderr = np.sqrt(b_var) / n\n",
    "\n",
    "x=np.linspace(0, 1, 1000)\n",
    "fig = go.Figure()\n",
    "fig.add_trace(go.Scatter(x=x, y=stats.norm.pdf(x, p_a, a_stderr),\n",
    "                         name='A'))\n",
    "fig.add_trace(go.Scatter(x=x, y=stats.norm.pdf(x, p_b, b_stderr),\n",
    "                         name='B'))\n",
    "fig.update_layout(\n",
    "    title='Means Normal Dists for t-test'\n",
    ")\n",
    "fig.show()"
   ]
  },
  {
   "cell_type": "code",
   "execution_count": null,
   "id": "9ab57cd5",
   "metadata": {},
   "outputs": [],
   "source": [
    "def ttest_means_rawdata(a, b):\n",
    "    t, p = stats.ttest_indep(a, b)\n",
    "    return p\n",
    "    \n",
    "\n",
    "def compare_groups_ttest_binomial(sa, na, sb, nb):\n",
    "    a_mean = sa/n\n",
    "    a_var = n * a_mean * (1 - a_mean)\n",
    "    a_stderr = np.sqrt(a_var) / n\n",
    "    b_mean = sb/n\n",
    "    b_var = n * b_mean * (1 - b_mean)\n",
    "    b_stderr = np.sqrt(b_var) / n\n",
    "    diff = a_mean - b_mean\n",
    "    diff_stderr = np.sqrt(a_stderr**2 + b_stderr**2)\n",
    "    pval = stats.norm.cdf(0, diff, diff_stderr)\n",
    "    p_level = 0.95\n",
    "    significant = (pval >= p_level) or (1 - pval) >= p_level\n",
    "    if not significant:\n",
    "        res = None\n",
    "    elif significant and a_mean > b_mean:\n",
    "        res = 'A'\n",
    "    elif significant and b_mean > a_mean:\n",
    "        res = 'B'\n",
    "    return res"
   ]
  },
  {
   "cell_type": "code",
   "execution_count": null,
   "id": "63477ac2",
   "metadata": {},
   "outputs": [],
   "source": [
    "p_a_exact = 0.7\n",
    "p_b_exact = 0.67\n",
    "\n",
    "n = 1000\n",
    "sa = stats.binom.rvs(n, p_a_exact)\n",
    "sb = stats.binom.rvs(n, p_b_exact)\n",
    "\n",
    "print(f'pa_exact={p_a_exact}, pb_exact={p_b_exact}')\n",
    "print(f'n={n}, sa={sa}, sb={sb}')\n",
    "print(f'Exact best group: {\"A\" if p_a_exact > p_b_exact else \"B\" if p_b_exact > p_a_exact else None}')\n",
    "print(f'Group selected by bootstrap comparison: {compare_groups_ttest_binomial(sa, n, sb, n)}')"
   ]
  },
  {
   "cell_type": "code",
   "execution_count": null,
   "id": "8b69bb47",
   "metadata": {},
   "outputs": [],
   "source": []
  },
  {
   "cell_type": "code",
   "execution_count": null,
   "id": "01675c30",
   "metadata": {},
   "outputs": [],
   "source": [
    "#https://docs.scipy.org/doc/scipy/reference/generated/scipy.stats.ttest_ind.html\n",
    "#https://en.wikipedia.org/wiki/Welch%27s_t-test\n",
    "\n",
    "a = np.zeros(n)\n",
    "a[:sa] = 1\n",
    "#print(sa)\n",
    "#np.unique(a, return_counts=True)\n",
    "\n",
    "b = np.zeros(n)\n",
    "b[:sb] = 1\n",
    "\n",
    "t, p = stats.ttest_ind(a, b, equal_var=False)#, alternative='less')\n",
    "print(t,p)\n",
    "\n",
    "p_a = sa/n\n",
    "a_var = n * p_a * (1 - p_a)\n",
    "a_stderr = np.sqrt(a_var) / n\n",
    "p_b = sb/n\n",
    "b_var = n * p_b * (1 - p_b)\n",
    "b_stderr = np.sqrt(b_var) / n\n",
    "diff = p_a - p_b\n",
    "diff_stderr = np.sqrt(a_stderr**2 + b_stderr**2)\n",
    "pval = stats.norm.cdf(0, diff, diff_stderr)\n",
    "pval"
   ]
  },
  {
   "cell_type": "code",
   "execution_count": null,
   "id": "feb34a8a",
   "metadata": {},
   "outputs": [],
   "source": []
  },
  {
   "cell_type": "markdown",
   "id": "6408fd3f",
   "metadata": {},
   "source": [
    " "
   ]
  },
  {
   "cell_type": "markdown",
   "id": "581ada55",
   "metadata": {},
   "source": [
    "Подход можно обобщить на случай случайных величин с произвольным распределением."
   ]
  },
  {
   "cell_type": "markdown",
   "id": "69949342",
   "metadata": {},
   "source": [
    "Есть две случайных величины с неизвестными распределениями.  \n",
    "Нужно выбрать "
   ]
  },
  {
   "cell_type": "markdown",
   "id": "9f64e40f",
   "metadata": {},
   "source": [
    "При проведении тестов для контроля за уровнями статистической значимости и мощности размер выборки расчитывают заранее.\n",
    "Задают стат. значимость, мощность, минимальную величину эффекта, по этим значениям рассчитывают размер выборки n.  "
   ]
  },
  {
   "cell_type": "markdown",
   "id": "07f90578",
   "metadata": {},
   "source": [
    "Для $t$-тестов\n",
    "\n",
    "$$\n",
    "CDF(x_0) = 1 - \\alpha\n",
    "\\\\\n",
    "CDF(\\Delta - x_0) = \\beta\n",
    "$$"
   ]
  },
  {
   "cell_type": "markdown",
   "id": "6af0dcf7",
   "metadata": {},
   "source": [
    "### Проблемы интерпретации"
   ]
  },
  {
   "cell_type": "markdown",
   "id": "11265c4e",
   "metadata": {},
   "source": [
    "Вопросы, на которые нужно ответить при А/Б-тесте:\n",
    "\n",
    "- Какой вариант лучше и насколько?\n",
    "- Каковы оценки целевой метрики в каждом варианте?\n",
    "- Насколько уверены в оценке?\n",
    "- Сколько должен продолжаться эксперимент?"
   ]
  },
  {
   "cell_type": "markdown",
   "id": "26d2a13b",
   "metadata": {},
   "source": [
    "Проблема в том, что описанный метод \"проверки статистических гипотез\" не дает ответ на нужные вопросы."
   ]
  },
  {
   "cell_type": "markdown",
   "id": "569eb0c0",
   "metadata": {},
   "source": [
    "Для ответа на вопросы **\"Какой вариант лучше и насколько?\"** и **\"Насколько уверены в оценке?\"** нужны, например, распределение и вероятность\n",
    "$$\n",
    "P(p_A - p_B)\n",
    "\\\\\n",
    "P(p_A - p_B > 0 | data)\n",
    "$$\n",
    "\n",
    "Реально считается \n",
    "$$\n",
    "p = P(data | H_0) = P(data | p_A = p_B)\n",
    "$$\n",
    "\n",
    "$p$-значение нельзя интерпретировать как вероятность, что гипотеза верна [[StatTestMisinterpret](https://www.ncbi.nlm.nih.gov/pmc/articles/PMC4877414/)].  \n",
    "\n",
    "\n",
    "Для пересчета\n",
    "$$\n",
    "P(H_0 | data) = \\frac{P(data | H_0) P(H_0)}{P(data)}\n",
    "= \\frac{P(data | H_0) P(H_0)}{P(data|H_0) P(H_0) + P(data| not H_0) P(not H_0) }\n",
    "$$\n",
    "\n",
    "*todo: Почему это важно? - Пример про теорему Байеса из другой области*\n",
    "\n",
    "пациент обращается за мед помощью.   \n",
    "есть симптомы - кашель, температура  \n",
    "нужно поставить диагноз (далее - назначить лечение).  \n",
    "\n",
    "интересует вероятность болезни при условии симптомов P(болезнь | симптомы).  \n",
    "\n",
    "проверка гипотез - перебираются болезни.  \n",
    "считается вероятность получить симптомы при болезни P(симптомы | болезнь).   \n",
    "если вероятность достаточно большая, то болезнь \"не отвергается\" \n",
    "\n",
    "\n",
    "*todo: можно ли посчитать через $\\alpha$, $\\beta$*  \n",
    "\n",
    "$$\n",
    "P(H_0) = \n",
    "P(H_0 | выбор H_0) P(выбор H_0) + P(H_0| выбор H_1) P(выбор H_1)\n",
    "\\\\\n",
    "= (1-\\alpha) P(выбор H_0) + \\alpha P(выбор H_1)\n",
    "$$\n",
    "\n",
    "*todo: Можно предположить P(not H_0) = 0.7. Но как считать P(data| not H_0)*?\n",
    "\n",
    "*todo: Можно посчитать отношение*\n",
    "\n",
    "$$\n",
    "\\frac{P(H_0 | data)}{P(H_1 | data)} = \\frac{P(data | H_0) P(H_0)}{P(data | H_1) P(H_1)}\n",
    "$$\n",
    "\n",
    "Допустим $P(H_0):P(H_1) = 3:7$. Все равно остается вопрос, как считать $P(data| H_1)$.  \n",
    "\n",
    "Попытки посчитать $P(data| H_1)$ будут сдвигать весь подход в сторону байесовского моделирования.  \n",
    "Проще тогда уже делать все в рамках этого моделирования. "
   ]
  },
  {
   "cell_type": "markdown",
   "id": "7f5343a2",
   "metadata": {},
   "source": [
    "Вопрос **\"Каковы оценки целевой метрики в каждом варианте?\"** проверка гипотез формально не дает.  \n",
    "При сравнении средних с помощью t-тестов для ответа обычно используются доверительные интервалы.  \n",
    "В доверительных интервалах случайные величины - границы интервала, а не сам оцениваемый параметр.  \n",
    "Вместо распределений\n",
    "$$\n",
    "P(p_A | data), P(p_B | data)\n",
    "$$\n",
    "строится\n",
    "$$\n",
    "l_n, r_n: P(l_n < \\mu < r_n | data) = 1 - \\alpha\n",
    "$$\n",
    "\n",
    "Завязаны на выборочные средние, поэтому зависят от $n$.  \n",
    "Включают в себя сбор данных + процедуру построения.   \n",
    "\n",
    "Частотная интерпретация - повторный запуск эксперимента.  \n",
    "\n",
    "Могут быть технические сложности при их комбинировании - обычно делается разного рода поправками [[MultipleComp](https://en.wikipedia.org/wiki/Multiple_comparisons_problem), [FWER](https://en.wikipedia.org/wiki/Family-wise_error_rate), [Bonf](https://en.wikipedia.org/wiki/Bonferroni_correction)]. "
   ]
  },
  {
   "cell_type": "markdown",
   "id": "4de703da",
   "metadata": {},
   "source": [
    "**\"Сколько должен продолжаться эксперимент?\"**"
   ]
  },
  {
   "cell_type": "markdown",
   "id": "e934aae6",
   "metadata": {},
   "source": [
    "Размер выборки рассчитывают до эксперимента так, чтобы обеспечить $\\alpha$ и $\\beta$. "
   ]
  },
  {
   "cell_type": "markdown",
   "id": "09277281",
   "metadata": {},
   "source": []
  },
  {
   "cell_type": "markdown",
   "id": "264542d7",
   "metadata": {},
   "source": [
    "### Ссылки"
   ]
  },
  {
   "cell_type": "markdown",
   "id": "8eeaac18",
   "metadata": {},
   "source": [
    "[[StTest](https://en.wikipedia.org/wiki/Statistical_hypothesis_testing)] - Statistical_hypothesis_testing  \n",
    "[[PVal](https://en.wikipedia.org/wiki/P-value)] - P-value  \n",
    "[[StErrors](https://en.wikipedia.org/wiki/Type_I_and_type_II_errors)] - Type_I_and_type_II_errors  \n",
    "[[StSign](https://en.wikipedia.org/wiki/Statistical_significance)] - Statistical_significance  \n",
    "[[StPower](https://en.wikipedia.org/wiki/Power_of_a_test)] - Power_of_a_test  \n",
    "[[HNull](https://en.wikipedia.org/wiki/Null_hypothesis)] - Null_hypothesis  \n",
    "[[ZScore](https://en.wikipedia.org/wiki/Standard_score)] - Standard_score  \n",
    "[[ZTest](https://en.wikipedia.org/wiki/Z-test)] - Z-test  \n",
    "[[TDist](https://en.wikipedia.org/wiki/Student%27s_t-distribution)] -    \n",
    "[[TTest](https://en.wikipedia.org/wiki/Student's_t-test)] -    \n",
    "[[WelchTTest](https://en.wikipedia.org/wiki/Welch%27s_t-test)] -  \n",
    "[[StatTestMisinterpret](https://www.ncbi.nlm.nih.gov/pmc/articles/PMC4877414/)] Statistical tests, P values, confidence intervals, and power: a guide to misinterpretations   \n",
    "[[MultipleComp](https://en.wikipedia.org/wiki/Multiple_comparisons_problem)] -   \n",
    "[[FWER](https://en.wikipedia.org/wiki/Family-wise_error_rate)] -  \n",
    "[[Bonf](https://en.wikipedia.org/wiki/Bonferroni_correction)] -  \n",
    "\n",
    "https://math.stackexchange.com/questions/2978617/derivation-degree-of-freedom-of-a-t-distribution"
   ]
  },
  {
   "cell_type": "code",
   "execution_count": null,
   "id": "24dca843",
   "metadata": {},
   "outputs": [],
   "source": []
  },
  {
   "cell_type": "code",
   "execution_count": null,
   "id": "55a89eed",
   "metadata": {},
   "outputs": [],
   "source": []
  },
  {
   "cell_type": "code",
   "execution_count": null,
   "id": "351add97",
   "metadata": {},
   "outputs": [],
   "source": []
  },
  {
   "cell_type": "markdown",
   "id": "58665d4f",
   "metadata": {},
   "source": [
    "Дисперсия выборочных средних определяется стандартной ошибкой среднего"
   ]
  },
  {
   "cell_type": "markdown",
   "id": "18556a39",
   "metadata": {},
   "source": [
    "\"Статистика с известным распределением\": разность средних в единицах стандартного отклонения этой разности. Т.е. z-значение [[ZScore](https://en.wikipedia.org/wiki/Standard_score)]\n",
    "\n",
    "$$\n",
    "z = \\frac{(p_A - p_B) - 0}{\\sigma_{\\Delta}} \n",
    "$$\n",
    "\n",
    "Конструкция называется Z-тестом [[ZTest](https://en.wikipedia.org/wiki/Z-test)]"
   ]
  },
  {
   "cell_type": "code",
   "execution_count": null,
   "id": "44bf6cc9",
   "metadata": {},
   "outputs": [],
   "source": []
  },
  {
   "cell_type": "markdown",
   "id": "e4629c41",
   "metadata": {},
   "source": [
    "$$\n",
    "\\tilde{p} = \\frac{1}{n} \\sum_i A_i\n",
    "\\\\\n",
    "E[\\tilde{p}] = E[A_i]\n",
    "\\\\\n",
    "Var(\\tilde{p}) = Var(\\frac{1}{n} \\sum_i A_i) = \\frac{1}{n^2} Var(\\sum_i A_i) \n",
    "= \\frac{1}{n^2} n Var(A_i) = \\frac{Var(A_i)}{n^2}\n",
    "\\\\\n",
    "Var(A_i) = p(1-p)\n",
    "\\\\\n",
    "Var(\\tilde{p})= \\frac{p(1-p)}{n}\n",
    "$$"
   ]
  },
  {
   "cell_type": "markdown",
   "id": "615e3625",
   "metadata": {},
   "source": [
    "Используется центральная предельная теорема: "
   ]
  },
  {
   "cell_type": "markdown",
   "id": "3f7c86b0",
   "metadata": {},
   "source": [
    "$$\n",
    "\\tilde{p} \\sim Norm(E[\\tilde{p}], Var[\\tilde{p}])\n",
    "$$"
   ]
  },
  {
   "cell_type": "markdown",
   "id": "98a58eb5",
   "metadata": {},
   "source": [
    "Распределение разности $p_{\\Delta}$ считается нормальным. "
   ]
  },
  {
   "cell_type": "markdown",
   "id": "c053e8de",
   "metadata": {},
   "source": [
    "$$\n",
    "p_{\\Delta} = \\tilde{p}_A - \\tilde{p}_B\n",
    "\\\\\n",
    "E[p_{\\Delta}] = E[ \\tilde{p}_A - \\tilde{p}_B ] = E[\\tilde{p}_A] - E[\\tilde{p}_B]\n",
    "\\\\\n",
    "Var[p_{\\Delta}] = Var[ \\tilde{p}_A - \\tilde{p}_B ] = \\sqrt{Var[\\tilde{p}_A]^2 + Var[\\tilde{p}_B]^2}\n",
    "\\\\\n",
    "p_{\\Delta} \\sim Norm(E[\\tilde{p}_A] - E[\\tilde{p}_B], \\sqrt{Var[\\tilde{p}_A]^2 + Var[\\tilde{p}_B]^2})\n",
    "$$"
   ]
  },
  {
   "cell_type": "markdown",
   "id": "bfa7edc9",
   "metadata": {},
   "source": [
    "Для результатов:"
   ]
  },
  {
   "cell_type": "markdown",
   "id": "310491fe",
   "metadata": {},
   "source": [
    "$$\n",
    "p_A = s_A / n_A, \\quad p_B = s_B / n_B\n",
    "\\\\\n",
    "E[\\tilde{p}_A] = p_A, E[\\tilde{p}_B] = p_B\n",
    "\\\\\n",
    "E[\\tilde{p}_A] - E[\\tilde{p}_B] = p_A - p_B\n",
    "\\\\\n",
    "\\sqrt{Var[\\tilde{p}_A]^2 + Var[\\tilde{p}_B]^2} = \\sqrt{\\frac{p_A^2(1-p_A)^2}{n_A^2} + \\frac{p_B^2(1-p_B)^2}{n_B^2}}\n",
    "$$"
   ]
  },
  {
   "cell_type": "code",
   "execution_count": null,
   "id": "be3ec35a",
   "metadata": {},
   "outputs": [],
   "source": []
  },
  {
   "cell_type": "code",
   "execution_count": null,
   "id": "cfcfa582",
   "metadata": {},
   "outputs": [],
   "source": []
  },
  {
   "cell_type": "markdown",
   "id": "c5dd981f",
   "metadata": {},
   "source": [
    "Для вычисления вероятности получить данные в рамках предположения об эквивалентности групп существует многообразие статистических тестов."
   ]
  },
  {
   "cell_type": "markdown",
   "id": "ac3d1829",
   "metadata": {},
   "source": [
    "Тест Колмогорова-Смирнова  \n",
    "https://en.wikipedia.org/wiki/Kolmogorov%E2%80%93Smirnov_test  "
   ]
  },
  {
   "cell_type": "markdown",
   "id": "388e116b",
   "metadata": {},
   "source": [
    "Еще пример:  \n",
    "пациент обращается за мед помощью.   \n",
    "есть симптомы - кашель, температура  \n",
    "нужно поставить диагноз (далее - назначить лечение).  \n",
    "\n",
    "интересует вероятность болезни при условии симптомов P(болезнь | симптомы).  \n",
    "\n",
    "проверка гипотез - перебираются болезни.  \n",
    "считается вероятность получить симптомы при болезни P(симптомы | болезнь).   \n",
    "если вероятность достаточно большая, то болезнь \"не отвергается\"  \n",
    "\n",
    "Для перехода к P(болезнь | симптомы) используются стат. значимости и мощности (?)"
   ]
  },
  {
   "cell_type": "markdown",
   "id": "fc4253d6",
   "metadata": {},
   "source": [
    "Полезно сравнить с байесовским подходом.  \n",
    "Данные те же.  \n",
    "Случайная величина с известным распределением - функция правдоподобия.  \n",
    "Гипотеза - конкретное значение параметров.  \n",
    "Тестовая статистика - аргумент в функции правдоподобия x_fact = f(data).   \n",
    "p-значение: sum x L(x >= x_fact | H)  \n",
    "Аналога априорного распределения нет.  \n",
    "Иначе устроена интерпретация: в проверке стат. гипотез решение принимают по функции правдоподобия, в байесовском подходе пересчитывают в вероятность.  "
   ]
  },
  {
   "cell_type": "markdown",
   "id": "622d0cb0",
   "metadata": {},
   "source": [
    "Сложность с интерпретацией $p$-значения.  "
   ]
  },
  {
   "cell_type": "markdown",
   "id": "6fcfd860",
   "metadata": {},
   "source": [
    "Для оценки параметров проверка статистических гипотез обычно не используется.   \n",
    "Используется метод максимального правдоподобия или другие предположения.  "
   ]
  },
  {
   "cell_type": "markdown",
   "id": "f0a4e1e3",
   "metadata": {},
   "source": [
    "Для оценки интервалов параметров используются \"доверительные интервалы\".  \n",
    "Формально неопределенности в параметрах нет.  \n",
    "Сложности с интерпретацией доверительных интервалов:  \n"
   ]
  },
  {
   "cell_type": "markdown",
   "id": "877087fa",
   "metadata": {},
   "source": [
    "Все давно сделано:  \n",
    "https://michael-franke.github.io/BDACM_2018/scripts/01_estimation_pValues.pdf"
   ]
  },
  {
   "cell_type": "code",
   "execution_count": null,
   "id": "c4c74d5d",
   "metadata": {},
   "outputs": [],
   "source": []
  },
  {
   "cell_type": "code",
   "execution_count": null,
   "id": "41b90f20",
   "metadata": {},
   "outputs": [],
   "source": []
  },
  {
   "cell_type": "markdown",
   "id": "5e9eabe5",
   "metadata": {},
   "source": [
    "U-тест  \n",
    "https://en.wikipedia.org/wiki/Mann%E2%80%93Whitney_U_test  "
   ]
  },
  {
   "cell_type": "markdown",
   "id": "d4be778e",
   "metadata": {},
   "source": [
    "### Перестановочный тест"
   ]
  },
  {
   "cell_type": "markdown",
   "id": "143487cd",
   "metadata": {},
   "source": [
    "https://en.wikipedia.org/wiki/Permutation_test  \n",
    "\n",
    "Есть данные из двух групп.\n",
    "Считаем среднее в каждой группе.\n",
    "Считаем разницу.\n",
    "\n",
    "Далее вопрос: насколько вероятно получить такую разницу если группы одинаковы?\n",
    "\n",
    "Для ответа предполагаем, что группы значения пришли из общего распределения.\n",
    "Из общего распределения сэмплим n_a значений, считаем среднее, потом n_b, также считаем среднее, считаем разницу между средними. \n",
    "Это повторяется по всем возможным комбинациям или пока не надоест. \n",
    "Строится распределение разностей средних.  \n",
    "Определяется, где на этом распределении фактическое значение.  \n",
    "Если оно \"достаточно экстремально\", группы объявляются разными.  \n",
    "\n",
    "К перестановочным тестам применяют механику $p$-значений из проверки статистических гипотез (см. далее).  "
   ]
  },
  {
   "cell_type": "code",
   "execution_count": null,
   "id": "f6423002",
   "metadata": {},
   "outputs": [],
   "source": [
    "a_mean = 3\n",
    "b_mean = 3.1\n",
    "sigma = 1\n",
    "samp_a = stats.norm.rvs(loc=a_mean, scale=sigma, size=30)\n",
    "samp_b = stats.norm.rvs(loc=b_mean, scale=sigma, size=30)\n",
    "\n",
    "x = np.linspace(0, 5, 1000)\n",
    "\n",
    "fig = go.Figure()\n",
    "fig.add_trace(go.Scatter(x=x, y=stats.norm.pdf(x=x, loc=a_mean, scale=sigma)))\n",
    "fig.add_trace(go.Histogram(x=samp_a))\n",
    "fig.add_trace(go.Scatter(x=x, y=stats.norm.pdf(x=x, loc=b_mean, scale=sigma)))\n",
    "fig.add_trace(go.Histogram(x=samp_b))\n",
    "fig.show()"
   ]
  },
  {
   "cell_type": "code",
   "execution_count": null,
   "id": "6d8f31f5",
   "metadata": {},
   "outputs": [],
   "source": [
    "exp_info = pd.DataFrame([\n",
    "    {'group':'A', 'a':1, 'b':1, 'sample_size':100},\n",
    "    {'group':'B', 'a':1, 'b':1.25, 'sample_size':100}])\n",
    "exp_info.set_index('group', inplace=True)\n",
    "\n",
    "exact_dist_a = stats.gamma(a=exp_info['a']['A'], scale=1/exp_info['b']['A'])\n",
    "exact_dist_b = stats.gamma(a=exp_info['a']['B'], scale=1/exp_info['b']['B'])\n",
    "exp_info['exact_mean'] = pd.Series({'A': exact_dist_a.mean(), 'B':exact_dist_b.mean()})\n",
    "display(exp_info)\n",
    "\n",
    "samp_a = exact_dist_a.rvs(size=exp_info['sample_size']['A'])\n",
    "samp_b = exact_dist_b.rvs(size=exp_info['sample_size']['B'])\n",
    "\n",
    "x = np.linspace(0, 10, 2000)\n",
    "ymax = np.max([exact_dist_a.pdf(x), exact_dist_b.pdf(x)])\n",
    "\n",
    "fig = go.Figure()\n",
    "col = 'red'\n",
    "fig.add_trace(go.Scatter(x=x, y=exact_dist_a.pdf(x), \n",
    "                         mode='lines', line_color=col,\n",
    "                         name=f\"Exact A: a={exp_info['a']['A']}, b={exp_info['b']['A']}\"))\n",
    "fig.add_trace(go.Histogram(x=samp_a, histnorm='probability density',\n",
    "                           name='Sample A',\n",
    "                           opacity=0.3, marker_color=col))\n",
    "fig.add_trace(go.Scatter(x=[exact_dist_a.mean(), exact_dist_a.mean()], y=[0, ymax], \n",
    "                         mode='lines', line_color=col, line_dash='dash',\n",
    "                         name='Exact Mean A'))\n",
    "col = 'blue'\n",
    "fig.add_trace(go.Scatter(x=x, y=exact_dist_b.pdf(x), \n",
    "                         mode='lines', line_color=col,\n",
    "                         name=f\"Exact B: a={exp_info['a']['B']}, b={exp_info['b']['B']}\"))\n",
    "fig.add_trace(go.Histogram(x=samp_b, histnorm='probability density',\n",
    "                           name='Sample B',\n",
    "                           opacity=0.3, marker_color=col))\n",
    "fig.add_trace(go.Scatter(x=[exact_dist_b.mean(), exact_dist_b.mean()], y=[0, ymax], \n",
    "                         mode='lines', line_color=col, line_dash='dash',\n",
    "                         name='Exact Mean B'))\n",
    "fig.update_layout(title='Exact Distributions and Samples',\n",
    "                  xaxis_title='x',\n",
    "                  yaxis_title='Prob Density',\n",
    "                  hovermode=\"x\",\n",
    "                  height=550,\n",
    "                  barmode='overlay')\n",
    "fig.show()"
   ]
  },
  {
   "cell_type": "code",
   "execution_count": null,
   "id": "cc907e19",
   "metadata": {},
   "outputs": [],
   "source": [
    "pooled = np.concatenate([samp_a, samp_b])\n",
    "\n",
    "n_resample = 10000\n",
    "means_diff = np.empty(n_resample)\n",
    "\n",
    "for i in range(n_resample):\n",
    "    tmp = np.random.permutation(pooled)\n",
    "    tmp_a = tmp[0:len(samp_a)]\n",
    "    tmp_b = tmp[len(samp_a):]\n",
    "    mean_diff = tmp_a.mean() - tmp_b.mean()\n",
    "    means_diff[i] = mean_diff\n",
    "\n",
    "#means_diff\n",
    "diff_mean_fact = samp_a.mean() - samp_b.mean()\n",
    "\n",
    "fig = go.Figure()\n",
    "fig.add_trace(go.Histogram(x=means_diff, histnorm='probability density',\n",
    "                           name='Means Diff',\n",
    "                           opacity=0.3, marker_color=col))\n",
    "fig.add_vline(x=diff_mean_fact)\n",
    "fig.show()\n",
    "\n",
    "pval = np.sum(means_diff[means_diff > diff_mean_fact]) / len(means_diff)\n",
    "print(pval)"
   ]
  },
  {
   "cell_type": "code",
   "execution_count": null,
   "id": "ceff4102",
   "metadata": {},
   "outputs": [],
   "source": []
  },
  {
   "cell_type": "markdown",
   "id": "46e53af6",
   "metadata": {},
   "source": [
    "# Алгоритм оценки А/Б-тестов на основе проверки статистических гипотез"
   ]
  },
  {
   "cell_type": "markdown",
   "id": "fea7d7fa",
   "metadata": {},
   "source": [
    "Общая идея:\n",
    "\n",
    "Сформулировать нулевую гипотезу.\n",
    "Выбрать уровень стат. значимости и мощности.\n",
    "\n",
    "* Популяция\n",
    "* Распределяем в 2 выборки\n",
    "* Получаем 2 набора данных\n",
    "* Считаем среднее и стандартное отклонение в каждом варианте\n",
    "* считаем стандартную ошибку среднего для каждого варианта\n",
    "* Предполагаем, что среднее по популяции каждого варианта находится вблизи среднего, посчитанного по выборке. \n",
    "* На основании центральной предельной теоремы сумма большого количества значений из одного распределения имеет нормальное распределение; среднее по выборке - сумма большого количества величин из одинакового распределения. На этом основании объявляем, что реальное среднее для каждого из вариантов распределено нормально вокруг среднего из выборки со стандартной ошибкой среднего [как это согласуется с частотной интерпретацей?] \n",
    "* Переходят к распределению для разницы двух величин: средние вычитаются, стандартные отклонения sqrt(s1^2 + s2^2).\n",
    "* считают p-значение. Проверяют, достаточно ли оно мало для объявления стат. значимости.\n",
    "\n",
    "\n",
    "Напоминалка:\n",
    "https://towardsdatascience.com/the-math-behind-a-b-testing-with-example-code-part-1-of-2-7be752e1d06f\n",
    "\n",
    "\n",
    "Вопросы: 2 категории - концептуальные и механика применения.\n",
    "\n",
    "* Как интерпретировать доверительный интервал и стат. значимость?\n",
    "* Как считается мощность? Особенно если распредления не симметричные?\n",
    "* Вариантов больше 2 (групповые поправки)\n",
    "* Подглядывания (и гарантии на значимость и мощность в этом случае)\n",
    "* Оценка размера выборки если дисперсия не связана со средним?"
   ]
  },
  {
   "cell_type": "markdown",
   "id": "f5b9d9d0",
   "metadata": {},
   "source": [
    "### Статистические тесты, доверительные интервалы, проверка статистических гипотез."
   ]
  },
  {
   "cell_type": "markdown",
   "id": "6253502c",
   "metadata": {},
   "source": [
    "**Статистические тесты**"
   ]
  },
  {
   "cell_type": "markdown",
   "id": "a931aa74",
   "metadata": {},
   "source": [
    "Картинки про типы тестов:  \n",
    "https://blog.statsols.com/types-of-statistical-tests  \n",
    "\n",
    "https://duckduckgo.com/?q=how+to+choose+statistical+test&t=ffab&iar=images&iax=images&ia=images  \n",
    "\n",
    "https://www.google.com/search?q=how+to+choose+statistical+test&source=lnms&tbm=isch&sa=X&ved=2ahUKEwip1s-rjuP3AhWIr4sKHY2HCHQQ_AUoAXoECAEQAw&biw=1280&bih=603&dpr=1.5 "
   ]
  },
  {
   "cell_type": "markdown",
   "id": "f1c089ec",
   "metadata": {},
   "source": [
    "**Доверительный интервал**"
   ]
  },
  {
   "cell_type": "markdown",
   "id": "cb5f4a16",
   "metadata": {},
   "source": [
    "**Проверка статистических гипотез**\n",
    "\n",
    "Проверка гипотез: https://en.wikipedia.org/wiki/Statistical_hypothesis_testing \n"
   ]
  },
  {
   "cell_type": "markdown",
   "id": "85fde7d6",
   "metadata": {},
   "source": [
    "### t-тест и центральная предельная теорема"
   ]
  },
  {
   "cell_type": "markdown",
   "id": "ec9d43dd",
   "metadata": {},
   "source": [
    "**Откуда берется t-тест**  \n",
    "\n",
    "См. https://en.wikipedia.org/wiki/Student%27s_t-test и https://en.wikipedia.org/wiki/Student's_t-distribution .  \n",
    "\n",
    "$$\n",
    "\\frac{X - \\mu}{S/\\sqrt{n}}\n",
    "$$\n",
    "X - sample mean, S - Bessel-corrected sample variance.\n",
    "\n",
    "При больших N t-распределение почти совпадает с нормальным."
   ]
  },
  {
   "cell_type": "markdown",
   "id": "05c66569",
   "metadata": {},
   "source": [
    "t-критерий:\n",
    "\n",
    "$P(\\frac{X - \\mu}{S/\\sqrt{n}} | \\mu, \\sigma) = t(...)$"
   ]
  },
  {
   "cell_type": "markdown",
   "id": "29bf03d5",
   "metadata": {},
   "source": [
    "**Центральная предельная теорема**\n",
    "\n"
   ]
  },
  {
   "cell_type": "markdown",
   "id": "7c6caaf9",
   "metadata": {},
   "source": [
    "<center>\n",
    "<img src=\"central_limit_theorem_and_t_test.png\" alt=\"central_limit_theorem_and_t_test\" width=\"600\"/>\n",
    "</center>"
   ]
  },
  {
   "cell_type": "markdown",
   "id": "611e0246",
   "metadata": {},
   "source": [
    "**Используемые предположения**"
   ]
  },
  {
   "cell_type": "markdown",
   "id": "c776f2a5",
   "metadata": {},
   "source": [
    "**Какой вариант лучше?**\n",
    "\n",
    "Нужно $P(p_A > p_B)$.\n",
    "\n",
    "Статистическая гипотеза: $p_A = p_B$.  \n",
    "p-значение: $P(data | p_A = p_B) = p$\n",
    "\n",
    "Дальше обычно говорят, что если $p$ мало, то $p_A \\ne p_B$.\n",
    "\n",
    "Как связано p-значение с нужной вероятностью $P(p_A > p_B)$?\n",
    "\n",
    "Сложности:  \n",
    "Из того, что $P(data | p_A = p_B)$ мало не следует, что $p_A \\ne p_B$.  \n",
    "Чтобы перейти от $P(data | p_A = p_B)$ к $P(p_A = p_B | data)$ нужно соотношение Байеса.  \n",
    "Но дальше все равно непонятно, как $P(p_A = p_B | data)$ соотносится с $P(p_A > p_B)$."
   ]
  },
  {
   "cell_type": "markdown",
   "id": "23bebba6",
   "metadata": {},
   "source": [
    "**Каковы оценки метрики в каждой группе?**\n",
    "\n",
    "Нужны оценки плотности вероятности P(p_A), P(p_B).\n",
    "\n",
    "Есть средние в выборках.  \n",
    "\n",
    "Для оценки неопределенности предлагается считать доверительные интервалы.  \n",
    "Считаются в предположении, что выполняется центральная предельная теорема.  \n",
    "$$\n",
    "P(p_A) = N(p_{A, mean}, \\sigma_A)\n",
    "\\\\\n",
    "P(p_B) = N(p_{B, mean}, \\sigma_B)\n",
    "$$\n",
    "Доверительные интервалы дают оценки:  \n",
    "$$\n",
    "P(p_A \\in [p_{A, mean} - 2\\sigma_A, p_{A, mean} + 2\\sigma_A]) = \\alpha\n",
    "\\\\\n",
    "P(p_B \\in [p_{B, mean} - 2\\sigma_B, p_{B, mean} + 2\\sigma_B]) = \\alpha\n",
    "$$\n",
    "\n",
    "\n",
    "Кажется, что такие оценки занижают неопределенность.  \n",
    "Не обязательно, что среднее равно именно среднему в выборке, может быть в окрестностях.  \n",
    "\n",
    "Нужно смотреть модель\n",
    "\n",
    "$$\n",
    "P(mu, sigma | data) \\\\\n",
    "P(data | mu, sigma) = N(mu, sigma) \\\\\n",
    "mu - \\mbox{нормальное распределение вокруг среднего значения в выборке} \\\\\n",
    "sigma - \\mbox{широкое нормальное распределение с центром на стандартной ошибке среднего для выборки}\n",
    "$$\n",
    "\n",
    "Или сравнить с бета-распределением.\n",
    "\n",
    "Можно проверить, посэмлировав распределение.   \n",
    "Если нормальное приближение делает завышенную по уверенности оценку, то при повторном применении этого приближения\n",
    "не получится заявленная вероятность попадания среднего в доверительный интервал.\n",
    "\n",
    "Фиксируется p.  \n",
    "Сэмплируется.  \n",
    "Считается N(mu, sigma).  \n",
    "Проверяется попадание попадание p в определенный доверительный интервал.  \n"
   ]
  },
  {
   "cell_type": "markdown",
   "id": "4a4dcc82",
   "metadata": {},
   "source": [
    "Нормальное или t-распределение можно рассматривать как оценку распределения P(mu | data).  \n",
    "При этом приходится отказаться от претензий на установление реального среднего.  \n",
    "И иметь дело с теми же проблемами, что и для любых других моделей - насколько адекватны предположения,\n",
    "насколько адекватны прогнозы.  \n",
    "Одна из проблем - распределение не ограничено интервалом [0,1] и есть ненулевая плотность вероятности за границами области."
   ]
  },
  {
   "cell_type": "markdown",
   "id": "547e80cb",
   "metadata": {},
   "source": [
    "t-критерий:\n",
    "\n",
    "$P(\\frac{X - \\mu}{S/\\sqrt{n}} | \\mu, \\sigma) = t(...)$\n",
    "\n",
    "Нужно\n",
    "\n",
    "$P(\\mu, \\sigma | X)$\n",
    "\n",
    "Скорее всего можно предположить фиксированное $\\sigma$.\n",
    "\n",
    "Дальше\n",
    "\n",
    "$$\n",
    "P(\\mu, \\sigma | X) = \\frac{P(X| \\mu, \\sigma) P(\\mu, \\sigma)}{\\int d\\mu P(X| \\mu, \\sigma) P(\\mu, \\sigma)}\n",
    "$$\n",
    "\n",
    "Если приближенно считать функцию правдоподобия нормальной,\n",
    "можно задать сопряженное априорное распределение.  \n",
    "https://en.wikipedia.org/wiki/Conjugate_prior#Continuous_distributions  \n",
    "Сопряженное априорное также нормальное.  \n",
    "Только не очень понятно, как выбирать параметры -- чтобы не на основе сэмпла."
   ]
  },
  {
   "cell_type": "code",
   "execution_count": null,
   "id": "2dd9e7bc",
   "metadata": {},
   "outputs": [],
   "source": [
    "import numpy as np\n",
    "import scipy.stats as stats\n",
    "import plotly.graph_objects as go\n",
    "\n",
    "prior_conv = 0.3\n",
    "\n",
    "a_total = 100\n",
    "a_conv = a_total * prior_conv\n",
    "\n",
    "#x = np.linspace(0, 1, 1001)\n",
    "x = np.linspace(0, a_total, 10000)\n",
    "fig = go.Figure()\n",
    "\n",
    "# Norm\n",
    "mu = a_conv\n",
    "var = a_total * prior_conv * (1 - prior_conv)\n",
    "sigma = np.sqrt(var)\n",
    "stderrmean = sigma / np.sqrt(a_total)\n",
    "print(mu, stderrmean)\n",
    "\n",
    "fig.add_trace(go.Scatter(x=x, y=stats.norm.pdf(x, loc=mu, scale=stderrmean), mode='lines',\n",
    "                         name=f\"<br>total = {a_total}, conv = {a_conv}<br>mu={mu}, stderrmean={stderrmean}\"))\n",
    "\n",
    "\n",
    "#Uniform prior\n",
    "# beta_prior = 1\n",
    "# alpha_prior = 1\n",
    "\n",
    "# alpha_post = alpha_prior + a_conv\n",
    "# beta_post = beta_prior + (a_total - a_conv)\n",
    "# fig.add_trace(go.Scatter(x=x, y=stats.beta.pdf(x, alpha_post, beta_post), mode='lines',\n",
    "#                          name=f\"<br>A: total = {a_total}, conv = {a_conv}<br>alpha_prior={alpha_prior}, beta_prior={beta_prior},<br>alpha_post={alpha_post}, beta_post={beta_post}\"))\n",
    "\n",
    "\n",
    "\n",
    "fig.update_layout(title='Posterior and Prior Distributions',\n",
    "                  xaxis_title='p',\n",
    "                  yaxis_title='Prob Density',\n",
    "                  hovermode=\"x\",\n",
    "                  height=550)\n",
    "\n",
    "fig.show()"
   ]
  },
  {
   "cell_type": "code",
   "execution_count": null,
   "id": "868d65e4",
   "metadata": {},
   "outputs": [],
   "source": [
    "import numpy as np\n",
    "import scipy.stats as stats\n",
    "import plotly.graph_objects as go\n",
    "\n",
    "prior_conv = 0.4\n",
    "\n",
    "a_total = 10\n",
    "a_conv = a_total * prior_conv\n",
    "\n",
    "x = np.linspace(0, 1, 1001)\n",
    "fig = go.Figure()\n",
    "\n",
    "# Norm\n",
    "## mu = 1 * a_conv + 0 * (a_total - a_conv)\n",
    "## mu_c = 1 * (a_conv / a_total) + 0 * (a_total - a_conv) / a_total = a_conv / a_total\n",
    "## std_c = sqrt( ( (1 - mu_c)^2 * a_conv + (0 - mu_c)^2 * (a_total - a_conv) ) / a_total )\n",
    "##       = sqrt( (1 - mu_c)^2 mu_c + mu_c^2 (1 - mu_c) )\n",
    "##       = sqrt( mu_c (1 - mu_c) )\n",
    "\n",
    "mu_c = a_conv / a_total\n",
    "sigma_c = np.sqrt(mu_c * (1 - mu_c))\n",
    "stderrmean_c = sigma_c / np.sqrt(a_total)\n",
    "print(mu_c, stderrmean_c)\n",
    "\n",
    "fig.add_trace(go.Scatter(x=x, y=stats.norm.pdf(x, loc=mu_c, scale=stderrmean_c), mode='lines',\n",
    "                         name=f\"<br>total = {a_total}, conv = {a_conv}<br>mu={mu}, stderrmean={stderrmean}\"))\n",
    "\n",
    "\n",
    "#Uniform prior\n",
    "beta_prior = 1\n",
    "alpha_prior = 1\n",
    "\n",
    "alpha_post = alpha_prior + a_conv\n",
    "beta_post = beta_prior + (a_total - a_conv)\n",
    "fig.add_trace(go.Scatter(x=x, y=stats.beta.pdf(x, alpha_post, beta_post), mode='lines',\n",
    "                         name=f\"<br>A: total = {a_total}, conv = {a_conv}<br>alpha_prior={alpha_prior}, beta_prior={beta_prior},<br>alpha_post={alpha_post}, beta_post={beta_post}\"))\n",
    "\n",
    "\n",
    "\n",
    "fig.update_layout(title='Posterior and Prior Distributions',\n",
    "                  xaxis_title='p',\n",
    "                  yaxis_title='Prob Density',\n",
    "                  hovermode=\"x\",\n",
    "                  height=550)\n",
    "\n",
    "fig.show()"
   ]
  },
  {
   "cell_type": "markdown",
   "id": "f104ff93",
   "metadata": {},
   "source": [
    "**Насколько один вариант лучше другого?**\n",
    "\n",
    "Нужно $P(p_A/p_B)$ или $P(p_A - p_B)$.  \n",
    "Распределение $P(p_A/p_B)$ обычно не считают - ограничиваются отношением средних в выборках $p_A/p_B$.  \n",
    "\n",
    "Cчитают $P(p_A - p_B)$.  \n",
    "С учетом предположений о нормальном распределении $p_A, p_B$\n",
    "$$\n",
    "P(p_A - p_B) = N(p_A - p_B; s_{AB}) \n",
    "\\\\\n",
    "s_{AB} = \\sqrt{s_A^2 / N_1 + s_B^2 / N_2} * \\sqrt{N_1 + N_2} \\quad \\mbox{(или что-то вроде)}\n",
    "$$\n",
    "(См. https://mathworld.wolfram.com/NormalDifferenceDistribution.html, https://math.stackexchange.com/questions/917276/distribution-of-the-difference-of-two-normal-random-variables, https://en.wikipedia.org/wiki/Sum_of_normally_distributed_random_variables, https://en.wikipedia.org/wiki/Normal_distribution#Operations_on_normal_deviates)\n",
    "\n",
    "При этом предположения о нормальном распределении $p_A, p_B$ излишне оптимистичны.  \n",
    "Поэтому оценка разности также будет занижена.  \n",
    "\n",
    "Можно попробовать проверить сэмплированием."
   ]
  },
  {
   "cell_type": "code",
   "execution_count": null,
   "id": "e1c4bad0",
   "metadata": {},
   "outputs": [],
   "source": [
    "import numpy as np\n",
    "import scipy.stats as stats\n",
    "import plotly.graph_objects as go\n",
    "\n",
    "prior_conv = 0.4\n",
    "\n",
    "a_total = 1000\n",
    "a_conv = a_total * prior_conv\n",
    "\n",
    "b_total = 1000\n",
    "b_conv = b_total * prior_conv * 1.1\n",
    "\n",
    "x = np.linspace(-1, 1, 1001)\n",
    "fig = go.Figure()\n",
    "\n",
    "# Norm\n",
    "mu_a = a_conv / a_total \n",
    "stderrmean_a = np.sqrt(mu_a * (1 - mu_a)) / np.sqrt(a_total)\n",
    "print(mu_a, stderrmean_a)\n",
    "\n",
    "mu_b = b_conv / b_total \n",
    "stderrmean_b = np.sqrt(mu_b * (1 - mu_b)) / np.sqrt(b_total)\n",
    "print(mu_b, stderrmean_b)\n",
    "\n",
    "mu_diff = mu_b - mu_a\n",
    "stderrmean_diff = np.sqrt(stderrmean_a**2 + stderrmean_b**2)\n",
    "print(mu_diff, stderrmean_diff)\n",
    "\n",
    "fig.add_trace(go.Scatter(x=x, y=stats.norm.pdf(x, loc=mu_diff, scale=stderrmean_diff), mode='lines',\n",
    "                         name=f\"Normal Diff\"))\n",
    "\n",
    "\n",
    "#Beta\n",
    "beta_prior = 1\n",
    "alpha_prior = 1\n",
    "alpha_post_a = alpha_prior + a_conv\n",
    "beta_post_a = beta_prior + (a_total - a_conv)\n",
    "n_post_sample = 50000\n",
    "post_sample_a = np.random.beta(alpha_post_a, beta_post_a, n_post_sample)\n",
    "alpha_post_b = alpha_prior + b_conv\n",
    "beta_post_b = beta_prior + (b_total - b_conv)\n",
    "post_sample_b = np.random.beta(alpha_post_b, beta_post_b, n_post_sample)\n",
    "post_sample_diff = post_sample_b - post_sample_a\n",
    "\n",
    "\n",
    "fig.add_trace(go.Histogram(x=post_sample_diff, histnorm='probability density', \n",
    "                           name='B-A', marker_color='red',\n",
    "                           opacity=0.6))\n",
    "\n",
    "\n",
    "fig.update_layout(title='P(B-A)',\n",
    "                  xaxis_title='p',\n",
    "                  yaxis_title='Prob Density',\n",
    "                  hovermode=\"x\",\n",
    "                  height=550)\n",
    "\n",
    "fig.show()"
   ]
  },
  {
   "cell_type": "markdown",
   "id": "b28ae7d0",
   "metadata": {},
   "source": [
    "**Какой вариант лучше?**\n",
    "\n",
    "Нужно $P(p_A > p_B)$.\n",
    "\n",
    "Обычно пытаются проверять статистические гипотезы.  \n",
    "Предполагают $p_A = p_B$ и считают, какова вероятность получить имеющиеся средние: $P(p_{mu,A}, p_{mu,B} | p_A = p_B)$.\n",
    "\n",
    "Для t-тестов вместо статистических гипотез можно посчитать понятное значение $P(p_B > p_A)$ с помощью\n",
    "кумулятивной функции распределения нормального распределения.\n",
    "\n",
    "$$\n",
    "P(p_A > p_B) = \\mbox{norm.diff.cdf(x=0)}\n",
    "\\\\\n",
    "P(p_B > p_A) = 1 - \\mbox{norm.diff.cdf(x=0)}.\n",
    "$$"
   ]
  },
  {
   "cell_type": "code",
   "execution_count": null,
   "id": "9c7324ad",
   "metadata": {},
   "outputs": [],
   "source": [
    "x = np.linspace(-0.5, 0.5, 1001)\n",
    "fig = go.Figure()\n",
    "# fig.add_trace(go.Scatter(x=x, y=stats.norm.pdf(x, loc=mu_diff, scale=stderrmean_diff), mode='lines',\n",
    "#                          name=f\"Normal Diff\"))\n",
    "fig.add_trace(go.Scatter(x=x, y=stats.norm.cdf(x, loc=mu_diff, scale=stderrmean_diff), mode='lines',\n",
    "                         name=f\"Normal Diff Accumulated\"))\n",
    "fig.update_layout(title='P(B-A) Accumulated',\n",
    "                  xaxis_title='p',\n",
    "                  yaxis_title='Prob Density',\n",
    "                  hovermode=\"x\",\n",
    "                  xaxis_range=[-0.1, 0.1],\n",
    "                  height=550)\n",
    "\n",
    "fig.show()\n",
    "\n",
    "\n",
    "pa_gt_pb_norm = stats.norm.cdf(x=0, loc=mu_diff, scale=stderrmean_diff)\n",
    "pb_gt_pa_norm = 1 - pa_gt_pb_norm\n",
    "print(f\"P(pa > pb) = {pa_gt_pb_norm}, P(pb > pa) = {pb_gt_pa_norm}\")\n",
    "\n",
    "#diff = B - A\n",
    "pb_gt_pa_diff = len(post_sample_diff[post_sample_diff > 0]) / len(post_sample_diff)\n",
    "pa_gt_pb_diff = 1 - pb_gt_pa_diff\n",
    "print(f\"P(pa > pb) = {pa_gt_pb_diff}, P(pb > pa) = {pb_gt_pa_diff}\")"
   ]
  },
  {
   "cell_type": "markdown",
   "id": "e70a6cc6",
   "metadata": {},
   "source": [
    "**Проверка статистической гипотезы $p_A = p_B$**\n",
    "\n",
    "Во-первых, вопрос о $p_A = p_B$ - это не тот вопрос, на который нужно отвечать.  \n",
    "Нужно $P(p_A > p_B)$ -- см. выше.  \n",
    "\n",
    "Во-вторых, способ проверки гипотезы вызывает вопросы.  \n",
    "Предполагают $p_A = p_B$ и считают, какова вероятность получить имеющиеся средние: $P(p_{mu,A}, p_{mu,B} | p_A = p_B)$.\n",
    "\n",
    "Выбирают уровень значимости $\\alpha$.  \n",
    "Обычно $\\alpha = 0.95$.  \n",
    "Находят симметричный относительно центра интервал, внутри которого лежит $\\alpha$ плотности вероятности.  \n",
    "Для $\\alpha = 0.95$ это [mu_diff - 2 s_diff, mu_diff + 2 s_diff].  \n",
    "По распределению разности проверяют, лежит ли точка 0 в интервале [mu_diff - 2 s_diff, mu_diff + 2 s_diff].  \n",
    "Если попадает, то гипотеза не отвергается.  \n",
    "Если не попадает, то отвергается.  "
   ]
  },
  {
   "cell_type": "markdown",
   "id": "14f76b3e",
   "metadata": {},
   "source": [
    "**Сколько должен продолжаться эксперимент?**  \n",
    "\n",
    "Для конверсий дисперсия связана со средним.  \n",
    "Можно задаться величиной эффекта.  \n",
    "Оценить, как будут выглядеть распределения средних.  \n",
    "На этом основании оценить, сколько нужно наблюдений для детектирования эффекта с определенной вероятностью.  \n",
    "\n",
    "\n",
    "Если дисперсия заранее неизвестна, то возникают проблемы с оценкой длительности.  \n",
    "Не ясно, чему равна стандартная ошибка среднего.\n",
    "\n",
    "\n",
    "Еще есть проблема подглядывания.  \n",
    "Оценку длительности предлагается фиксировать до начала эксперимента.  "
   ]
  },
  {
   "cell_type": "markdown",
   "id": "0d6de966",
   "metadata": {},
   "source": [
    "**Как работают оценки длительности?**\n",
    "\n",
    "Один из калькуляторов: https://www.evanmiller.org/ab-testing/sample-size.html .\n",
    "\n"
   ]
  },
  {
   "cell_type": "code",
   "execution_count": null,
   "id": "eae54e39",
   "metadata": {},
   "outputs": [],
   "source": [
    "import numpy as np\n",
    "import scipy.stats as stats\n",
    "import plotly.graph_objects as go\n",
    "\n",
    "prior_conv = 0.4\n",
    "\n",
    "a_total = 1000\n",
    "a_conv = a_total * prior_conv\n",
    "\n",
    "b_total = a_total\n",
    "b_conv = b_total * prior_conv * 1.05\n",
    "\n",
    "x = np.linspace(0, 1, 1001)\n",
    "fig = go.Figure()\n",
    "\n",
    "# Norm\n",
    "## mu = 1 * a_conv + 0 * (a_total - a_conv)\n",
    "## mu_c = 1 * (a_conv / a_total) + 0 * (a_total - a_conv) / a_total = a_conv / a_total\n",
    "## std_c = sqrt( ( (1 - mu_c)^2 * a_conv + (0 - mu_c)^2 * (a_total - a_conv) ) / a_total )\n",
    "##       = sqrt( (1 - mu_c)^2 mu_c + mu_c^2 (1 - mu_c) )\n",
    "##       = sqrt( mu_c (1 - mu_c) )\n",
    "\n",
    "mu_ca = a_conv / a_total\n",
    "sigma_ca = np.sqrt(mu_ca * (1 - mu_ca))\n",
    "stderrmean_ca = sigma_ca / np.sqrt(a_total)\n",
    "print(mu_ca, stderrmean_ca)\n",
    "\n",
    "fig.add_trace(go.Scatter(x=x, y=stats.norm.pdf(x, loc=mu_ca, scale=stderrmean_ca), mode='lines',\n",
    "                         name=f\"<br>total = {a_total}, conv = {a_conv}<br>mu={mu_ca}, stderrmean={stderrmean_ca}\"))\n",
    "\n",
    "mu_cb = b_conv / b_total\n",
    "sigma_cb = np.sqrt(mu_cb * (1 - mu_cb))\n",
    "stderrmean_cb = sigma_cb / np.sqrt(b_total)\n",
    "print(mu_cb, stderrmean_cb)\n",
    "\n",
    "fig.add_trace(go.Scatter(x=x, y=stats.norm.pdf(x, loc=mu_cb, scale=stderrmean_cb), mode='lines',\n",
    "                         name=f\"<br>total = {b_total}, conv = {b_conv}<br>mu={mu_cb}, stderrmean={stderrmean_cb}\"))\n",
    "\n",
    "fig.add_vline(x=mu_cb)\n",
    "\n",
    "fig.update_layout(title='Posterior and Prior Distributions',\n",
    "                  xaxis_title='p',\n",
    "                  yaxis_title='Prob Density',\n",
    "                  hovermode=\"x\",\n",
    "                  height=550)\n",
    "\n",
    "fig.show()\n",
    "\n",
    "pval = 1 - stats.norm.cdf(x=mu_cb, loc=mu_ca, scale=stderrmean_ca)\n",
    "print(pval)\n",
    "\n",
    "\n",
    "def pval(prior_conv, exp_effect, N):\n",
    "    a_total = N\n",
    "    a_conv = a_total * prior_conv\n",
    "    b_total = a_total\n",
    "    b_conv = b_total * prior_conv * exp_effect\n",
    "    mu_ca = a_conv / a_total\n",
    "    sigma_ca = np.sqrt(mu_ca * (1 - mu_ca))\n",
    "    stderrmean_ca = sigma_ca / np.sqrt(a_total)\n",
    "    mu_cb = b_conv / b_total\n",
    "    pval = 1 - stats.norm.cdf(x=mu_cb, loc=mu_ca, scale=stderrmean_ca)\n",
    "    return pval\n",
    "\n",
    "\n",
    "N = np.linspace(100, 10000)\n",
    "y = np.array([pval(prior_conv, 1.05, Ni) for Ni in N])\n",
    "\n",
    "fig = go.Figure()\n",
    "fig.add_trace(go.Scatter(x=N, y=y, mode='lines'))\n",
    "fig.add_hline(y=0.05)\n",
    "fig.update_layout(title='p-val',\n",
    "                  xaxis_title='N',\n",
    "                  yaxis_title='p-val',\n",
    "                  hovermode=\"x\",\n",
    "                  height=550)"
   ]
  },
  {
   "cell_type": "code",
   "execution_count": null,
   "id": "7c971c25",
   "metadata": {},
   "outputs": [],
   "source": [
    "import numpy as np\n",
    "import scipy.stats as stats\n",
    "import plotly.graph_objects as go\n",
    "\n",
    "prior_conv = 0.4\n",
    "\n",
    "a_total = 100\n",
    "a_conv = a_total * prior_conv\n",
    "\n",
    "b_total = 100\n",
    "b_conv = b_total * prior_conv * 1.1\n",
    "\n",
    "x = np.linspace(-1, 1, 1001)\n",
    "fig = go.Figure()\n",
    "\n",
    "# Norm\n",
    "mu_a = a_conv / a_total \n",
    "stderrmean_a = np.sqrt(mu_a * (1 - mu_a)) / np.sqrt(a_total)\n",
    "print(mu_a, stderrmean_a)\n",
    "\n",
    "mu_b = b_conv / b_total \n",
    "stderrmean_b = np.sqrt(mu_b * (1 - mu_b)) / np.sqrt(b_total)\n",
    "print(mu_b, stderrmean_b)\n",
    "\n",
    "mu_diff = mu_b - mu_a\n",
    "stderrmean_diff = np.sqrt(stderrmean_a**2 + stderrmean_b**2)\n",
    "print(mu_diff, stderrmean_diff)\n",
    "\n",
    "fig.add_trace(go.Scatter(x=x, y=stats.norm.pdf(x, loc=mu_diff, scale=stderrmean_diff), mode='lines',\n",
    "                         name=f\"100\"))\n",
    "\n",
    "\n",
    "a_total = 500\n",
    "a_conv = a_total * prior_conv\n",
    "\n",
    "b_total = 500\n",
    "b_conv = b_total * prior_conv * 1.1\n",
    "\n",
    "# Norm\n",
    "mu_a = a_conv / a_total \n",
    "stderrmean_a = np.sqrt(mu_a * (1 - mu_a)) / np.sqrt(a_total)\n",
    "print(mu_a, stderrmean_a)\n",
    "\n",
    "mu_b = b_conv / b_total \n",
    "stderrmean_b = np.sqrt(mu_b * (1 - mu_b)) / np.sqrt(b_total)\n",
    "print(mu_b, stderrmean_b)\n",
    "\n",
    "mu_diff = mu_b - mu_a\n",
    "stderrmean_diff = np.sqrt(stderrmean_a**2 + stderrmean_b**2)\n",
    "print(mu_diff, stderrmean_diff)\n",
    "\n",
    "fig.add_trace(go.Scatter(x=x, y=stats.norm.pdf(x, loc=mu_diff, scale=stderrmean_diff), mode='lines',\n",
    "                         name=f\"{a_total}\"))\n",
    "fig.add_vline(x=0)\n",
    "fig.update_layout(title='P(B-A)',\n",
    "                  xaxis_title='p',\n",
    "                  yaxis_title='Prob Density',\n",
    "                  hovermode=\"x\",\n",
    "                  height=550)\n",
    "\n",
    "fig.show()\n",
    "\n",
    "\n",
    "def pval(prior_conv, exp_effect, N):\n",
    "    a_total = N\n",
    "    a_conv = a_total * prior_conv\n",
    "    b_total = a_total\n",
    "    b_conv = b_total * prior_conv * exp_effect\n",
    "    mu_a = a_conv / a_total \n",
    "    stderrmean_a = np.sqrt(mu_a * (1 - mu_a)) / np.sqrt(a_total)\n",
    "    mu_b = b_conv / b_total \n",
    "    stderrmean_b = np.sqrt(mu_b * (1 - mu_b)) / np.sqrt(b_total)\n",
    "    mu_diff = mu_b - mu_a\n",
    "    stderrmean_diff = np.sqrt(stderrmean_a**2 + stderrmean_b**2)\n",
    "    if mu_diff > 0:\n",
    "        pval = stats.norm.cdf(x=0, loc=mu_diff, scale=stderrmean_diff)\n",
    "    else:\n",
    "        pval = None\n",
    "    return pval\n",
    "\n",
    "N = np.linspace(100, 10000)\n",
    "y = np.array([pval(prior_conv, 1.05, Ni) for Ni in N])\n",
    "\n",
    "fig = go.Figure()\n",
    "fig.add_trace(go.Scatter(x=N, y=y, mode='lines'))\n",
    "fig.add_hline(y=0.05)\n",
    "fig.update_layout(title='p-val',\n",
    "                  xaxis_title='N',\n",
    "                  yaxis_title='p-val',\n",
    "                  hovermode=\"x\",\n",
    "                  height=550)"
   ]
  },
  {
   "cell_type": "code",
   "execution_count": null,
   "id": "04fce169",
   "metadata": {},
   "outputs": [],
   "source": []
  },
  {
   "cell_type": "markdown",
   "id": "9775b3a3",
   "metadata": {},
   "source": [
    "# Ссылки"
   ]
  },
  {
   "cell_type": "markdown",
   "id": "1b938491",
   "metadata": {},
   "source": [
    "Посмотреть:\n",
    "\n",
    "J. Kruschke  \n",
    "https://www.medicine.mcgill.ca/epidemiology/Joseph/courses/EPIB-682/Kruschke2013.pdf  \n",
    "https://www.youtube.com/watch?v=fhw1j1Ru2i0"
   ]
  },
  {
   "cell_type": "code",
   "execution_count": null,
   "id": "4be64034",
   "metadata": {},
   "outputs": [],
   "source": []
  },
  {
   "cell_type": "code",
   "execution_count": null,
   "id": "b58964e3",
   "metadata": {},
   "outputs": [],
   "source": []
  }
 ],
 "metadata": {
  "kernelspec": {
   "display_name": "Python 3 (ipykernel)",
   "language": "python",
   "name": "python3"
  },
  "language_info": {
   "codemirror_mode": {
    "name": "ipython",
    "version": 3
   },
   "file_extension": ".py",
   "mimetype": "text/x-python",
   "name": "python",
   "nbconvert_exporter": "python",
   "pygments_lexer": "ipython3",
   "version": "3.7.3"
  }
 },
 "nbformat": 4,
 "nbformat_minor": 5
}
