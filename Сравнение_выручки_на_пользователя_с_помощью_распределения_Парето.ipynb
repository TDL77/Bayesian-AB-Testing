{
 "cells": [
  {
   "cell_type": "markdown",
   "metadata": {},
   "source": [
    "# Сравнение выручки на пользователя с помощью распределения Парето"
   ]
  },
  {
   "cell_type": "code",
   "execution_count": null,
   "metadata": {},
   "outputs": [],
   "source": []
  },
  {
   "cell_type": "code",
   "execution_count": null,
   "metadata": {},
   "outputs": [],
   "source": [
    "import pandas as pd\n",
    "import numpy as np\n",
    "np.random.seed(7)\n",
    "\n",
    "from collections import namedtuple\n",
    "\n",
    "import scipy.stats as stats\n",
    "import plotly.express as px\n",
    "import plotly.graph_objects as go\n",
    "from plotly.subplots import make_subplots\n",
    "\n",
    "#todo: update scipy; make venv"
   ]
  },
  {
   "cell_type": "markdown",
   "metadata": {},
   "source": [
    "Распределение Парето [[ParetoDist](https://en.wikipedia.org/wiki/Pareto_distribution), [SciPyPareto](https://docs.scipy.org/doc/scipy/reference/generated/scipy.stats.pareto.html)] \n",
    "\n",
    "$$\n",
    "P(x; x_m, c) = \n",
    "\\begin{cases}\n",
    "\\dfrac{c x_m^c}{x^{c + 1}} & x \\ge x_m\n",
    "\\\\\n",
    "0 & x < x_m.\n",
    "\\end{cases}\n",
    "$$"
   ]
  },
  {
   "cell_type": "code",
   "execution_count": null,
   "metadata": {},
   "outputs": [],
   "source": [
    "x = np.linspace(0, 10, 2000)\n",
    "fig = go.Figure()\n",
    "for b, loc, scale in [(1, 0, 1), (2, 0, 1), (3, 0, 4), (4, 1, 1)]:\n",
    "    fig.add_trace(go.Scatter(x=x, y=stats.pareto.pdf(x, b=b, loc=loc, scale=scale), \n",
    "                             mode='lines', \n",
    "                             name=f'b={b}, loc={loc}, x_m={scale}'))\n",
    "fig.update_layout(title='Pareto',\n",
    "                  xaxis_title='x',\n",
    "                  yaxis_title='Prob Density',\n",
    "                  hovermode=\"x\",\n",
    "                  height=550)\n",
    "fig.show()"
   ]
  },
  {
   "cell_type": "markdown",
   "metadata": {},
   "source": [
    "В байесовском подходе для оценки плотности вероятности параметров модели используется соотношение\n",
    "\n",
    "$$\n",
    "P(model | data) = \\frac{ P(data | model) P(model) }{P(data)}.\n",
    "$$"
   ]
  },
  {
   "cell_type": "markdown",
   "metadata": {},
   "source": [
    "Сопряженное априорное распределение - Гамма-распределение\n",
    "https://en.wikipedia.org/wiki/Conjugate_prior\n",
    "\n",
    "\n",
    "$$\n",
    "P(model) = Gamma(x; a, b) = \\frac{b^a}{\\Gamma(a)} x^{a-1} e^{-b x}, \\quad x>0, \\quad a,b>0 .\n",
    "$$"
   ]
  },
  {
   "cell_type": "markdown",
   "metadata": {},
   "source": [
    "$$\n",
    "P(model | data) = \\frac{ P(data | model) P(model) }{P(data)} \\propto P(data | model) P(model)\n",
    "$$\n",
    "\n",
    "$$\n",
    "P(data | model) = P(x | \\alpha) = \n",
    "\\begin{cases}\n",
    "\\dfrac{\\alpha}{x_m} \\left(\\dfrac{x}{x_m}\\right)^{-(\\alpha+1)} & x \\ge x_m\n",
    "\\\\\n",
    "0 & x < x_m.\n",
    "\\end{cases}\n",
    "$$\n",
    "\n",
    "$$\n",
    "P(model) = Gamma(\\alpha; a, b) = \\frac{b^a}{\\Gamma(a)} \\alpha^{a-1} e^{-b \\alpha}, \\quad \\alpha>0, \\quad a,b>0 .\n",
    "$$\n",
    "\n",
    "$$\n",
    "\\begin{split}\n",
    "P(model | data) \n",
    "& \\propto\n",
    "\\frac{\\alpha}{x_m}\\left(\\frac{x}{x_m}\\right)^{-(\\alpha + 1)} \\frac{b^a}{\\Gamma(a)} \\alpha^{a-1} e^{-b \\alpha}\n",
    "\\\\\n",
    "& \\propto \n",
    "\\alpha e^{-(\\alpha+1) \\ln(x/x_m)} \\alpha^{a-1} e^{-b \\alpha}\n",
    "\\\\\n",
    "& \\propto\n",
    "\\alpha^{a} e^{-\\alpha (b + \\ln(x/x_m))}\n",
    "\\\\\n",
    "& \\sim\n",
    "Gamma(\\alpha; a+1, b + \\ln(x/x_m))\n",
    "\\end{split}\n",
    "$$\n",
    "\n",
    "Для N точек\n",
    "$$\n",
    "P(model | data) = Gamma(\\alpha; a+N, b + \\sum_i^N\\ln(x_i/x_m))\n",
    "$$"
   ]
  },
  {
   "cell_type": "code",
   "execution_count": null,
   "metadata": {},
   "outputs": [],
   "source": [
    "x = np.linspace(0, 10, 2000)\n",
    "fig = go.Figure()\n",
    "for a,b in [(1,1), (2,1), (3,1), (9, 3), (45, 15), (90, 30)]:\n",
    "    fig.add_trace(go.Scatter(x=x, y=stats.gamma.pdf(x, a=a, scale=1/b), mode='lines', name=f'a={a}, b={b}'))\n",
    "fig.update_layout(title='Gamma Distribution',\n",
    "                  xaxis_title='$\\lambda$',\n",
    "                  yaxis_title='Prob Density',\n",
    "                  hovermode=\"x\",\n",
    "                  height=550)\n",
    "fig.show()"
   ]
  },
  {
   "cell_type": "markdown",
   "metadata": {},
   "source": [
    "# Оценка формы распределения Парето"
   ]
  },
  {
   "cell_type": "code",
   "execution_count": null,
   "metadata": {
    "scrolled": false
   },
   "outputs": [],
   "source": [
    "def posterior_params(alpha, beta, x_m, data):\n",
    "    alpha_post = alpha + len(data)\n",
    "    beta_post = beta + np.sum([np.log(x/x_m) for x in data])\n",
    "    return alpha_post, beta_post\n",
    "\n",
    "def posterior_dist(alpha, beta, x_m, data):\n",
    "    alpha_post = alpha + len(data)\n",
    "    beta_post = beta + np.sum([np.log(x/x_m) for x in data])\n",
    "    dist = stats.gamma(a=alpha_post, scale=1/beta_post)\n",
    "    return dist\n",
    "\n",
    "b = 2.8\n",
    "scale = 1\n",
    "nsample = 1000\n",
    "\n",
    "exact_dist = stats.pareto(b=b)\n",
    "\n",
    "data = exact_dist.rvs(nsample)\n",
    "\n",
    "alpha_prior = 2\n",
    "beta_prior = 1\n",
    "\n",
    "postdist = posterior_dist(alpha=alpha_prior, beta=beta_prior, x_m=scale, data=data)\n",
    "#postdist\n",
    "\n",
    "x = np.linspace(0, 10, 2000)\n",
    "fig = go.Figure()\n",
    "fig.add_trace(go.Scatter(x=x, y=postdist.pdf(x), mode='lines', name=f'Posterior'))\n",
    "fig.update_layout(title='Gamma Distribution',\n",
    "                  xaxis_title='$\\lambda$',\n",
    "                  yaxis_title='Prob Density',\n",
    "                  hovermode=\"x\",\n",
    "                  height=550)\n",
    "fig.show()"
   ]
  },
  {
   "cell_type": "markdown",
   "metadata": {},
   "source": [
    "Апостериорное распределение"
   ]
  },
  {
   "cell_type": "markdown",
   "metadata": {},
   "source": [
    "Среднее\n",
    "\n",
    "$$\n",
    "E[x] = \n",
    "\\begin{cases}\n",
    "\\dfrac{\\alpha x_m}{\\alpha - 1} & \\alpha > 1\n",
    "\\\\\n",
    "\\infty & \\alpha \\le 1\n",
    "\\end{cases}\n",
    "$$\n",
    "\n",
    "Медиана\n",
    "\n",
    "$$\n",
    "m = x_m 2^{1/\\alpha}\n",
    "$$"
   ]
  },
  {
   "cell_type": "code",
   "execution_count": null,
   "metadata": {},
   "outputs": [],
   "source": [
    "alpha_nsamp = 50000\n",
    "samp = postdist.rvs(alpha_nsamp)\n",
    "samp_mean = samp * scale / (samp-1)\n",
    "samp_median = scale * 2**(1/samp)\n",
    "\n",
    "fig = go.Figure()\n",
    "fig.add_trace(go.Histogram(x=samp_mean, histnorm='probability density', name='Mean Hist', nbinsx=100))\n",
    "fig.add_vline(exact_dist.mean(), name='Original Distribution Mean')\n",
    "fig.show()\n",
    "\n",
    "fig = go.Figure()\n",
    "fig.add_trace(go.Histogram(x=samp_median, histnorm='probability density', name='Median Hist', nbinsx=100))\n",
    "fig.add_vline(exact_dist.median(), name='Original Distribution Median')\n",
    "fig.show()"
   ]
  },
  {
   "cell_type": "markdown",
   "metadata": {},
   "source": [
    "# Сравнение распределений"
   ]
  },
  {
   "cell_type": "code",
   "execution_count": null,
   "metadata": {},
   "outputs": [],
   "source": [
    "# params = {\n",
    "#     'A': {'b': 2.8}\n",
    "#     'B': {'b': 2.9}\n",
    "# }\n",
    "\n",
    "b = 1.3\n",
    "scale = 1\n",
    "\n",
    "exact_dist_a = stats.pareto(b=b)\n",
    "exact_dist_b = stats.pareto(b=b*1.05)\n",
    "\n",
    "nsample = 1000\n",
    "\n",
    "samp_a = exact_dist_a.rvs(nsample)\n",
    "samp_b = exact_dist_b.rvs(nsample)\n",
    "\n",
    "alpha_prior = 2\n",
    "beta_prior = 1\n",
    "\n",
    "postdist_a = posterior_dist(alpha=alpha_prior, beta=beta_prior, x_m=scale, data=samp_a)\n",
    "postdist_b = posterior_dist(alpha=alpha_prior, beta=beta_prior, x_m=scale, data=samp_b)\n",
    "#postdist\n",
    "\n",
    "x = np.linspace(0, 5, 2000)\n",
    "fig = go.Figure()\n",
    "fig.add_trace(go.Scatter(x=x, y=postdist_a.pdf(x), mode='lines', name=f'A'))\n",
    "fig.add_trace(go.Scatter(x=x, y=postdist_b.pdf(x), mode='lines', name=f'B'))\n",
    "fig.update_layout(title='Posterior Distribution',\n",
    "                  xaxis_title='$alpha$',\n",
    "                  yaxis_title='Prob Density',\n",
    "                  hovermode=\"x\",\n",
    "                  height=550)\n",
    "fig.show()\n",
    "\n",
    "\n",
    "post_nsamp = 50000\n",
    "post_samp_a = postdist_a.rvs(alpha_nsamp)\n",
    "post_samp_b = postdist_b.rvs(alpha_nsamp)\n",
    "p_alpha_b_gt_alpha_a = np.sum(post_samp_b > post_samp_a) / post_nsamp\n",
    "print(f'P(alpha_B > alpha_A) = {p_alpha_b_gt_alpha_a :.2f}')"
   ]
  },
  {
   "cell_type": "code",
   "execution_count": null,
   "metadata": {},
   "outputs": [],
   "source": []
  },
  {
   "cell_type": "code",
   "execution_count": null,
   "metadata": {},
   "outputs": [],
   "source": []
  },
  {
   "cell_type": "code",
   "execution_count": null,
   "metadata": {},
   "outputs": [],
   "source": []
  },
  {
   "cell_type": "code",
   "execution_count": null,
   "metadata": {},
   "outputs": [],
   "source": []
  },
  {
   "cell_type": "markdown",
   "metadata": {},
   "source": [
    "# Приложение"
   ]
  },
  {
   "cell_type": "markdown",
   "metadata": {},
   "source": [
    "Ломакс"
   ]
  },
  {
   "cell_type": "markdown",
   "metadata": {},
   "source": [
    "$$\n",
    "p(x) = {\\alpha \\over \\lambda} \\left[{1 + {x \\over \\lambda}}\\right]^{-(\\alpha+1)}, \\qquad x \\geq 0\n",
    "$$\n",
    "\n",
    "$$\n",
    "p(x) = {{\\alpha\\lambda^\\alpha} \\over {(x + \\lambda)^{\\alpha+1}}}\n",
    "$$"
   ]
  },
  {
   "cell_type": "markdown",
   "metadata": {},
   "source": [
    "Для распределения на пользователей: обезразмерить на $x_m$.  \n",
    "Потом Ломакс с $\\lambda=1$.  \n",
    "Проще сразу безразмерный вариант распределения."
   ]
  },
  {
   "cell_type": "markdown",
   "metadata": {},
   "source": [
    "$$\n",
    "P(model | data) = \\frac{ P(data | model) P(model) }{P(data)} \\propto P(data | model) P(model)\n",
    "$$\n",
    "\n",
    "$$\n",
    "P(data | model) = P(x | \\alpha) = {\\alpha \\over \\lambda} \\left[{1 + {x \\over \\lambda}}\\right]^{-(\\alpha+1)}\n",
    "= \\frac{\\alpha}{\\lambda}\\frac{1}{\\left[{1 + (x/\\lambda)}\\right]^{(\\alpha+1)}}\n",
    "$$\n",
    "\n",
    "$$\n",
    "P(model) = Gamma(\\alpha; a, b) = \\frac{b^a}{\\Gamma(a)} \\alpha^{a-1} e^{-b \\alpha}, \\quad \\alpha>0, \\quad a,b>0 .\n",
    "$$\n",
    "\n",
    "$$\n",
    "\\begin{split}\n",
    "P(model | data) \n",
    "& \\propto\n",
    "{\\alpha \\over \\lambda} \\left[{1 + {x \\over \\lambda}}\\right]^{-(\\alpha+1)} \\frac{b^a}{\\Gamma(a)} \\alpha^{a-1} e^{-b \\alpha}\n",
    "\\\\\n",
    "& \\propto \n",
    "\\alpha e^{-(\\alpha+1) \\ln(1 + x/\\lambda)} \\alpha^{a-1} e^{-b \\alpha}\n",
    "\\\\\n",
    "& \\propto\n",
    "\\alpha^{a} e^{-\\alpha (b + \\ln(1 + x/\\lambda))}\n",
    "\\\\\n",
    "& \\sim\n",
    "Gamma(\\alpha; a+1, b + \\ln(1 + x/\\lambda))\n",
    "\\end{split}\n",
    "$$\n",
    "\n",
    "Для N точек\n",
    "$$\n",
    "P(model | data) = Gamma(\\alpha; a+N, b + \\sum_i^N\\ln(1 + x_i/\\lambda))\n",
    "$$"
   ]
  },
  {
   "cell_type": "code",
   "execution_count": null,
   "metadata": {},
   "outputs": [],
   "source": []
  }
 ],
 "metadata": {
  "kernelspec": {
   "display_name": "Python 3 (ipykernel)",
   "language": "python",
   "name": "python3"
  },
  "language_info": {
   "codemirror_mode": {
    "name": "ipython",
    "version": 3
   },
   "file_extension": ".py",
   "mimetype": "text/x-python",
   "name": "python",
   "nbconvert_exporter": "python",
   "pygments_lexer": "ipython3",
   "version": "3.11.2"
  }
 },
 "nbformat": 4,
 "nbformat_minor": 4
}
